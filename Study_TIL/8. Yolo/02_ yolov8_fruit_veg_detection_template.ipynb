{
 "cells": [
  {
   "cell_type": "code",
   "execution_count": 1,
   "id": "IZAXySvGPlyt",
   "metadata": {
    "colab": {
     "base_uri": "https://localhost:8080/"
    },
    "executionInfo": {
     "elapsed": 19681,
     "status": "ok",
     "timestamp": 1678430369948,
     "user": {
      "displayName": "석마니",
      "userId": "14354690317603552621"
     },
     "user_tz": -540
    },
    "id": "IZAXySvGPlyt",
    "outputId": "b89a633e-6dab-418f-ebe6-997ba6b9a595"
   },
   "outputs": [
    {
     "name": "stdout",
     "output_type": "stream",
     "text": [
      "Mounted at /content/drive\n"
     ]
    }
   ],
   "source": [
    "from google.colab import drive\n",
    "drive.mount('/content/drive')"
   ]
  },
  {
   "cell_type": "markdown",
   "id": "0261426e",
   "metadata": {
    "id": "0261426e"
   },
   "source": [
    "# Custom data training\n",
    "\n",
    "## <span style='background-color:#fff5b1'>학습데이터 디렉토리 구조\n",
    "\n",
    "- train/validation/test 데이터셋 디렉토리를 각각 생성한다.\n",
    "- <span style='background-color:#fff5b1'>**images**</span> 폴더에 <span style='background-color:#fff5b1'>**이미지**</span> 파일을, <span style='background-color:#fff5b1'>**labels**</span> 폴더에 <span style='background-color:#fff5b1'>**annotation**</span> 파일들을 저장한다.\n",
    "    - <span style='background-color:#fff5b1'>**annotation 파일**</span>은 대상 <span style='background-color:#fff5b1'>**image 파일과 이름**</span>이 같아야 하고 확장자는 <span style='background-color:#fff5b1'>**txt**</span>로 한다.\n",
    "    \n",
    "![image.png](attachment:image.png)"
   ]
  },
  {
   "cell_type": "markdown",
   "id": "6ce054b9",
   "metadata": {
    "id": "6ce054b9"
   },
   "source": [
    "- YOLO object detection annotation 파일 형식\n",
    "    - 공백을 구분자로 하는 csv 파일 형식\n",
    "    - 한줄에 한개 object의 정보를 작성한다.\n",
    "    - `label center_x, center_y, bbox_width, bbox_height`  \n",
    "        - bbox 위치정보는 image의 size 에 대한 비율로 정의한다.\n",
    "        - 예)\n",
    "            ```\n",
    "            0.0    0.329934450147929     0.5672360751315789    0.25200291331360947   0.15803108815789477\n",
    "            0.0    0.8026219956360947    0.5186609456578948    0.0975965039940829    0.08419689131578946\n",
    "            ```\n",
    "        "
   ]
  },
  {
   "cell_type": "markdown",
   "id": "df4c3706",
   "metadata": {
    "id": "df4c3706"
   },
   "source": [
    "## <span style='background-color:#fff5b1'>학습 설정 yaml 파일 작성\n",
    "- 다음 항목들을 작성한다.\n",
    "    - train: train dataset 저장경로\n",
    "    - test: test dataset 저장경로\n",
    "    - val: validation dataset 저장경로\n",
    "        - train/test/validation 저장경로는 절대경로로 작성한다.\n",
    "    -  <span style='background-color:#fff5b1'>nc: class 개수\n",
    "    - names: class name  <span style='background-color:#fff5b1'>**작성 형태는 꼭!! 지켜줘야 한다.**</span>\n",
    "        ```yaml\n",
    "        train: C:\\datasets\\train\n",
    "        test: C:\\datasets\\test\n",
    "        val: C:\\datasets\\val\n",
    "        nc: 2\n",
    "        names: [\"car\", \"bus\"]\n",
    "        #혹은\n",
    "        names:\n",
    "            - 'car'\n",
    "            - 'bus'\n",
    "        ```\n",
    "        \n",
    "> yaml: https://yaml.org/"
   ]
  },
  {
   "cell_type": "markdown",
   "id": "defbc4fd",
   "metadata": {
    "id": "defbc4fd"
   },
   "source": [
    "## <span style='background-color:#fff5b1'>Training 하기 \n",
    "### CLI\n",
    "\n",
    "<span style='background-color:#fff5b1'><b style='font-size:1.3em'>1.  학습시작</b>    \n",
    "```bash\n",
    "yolo detect train data=custom_data.yaml model=yolov8n.pt epochs=100 imgsz=640\n",
    "```\n",
    "- model: train 지정\n",
    "- data: 학습관련 설정 파일 경로로 다음을 설정한다.\n",
    "    - train/test/validation dataset 저장경로\n",
    "    - class 개수\n",
    "    - class name\n",
    "- model: fine tuning 시 시작 Pretrained Model 파일 경로 (학습시킬 모델파일)\n",
    "- args\n",
    "    - epochs: 반복횟수\n",
    "    - imgsz: input image size\n",
    "    - https://docs.ultralytics.com/cfg/\n",
    "    \n",
    "<span style='background-color:#fff5b1'><b style='font-size:1.3em'>2. 이어서 학습하기</b>    \n",
    "```bash\n",
    "yolo detect train resume model=last.pt\n",
    "```\n",
    "- model: <span style='background-color:#fff5b1'>마지막으로 저장된 파일 경로"
   ]
  },
  {
   "cell_type": "markdown",
   "id": "a06af4eb",
   "metadata": {
    "id": "a06af4eb"
   },
   "source": [
    "### <span style='background-color:#fff5b1'>Python\n",
    "\n",
    "1. YOLO객체 생성\n",
    "    - Fine tuning할 경우 pretrained 모델파일 저장 경로를 지정한다.\n",
    "    - 새로 학습할 경우 모델구조를 정의한 yaml 설정파일 저장 경로를 지정한다.\n",
    "2. train\n",
    "    - train 설정 yaml 파일의 위치와 train을 위한 정보들을 매개변수로 전달한다."
   ]
  },
  {
   "cell_type": "markdown",
   "id": "637df3d5",
   "metadata": {
    "id": "637df3d5"
   },
   "source": [
    "# 과일, 야채 image detection"
   ]
  },
  {
   "cell_type": "code",
   "execution_count": 7,
   "id": "r9rJskaWP28A",
   "metadata": {
    "executionInfo": {
     "elapsed": 271,
     "status": "ok",
     "timestamp": 1678431207031,
     "user": {
      "displayName": "석마니",
      "userId": "14354690317603552621"
     },
     "user_tz": -540
    },
    "id": "r9rJskaWP28A"
   },
   "outputs": [],
   "source": [
    "# 디렉토리, 파일 경로 변수\n",
    "import yaml\n",
    "from pathlib import Path\n",
    "G_DRIVE = Path('/content/drive/MyDrive/Playdata/8. Yolo')\n",
    "DATA_SOURCE_DIR_PATH = G_DRIVE / 'Fruits and Vegi.v13-verison8.yolov8.zip'\n",
    "DATA_TARGET_DIR_PATH = Path('./data')"
   ]
  },
  {
   "cell_type": "code",
   "execution_count": 9,
   "id": "NJaayiPqQoP8",
   "metadata": {
    "colab": {
     "base_uri": "https://localhost:8080/"
    },
    "executionInfo": {
     "elapsed": 7460,
     "status": "ok",
     "timestamp": 1678431222593,
     "user": {
      "displayName": "석마니",
      "userId": "14354690317603552621"
     },
     "user_tz": -540
    },
    "id": "NJaayiPqQoP8",
    "outputId": "03c92546-39ee-4121-deec-150c3d31d6df"
   },
   "outputs": [
    {
     "data": {
      "text/plain": [
       "PosixPath('data/data.zip')"
      ]
     },
     "execution_count": 9,
     "metadata": {},
     "output_type": "execute_result"
    }
   ],
   "source": [
    "# 구글 드라이브의 데이터 파일을 Local VM으로 복사 한 뒤 압축\n",
    "import shutil\n",
    "import os\n",
    "\n",
    "os.makedirs(DATA_TARGET_DIR_PATH, exist_ok = True)\n",
    "\n",
    "shutil.copy(DATA_SOURCE_DIR_PATH, DATA_TARGET_DIR_PATH / 'data.zip')"
   ]
  },
  {
   "cell_type": "code",
   "execution_count": 10,
   "id": "KLUUYA2KQoTZ",
   "metadata": {
    "executionInfo": {
     "elapsed": 4157,
     "status": "ok",
     "timestamp": 1678431251514,
     "user": {
      "displayName": "석마니",
      "userId": "14354690317603552621"
     },
     "user_tz": -540
    },
    "id": "KLUUYA2KQoTZ"
   },
   "outputs": [],
   "source": [
    "from zipfile import ZipFile\n",
    "with ZipFile(DATA_TARGET_DIR_PATH / 'data.zip') as zipFile:\n",
    "  zipFile.extractall(DATA_TARGET_DIR_PATH)"
   ]
  },
  {
   "cell_type": "code",
   "execution_count": 11,
   "id": "b3d22782",
   "metadata": {
    "executionInfo": {
     "elapsed": 1,
     "status": "ok",
     "timestamp": 1678431270933,
     "user": {
      "displayName": "석마니",
      "userId": "14354690317603552621"
     },
     "user_tz": -540
    },
    "id": "b3d22782"
   },
   "outputs": [],
   "source": [
    "fruits = ['Apple', 'Banana', 'Beetroot', 'Bitter_Gourd', 'Bottle_Gourd', 'Cabbage', 'Capsicum', 'Carrot', 'Cauliflower', 'Cherry', 'Chilli', 'Coconut', 'Cucumber', \n",
    "          'EggPlant', 'Ginger', 'Grape', 'Green_Orange', 'Kiwi', 'Maize', 'Mango', 'Melon', 'Okra', 'Onion', 'Orange', 'Peach', 'Pear', 'Peas',\n",
    "          'Pineapple', 'Pomegranate', 'Potato', 'Radish', 'Strawberry', 'Tomato', 'Turnip', 'Watermelon']"
   ]
  },
  {
   "cell_type": "code",
   "execution_count": null,
   "id": "740c3605",
   "metadata": {
    "id": "740c3605",
    "outputId": "42fb15e0-f2a5-4aa7-841b-6fd2b534eb23"
   },
   "outputs": [
    {
     "data": {
      "text/plain": [
       "35"
      ]
     },
     "execution_count": 2,
     "metadata": {},
     "output_type": "execute_result"
    }
   ],
   "source": [
    "len(fruits)"
   ]
  },
  {
   "cell_type": "markdown",
   "id": "b6c64635",
   "metadata": {
    "id": "b6c64635"
   },
   "source": [
    "## Dataset 다운 및 복사\n",
    "\n",
    "- https://universe.roboflow.com/bohni-tech/fruits-and-vegi/"
   ]
  },
  {
   "cell_type": "markdown",
   "id": "b0e2f195",
   "metadata": {
    "id": "b0e2f195"
   },
   "source": [
    "## yaml 설정파일 작성"
   ]
  },
  {
   "cell_type": "code",
   "execution_count": null,
   "id": "d3af3048",
   "metadata": {
    "id": "d3af3048",
    "outputId": "61f1d814-5096-4587-ef91-e582b4d0869a"
   },
   "outputs": [
    {
     "name": "stdout",
     "output_type": "stream",
     "text": [
      "Requirement already satisfied: pyyaml in /Users/seokminlee/opt/anaconda3/envs/yolov8/lib/python3.9/site-packages (6.0)\r\n"
     ]
    }
   ],
   "source": [
    "!pip install pyyaml"
   ]
  },
  {
   "cell_type": "code",
   "execution_count": 12,
   "id": "7cfcc1d0",
   "metadata": {
    "executionInfo": {
     "elapsed": 1,
     "status": "ok",
     "timestamp": 1678431273224,
     "user": {
      "displayName": "석마니",
      "userId": "14354690317603552621"
     },
     "user_tz": -540
    },
    "id": "7cfcc1d0"
   },
   "outputs": [],
   "source": [
    "# python: dictionary <----------> yaml\n",
    "# 출력할 데이터를 dictionary로 구성\n",
    "import yaml\n",
    "import os\n",
    "data = {\n",
    "    'train': '/content/data/train',\n",
    "    'val': '/content/data/valid',\n",
    "    'test': '/content/data/test',\n",
    "    'nc': 35,\n",
    "    'names': fruits\n",
    "}\n",
    "\n",
    "os.makedirs('data', exist_ok = True) # 저장할 디렉토리 생성\n",
    "\n",
    "with open('data/custom_data.yaml', 'wt') as fw:\n",
    "    yaml.dump(data, fw) # data로 쓸거고, fw를 사용할것이다."
   ]
  },
  {
   "cell_type": "code",
   "execution_count": null,
   "id": "92aa6aa4",
   "metadata": {
    "id": "92aa6aa4",
    "outputId": "0fb2d066-ad83-4884-b064-f192205f282a"
   },
   "outputs": [
    {
     "name": "stdout",
     "output_type": "stream",
     "text": [
      "<class 'dict'>\n",
      "{'names': ['Apple', 'Banana', 'Beetroot', 'Bitter_Gourd', 'Bottle_Gourd', 'Cabbage', 'Capsicum', 'Carrot', 'Cauliflower', 'Cherry', 'Chilli', 'Coconut', 'Cucumber', 'EggPlant', 'Ginger', 'Grape', 'Green_Orange', 'Kiwi', 'Maize', 'Mango', 'Melon', 'Okra', 'Onion', 'Orange', 'Peach', 'Pear', 'Peas', 'Pineapple', 'Pomegranate', 'Potato', 'Radish', 'Strawberry', 'Tomato', 'Turnip', 'Watermelon'], 'nc': 35, 'test': '/Users/seokminlee/Desktop/mose/8. Yolo/test', 'train': '/Users/seokminlee/Desktop/mose/8. Yolo/train', 'val': '/Users/seokminlee/Desktop/mose/8. Yolo/val'}\n"
     ]
    }
   ],
   "source": [
    "with open('data/custom_data.yaml', 'rt') as fr:\n",
    "    d = yaml.safe_load(fr)\n",
    "    print(type(d))\n",
    "    print(d)"
   ]
  },
  {
   "cell_type": "markdown",
   "id": "c99a24e9",
   "metadata": {
    "id": "c99a24e9"
   },
   "source": [
    "## 학습"
   ]
  },
  {
   "cell_type": "code",
   "execution_count": 19,
   "id": "Js4zVbryS_7B",
   "metadata": {
    "colab": {
     "base_uri": "https://localhost:8080/"
    },
    "executionInfo": {
     "elapsed": 494,
     "status": "ok",
     "timestamp": 1678431556256,
     "user": {
      "displayName": "석마니",
      "userId": "14354690317603552621"
     },
     "user_tz": -540
    },
    "id": "Js4zVbryS_7B",
    "outputId": "c9ab1f89-fd1d-42de-f67e-f9962a7d0734"
   },
   "outputs": [
    {
     "name": "stdout",
     "output_type": "stream",
     "text": [
      "/content\n"
     ]
    }
   ],
   "source": [
    "# 현재 작업 경로를 Google drive 로 변경.\n",
    "!pwd # 경로 확인\n",
    "# os.chdir('/content')"
   ]
  },
  {
   "cell_type": "code",
   "execution_count": null,
   "id": "bSmw6Y73TxZg",
   "metadata": {
    "id": "bSmw6Y73TxZg"
   },
   "outputs": [],
   "source": [
    "!nvidia-smi"
   ]
  },
  {
   "cell_type": "code",
   "execution_count": null,
   "id": "6uuVyYn1Txfw",
   "metadata": {
    "id": "6uuVyYn1Txfw"
   },
   "outputs": [],
   "source": [
    "# yolov8 설치\n",
    "!pip install ultralytics"
   ]
  },
  {
   "cell_type": "code",
   "execution_count": 21,
   "id": "xTmeGbn1UoaN",
   "metadata": {
    "colab": {
     "base_uri": "https://localhost:8080/",
     "height": 1000,
     "referenced_widgets": [
      "9a511c82a5a54563b029ff38276e5305",
      "24f208635ba54f4a89f75dcb6f11adc2",
      "8155e0a37efe4e308a5aeb6a7d6b1094",
      "05de1fb7f2854e77b380b9fdf56a99a2",
      "dc8c385512c44d8c9a8b8f7c02ee5f04",
      "bb9efac39deb4b5abc83642080289fa1",
      "6b17ff9202034db6b4b48ae24c41880d",
      "2a23977bed954339a906d12a573e8efd",
      "feb975f1c10949ff85780c700ddbb696",
      "7a6bf4f69f8e4ceb9c9891d0d9fe0b8f",
      "c6e7d37203004b1c97f58acb88f6f91e",
      "ec3d103cdb6f4f079f17c215545e7616",
      "f55e05fc68f04b82bb6591612716751e",
      "eb939dd869314667954cf724f6069b0d",
      "5ceb54186c4d4435b54dac0e9820b933",
      "c0a77f55d5c64ebcafd10f4463427df9",
      "f2e9ca0dcd184f9283bde351e582367e",
      "c304d8dabd8449a2a8f522d9c3680c09",
      "632aa16e3664466ba2c45e2ddaa45aa2",
      "1fab12759af64c53895611631cafd3e3",
      "0aabee6d561d4ab28647bf35cc5472a0",
      "b75c335f0dcc4731bb567cb70d05c792"
     ]
    },
    "executionInfo": {
     "elapsed": 607259,
     "status": "ok",
     "timestamp": 1678432515032,
     "user": {
      "displayName": "석마니",
      "userId": "14354690317603552621"
     },
     "user_tz": -540
    },
    "id": "xTmeGbn1UoaN",
    "outputId": "8366774a-ce60-43ac-b83a-51eaf28b0b21"
   },
   "outputs": [
    {
     "name": "stderr",
     "output_type": "stream",
     "text": [
      "Downloading https://github.com/ultralytics/assets/releases/download/v0.0.0/yolov8n.pt to yolov8n.pt...\n"
     ]
    },
    {
     "data": {
      "application/vnd.jupyter.widget-view+json": {
       "model_id": "9a511c82a5a54563b029ff38276e5305",
       "version_major": 2,
       "version_minor": 0
      },
      "text/plain": [
       "  0%|          | 0.00/6.23M [00:00<?, ?B/s]"
      ]
     },
     "metadata": {},
     "output_type": "display_data"
    },
    {
     "name": "stderr",
     "output_type": "stream",
     "text": [
      "Ultralytics YOLOv8.0.52 🚀 Python-3.9.16 torch-1.13.1+cu116 CUDA:0 (Tesla T4, 15102MiB)\n",
      "\u001b[34m\u001b[1myolo/engine/trainer: \u001b[0mtask=detect, mode=train, model=yolov8n.pt, data=data/custom_data.yaml, epochs=1, patience=20, batch=16, imgsz=640, save=True, save_period=-1, cache=False, device=None, workers=8, project=None, name=None, exist_ok=False, pretrained=False, optimizer=Adam, verbose=True, seed=0, deterministic=True, single_cls=False, image_weights=False, rect=False, cos_lr=False, close_mosaic=10, resume=False, overlap_mask=True, mask_ratio=4, dropout=0.0, val=True, split=val, save_json=False, save_hybrid=False, conf=None, iou=0.7, max_det=300, half=False, dnn=False, plots=True, source=None, show=False, save_txt=False, save_conf=False, save_crop=False, hide_labels=False, hide_conf=False, vid_stride=1, line_thickness=3, visualize=False, augment=False, agnostic_nms=False, classes=None, retina_masks=False, boxes=True, format=torchscript, keras=False, optimize=False, int8=False, dynamic=False, simplify=False, opset=None, workspace=4, nms=False, lr0=0.01, lrf=0.01, momentum=0.937, weight_decay=0.0005, warmup_epochs=3.0, warmup_momentum=0.8, warmup_bias_lr=0.1, box=7.5, cls=0.5, dfl=1.5, fl_gamma=0.0, label_smoothing=0.0, nbs=64, hsv_h=0.015, hsv_s=0.7, hsv_v=0.4, degrees=0.0, translate=0.1, scale=0.5, shear=0.0, perspective=0.0, flipud=0.0, fliplr=0.5, mosaic=1.0, mixup=0.0, copy_paste=0.0, cfg=None, v5loader=False, tracker=botsort.yaml, save_dir=runs/detect/train\n",
      "Downloading https://ultralytics.com/assets/Arial.ttf to /root/.config/Ultralytics/Arial.ttf...\n"
     ]
    },
    {
     "data": {
      "application/vnd.jupyter.widget-view+json": {
       "model_id": "ec3d103cdb6f4f079f17c215545e7616",
       "version_major": 2,
       "version_minor": 0
      },
      "text/plain": [
       "  0%|          | 0.00/755k [00:00<?, ?B/s]"
      ]
     },
     "metadata": {},
     "output_type": "display_data"
    },
    {
     "name": "stderr",
     "output_type": "stream",
     "text": [
      "Overriding model.yaml nc=80 with nc=35\n",
      "\n",
      "                   from  n    params  module                                       arguments                     \n",
      "  0                  -1  1       464  ultralytics.nn.modules.Conv                  [3, 16, 3, 2]                 \n",
      "  1                  -1  1      4672  ultralytics.nn.modules.Conv                  [16, 32, 3, 2]                \n",
      "  2                  -1  1      7360  ultralytics.nn.modules.C2f                   [32, 32, 1, True]             \n",
      "  3                  -1  1     18560  ultralytics.nn.modules.Conv                  [32, 64, 3, 2]                \n",
      "  4                  -1  2     49664  ultralytics.nn.modules.C2f                   [64, 64, 2, True]             \n",
      "  5                  -1  1     73984  ultralytics.nn.modules.Conv                  [64, 128, 3, 2]               \n",
      "  6                  -1  2    197632  ultralytics.nn.modules.C2f                   [128, 128, 2, True]           \n",
      "  7                  -1  1    295424  ultralytics.nn.modules.Conv                  [128, 256, 3, 2]              \n",
      "  8                  -1  1    460288  ultralytics.nn.modules.C2f                   [256, 256, 1, True]           \n",
      "  9                  -1  1    164608  ultralytics.nn.modules.SPPF                  [256, 256, 5]                 \n",
      " 10                  -1  1         0  torch.nn.modules.upsampling.Upsample         [None, 2, 'nearest']          \n",
      " 11             [-1, 6]  1         0  ultralytics.nn.modules.Concat                [1]                           \n",
      " 12                  -1  1    148224  ultralytics.nn.modules.C2f                   [384, 128, 1]                 \n",
      " 13                  -1  1         0  torch.nn.modules.upsampling.Upsample         [None, 2, 'nearest']          \n",
      " 14             [-1, 4]  1         0  ultralytics.nn.modules.Concat                [1]                           \n",
      " 15                  -1  1     37248  ultralytics.nn.modules.C2f                   [192, 64, 1]                  \n",
      " 16                  -1  1     36992  ultralytics.nn.modules.Conv                  [64, 64, 3, 2]                \n",
      " 17            [-1, 12]  1         0  ultralytics.nn.modules.Concat                [1]                           \n",
      " 18                  -1  1    123648  ultralytics.nn.modules.C2f                   [192, 128, 1]                 \n",
      " 19                  -1  1    147712  ultralytics.nn.modules.Conv                  [128, 128, 3, 2]              \n",
      " 20             [-1, 9]  1         0  ultralytics.nn.modules.Concat                [1]                           \n",
      " 21                  -1  1    493056  ultralytics.nn.modules.C2f                   [384, 256, 1]                 \n",
      " 22        [15, 18, 21]  1    758137  ultralytics.nn.modules.Detect                [35, [64, 128, 256]]          \n",
      "Model summary: 225 layers, 3017673 parameters, 3017657 gradients, 8.2 GFLOPs\n",
      "\n",
      "Transferred 319/355 items from pretrained weights\n",
      "\u001b[34m\u001b[1mAMP: \u001b[0mrunning Automatic Mixed Precision (AMP) checks with YOLOv8n...\n",
      "\u001b[34m\u001b[1mAMP: \u001b[0mchecks passed ✅\n",
      "\u001b[34m\u001b[1moptimizer:\u001b[0m Adam(lr=0.01) with parameter groups 57 weight(decay=0.0), 64 weight(decay=0.0005), 63 bias\n",
      "\u001b[34m\u001b[1mtrain: \u001b[0mScanning /content/data/train/labels... 6573 images, 27 backgrounds, 0 corrupt: 100%|██████████| 6573/6573 [00:03<00:00, 1720.51it/s]\n",
      "\u001b[34m\u001b[1mtrain: \u001b[0mNew cache created: /content/data/train/labels.cache\n",
      "\u001b[34m\u001b[1malbumentations: \u001b[0mBlur(p=0.01, blur_limit=(3, 7)), MedianBlur(p=0.01, blur_limit=(3, 7)), ToGray(p=0.01), CLAHE(p=0.01, clip_limit=(1, 4.0), tile_grid_size=(8, 8))\n",
      "\u001b[34m\u001b[1mval: \u001b[0mScanning /content/data/valid/labels... 147 images, 1 backgrounds, 0 corrupt: 100%|██████████| 147/147 [00:00<00:00, 2451.27it/s]\n",
      "\u001b[34m\u001b[1mval: \u001b[0mNew cache created: /content/data/valid/labels.cache\n",
      "Plotting labels to runs/detect/train/labels.jpg... \n",
      "Image sizes 640 train, 640 val\n",
      "Using 2 dataloader workers\n",
      "Logging results to \u001b[1mruns/detect/train\u001b[0m\n",
      "Starting training for 1 epochs...\n",
      "\n",
      "      Epoch    GPU_mem   box_loss   cls_loss   dfl_loss  Instances       Size\n",
      "        1/1      2.73G      1.454      3.328      1.644         79        640: 100%|██████████| 411/411 [09:13<00:00,  1.35s/it]\n",
      "                 Class     Images  Instances      Box(P          R      mAP50  mAP50-95): 100%|██████████| 5/5 [00:09<00:00,  1.89s/it]\n",
      "                   all        147        613      0.309      0.159     0.0846      0.044\n",
      "\n",
      "1 epochs completed in 0.157 hours.\n",
      "Optimizer stripped from runs/detect/train/weights/last.pt, 6.2MB\n",
      "Optimizer stripped from runs/detect/train/weights/best.pt, 6.2MB\n",
      "\n",
      "Validating runs/detect/train/weights/best.pt...\n",
      "Ultralytics YOLOv8.0.52 🚀 Python-3.9.16 torch-1.13.1+cu116 CUDA:0 (Tesla T4, 15102MiB)\n",
      "Model summary (fused): 168 layers, 3012473 parameters, 0 gradients, 8.1 GFLOPs\n",
      "                 Class     Images  Instances      Box(P          R      mAP50  mAP50-95): 100%|██████████| 5/5 [00:07<00:00,  1.50s/it]\n",
      "                   all        147        613      0.309      0.159      0.085     0.0443\n",
      "                 Apple        147         22     0.0526      0.727      0.127     0.0891\n",
      "                Banana        147          7          1          0    0.00422    0.00107\n",
      "          Bitter_Gourd        147          4     0.0355        0.5      0.165     0.0694\n",
      "               Cabbage        147         38      0.286     0.0741     0.0963     0.0392\n",
      "                Carrot        147          9          1          0    0.00978    0.00783\n",
      "                Cherry        147          2          0          0   0.000451   0.000145\n",
      "               Coconut        147          1          1          0    0.00575   0.000575\n",
      "              Cucumber        147         13          0          0     0.0213    0.00598\n",
      "                Ginger        147         14          0          0          0          0\n",
      "                 Grape        147          6     0.0606     0.0505      0.154     0.0466\n",
      "          Green_Orange        147         12      0.126     0.0833       0.16      0.126\n",
      "                  Kiwi        147         13          1          0      0.139     0.0652\n",
      "                 Mango        147         33      0.442      0.333      0.247       0.16\n",
      "                 Melon        147         31      0.234      0.128     0.0939     0.0443\n",
      "                  Okra        147          2          0          0    0.00336     0.0018\n",
      "                 Onion        147         15          1          0      0.039     0.0144\n",
      "                Orange        147         14          0          0     0.0485     0.0336\n",
      "                 Peach        147         16      0.142     0.0625      0.153     0.0986\n",
      "                  Pear        147          9          0          0     0.0328     0.0202\n",
      "                  Peas        147          1          1          0     0.0111     0.0048\n",
      "             Pineapple        147         30      0.173     0.0333     0.0647     0.0299\n",
      "           Pomegranate        147         18     0.0291      0.944       0.11     0.0772\n",
      "                Potato        147        208       0.69      0.231      0.326      0.143\n",
      "            Strawberry        147         19      0.029      0.947      0.157     0.0594\n",
      "                Tomato        147         50          0          0      0.104     0.0444\n",
      "                Turnip        147          3          0          0   0.000743   0.000286\n",
      "            Watermelon        147         23     0.0434      0.174     0.0211      0.011\n",
      "Speed: 3.9ms preprocess, 5.3ms inference, 0.0ms loss, 7.0ms postprocess per image\n",
      "Results saved to \u001b[1mruns/detect/train\u001b[0m\n"
     ]
    }
   ],
   "source": [
    "from ultralytics import YOLO\n",
    "\n",
    "model = YOLO('yolov8n.pt')\n",
    "# 학습 - train() 메소드 호출\n",
    "model.train(data = 'data/custom_data.yaml', \n",
    "            epochs = 1, \n",
    "            patience = 20, # 지정한 epoch 만큼 성능이 개선이 안되면 조기종료.\n",
    "            batch = 16, # batch size (dafault)\n",
    "            imgsz = 640, # input batch size (default)\n",
    "            optimizer = 'Adam')"
   ]
  },
  {
   "cell_type": "code",
   "execution_count": null,
   "id": "_klPAKXXUodq",
   "metadata": {
    "id": "_klPAKXXUodq"
   },
   "outputs": [],
   "source": [
    "      Epoch    GPU_mem   box_loss   cls_loss   dfl_loss  Instances       Size\n",
    "        1/1      2.73G      1.454      3.328      1.644         79        640: 100%|██████████| 411/411 [09:13<00:00,  1.35s/it]\n",
    "                 Class     Images  Instances      Box(P          R      mAP50  mAP50-95): 100%|██████████| 5/5 [00:09<00:00,  1.89s/it] # 50 ~ 95프로에서 나온 평균\n",
    "                   all        147        613      0.309      0.159     0.0846      0.044"
   ]
  },
  {
   "cell_type": "markdown",
   "id": "ae1f38a6",
   "metadata": {
    "id": "ae1f38a6"
   },
   "source": [
    "- <b style='font-size:1.5em'>결과</b>\n",
    "```bash\n",
    "Epoch    GPU_mem   box_loss   cls_loss   dfl_loss  Instances       Size\n",
    "    100/100      39.5G     0.7396     0.5254      1.153         98        640: 100%|██████████| 137/137 [01:04<00:00,  2.12it/s]\n",
    "                 Class     Images  Instances      Box(P          R      mAP50  mAP50-95): 100%|██████████| 2/2 [00:06<00:00,  3.05s/it]\n",
    "                   all        147        613      0.768      0.846      0.877      0.652\n",
    "\n",
    "100 epochs completed in 3.049 hours.\n",
    "Optimizer stripped from runs/detect/train3/weights/last.pt, 52.0MB\n",
    "Optimizer stripped from runs/detect/train3/weights/best.pt, 52.0MB\n",
    "\n",
    "Validating runs/detect/train3/weights/best.pt...\n",
    "Ultralytics YOLOv8.0.50 🚀 Python-3.8.10 torch-1.13.1+cu116 CUDA:0 (NVIDIA A100-SXM4-40GB, 40514MiB)\n",
    "Model summary (fused): 218 layers, 25860025 parameters, 0 gradients, 78.8 GFLOPs\n",
    "                 Class     Images  Instances      Box(P          R      mAP50  mAP50-95): 100%|██████████| 2/2 [00:05<00:00,  3.00s/it]\n",
    "                   all        147        613      0.803      0.826      0.876      0.652\n",
    "                 Apple        147         22      0.806      0.864      0.897      0.772\n",
    "                Banana        147          7      0.777      0.857      0.917      0.582\n",
    "          Bitter_Gourd        147          4      0.683       0.25      0.351      0.125\n",
    "               Cabbage        147         38       0.85      0.896      0.953      0.731\n",
    "                Carrot        147          9          1      0.967      0.995      0.531\n",
    "                Cherry        147          2      0.814          1      0.995      0.895\n",
    "               Coconut        147          1      0.379          1      0.995      0.995\n",
    "              Cucumber        147         13      0.901      0.846       0.86      0.648\n",
    "                Ginger        147         14      0.902      0.929      0.952      0.592\n",
    "                 Grape        147          6       0.85          1      0.995      0.752\n",
    "          Green_Orange        147         12      0.894          1      0.995      0.913\n",
    "                  Kiwi        147         13      0.681      0.988      0.936      0.702\n",
    "                 Mango        147         33      0.966      0.879      0.964      0.749\n",
    "                 Melon        147         31      0.845      0.529      0.709      0.394\n",
    "                  Okra        147          2      0.921        0.5      0.502      0.301\n",
    "                 Onion        147         15      0.798      0.867      0.938      0.618\n",
    "                Orange        147         14      0.933      0.857      0.932      0.805\n",
    "                 Peach        147         16      0.941      0.688      0.904      0.748\n",
    "                  Pear        147          9       0.93          1      0.995      0.798\n",
    "                  Peas        147          1      0.408          1      0.995      0.895\n",
    "             Pineapple        147         30      0.844      0.733      0.812      0.463\n",
    "           Pomegranate        147         18      0.928          1      0.995      0.836\n",
    "                Potato        147        208      0.767      0.659      0.764      0.419\n",
    "            Strawberry        147         19      0.937          1      0.995      0.807\n",
    "                Tomato        147         50      0.796       0.74       0.88      0.583\n",
    "                Turnip        147          3      0.297      0.333       0.45      0.203\n",
    "            Watermelon        147         23      0.829      0.913      0.973      0.738\n",
    "Speed: 1.3ms preprocess, 1.7ms inference, 0.0ms loss, 0.9ms postprocess per image\n",
    "Results saved to runs/detect/train3\n",
    "```\n"
   ]
  },
  {
   "cell_type": "markdown",
   "id": "bfbf9771",
   "metadata": {
    "id": "bfbf9771"
   },
   "source": [
    "## 평가\n",
    "- YOLO객체 생성시 저장된 모델파일 경로를 넣어 생성한다.\n",
    "    - 학습할때 사용한 yaml파일 학습때와 동일한 경로에 있어야 한다.\n",
    "    - train/validation/test 데이터셋이 yaml에 등록된 경로에 있어야 한다.\n",
    "- `YOLO.val()` 이용\n",
    "    - DetMetrics 타입 객체에 결과를 담아 반환"
   ]
  },
  {
   "cell_type": "code",
   "execution_count": null,
   "id": "pHKyUz9AUohM",
   "metadata": {
    "id": "pHKyUz9AUohM"
   },
   "outputs": [],
   "source": [
    "best_model_path = '/content/runs/detect/train/weights/best.pt'\n",
    "\n",
    "best_model = YOLO(best_model_path)\n",
    "metrics = best_model.val()"
   ]
  },
  {
   "cell_type": "code",
   "execution_count": 23,
   "id": "496HsYx-UokQ",
   "metadata": {
    "colab": {
     "base_uri": "https://localhost:8080/"
    },
    "executionInfo": {
     "elapsed": 3,
     "status": "ok",
     "timestamp": 1678433420021,
     "user": {
      "displayName": "석마니",
      "userId": "14354690317603552621"
     },
     "user_tz": -540
    },
    "id": "496HsYx-UokQ",
    "outputId": "39694cb7-a6ad-4380-a799-29485ed36d0c"
   },
   "outputs": [
    {
     "name": "stdout",
     "output_type": "stream",
     "text": [
      "0.04402817515069767\n"
     ]
    }
   ],
   "source": [
    "print(metrics.box.map) # map50 ~ 95"
   ]
  },
  {
   "cell_type": "code",
   "execution_count": 24,
   "id": "RLp3e05PUonu",
   "metadata": {
    "colab": {
     "base_uri": "https://localhost:8080/"
    },
    "executionInfo": {
     "elapsed": 4,
     "status": "ok",
     "timestamp": 1678433439471,
     "user": {
      "displayName": "석마니",
      "userId": "14354690317603552621"
     },
     "user_tz": -540
    },
    "id": "RLp3e05PUonu",
    "outputId": "ca9d22b6-47d1-4fda-88a7-11280068e372"
   },
   "outputs": [
    {
     "name": "stdout",
     "output_type": "stream",
     "text": [
      "0.08463139018548108\n"
     ]
    }
   ],
   "source": [
    "print(metrics.box.map50)"
   ]
  },
  {
   "cell_type": "code",
   "execution_count": 25,
   "id": "8EhaCP8XUorA",
   "metadata": {
    "colab": {
     "base_uri": "https://localhost:8080/"
    },
    "executionInfo": {
     "elapsed": 3,
     "status": "ok",
     "timestamp": 1678433451778,
     "user": {
      "displayName": "석마니",
      "userId": "14354690317603552621"
     },
     "user_tz": -540
    },
    "id": "8EhaCP8XUorA",
    "outputId": "cbfd28fc-c942-483b-c07c-5a0d9c989146"
   },
   "outputs": [
    {
     "name": "stdout",
     "output_type": "stream",
     "text": [
      "0.04010952686825973\n"
     ]
    }
   ],
   "source": [
    "print(metrics.box.map75)"
   ]
  },
  {
   "cell_type": "code",
   "execution_count": 26,
   "id": "6563f688",
   "metadata": {
    "colab": {
     "base_uri": "https://localhost:8080/"
    },
    "executionInfo": {
     "elapsed": 308,
     "status": "ok",
     "timestamp": 1678433479783,
     "user": {
      "displayName": "석마니",
      "userId": "14354690317603552621"
     },
     "user_tz": -540
    },
    "id": "6563f688",
    "outputId": "c83bb2af-9453-449b-caaa-9c50dd83ee38"
   },
   "outputs": [
    {
     "name": "stdout",
     "output_type": "stream",
     "text": [
      "[   0.089144   0.0010612    0.044028    0.069385    0.044028    0.038932    0.044028   0.0079777    0.044028  0.00012495    0.044028  0.00058187   0.0057591    0.044028           0     0.04675     0.12598    0.064969    0.044028     0.16044    0.044274   0.0018084    0.014379    0.033966    0.098479    0.020178\n",
      "   0.0048037    0.029938     0.07741     0.14285    0.044028    0.054906    0.043294  0.00028567    0.011081]\n"
     ]
    }
   ],
   "source": [
    "print(metrics.box.maps) # 클래스별 ap score를 확인"
   ]
  },
  {
   "cell_type": "code",
   "execution_count": 28,
   "id": "8b03f064",
   "metadata": {
    "colab": {
     "base_uri": "https://localhost:8080/"
    },
    "executionInfo": {
     "elapsed": 3,
     "status": "ok",
     "timestamp": 1678433537865,
     "user": {
      "displayName": "석마니",
      "userId": "14354690317603552621"
     },
     "user_tz": -540
    },
    "id": "8b03f064",
    "outputId": "f7bcdb49-3795-4cf0-b84e-8340648e6aab"
   },
   "outputs": [
    {
     "name": "stdout",
     "output_type": "stream",
     "text": [
      "Apple : 0.08914415007655715\n",
      "Banana : 0.001061157341763486\n",
      "Beetroot : 0.04402817515069767\n",
      "Bitter_Gourd : 0.06938531337698783\n",
      "Bottle_Gourd : 0.04402817515069767\n",
      "Cabbage : 0.038931629490050676\n",
      "Capsicum : 0.04402817515069767\n",
      "Carrot : 0.007977709401709401\n",
      "Cauliflower : 0.04402817515069767\n",
      "Cherry : 0.00012495289126366604\n",
      "Chilli : 0.04402817515069767\n",
      "Coconut : 0.0005818713450292396\n",
      "Cucumber : 0.005759105634366257\n",
      "EggPlant : 0.04402817515069767\n",
      "Ginger : 0.0\n",
      "Grape : 0.04675035757267292\n",
      "Green_Orange : 0.12597658869974088\n",
      "Kiwi : 0.06496895163377812\n",
      "Maize : 0.04402817515069767\n",
      "Mango : 0.16044147403670397\n",
      "Melon : 0.04427418866465559\n",
      "Okra : 0.0018083706511497124\n",
      "Onion : 0.014378856792371275\n",
      "Orange : 0.03396581373262143\n",
      "Peach : 0.09847916974595292\n",
      "Pear : 0.020177540846156007\n",
      "Peas : 0.004803696991663647\n",
      "Pineapple : 0.02993790032059011\n",
      "Pomegranate : 0.07741042756262739\n",
      "Potato : 0.14285462522373066\n",
      "Radish : 0.04402817515069767\n",
      "Strawberry : 0.054905612795455284\n",
      "Tomato : 0.04329415999881422\n",
      "Turnip : 0.0002856734550580051\n",
      "Watermelon : 0.01108143078736723\n"
     ]
    }
   ],
   "source": [
    "for label, ap in zip(fruits, metrics.box.maps):\n",
    "  print(label, ':', ap)"
   ]
  },
  {
   "cell_type": "markdown",
   "id": "4324ba11",
   "metadata": {
    "id": "4324ba11"
   },
   "source": [
    "# 추론"
   ]
  },
  {
   "cell_type": "code",
   "execution_count": 9,
   "id": "84fb03da",
   "metadata": {
    "id": "84fb03da"
   },
   "outputs": [
    {
     "data": {
      "text/plain": [
       "['test_image/fruits_veg/melon2.jpg',\n",
       " 'test_image/fruits_veg/melon1.jpg',\n",
       " 'test_image/fruits_veg/banana2.jpg',\n",
       " 'test_image/fruits_veg/capsicum2.jpg',\n",
       " 'test_image/fruits_veg/capsicum1.jpg',\n",
       " 'test_image/fruits_veg/pineapple.jpg',\n",
       " 'test_image/fruits_veg/grape.jpg',\n",
       " 'test_image/fruits_veg/apple.jpg',\n",
       " 'test_image/fruits_veg/pomegranate.jpg',\n",
       " 'test_image/fruits_veg/banana.jpg',\n",
       " 'test_image/fruits_veg/eggplant.jpg',\n",
       " 'test_image/fruits_veg/pineapple2.jpg']"
      ]
     },
     "execution_count": 9,
     "metadata": {},
     "output_type": "execute_result"
    }
   ],
   "source": [
    "from glob import glob\n",
    "TEST_FILES_PATH = glob('test_image/fruits_veg/*.jpg')\n",
    "TEST_FILES_PATH"
   ]
  },
  {
   "cell_type": "code",
   "execution_count": 11,
   "id": "219b923d",
   "metadata": {},
   "outputs": [
    {
     "name": "stderr",
     "output_type": "stream",
     "text": [
      "\n",
      "image 1/1 /Users/seokminlee/Desktop/mose/8. Yolo/test_image/fruits_veg/melon2.jpg: 640x640 1 Melon, 641.3ms\n",
      "Speed: 0.4ms preprocess, 641.3ms inference, 1.9ms postprocess per image at shape (1, 3, 640, 640)\n",
      "Results saved to \u001b[1mruns/detect/predict10\u001b[0m\n",
      "1 label saved to runs/detect/predict10/labels\n",
      "\n",
      "image 1/1 /Users/seokminlee/Desktop/mose/8. Yolo/test_image/fruits_veg/melon1.jpg: 640x608 1 Melon, 625.3ms\n",
      "Speed: 0.7ms preprocess, 625.3ms inference, 0.8ms postprocess per image at shape (1, 3, 640, 640)\n",
      "Results saved to \u001b[1mruns/detect/predict10\u001b[0m\n",
      "2 labels saved to runs/detect/predict10/labels\n",
      "\n",
      "image 1/1 /Users/seokminlee/Desktop/mose/8. Yolo/test_image/fruits_veg/banana2.jpg: 640x640 1 Banana, 495.7ms\n",
      "Speed: 0.9ms preprocess, 495.7ms inference, 1.1ms postprocess per image at shape (1, 3, 640, 640)\n",
      "Results saved to \u001b[1mruns/detect/predict10\u001b[0m\n",
      "3 labels saved to runs/detect/predict10/labels\n",
      "\n",
      "[W NNPACK.cpp:53] Could not initialize NNPACK! Reason: Unsupported hardware.\n",
      "image 1/1 /Users/seokminlee/Desktop/mose/8. Yolo/test_image/fruits_veg/capsicum2.jpg: 480x640 2 Capsicums, 482.2ms\n",
      "Speed: 0.6ms preprocess, 482.2ms inference, 1.0ms postprocess per image at shape (1, 3, 640, 640)\n",
      "Results saved to \u001b[1mruns/detect/predict10\u001b[0m\n",
      "4 labels saved to runs/detect/predict10/labels\n",
      "\n",
      "image 1/1 /Users/seokminlee/Desktop/mose/8. Yolo/test_image/fruits_veg/capsicum1.jpg: 640x640 4 Capsicums, 501.5ms\n",
      "Speed: 2.3ms preprocess, 501.5ms inference, 0.9ms postprocess per image at shape (1, 3, 640, 640)\n",
      "Results saved to \u001b[1mruns/detect/predict10\u001b[0m\n",
      "5 labels saved to runs/detect/predict10/labels\n",
      "\n",
      "image 1/1 /Users/seokminlee/Desktop/mose/8. Yolo/test_image/fruits_veg/pineapple.jpg: 512x640 1 Pineapple, 511.9ms\n",
      "Speed: 1.6ms preprocess, 511.9ms inference, 0.9ms postprocess per image at shape (1, 3, 640, 640)\n",
      "Results saved to \u001b[1mruns/detect/predict10\u001b[0m\n",
      "6 labels saved to runs/detect/predict10/labels\n",
      "\n",
      "image 1/1 /Users/seokminlee/Desktop/mose/8. Yolo/test_image/fruits_veg/grape.jpg: 384x640 3 Grapes, 432.4ms\n",
      "Speed: 0.8ms preprocess, 432.4ms inference, 0.8ms postprocess per image at shape (1, 3, 640, 640)\n",
      "Results saved to \u001b[1mruns/detect/predict10\u001b[0m\n",
      "7 labels saved to runs/detect/predict10/labels\n",
      "\n",
      "image 1/1 /Users/seokminlee/Desktop/mose/8. Yolo/test_image/fruits_veg/apple.jpg: 416x640 7 Apples, 462.2ms\n",
      "Speed: 7.4ms preprocess, 462.2ms inference, 2.3ms postprocess per image at shape (1, 3, 640, 640)\n",
      "Results saved to \u001b[1mruns/detect/predict10\u001b[0m\n",
      "8 labels saved to runs/detect/predict10/labels\n",
      "\n",
      "image 1/1 /Users/seokminlee/Desktop/mose/8. Yolo/test_image/fruits_veg/pomegranate.jpg: 448x640 2 Pomegranates, 470.7ms\n",
      "Speed: 8.7ms preprocess, 470.7ms inference, 1.0ms postprocess per image at shape (1, 3, 640, 640)\n",
      "Results saved to \u001b[1mruns/detect/predict10\u001b[0m\n",
      "9 labels saved to runs/detect/predict10/labels\n",
      "\n",
      "image 1/1 /Users/seokminlee/Desktop/mose/8. Yolo/test_image/fruits_veg/banana.jpg: 384x640 1 Banana, 335.5ms\n",
      "Speed: 0.6ms preprocess, 335.5ms inference, 0.8ms postprocess per image at shape (1, 3, 640, 640)\n",
      "Results saved to \u001b[1mruns/detect/predict10\u001b[0m\n",
      "10 labels saved to runs/detect/predict10/labels\n",
      "\n",
      "image 1/1 /Users/seokminlee/Desktop/mose/8. Yolo/test_image/fruits_veg/eggplant.jpg: 480x640 1 EggPlant, 1 Watermelon, 380.0ms\n",
      "Speed: 7.9ms preprocess, 380.0ms inference, 0.8ms postprocess per image at shape (1, 3, 640, 640)\n",
      "Results saved to \u001b[1mruns/detect/predict10\u001b[0m\n",
      "11 labels saved to runs/detect/predict10/labels\n",
      "\n",
      "image 1/1 /Users/seokminlee/Desktop/mose/8. Yolo/test_image/fruits_veg/pineapple2.jpg: 480x640 7 Pineapples, 413.0ms\n",
      "Speed: 1.1ms preprocess, 413.0ms inference, 0.8ms postprocess per image at shape (1, 3, 640, 640)\n",
      "Results saved to \u001b[1mruns/detect/predict10\u001b[0m\n",
      "12 labels saved to runs/detect/predict10/labels\n"
     ]
    }
   ],
   "source": [
    "from ultralytics import YOLO\n",
    "\n",
    "best_model = YOLO('runs1/detect/train/weights/best.pt')\n",
    "for path in TEST_FILES_PATH:\n",
    "    result = best_model(path, save = True, save_txt = True)"
   ]
  }
 ],
 "metadata": {
  "accelerator": "GPU",
  "colab": {
   "provenance": []
  },
  "gpuClass": "standard",
  "kernelspec": {
   "display_name": "Python 3 (ipykernel)",
   "language": "python",
   "name": "python3"
  },
  "language_info": {
   "codemirror_mode": {
    "name": "ipython",
    "version": 3
   },
   "file_extension": ".py",
   "mimetype": "text/x-python",
   "name": "python",
   "nbconvert_exporter": "python",
   "pygments_lexer": "ipython3",
   "version": "3.9.16"
  },
  "toc": {
   "base_numbering": 1,
   "nav_menu": {},
   "number_sections": true,
   "sideBar": true,
   "skip_h1_title": false,
   "title_cell": "Table of Contents",
   "title_sidebar": "Contents",
   "toc_cell": false,
   "toc_position": {},
   "toc_section_display": true,
   "toc_window_display": false
  },
  "varInspector": {
   "cols": {
    "lenName": 16,
    "lenType": 16,
    "lenVar": 40
   },
   "kernels_config": {
    "python": {
     "delete_cmd_postfix": "",
     "delete_cmd_prefix": "del ",
     "library": "var_list.py",
     "varRefreshCmd": "print(var_dic_list())"
    },
    "r": {
     "delete_cmd_postfix": ") ",
     "delete_cmd_prefix": "rm(",
     "library": "var_list.r",
     "varRefreshCmd": "cat(var_dic_list()) "
    }
   },
   "types_to_exclude": [
    "module",
    "function",
    "builtin_function_or_method",
    "instance",
    "_Feature"
   ],
   "window_display": false
  },
  "widgets": {
   "application/vnd.jupyter.widget-state+json": {
    "05de1fb7f2854e77b380b9fdf56a99a2": {
     "model_module": "@jupyter-widgets/controls",
     "model_module_version": "1.5.0",
     "model_name": "HTMLModel",
     "state": {
      "_dom_classes": [],
      "_model_module": "@jupyter-widgets/controls",
      "_model_module_version": "1.5.0",
      "_model_name": "HTMLModel",
      "_view_count": null,
      "_view_module": "@jupyter-widgets/controls",
      "_view_module_version": "1.5.0",
      "_view_name": "HTMLView",
      "description": "",
      "description_tooltip": null,
      "layout": "IPY_MODEL_7a6bf4f69f8e4ceb9c9891d0d9fe0b8f",
      "placeholder": "​",
      "style": "IPY_MODEL_c6e7d37203004b1c97f58acb88f6f91e",
      "value": " 6.23M/6.23M [00:00&lt;00:00, 58.6MB/s]"
     }
    },
    "0aabee6d561d4ab28647bf35cc5472a0": {
     "model_module": "@jupyter-widgets/base",
     "model_module_version": "1.2.0",
     "model_name": "LayoutModel",
     "state": {
      "_model_module": "@jupyter-widgets/base",
      "_model_module_version": "1.2.0",
      "_model_name": "LayoutModel",
      "_view_count": null,
      "_view_module": "@jupyter-widgets/base",
      "_view_module_version": "1.2.0",
      "_view_name": "LayoutView",
      "align_content": null,
      "align_items": null,
      "align_self": null,
      "border": null,
      "bottom": null,
      "display": null,
      "flex": null,
      "flex_flow": null,
      "grid_area": null,
      "grid_auto_columns": null,
      "grid_auto_flow": null,
      "grid_auto_rows": null,
      "grid_column": null,
      "grid_gap": null,
      "grid_row": null,
      "grid_template_areas": null,
      "grid_template_columns": null,
      "grid_template_rows": null,
      "height": null,
      "justify_content": null,
      "justify_items": null,
      "left": null,
      "margin": null,
      "max_height": null,
      "max_width": null,
      "min_height": null,
      "min_width": null,
      "object_fit": null,
      "object_position": null,
      "order": null,
      "overflow": null,
      "overflow_x": null,
      "overflow_y": null,
      "padding": null,
      "right": null,
      "top": null,
      "visibility": null,
      "width": null
     }
    },
    "1fab12759af64c53895611631cafd3e3": {
     "model_module": "@jupyter-widgets/controls",
     "model_module_version": "1.5.0",
     "model_name": "ProgressStyleModel",
     "state": {
      "_model_module": "@jupyter-widgets/controls",
      "_model_module_version": "1.5.0",
      "_model_name": "ProgressStyleModel",
      "_view_count": null,
      "_view_module": "@jupyter-widgets/base",
      "_view_module_version": "1.2.0",
      "_view_name": "StyleView",
      "bar_color": null,
      "description_width": ""
     }
    },
    "24f208635ba54f4a89f75dcb6f11adc2": {
     "model_module": "@jupyter-widgets/controls",
     "model_module_version": "1.5.0",
     "model_name": "HTMLModel",
     "state": {
      "_dom_classes": [],
      "_model_module": "@jupyter-widgets/controls",
      "_model_module_version": "1.5.0",
      "_model_name": "HTMLModel",
      "_view_count": null,
      "_view_module": "@jupyter-widgets/controls",
      "_view_module_version": "1.5.0",
      "_view_name": "HTMLView",
      "description": "",
      "description_tooltip": null,
      "layout": "IPY_MODEL_bb9efac39deb4b5abc83642080289fa1",
      "placeholder": "​",
      "style": "IPY_MODEL_6b17ff9202034db6b4b48ae24c41880d",
      "value": "100%"
     }
    },
    "2a23977bed954339a906d12a573e8efd": {
     "model_module": "@jupyter-widgets/base",
     "model_module_version": "1.2.0",
     "model_name": "LayoutModel",
     "state": {
      "_model_module": "@jupyter-widgets/base",
      "_model_module_version": "1.2.0",
      "_model_name": "LayoutModel",
      "_view_count": null,
      "_view_module": "@jupyter-widgets/base",
      "_view_module_version": "1.2.0",
      "_view_name": "LayoutView",
      "align_content": null,
      "align_items": null,
      "align_self": null,
      "border": null,
      "bottom": null,
      "display": null,
      "flex": null,
      "flex_flow": null,
      "grid_area": null,
      "grid_auto_columns": null,
      "grid_auto_flow": null,
      "grid_auto_rows": null,
      "grid_column": null,
      "grid_gap": null,
      "grid_row": null,
      "grid_template_areas": null,
      "grid_template_columns": null,
      "grid_template_rows": null,
      "height": null,
      "justify_content": null,
      "justify_items": null,
      "left": null,
      "margin": null,
      "max_height": null,
      "max_width": null,
      "min_height": null,
      "min_width": null,
      "object_fit": null,
      "object_position": null,
      "order": null,
      "overflow": null,
      "overflow_x": null,
      "overflow_y": null,
      "padding": null,
      "right": null,
      "top": null,
      "visibility": null,
      "width": null
     }
    },
    "5ceb54186c4d4435b54dac0e9820b933": {
     "model_module": "@jupyter-widgets/controls",
     "model_module_version": "1.5.0",
     "model_name": "HTMLModel",
     "state": {
      "_dom_classes": [],
      "_model_module": "@jupyter-widgets/controls",
      "_model_module_version": "1.5.0",
      "_model_name": "HTMLModel",
      "_view_count": null,
      "_view_module": "@jupyter-widgets/controls",
      "_view_module_version": "1.5.0",
      "_view_name": "HTMLView",
      "description": "",
      "description_tooltip": null,
      "layout": "IPY_MODEL_0aabee6d561d4ab28647bf35cc5472a0",
      "placeholder": "​",
      "style": "IPY_MODEL_b75c335f0dcc4731bb567cb70d05c792",
      "value": " 755k/755k [00:00&lt;00:00, 12.2MB/s]"
     }
    },
    "632aa16e3664466ba2c45e2ddaa45aa2": {
     "model_module": "@jupyter-widgets/base",
     "model_module_version": "1.2.0",
     "model_name": "LayoutModel",
     "state": {
      "_model_module": "@jupyter-widgets/base",
      "_model_module_version": "1.2.0",
      "_model_name": "LayoutModel",
      "_view_count": null,
      "_view_module": "@jupyter-widgets/base",
      "_view_module_version": "1.2.0",
      "_view_name": "LayoutView",
      "align_content": null,
      "align_items": null,
      "align_self": null,
      "border": null,
      "bottom": null,
      "display": null,
      "flex": null,
      "flex_flow": null,
      "grid_area": null,
      "grid_auto_columns": null,
      "grid_auto_flow": null,
      "grid_auto_rows": null,
      "grid_column": null,
      "grid_gap": null,
      "grid_row": null,
      "grid_template_areas": null,
      "grid_template_columns": null,
      "grid_template_rows": null,
      "height": null,
      "justify_content": null,
      "justify_items": null,
      "left": null,
      "margin": null,
      "max_height": null,
      "max_width": null,
      "min_height": null,
      "min_width": null,
      "object_fit": null,
      "object_position": null,
      "order": null,
      "overflow": null,
      "overflow_x": null,
      "overflow_y": null,
      "padding": null,
      "right": null,
      "top": null,
      "visibility": null,
      "width": null
     }
    },
    "6b17ff9202034db6b4b48ae24c41880d": {
     "model_module": "@jupyter-widgets/controls",
     "model_module_version": "1.5.0",
     "model_name": "DescriptionStyleModel",
     "state": {
      "_model_module": "@jupyter-widgets/controls",
      "_model_module_version": "1.5.0",
      "_model_name": "DescriptionStyleModel",
      "_view_count": null,
      "_view_module": "@jupyter-widgets/base",
      "_view_module_version": "1.2.0",
      "_view_name": "StyleView",
      "description_width": ""
     }
    },
    "7a6bf4f69f8e4ceb9c9891d0d9fe0b8f": {
     "model_module": "@jupyter-widgets/base",
     "model_module_version": "1.2.0",
     "model_name": "LayoutModel",
     "state": {
      "_model_module": "@jupyter-widgets/base",
      "_model_module_version": "1.2.0",
      "_model_name": "LayoutModel",
      "_view_count": null,
      "_view_module": "@jupyter-widgets/base",
      "_view_module_version": "1.2.0",
      "_view_name": "LayoutView",
      "align_content": null,
      "align_items": null,
      "align_self": null,
      "border": null,
      "bottom": null,
      "display": null,
      "flex": null,
      "flex_flow": null,
      "grid_area": null,
      "grid_auto_columns": null,
      "grid_auto_flow": null,
      "grid_auto_rows": null,
      "grid_column": null,
      "grid_gap": null,
      "grid_row": null,
      "grid_template_areas": null,
      "grid_template_columns": null,
      "grid_template_rows": null,
      "height": null,
      "justify_content": null,
      "justify_items": null,
      "left": null,
      "margin": null,
      "max_height": null,
      "max_width": null,
      "min_height": null,
      "min_width": null,
      "object_fit": null,
      "object_position": null,
      "order": null,
      "overflow": null,
      "overflow_x": null,
      "overflow_y": null,
      "padding": null,
      "right": null,
      "top": null,
      "visibility": null,
      "width": null
     }
    },
    "8155e0a37efe4e308a5aeb6a7d6b1094": {
     "model_module": "@jupyter-widgets/controls",
     "model_module_version": "1.5.0",
     "model_name": "FloatProgressModel",
     "state": {
      "_dom_classes": [],
      "_model_module": "@jupyter-widgets/controls",
      "_model_module_version": "1.5.0",
      "_model_name": "FloatProgressModel",
      "_view_count": null,
      "_view_module": "@jupyter-widgets/controls",
      "_view_module_version": "1.5.0",
      "_view_name": "ProgressView",
      "bar_style": "success",
      "description": "",
      "description_tooltip": null,
      "layout": "IPY_MODEL_2a23977bed954339a906d12a573e8efd",
      "max": 6534387,
      "min": 0,
      "orientation": "horizontal",
      "style": "IPY_MODEL_feb975f1c10949ff85780c700ddbb696",
      "value": 6534387
     }
    },
    "9a511c82a5a54563b029ff38276e5305": {
     "model_module": "@jupyter-widgets/controls",
     "model_module_version": "1.5.0",
     "model_name": "HBoxModel",
     "state": {
      "_dom_classes": [],
      "_model_module": "@jupyter-widgets/controls",
      "_model_module_version": "1.5.0",
      "_model_name": "HBoxModel",
      "_view_count": null,
      "_view_module": "@jupyter-widgets/controls",
      "_view_module_version": "1.5.0",
      "_view_name": "HBoxView",
      "box_style": "",
      "children": [
       "IPY_MODEL_24f208635ba54f4a89f75dcb6f11adc2",
       "IPY_MODEL_8155e0a37efe4e308a5aeb6a7d6b1094",
       "IPY_MODEL_05de1fb7f2854e77b380b9fdf56a99a2"
      ],
      "layout": "IPY_MODEL_dc8c385512c44d8c9a8b8f7c02ee5f04"
     }
    },
    "b75c335f0dcc4731bb567cb70d05c792": {
     "model_module": "@jupyter-widgets/controls",
     "model_module_version": "1.5.0",
     "model_name": "DescriptionStyleModel",
     "state": {
      "_model_module": "@jupyter-widgets/controls",
      "_model_module_version": "1.5.0",
      "_model_name": "DescriptionStyleModel",
      "_view_count": null,
      "_view_module": "@jupyter-widgets/base",
      "_view_module_version": "1.2.0",
      "_view_name": "StyleView",
      "description_width": ""
     }
    },
    "bb9efac39deb4b5abc83642080289fa1": {
     "model_module": "@jupyter-widgets/base",
     "model_module_version": "1.2.0",
     "model_name": "LayoutModel",
     "state": {
      "_model_module": "@jupyter-widgets/base",
      "_model_module_version": "1.2.0",
      "_model_name": "LayoutModel",
      "_view_count": null,
      "_view_module": "@jupyter-widgets/base",
      "_view_module_version": "1.2.0",
      "_view_name": "LayoutView",
      "align_content": null,
      "align_items": null,
      "align_self": null,
      "border": null,
      "bottom": null,
      "display": null,
      "flex": null,
      "flex_flow": null,
      "grid_area": null,
      "grid_auto_columns": null,
      "grid_auto_flow": null,
      "grid_auto_rows": null,
      "grid_column": null,
      "grid_gap": null,
      "grid_row": null,
      "grid_template_areas": null,
      "grid_template_columns": null,
      "grid_template_rows": null,
      "height": null,
      "justify_content": null,
      "justify_items": null,
      "left": null,
      "margin": null,
      "max_height": null,
      "max_width": null,
      "min_height": null,
      "min_width": null,
      "object_fit": null,
      "object_position": null,
      "order": null,
      "overflow": null,
      "overflow_x": null,
      "overflow_y": null,
      "padding": null,
      "right": null,
      "top": null,
      "visibility": null,
      "width": null
     }
    },
    "c0a77f55d5c64ebcafd10f4463427df9": {
     "model_module": "@jupyter-widgets/base",
     "model_module_version": "1.2.0",
     "model_name": "LayoutModel",
     "state": {
      "_model_module": "@jupyter-widgets/base",
      "_model_module_version": "1.2.0",
      "_model_name": "LayoutModel",
      "_view_count": null,
      "_view_module": "@jupyter-widgets/base",
      "_view_module_version": "1.2.0",
      "_view_name": "LayoutView",
      "align_content": null,
      "align_items": null,
      "align_self": null,
      "border": null,
      "bottom": null,
      "display": null,
      "flex": null,
      "flex_flow": null,
      "grid_area": null,
      "grid_auto_columns": null,
      "grid_auto_flow": null,
      "grid_auto_rows": null,
      "grid_column": null,
      "grid_gap": null,
      "grid_row": null,
      "grid_template_areas": null,
      "grid_template_columns": null,
      "grid_template_rows": null,
      "height": null,
      "justify_content": null,
      "justify_items": null,
      "left": null,
      "margin": null,
      "max_height": null,
      "max_width": null,
      "min_height": null,
      "min_width": null,
      "object_fit": null,
      "object_position": null,
      "order": null,
      "overflow": null,
      "overflow_x": null,
      "overflow_y": null,
      "padding": null,
      "right": null,
      "top": null,
      "visibility": null,
      "width": null
     }
    },
    "c304d8dabd8449a2a8f522d9c3680c09": {
     "model_module": "@jupyter-widgets/controls",
     "model_module_version": "1.5.0",
     "model_name": "DescriptionStyleModel",
     "state": {
      "_model_module": "@jupyter-widgets/controls",
      "_model_module_version": "1.5.0",
      "_model_name": "DescriptionStyleModel",
      "_view_count": null,
      "_view_module": "@jupyter-widgets/base",
      "_view_module_version": "1.2.0",
      "_view_name": "StyleView",
      "description_width": ""
     }
    },
    "c6e7d37203004b1c97f58acb88f6f91e": {
     "model_module": "@jupyter-widgets/controls",
     "model_module_version": "1.5.0",
     "model_name": "DescriptionStyleModel",
     "state": {
      "_model_module": "@jupyter-widgets/controls",
      "_model_module_version": "1.5.0",
      "_model_name": "DescriptionStyleModel",
      "_view_count": null,
      "_view_module": "@jupyter-widgets/base",
      "_view_module_version": "1.2.0",
      "_view_name": "StyleView",
      "description_width": ""
     }
    },
    "dc8c385512c44d8c9a8b8f7c02ee5f04": {
     "model_module": "@jupyter-widgets/base",
     "model_module_version": "1.2.0",
     "model_name": "LayoutModel",
     "state": {
      "_model_module": "@jupyter-widgets/base",
      "_model_module_version": "1.2.0",
      "_model_name": "LayoutModel",
      "_view_count": null,
      "_view_module": "@jupyter-widgets/base",
      "_view_module_version": "1.2.0",
      "_view_name": "LayoutView",
      "align_content": null,
      "align_items": null,
      "align_self": null,
      "border": null,
      "bottom": null,
      "display": null,
      "flex": null,
      "flex_flow": null,
      "grid_area": null,
      "grid_auto_columns": null,
      "grid_auto_flow": null,
      "grid_auto_rows": null,
      "grid_column": null,
      "grid_gap": null,
      "grid_row": null,
      "grid_template_areas": null,
      "grid_template_columns": null,
      "grid_template_rows": null,
      "height": null,
      "justify_content": null,
      "justify_items": null,
      "left": null,
      "margin": null,
      "max_height": null,
      "max_width": null,
      "min_height": null,
      "min_width": null,
      "object_fit": null,
      "object_position": null,
      "order": null,
      "overflow": null,
      "overflow_x": null,
      "overflow_y": null,
      "padding": null,
      "right": null,
      "top": null,
      "visibility": null,
      "width": null
     }
    },
    "eb939dd869314667954cf724f6069b0d": {
     "model_module": "@jupyter-widgets/controls",
     "model_module_version": "1.5.0",
     "model_name": "FloatProgressModel",
     "state": {
      "_dom_classes": [],
      "_model_module": "@jupyter-widgets/controls",
      "_model_module_version": "1.5.0",
      "_model_name": "FloatProgressModel",
      "_view_count": null,
      "_view_module": "@jupyter-widgets/controls",
      "_view_module_version": "1.5.0",
      "_view_name": "ProgressView",
      "bar_style": "success",
      "description": "",
      "description_tooltip": null,
      "layout": "IPY_MODEL_632aa16e3664466ba2c45e2ddaa45aa2",
      "max": 773236,
      "min": 0,
      "orientation": "horizontal",
      "style": "IPY_MODEL_1fab12759af64c53895611631cafd3e3",
      "value": 773236
     }
    },
    "ec3d103cdb6f4f079f17c215545e7616": {
     "model_module": "@jupyter-widgets/controls",
     "model_module_version": "1.5.0",
     "model_name": "HBoxModel",
     "state": {
      "_dom_classes": [],
      "_model_module": "@jupyter-widgets/controls",
      "_model_module_version": "1.5.0",
      "_model_name": "HBoxModel",
      "_view_count": null,
      "_view_module": "@jupyter-widgets/controls",
      "_view_module_version": "1.5.0",
      "_view_name": "HBoxView",
      "box_style": "",
      "children": [
       "IPY_MODEL_f55e05fc68f04b82bb6591612716751e",
       "IPY_MODEL_eb939dd869314667954cf724f6069b0d",
       "IPY_MODEL_5ceb54186c4d4435b54dac0e9820b933"
      ],
      "layout": "IPY_MODEL_c0a77f55d5c64ebcafd10f4463427df9"
     }
    },
    "f2e9ca0dcd184f9283bde351e582367e": {
     "model_module": "@jupyter-widgets/base",
     "model_module_version": "1.2.0",
     "model_name": "LayoutModel",
     "state": {
      "_model_module": "@jupyter-widgets/base",
      "_model_module_version": "1.2.0",
      "_model_name": "LayoutModel",
      "_view_count": null,
      "_view_module": "@jupyter-widgets/base",
      "_view_module_version": "1.2.0",
      "_view_name": "LayoutView",
      "align_content": null,
      "align_items": null,
      "align_self": null,
      "border": null,
      "bottom": null,
      "display": null,
      "flex": null,
      "flex_flow": null,
      "grid_area": null,
      "grid_auto_columns": null,
      "grid_auto_flow": null,
      "grid_auto_rows": null,
      "grid_column": null,
      "grid_gap": null,
      "grid_row": null,
      "grid_template_areas": null,
      "grid_template_columns": null,
      "grid_template_rows": null,
      "height": null,
      "justify_content": null,
      "justify_items": null,
      "left": null,
      "margin": null,
      "max_height": null,
      "max_width": null,
      "min_height": null,
      "min_width": null,
      "object_fit": null,
      "object_position": null,
      "order": null,
      "overflow": null,
      "overflow_x": null,
      "overflow_y": null,
      "padding": null,
      "right": null,
      "top": null,
      "visibility": null,
      "width": null
     }
    },
    "f55e05fc68f04b82bb6591612716751e": {
     "model_module": "@jupyter-widgets/controls",
     "model_module_version": "1.5.0",
     "model_name": "HTMLModel",
     "state": {
      "_dom_classes": [],
      "_model_module": "@jupyter-widgets/controls",
      "_model_module_version": "1.5.0",
      "_model_name": "HTMLModel",
      "_view_count": null,
      "_view_module": "@jupyter-widgets/controls",
      "_view_module_version": "1.5.0",
      "_view_name": "HTMLView",
      "description": "",
      "description_tooltip": null,
      "layout": "IPY_MODEL_f2e9ca0dcd184f9283bde351e582367e",
      "placeholder": "​",
      "style": "IPY_MODEL_c304d8dabd8449a2a8f522d9c3680c09",
      "value": "100%"
     }
    },
    "feb975f1c10949ff85780c700ddbb696": {
     "model_module": "@jupyter-widgets/controls",
     "model_module_version": "1.5.0",
     "model_name": "ProgressStyleModel",
     "state": {
      "_model_module": "@jupyter-widgets/controls",
      "_model_module_version": "1.5.0",
      "_model_name": "ProgressStyleModel",
      "_view_count": null,
      "_view_module": "@jupyter-widgets/base",
      "_view_module_version": "1.2.0",
      "_view_name": "StyleView",
      "bar_color": null,
      "description_width": ""
     }
    }
   }
  }
 },
 "nbformat": 4,
 "nbformat_minor": 5
}
