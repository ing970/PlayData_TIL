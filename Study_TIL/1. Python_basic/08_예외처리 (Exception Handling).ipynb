{
 "cells": [
  {
   "cell_type": "markdown",
   "metadata": {
    "slideshow": {
     "slide_type": "slide"
    }
   },
   "source": [
    "# 오류\n",
    "\n",
    "- 함수나 메소드가 처리 도중 다음 명령문을 실행할 수 없는 상황\n",
    "- 오류 중 처리가능한 것을 Exception(예외) 라고 한다. 그리고 그 예외를 처리하는 것을 Exception Handling 이라고 한다.\n",
    "\n",
    "![개요](../images/ch08_01.png)\n"
   ]
  },
  {
   "cell_type": "markdown",
   "metadata": {
    "slideshow": {
     "slide_type": "slide"
    }
   },
   "source": [
    "## 오류의 종류\n",
    "- **파이썬 문법을 어겨서 발생하는 오류**\n",
    "    - 코드 상 100% 발생하는 오류\n",
    "    - 코드를 수정해 야한다.\n",
    "    - 보통 이런 오류는 컴파일 방식 언어의 경우 컴파일 때 에러를 내서 수정하도록 한다.\n",
    "- **실행 환경의 문제로 발생하는 오류**\n",
    "    - 코드상에서는 Exception의 발생여부를 확신할 수 없다.\n",
    "    - 만약 발생할 경우 어떻게 처리할지를 구현해야 한다."
   ]
  },
  {
   "cell_type": "code",
   "execution_count": null,
   "metadata": {},
   "outputs": [],
   "source": []
  },
  {
   "cell_type": "markdown",
   "metadata": {
    "slideshow": {
     "slide_type": "slide"
    }
   },
   "source": [
    "## Exception handling\n",
    "Exception이 발생되어 프로그램이 더이상 실행될 수 없는 상황을 처리(handling)해서 정상화 시키는 작업을 말한다.  \n",
    "try - except 구문을 이용해 처리한다."
   ]
  },
  {
   "cell_type": "markdown",
   "metadata": {
    "slideshow": {
     "slide_type": "fragment"
    }
   },
   "source": [
    "###  try, except 구문\n",
    "\n",
    "```python\n",
    "try:\n",
    "    Exception 발생가능한 코드 블록\n",
    "except [Exception클래스 이름 [as 변수]] :\n",
    "    처리 코드   \n",
    "```"
   ]
  },
  {
   "cell_type": "markdown",
   "metadata": {
    "slideshow": {
     "slide_type": "fragment"
    }
   },
   "source": [
    "- **try block**\n",
    "    - Exception 발생 가능성 있는 코드와 그 코드와 연결된 코드들을 블록으로 묶는다.\n",
    "        - 연결된 코드란 Exception이 발생 안해야만 실행되는 코드를 말한다.\n",
    "- **except block**\n",
    "    - 발생한 Exception을 처리하는 코드 블록을 작성한다.\n",
    "        - try block의 코드를 실행하다 exception이 발생하면 except block이 실행된다. Exception이 발생하지 않으면 실행되지 않는다.\n",
    "    - try block에서 발생한 모든 Exception을 처리하는 경우 `except:` 로 선언한다.\n",
    "    - try block에서 발생한 특정 Exception만 따로 처리할 경우 `except Exception클래스 이름` 을 선언한다.\n",
    "        - 모든 Exception들은 클래스로 정의 되어 있다. 그 클래스 이름을 적어준다.\n",
    "        - **Exception 들 별로 각각 처리할 수 있으면 이 경우 except 구문(처리구문)을 연속해서 작성하면 된다.**\n",
    "    - try block에서 발생한 특정 Exception만 따로 처리하고 그 Exception이 왜 발생했는지 등의 정보를 사용할 경우 `except Exception 클래스 이름 as 변수명` 으로 선언하고 변수명을 이용해 정보를 조회한다.\n",
    "        "
   ]
  },
  {
   "cell_type": "code",
   "execution_count": null,
   "metadata": {},
   "outputs": [],
   "source": []
  },
  {
   "cell_type": "code",
   "execution_count": 1,
   "metadata": {},
   "outputs": [
    {
     "name": "stdout",
     "output_type": "stream",
     "text": [
      "프로그램 시작\n",
      "아아아아\n",
      "실행도중 문제가 발생했습니다.\n",
      "프로그램 종료\n"
     ]
    }
   ],
   "source": [
    "# try - except\n",
    "print(\"프로그램 시작\")     # 1 \n",
    "try:    \n",
    "    num = int(input())  # 2 Exception 발생가능성이 있는 코드\n",
    "    result = 10 // num  # 3\n",
    "    print(result)       # 4\n",
    "    \n",
    "except:\n",
    "    print('실행도중 문제가 발생했습니다.') # 5\n",
    "    \n",
    "print('프로그램 종료')     # 6"
   ]
  },
  {
   "cell_type": "markdown",
   "metadata": {},
   "source": [
    "- 예외 (Exception)이 발생하지 않은 경우 실행 순서\n",
    "    - 1 -> 2 -> 3 -> 4 -> 6\n",
    "- 예외 (Exception)이 발생한 경우 실행순서 (line 2)\n",
    "    - 1 -> 2(X) -> 5 -> 6"
   ]
  },
  {
   "cell_type": "code",
   "execution_count": 1,
   "metadata": {},
   "outputs": [
    {
     "name": "stdout",
     "output_type": "stream",
     "text": [
      "프로그램 시작\n",
      "2\n",
      "5\n",
      "ValueError, ZeroDivisionError를 제외한 나머지 Exception들을 처리하는 except block\n",
      "프로그램 종료\n"
     ]
    }
   ],
   "source": [
    "# try - except\n",
    "print(\"프로그램 시작\") # 1    \n",
    "try: \n",
    "    num = int(input())  # 2 ValueError            Exception 발생가능성이 있는 코드\n",
    "    result = 10 // num  # 3 ZeroDivisionError     Exception 발생가능성이 있는 코드\n",
    "    print(result)       # 4\n",
    "    print(result2)      # NameError Exception 발생.\n",
    "    \n",
    "except ValueError as ve:               # valueError Exception은 여기서 처리.\n",
    "    print('숫자가 아니어서 예외 발생', ve) # 5-1\n",
    "    \n",
    "except ZeroDivisionError as ze:        # ZeroDivisionError Exception은 여기서 처리.\n",
    "    print('0으로 나눌수 없습니다.', ze)   # 5-2\n",
    "    \n",
    "except:\n",
    "    print(\"ValueError, ZeroDivisionError를 제외한 나머지 Exception들을 처리하는 except block\")\n",
    "    \n",
    "print('프로그램 종료')  "
   ]
  },
  {
   "cell_type": "code",
   "execution_count": null,
   "metadata": {},
   "outputs": [],
   "source": [
    "# 위 문제에서 result2 가 들어간 이유 물어보기"
   ]
  },
  {
   "cell_type": "markdown",
   "metadata": {
    "slideshow": {
     "slide_type": "fragment"
    }
   },
   "source": [
    "- line2에서 ValueError 발생시 실행 순서\n",
    "     - 1 -> 2(X) -> 5-1 -> 6\n",
    "- line3에서 ZeroDivisionError\n",
    "     - 1 -> 2-> 3(X) -> 5-2 -> 6"
   ]
  },
  {
   "cell_type": "markdown",
   "metadata": {
    "slideshow": {
     "slide_type": "subslide"
    }
   },
   "source": [
    "### finally 구문\n",
    "\n",
    "- 예외 발생여부, 처리 여부와 관계없이 무조건 실행되는 코드블록\n",
    "    - try 구문에 **반드시 실행되야 하는 코드블록을 작성할때 사용한다.**\n",
    "    - 보통 프로그램이 외부자원과 연결해서 데이터를 주고 받는 작업을 할때 마지막 연결을 종료하는 작업을 finally 블록에 넣는다.\n",
    "- finally 는 except 보다 먼저 올 수 없다.\n",
    "    - 구문순서\n",
    "        1. try - except - finally\n",
    "        1. try - except\n",
    "        1. try - finally"
   ]
  },
  {
   "cell_type": "code",
   "execution_count": 29,
   "metadata": {},
   "outputs": [
    {
     "name": "stdout",
     "output_type": "stream",
     "text": [
      "시작\n",
      "1\n",
      "3\n",
      "4\n",
      "종료\n"
     ]
    }
   ],
   "source": [
    "print('시작')\n",
    "try:\n",
    "    print(1)\n",
    "    a = 10 / 2\n",
    "    \n",
    "    print(2)\n",
    "\n",
    "except NameError:\n",
    "    print(3)\n",
    "\n",
    "finally: \n",
    "    print(4)\n",
    "    \n",
    "print('종료')"
   ]
  },
  {
   "cell_type": "markdown",
   "metadata": {
    "slideshow": {
     "slide_type": "slide"
    }
   },
   "source": [
    "## Exception 발생 시키기\n",
    "\n",
    "### 사용자 정의 Exception 클래스 구현\n",
    "\n",
    "- 파이썬은 Exception 상황을 클래스로 정의해 사용한다.\n",
    "    - Exception이 발생하는 상황과 관련된 attribute들과 메소드들을 정의한 클래스\n",
    "    \n",
    "- 구현\n",
    "    - `Exception` 클래스를 **상속받는다.**\n",
    "    - 클래스 이름은 Exception 상황을 설명할 수 있는 이름을 준다.\n",
    "    "
   ]
  },
  {
   "cell_type": "code",
   "execution_count": 35,
   "metadata": {},
   "outputs": [],
   "source": [
    "# 월에 1 ~ 12 이외의 값을 대입하려고 할때 발생시킬 Exception\n",
    "class InvalidMonthException(Exception):\n",
    "    \n",
    "    def __init__(self, invalid_month):\n",
    "        \"\"\"\n",
    "        month에 저장하려는 잘못된 입력값을 받아서 attribute로 저장.\n",
    "        \"\"\"\n",
    "        \n",
    "        self.invalid_month = invalid_month\n",
    "        \n",
    "    def __str__(self):\n",
    "        return f\"{self.invalid_month}는 사용할 수 없는 달 입니다. 1 ~ 12를 넣으세요\"\n",
    "    "
   ]
  },
  {
   "cell_type": "markdown",
   "metadata": {},
   "source": [
    "- \"def \\_\\_str__(self):\" 값 이후 return 값 입력 실수 조심!!! "
   ]
  },
  {
   "cell_type": "markdown",
   "metadata": {
    "slideshow": {
     "slide_type": "slide"
    }
   },
   "source": [
    "### Exception 발생시키기\n",
    "- 함수나 메소드가 더이상 작업을 진행 할 수 없는 조건이 되면 Exception을 강제로 발생시킨다.\n",
    "- **Call Stack Mechanism**\n",
    "    - 발생한 Exception은 처리를 하지 않으면 caller에게 전달된다.\n",
    "        - 발생한 Exception에 대한 처리가 모든 caller에서 안되면 결국 파이썬 실행환경까지 전달되어 프로그램은 비정상적으로 종료 되게 된다."
   ]
  },
  {
   "cell_type": "markdown",
   "metadata": {
    "slideshow": {
     "slide_type": "subslide"
    }
   },
   "source": [
    "### raise 구문\n",
    "- Exception을 강제로 발생시킨다.\n",
    "    - 업무 규칙을 어겼거나 다음 명령문을 실행할 수 없는 조건이 되면 진행을 멈추고 caller로 요청에게 작업을 처리 못했음을 알리며 돌아가도록 할때 exception을 발생시킨다.\n",
    "    - 구문\n",
    "    ```python\n",
    "        raise Exception객체\n",
    "    ```\n",
    "- **raise와 return**\n",
    "    - 함수나 메소드에서 return과 raise 구문이 실행되면 모두 caller로 돌아간다.\n",
    "    - return은 정상적으로 끝나서 돌아가는 의미이다. 그래서 처리결과가 있으면 그 값을 가지고 돌아간다.\n",
    "        - caller는 그 다음작업을 이어서 하면 된다.\n",
    "    - raise는 실행도중 문제(Exception)가 생겨 비정상적으로 끝나서 돌아가는 의미이다. 그래서 비정상적인 상황 정보를 가지는 Exception객체를 반환값으로 가지고 돌아간다.\n",
    "        - caller는 try - except구문으로 발생한 exception을 처리하여 프로그램을 정상화 하거나 자신도 caller에게 exception을 발생시키는 처리를 한다.\n",
    "        "
   ]
  },
  {
   "cell_type": "code",
   "execution_count": 25,
   "metadata": {},
   "outputs": [],
   "source": [
    "# 달을 처리하는 함수\n",
    "def save_month(month):\n",
    "    if month < 1 or month > 12: # 잘못된 월이어서 저장할 수 없는 상황 이라면\n",
    "        raise InvalidMonthException(month) # InvalidMonthException 발생시킨다.\n",
    "    print(f'{month}월을 저장 했습니다.')\n",
    "\n",
    "\n",
    "def save_day():\n",
    "    print('날짜 저장')"
   ]
  },
  {
   "cell_type": "code",
   "execution_count": 56,
   "metadata": {},
   "outputs": [
    {
     "name": "stdout",
     "output_type": "stream",
     "text": [
      "11월을 저장 했습니다.\n",
      "날짜 저장\n",
      "종료\n"
     ]
    }
   ],
   "source": [
    "try:\n",
    "    save_month(11)\n",
    "    save_day() # save_month()가 정상처리된 다음에 실행되야 한다.\n",
    "except InvalidMonthException as e: # e:변수 - raise된 Exception객체가 대입.\n",
    "    print('저장 실패했습니다.',e)\n",
    "\n",
    "print(\"종료\")"
   ]
  },
  {
   "cell_type": "code",
   "execution_count": 30,
   "metadata": {},
   "outputs": [],
   "source": [
    "class NotEnoughStockException(Exception):\n",
    "    def __init__(self, stock_amount, order_amount):\n",
    "        #재고량, 주문량을 attribute로 저장\n",
    "        self.stock_amount = stock_amount\n",
    "        self.order_amount = order_amount\n",
    "        \n",
    "    def __str__(self):\n",
    "        return f'재고량 보다 많은 개수를 주문했습니다. 재고량: {self.stock_amount}, 주문량: {self.order_amount}'"
   ]
  },
  {
   "cell_type": "code",
   "execution_count": 31,
   "metadata": {},
   "outputs": [],
   "source": [
    "# 주문처리 함수\n",
    "def order(order_amount):\n",
    "    \"\"\"\n",
    "    주문처리함수\n",
    "    [Parameter]:\n",
    "        order_amount: int - 주문개수\n",
    "    [Return]:\n",
    "    [Raise]:\n",
    "        NotEnoughStockException- 주문량보다 재고량이 적으면 발생하는 Exception\n",
    "    \"\"\"\n",
    "    print(\"재고량 조회\")\n",
    "    stock_amount = 10\n",
    "    if stock_amount < order_amount:\n",
    "        raise NotEnoughStockException(stock_amount, order_amount)\n",
    "    print('주문처리')\n",
    "    print('주문정보 저장')\n",
    "    stock_amount -= order_amount\n",
    "    print('주문완료. 남은 재고량:', stock_amount)"
   ]
  },
  {
   "cell_type": "code",
   "execution_count": 38,
   "metadata": {},
   "outputs": [
    {
     "name": "stdout",
     "output_type": "stream",
     "text": [
      "재고량 조회\n",
      "전체 주문 실패 재고량 보다 많은 개수를 주문했습니다. 재고량: 10, 주문량: 12\n",
      "재고량 조회\n",
      "주문처리\n",
      "주문정보 저장\n",
      "주문완료. 남은 재고량: 0\n"
     ]
    }
   ],
   "source": [
    "try:\n",
    "    order(12)\n",
    "except NotEnoughStockException as e:\n",
    "    print('전체 주문 실패', e)\n",
    "    order(e.stock_amount)"
   ]
  },
  {
   "cell_type": "code",
   "execution_count": 39,
   "metadata": {},
   "outputs": [
    {
     "ename": "IndentationError",
     "evalue": "unexpected indent (2099611916.py, line 3)",
     "output_type": "error",
     "traceback": [
      "\u001b[0;36m  File \u001b[0;32m\"/var/folders/nc/lry6d8ws417_mblykm_8wpc40000gn/T/ipykernel_2774/2099611916.py\"\u001b[0;36m, line \u001b[0;32m3\u001b[0m\n\u001b[0;31m    str(e) --> e.__str__()\u001b[0m\n\u001b[0m    ^\u001b[0m\n\u001b[0;31mIndentationError\u001b[0m\u001b[0;31m:\u001b[0m unexpected indent\n"
     ]
    }
   ],
   "source": [
    "print(e)\n",
    "\n",
    " str(e) --> e.__str__()  \n",
    "\n",
    "       # print('전체 주문 실패', e)에서 \n",
    "       # def __str__(self):\n",
    "       # return f'재고량 보다 많은 개수를 주문했습니다. 재고량: {self.stock_amount}, 주문량: {self.order_amount}'\n",
    "       # 로 가는 과정의 설명이다."
   ]
  },
  {
   "cell_type": "code",
   "execution_count": null,
   "metadata": {
    "slideshow": {
     "slide_type": "fragment"
    }
   },
   "outputs": [],
   "source": []
  }
 ],
 "metadata": {
  "kernelspec": {
   "display_name": "Python 3 (ipykernel)",
   "language": "python",
   "name": "python3"
  },
  "language_info": {
   "codemirror_mode": {
    "name": "ipython",
    "version": 3
   },
   "file_extension": ".py",
   "mimetype": "text/x-python",
   "name": "python",
   "nbconvert_exporter": "python",
   "pygments_lexer": "ipython3",
   "version": "3.9.13"
  },
  "toc": {
   "base_numbering": 1,
   "nav_menu": {},
   "number_sections": true,
   "sideBar": true,
   "skip_h1_title": false,
   "title_cell": "Table of Contents",
   "title_sidebar": "Contents",
   "toc_cell": false,
   "toc_position": {},
   "toc_section_display": true,
   "toc_window_display": false
  },
  "varInspector": {
   "cols": {
    "lenName": 16,
    "lenType": 16,
    "lenVar": 40
   },
   "kernels_config": {
    "python": {
     "delete_cmd_postfix": "",
     "delete_cmd_prefix": "del ",
     "library": "var_list.py",
     "varRefreshCmd": "print(var_dic_list())"
    },
    "r": {
     "delete_cmd_postfix": ") ",
     "delete_cmd_prefix": "rm(",
     "library": "var_list.r",
     "varRefreshCmd": "cat(var_dic_list()) "
    }
   },
   "types_to_exclude": [
    "module",
    "function",
    "builtin_function_or_method",
    "instance",
    "_Feature"
   ],
   "window_display": false
  }
 },
 "nbformat": 4,
 "nbformat_minor": 4
}
