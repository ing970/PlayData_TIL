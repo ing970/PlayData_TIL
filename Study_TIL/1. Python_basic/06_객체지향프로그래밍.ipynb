{
 "cells": [
  {
   "cell_type": "markdown",
   "metadata": {
    "slideshow": {
     "slide_type": "slide"
    }
   },
   "source": [
    "# 객체지향 프로그래밍 (Object Oriented Programming)\n",
    "\n",
    "프로그램을 구성하는 변수와 함수를 서로 연관성있는 것 끼리 묶어서 모듈화하는 개발하는 언어들을 객체지향프로그래밍 언어라고 한다."
   ]
  },
  {
   "cell_type": "markdown",
   "metadata": {
    "slideshow": {
     "slide_type": "fragment"
    }
   },
   "source": [
    "# Instance(객체)\n",
    "- 연관성 있는 값들과 그 값들을 처리하는 함수(메소드)들을 묶어서 가지고 있는 것(값).\n",
    "- 객체의 구성요소\n",
    "    - 속성(Attribute)\n",
    "        - 객체의 데이터/상태로 객체를 구성하는 값들.\n",
    "    - 메소드(method)\n",
    "        - 객체가 제공하는 기능으로 주로 Attribute들을 처리한다.\n",
    "        "
   ]
  },
  {
   "cell_type": "markdown",
   "metadata": {
    "slideshow": {
     "slide_type": "subslide"
    }
   },
   "source": [
    "## Class(클래스) 정의\n",
    "\n",
    "- class란: 객체의 설계도\n",
    "    - 동일한 형태의 객체들이 가져야 하는 Attribute와 Method들을 정의 한 것\n",
    "        - 클래스를 정의할 때 어떤 속성과 메소드를 가지는지 먼저 설계해야 한다.\n",
    "    - 클래스로 부터 객체(instance)를 생성한 뒤 사용한다.\n",
    "```python\n",
    "class 클래스이름:  #선언부\n",
    "    #클래스 구현\n",
    "    #메소드들을 정의\n",
    "```\n",
    "- 클래스 이름의 관례: 파스칼 표기법-각 단어의 첫글자는 대문자 나머진 소문자로 정의한다.\n",
    "    - ex) Person, Student, HighSchoolStudent\n",
    "    "
   ]
  },
  {
   "cell_type": "markdown",
   "metadata": {
    "slideshow": {
     "slide_type": "fragment"
    }
   },
   "source": [
    "\n",
    "## 클래스로부터 객체(Instance) 생성\n",
    "- 클래스는 데이터 타입 instance는 값이다.\n",
    "\n",
    "```python\n",
    "변수 = 클래스이름()\n",
    "```"
   ]
  },
  {
   "cell_type": "code",
   "execution_count": 6,
   "metadata": {
    "ExecuteTime": {
     "end_time": "2022-12-27T03:09:57.113507Z",
     "start_time": "2022-12-27T03:09:57.096518Z"
    }
   },
   "outputs": [],
   "source": [
    "# 클래스 구현\n",
    "class Person:\n",
    "    # 메소드들 구현\n",
    "    pass"
   ]
  },
  {
   "cell_type": "code",
   "execution_count": 7,
   "metadata": {
    "ExecuteTime": {
     "end_time": "2022-12-27T03:11:48.247896Z",
     "start_time": "2022-12-27T03:11:48.238884Z"
    }
   },
   "outputs": [],
   "source": [
    "# instance(객체) 생성\n",
    "p = Person()"
   ]
  },
  {
   "cell_type": "code",
   "execution_count": 8,
   "metadata": {
    "ExecuteTime": {
     "end_time": "2022-12-27T03:12:44.543232Z",
     "start_time": "2022-12-27T03:12:44.523286Z"
    }
   },
   "outputs": [
    {
     "name": "stdout",
     "output_type": "stream",
     "text": [
      "<class '__main__.Person'>\n"
     ]
    }
   ],
   "source": [
    "print(type(p))\n",
    "# class : Data Type, instance : Value"
   ]
  },
  {
   "cell_type": "code",
   "execution_count": 9,
   "metadata": {
    "ExecuteTime": {
     "end_time": "2022-12-27T03:14:09.161253Z",
     "start_time": "2022-12-27T03:14:09.150249Z"
    }
   },
   "outputs": [
    {
     "name": "stdout",
     "output_type": "stream",
     "text": [
      "<class 'int'> <class 'float'> <class 'str'>\n"
     ]
    }
   ],
   "source": [
    "print(type(10), type(4.1), type(\"st\"))"
   ]
  },
  {
   "cell_type": "markdown",
   "metadata": {
    "slideshow": {
     "slide_type": "subslide"
    }
   },
   "source": [
    "## Attribute(속성) \n",
    "- attribute는 객체의 데이터, 객체가 가지는 값, 객체의 상태\n",
    "\n",
    "### 객체에 속성을 추가, 조회\n",
    "- 객체의 속성 추가(값 변경)\n",
    "    1. Initializer(생성자)를 통한 추가\n",
    "    2. 객체.속성명 = 값 (추가/변경)\n",
    "    3. 메소드를 통한 추가/변경\n",
    "    - 1(Initializer)은 초기화할 때. 2, 3은 속성값을 변경할 때 적용.\n",
    "- 속성 값 조회\n",
    "    - 객체.속성명\n",
    "- **객체.\\_\\_dict\\_\\_**\n",
    "    - 객체가 가지고 있는 Attribute들을 dictionary로 반환한다."
   ]
  },
  {
   "cell_type": "code",
   "execution_count": 11,
   "metadata": {
    "ExecuteTime": {
     "end_time": "2022-12-27T03:21:55.119867Z",
     "start_time": "2022-12-27T03:21:55.108856Z"
    }
   },
   "outputs": [
    {
     "name": "stdout",
     "output_type": "stream",
     "text": [
      "{}\n"
     ]
    }
   ],
   "source": [
    "# 객체 생성\n",
    "p = Person()\n",
    "# 객체가 가진attribute 들을 조회\n",
    "print(p.__dict__)"
   ]
  },
  {
   "cell_type": "code",
   "execution_count": 14,
   "metadata": {
    "ExecuteTime": {
     "end_time": "2022-12-27T03:24:29.372204Z",
     "start_time": "2022-12-27T03:24:29.360237Z"
    }
   },
   "outputs": [
    {
     "name": "stdout",
     "output_type": "stream",
     "text": [
      "{'name': '홍길동', 'age': 30, 'address': '서울'}\n"
     ]
    }
   ],
   "source": [
    "# attribute 추가 (2번 방식)\n",
    "p.name = '홍길동' # p.name -> p객체\"의\" name 변수\n",
    "p.age = 30\n",
    "p.address = \"서울\"\n",
    "print(p.__dict__)"
   ]
  },
  {
   "cell_type": "code",
   "execution_count": 17,
   "metadata": {
    "ExecuteTime": {
     "end_time": "2022-12-27T03:25:59.212750Z",
     "start_time": "2022-12-27T03:25:59.197789Z"
    }
   },
   "outputs": [
    {
     "name": "stdout",
     "output_type": "stream",
     "text": [
      "홍길동 30 서울\n"
     ]
    }
   ],
   "source": [
    "# attribute 조회\n",
    "print(p.name, p.age, p.address)"
   ]
  },
  {
   "cell_type": "code",
   "execution_count": 19,
   "metadata": {
    "ExecuteTime": {
     "end_time": "2022-12-27T03:32:46.432256Z",
     "start_time": "2022-12-27T03:32:46.419288Z"
    }
   },
   "outputs": [
    {
     "name": "stdout",
     "output_type": "stream",
     "text": [
      "이순신 20 인천\n"
     ]
    }
   ],
   "source": [
    "p2 = Person\n",
    "p2.name = '이순신'\n",
    "p2.age = 20\n",
    "p2.address = \"인천\"\n",
    "print(p2.name, p2.age, p2.address)"
   ]
  },
  {
   "cell_type": "code",
   "execution_count": 20,
   "metadata": {
    "ExecuteTime": {
     "end_time": "2022-12-27T03:33:05.898034Z",
     "start_time": "2022-12-27T03:33:05.889059Z"
    }
   },
   "outputs": [
    {
     "name": "stdout",
     "output_type": "stream",
     "text": [
      "홍길동 30 서울\n"
     ]
    }
   ],
   "source": [
    "print(p.name, p.age, p.address)"
   ]
  },
  {
   "cell_type": "code",
   "execution_count": 21,
   "metadata": {
    "ExecuteTime": {
     "end_time": "2022-12-27T03:36:45.134727Z",
     "start_time": "2022-12-27T03:36:45.126785Z"
    }
   },
   "outputs": [],
   "source": [
    "p3 = Person()\n",
    "p3.name = \"이석민\"\n",
    "p3.age = 26\n",
    "p3.email = \"ing@naver.com\""
   ]
  },
  {
   "cell_type": "code",
   "execution_count": 22,
   "metadata": {
    "ExecuteTime": {
     "end_time": "2022-12-27T03:38:12.875263Z",
     "start_time": "2022-12-27T03:38:12.867318Z"
    }
   },
   "outputs": [
    {
     "name": "stdout",
     "output_type": "stream",
     "text": [
      "이석민 26 ing@naver.com\n"
     ]
    }
   ],
   "source": [
    "print(p3.name, p3.age, p3.email)"
   ]
  },
  {
   "cell_type": "code",
   "execution_count": 24,
   "metadata": {
    "ExecuteTime": {
     "end_time": "2022-12-27T03:39:16.204598Z",
     "start_time": "2022-12-27T03:39:16.191634Z"
    }
   },
   "outputs": [
    {
     "name": "stdout",
     "output_type": "stream",
     "text": [
      "{'name': '이석민', 'age': 26, 'email': 'ing@naver.com'}\n"
     ]
    }
   ],
   "source": [
    "print(p3.__dict__)"
   ]
  },
  {
   "cell_type": "code",
   "execution_count": null,
   "metadata": {},
   "outputs": [],
   "source": [
    "p4 = Person()\n",
    "p4.이름 = \"이석민\"\n"
   ]
  },
  {
   "cell_type": "markdown",
   "metadata": {
    "slideshow": {
     "slide_type": "subslide"
    }
   },
   "source": [
    "### 생성자(Initializer)\n",
    "- 객체를 생성할 때 호출되는 특수메소드로 attribute들 초기화에 하는 코드를 구현한다.\n",
    "    - Inializer를 이용해 초기화하는 Attribute들이 그 클래스의 객체들이 가져야 하는 공통 Attribute가 된다.\n",
    "- 구문\n",
    "```python\n",
    "def __init__(self , [매개변수들 선언]):  #[ ] 옵션.\n",
    "    # 구현 -> attribute(instance변수) 초기화\n",
    "    self.속성명 = 값\n",
    "```\n",
    "> 변수 초기화: 처음 변수 만들어서 처음 값 대입.    "
   ]
  },
  {
   "cell_type": "markdown",
   "metadata": {
    "slideshow": {
     "slide_type": "fragment"
    }
   },
   "source": [
    "### self  parameter\n",
    "- 메소드는 반드시 한개 이상의 parameter를 선언해야 하고 그 첫번째 parameter를 말한다.\n",
    "- 메소드 호출시 그 메소드를 소유한 instance가 self parameter에 할당된다.\n",
    "- Initializer의 self\n",
    "    - 현재 만들어 지고 있는 객체를 받는다.\n",
    "- 메소드의 self\n",
    "    - 메소드를 소유한 객체를 받는다.\n",
    "- Caller에서 생성자/메소드에 전달된 argument들을 받을 parameter는 두번째 변수부터 선언한다.    "
   ]
  },
  {
   "cell_type": "code",
   "execution_count": 26,
   "metadata": {
    "ExecuteTime": {
     "end_time": "2022-12-27T05:17:57.627644Z",
     "start_time": "2022-12-27T05:17:57.607696Z"
    }
   },
   "outputs": [],
   "source": [
    "class Person2:\n",
    "    # self는 이 메소드의 소유객체이다 / \"__init__\"인스텐스 변수를 초기화하기위해 만들어진다.\n",
    "    def __init__(self, name, age, address=None):\n",
    "        \"\"\"                                        \n",
    "        Person 객체의 name, age, address 속성을 초기화.\n",
    "        \"\"\"\n",
    "        # 속성에 값 대입 - self.변수명 = 값\n",
    "        self.name = name\n",
    "        self.age = age\n",
    "        self.address = address\n",
    "        "
   ]
  },
  {
   "cell_type": "code",
   "execution_count": 27,
   "metadata": {
    "ExecuteTime": {
     "end_time": "2022-12-27T05:23:23.491728Z",
     "start_time": "2022-12-27T05:23:23.486738Z"
    }
   },
   "outputs": [],
   "source": [
    "p = Person2('강호동', 30, '광주')"
   ]
  },
  {
   "cell_type": "code",
   "execution_count": 28,
   "metadata": {
    "ExecuteTime": {
     "end_time": "2022-12-27T05:23:24.183582Z",
     "start_time": "2022-12-27T05:23:24.177595Z"
    }
   },
   "outputs": [
    {
     "name": "stdout",
     "output_type": "stream",
     "text": [
      "강호동 30 광주\n"
     ]
    }
   ],
   "source": [
    "print(p.name, p.age, p.address)"
   ]
  },
  {
   "cell_type": "markdown",
   "metadata": {
    "slideshow": {
     "slide_type": "subslide"
    }
   },
   "source": [
    "### Instance 메소드(method)\n",
    "- 객체가 제공하는 기능\n",
    "- 객체의 attribute 값을 처리하는 기능을 구현한다.\n",
    "- 구문\n",
    "```python\n",
    "def 이름(self [, 매개변수들 선언]):\n",
    "    # 구현\n",
    "    # attribute 사용(조회/대입)\n",
    "    self.attribute \n",
    "```\n",
    "- self (첫번째 매개변수)\n",
    "    - 메소드를 소유한 객체를 받는 변수\n",
    "    - 호출할 때 전달하는 argument를 받는 매개변수는 두번째 부터 선언한다.\n",
    "![self](../images/ch06_01.png)\n",
    "    \n",
    "- **메소드 호출**\n",
    "    - `객체.메소드이름([argument, ...])`"
   ]
  },
  {
   "cell_type": "code",
   "execution_count": 11,
   "metadata": {
    "ExecuteTime": {
     "end_time": "2022-12-27T06:19:47.909419Z",
     "start_time": "2022-12-27T06:19:47.887479Z"
    }
   },
   "outputs": [],
   "source": [
    "class Person3:\n",
    "    \n",
    "    def __init__(self, name, age, address=None):\n",
    "        self.name = name\n",
    "        self.age = age\n",
    "        self.address = address\n",
    "    \n",
    "    def print_info(self): # argument가 없는 메소드\n",
    "        # attribute 들을 출력하는 메소드\n",
    "        print(f'이름: {self.name}, 나이: {self.age}, 주소 {self.address}')\n",
    "        \n",
    "    def add_age(self, age):\n",
    "        # 나이에 전달받은 age를 더하는 메소드\n",
    "        self.age += age\n",
    "         # self.age = self.age + age"
   ]
  },
  {
   "cell_type": "code",
   "execution_count": 12,
   "metadata": {
    "ExecuteTime": {
     "end_time": "2022-12-27T06:23:51.789309Z",
     "start_time": "2022-12-27T06:23:51.781332Z"
    }
   },
   "outputs": [],
   "source": [
    "p1 = Person3(\"이순신\", 10 ,\"대전\")"
   ]
  },
  {
   "cell_type": "code",
   "execution_count": 13,
   "metadata": {
    "ExecuteTime": {
     "end_time": "2022-12-27T06:19:49.712683Z",
     "start_time": "2022-12-27T06:19:49.703707Z"
    }
   },
   "outputs": [],
   "source": [
    "p2 = Person3(\"유관순\", 20, \"서울\")"
   ]
  },
  {
   "cell_type": "code",
   "execution_count": 14,
   "metadata": {
    "ExecuteTime": {
     "end_time": "2022-12-27T06:15:37.190736Z",
     "start_time": "2022-12-27T06:15:37.172819Z"
    }
   },
   "outputs": [
    {
     "name": "stdout",
     "output_type": "stream",
     "text": [
      "이름: 유관순, 나이: 20, 주소 서울\n"
     ]
    }
   ],
   "source": [
    "p2.print_info()"
   ]
  },
  {
   "cell_type": "code",
   "execution_count": 15,
   "metadata": {
    "ExecuteTime": {
     "end_time": "2022-12-27T06:23:54.805486Z",
     "start_time": "2022-12-27T06:23:54.794515Z"
    }
   },
   "outputs": [
    {
     "name": "stdout",
     "output_type": "stream",
     "text": [
      "이름: 이순신, 나이: 10, 주소 대전\n"
     ]
    }
   ],
   "source": [
    "p1.print_info()"
   ]
  },
  {
   "cell_type": "code",
   "execution_count": 20,
   "metadata": {
    "ExecuteTime": {
     "end_time": "2022-12-27T06:23:55.735862Z",
     "start_time": "2022-12-27T06:23:55.725889Z"
    }
   },
   "outputs": [],
   "source": [
    "p2.add_age(2)"
   ]
  },
  {
   "cell_type": "code",
   "execution_count": 21,
   "metadata": {
    "ExecuteTime": {
     "end_time": "2022-12-27T06:23:56.362303Z",
     "start_time": "2022-12-27T06:23:56.346381Z"
    }
   },
   "outputs": [
    {
     "name": "stdout",
     "output_type": "stream",
     "text": [
      "이름: 유관순, 나이: 22, 주소 서울\n"
     ]
    }
   ],
   "source": [
    "p2.print_info()"
   ]
  },
  {
   "cell_type": "code",
   "execution_count": 22,
   "metadata": {
    "ExecuteTime": {
     "end_time": "2022-12-27T06:23:01.922629Z",
     "start_time": "2022-12-27T06:23:01.916645Z"
    }
   },
   "outputs": [
    {
     "name": "stdout",
     "output_type": "stream",
     "text": [
      "유관순\n",
      "이름: 리순신, 나이: 22, 주소 서울\n"
     ]
    }
   ],
   "source": [
    "# p1의 이름 조회\n",
    "print(p2.name)\n",
    "# p1의 이름 변경\n",
    "p2.name = (\"리순신\")\n",
    "p2.print_info()"
   ]
  },
  {
   "cell_type": "code",
   "execution_count": 19,
   "metadata": {
    "ExecuteTime": {
     "end_time": "2022-12-27T06:23:34.840068Z",
     "start_time": "2022-12-27T06:23:34.831117Z"
    }
   },
   "outputs": [
    {
     "data": {
      "text/plain": [
       "12"
      ]
     },
     "execution_count": 19,
     "metadata": {},
     "output_type": "execute_result"
    }
   ],
   "source": [
    "p1.age"
   ]
  },
  {
   "cell_type": "markdown",
   "metadata": {
    "slideshow": {
     "slide_type": "slide"
    }
   },
   "source": [
    "## 정보 은닉 (Information Hiding)\n",
    "- Attribute의 값을 caller(객체 외부)가 마음대로 바꾸지 못하게 하기 위해 직접 호출을 막고 setter/getter 메소드를 통해 값을 변경/조회 하도록 한다.\n",
    "    - 데이터 보호가 주목적이다.\n",
    "    - 변경 메소드에 Attribube 변경 조건을 넣어 업무 규칙에 맞는 값들만 변경되도록 처리한다.\n",
    "    - **setter**\n",
    "        - Attribute의 값을 변경하는 메소드. 관례상 set 으로 시작\n",
    "    - **getter**\n",
    "        - Attribute의 값을 조회하는 메소드. 관례상 get 으로 시작\n",
    "- Attribute 직접 호출 막기\n",
    "    - Attribute의 이름을 \\_\\_(double underscore)로 시작한다. (\\_\\_로 끝나면 안된다.)\n",
    "    - 같은 클래스에서는 선언한 이름으로 사용가능하지만 외부에서는 그 이름으로 호출할 수 없게 된다.\n",
    "    "
   ]
  },
  {
   "cell_type": "code",
   "execution_count": 23,
   "metadata": {
    "ExecuteTime": {
     "end_time": "2022-12-27T08:28:42.906287Z",
     "start_time": "2022-12-27T08:28:42.886342Z"
    }
   },
   "outputs": [],
   "source": [
    "class Person4:\n",
    "    # name: 두글자 이상만 대입할 수 있다.\n",
    "    # age : 10이상만 대입 할 수 있다.\n",
    "    # address : 특별한 규칙이 없다.\n",
    "    # nage, age 는 아무값이나 대입할 수 없도록 처리 -> 정보은닉\n",
    "    def __init__(self, name, age, address):\n",
    "        \n",
    "        self.__name = None\n",
    "        self.set_name(name) # 같은 클래스의 instance 메소드를 호출 -> self.메소드()\n",
    " #       if len(name) >= 2:\n",
    " #           self.__name = name       \n",
    "\n",
    "        self.__age = None\n",
    "        self.set_age(age)\n",
    "#        if age >= 10:\n",
    "#            self.__age = age\n",
    "\n",
    "        self.address = address\n",
    "        \n",
    "    # 이름변경\n",
    "    def set_name(self, name):\n",
    "        if len(name) >= 2:\n",
    "            self.__name = name\n",
    "            \n",
    "    # 이름조회\n",
    "    def get_name(self):\n",
    "        return self.__name\n",
    "    \n",
    "    # 나이변경\n",
    "    def set_age(self, age):\n",
    "        if age >= 10:\n",
    "            self.__age = age\n",
    "    \n",
    "    #나이조회\n",
    "    def get_age(self):\n",
    "        return self.__age\n",
    "    \n",
    "    def print_info(self):\n",
    "        print(f'이름: {self.__name}, 나이: {self.__age}, 주소: {self.address}')"
   ]
  },
  {
   "cell_type": "code",
   "execution_count": 24,
   "metadata": {
    "ExecuteTime": {
     "end_time": "2022-12-27T08:28:43.829324Z",
     "start_time": "2022-12-27T08:28:43.812365Z"
    },
    "collapsed": true
   },
   "outputs": [
    {
     "ename": "AttributeError",
     "evalue": "'Person4' object has no attribute '__name'",
     "output_type": "error",
     "traceback": [
      "\u001b[0;31m---------------------------------------------------------------------------\u001b[0m",
      "\u001b[0;31mAttributeError\u001b[0m                            Traceback (most recent call last)",
      "Cell \u001b[0;32mIn[24], line 2\u001b[0m\n\u001b[1;32m      1\u001b[0m p \u001b[38;5;241m=\u001b[39m Person4(\u001b[38;5;124m'\u001b[39m\u001b[38;5;124m홍길동\u001b[39m\u001b[38;5;124m'\u001b[39m, \u001b[38;5;241m20\u001b[39m, \u001b[38;5;124m\"\u001b[39m\u001b[38;5;124m서울\u001b[39m\u001b[38;5;124m\"\u001b[39m)\n\u001b[0;32m----> 2\u001b[0m \u001b[38;5;28mprint\u001b[39m(\u001b[43mp\u001b[49m\u001b[38;5;241;43m.\u001b[39;49m\u001b[43m__name\u001b[49m, p\u001b[38;5;241m.\u001b[39m__age)\n",
      "\u001b[0;31mAttributeError\u001b[0m: 'Person4' object has no attribute '__name'"
     ]
    }
   ],
   "source": [
    "p = Person4('홍길동', 20, \"서울\")\n",
    "print(p.__name, p.__age)"
   ]
  },
  {
   "cell_type": "code",
   "execution_count": 25,
   "metadata": {
    "ExecuteTime": {
     "end_time": "2022-12-27T08:28:44.672990Z",
     "start_time": "2022-12-27T08:28:44.665011Z"
    }
   },
   "outputs": [
    {
     "name": "stdout",
     "output_type": "stream",
     "text": [
      "이름\n"
     ]
    }
   ],
   "source": [
    "p.__name = \"이름\" ## initializer()에서 초기화한 __name이 아니다.\n",
    "print(p.__name)"
   ]
  },
  {
   "cell_type": "code",
   "execution_count": 26,
   "metadata": {
    "ExecuteTime": {
     "end_time": "2022-12-27T08:29:01.993295Z",
     "start_time": "2022-12-27T08:29:01.978332Z"
    }
   },
   "outputs": [
    {
     "data": {
      "text/plain": [
       "{'_Person4__name': '홍길동', '_Person4__age': 20, 'address': '서울', '__name': '이름'}"
      ]
     },
     "execution_count": 26,
     "metadata": {},
     "output_type": "execute_result"
    }
   ],
   "source": [
    "p.__dict__ # 객체 p가 가지는 attribute들을 dictionary로 반환."
   ]
  },
  {
   "cell_type": "code",
   "execution_count": 80,
   "metadata": {
    "ExecuteTime": {
     "end_time": "2022-12-27T06:47:22.111517Z",
     "start_time": "2022-12-27T06:47:22.100544Z"
    }
   },
   "outputs": [
    {
     "name": "stdout",
     "output_type": "stream",
     "text": [
      "홍길동\n"
     ]
    }
   ],
   "source": [
    "print(p._Person4__name) # 굳이 이렇게까지 할 필요는 없다."
   ]
  },
  {
   "cell_type": "code",
   "execution_count": 89,
   "metadata": {
    "ExecuteTime": {
     "end_time": "2022-12-27T07:17:46.272347Z",
     "start_time": "2022-12-27T07:17:46.252399Z"
    }
   },
   "outputs": [
    {
     "name": "stdout",
     "output_type": "stream",
     "text": [
      "이름: None, 나이: None, 주소: 인천\n"
     ]
    }
   ],
   "source": [
    "p2 = Person4('김', 5, \"인천\")\n",
    "p2.print_info()"
   ]
  },
  {
   "cell_type": "code",
   "execution_count": 92,
   "metadata": {
    "ExecuteTime": {
     "end_time": "2022-12-27T07:19:19.124046Z",
     "start_time": "2022-12-27T07:19:19.105558Z"
    }
   },
   "outputs": [
    {
     "name": "stdout",
     "output_type": "stream",
     "text": [
      "이름: 홍길동, 나이: 30, 주소: 부산\n"
     ]
    }
   ],
   "source": [
    "p2.set_name('홍길동')\n",
    "p2.set_age(30)\n",
    "p2.address = '부산'\n",
    "p2.print_info()"
   ]
  },
  {
   "cell_type": "code",
   "execution_count": 93,
   "metadata": {
    "ExecuteTime": {
     "end_time": "2022-12-27T07:19:19.779992Z",
     "start_time": "2022-12-27T07:19:19.772011Z"
    }
   },
   "outputs": [
    {
     "name": "stdout",
     "output_type": "stream",
     "text": [
      "이름: 홍길동\n",
      "나이:  30\n",
      "주소:  부산\n"
     ]
    }
   ],
   "source": [
    "print('이름:', p2.get_name())\n",
    "print('나이: ', p2.get_age())\n",
    "print('주소: ', p2.address)"
   ]
  },
  {
   "cell_type": "markdown",
   "metadata": {
    "slideshow": {
     "slide_type": "subslide"
    }
   },
   "source": [
    "### property함수를 사용\n",
    "- 은닉된 instance 변수의 값을 사용할 때 getter/setter대신 변수를 사용하는 방식으로 호출할 수 있도록 한다.\n",
    "- 구현\n",
    "    1. getter/setter 메소드를 만든다.\n",
    "    2. 변수 = property(getter, setter) 를 등록한다.\n",
    "    3. 호출\n",
    "        - 값조회: 변수를 사용 => getter가 호출 된다.\n",
    "        - 값변경: 변수 = 변경할 값 => setter가 호출 된다."
   ]
  },
  {
   "cell_type": "code",
   "execution_count": null,
   "metadata": {},
   "outputs": [],
   "source": [
    "class Person5:\n",
    "    \n",
    "    def __init__(self, name, age, address):\n",
    "        self.__name = None\n",
    "        self.set_name(name)\n",
    "        \n",
    "        self.__age = None\n",
    "        self.set_age(age)\n",
    "        self.address = address\n",
    "        \n",
    "    def set_name(self, name):\n",
    "        if len(name) >= 2:\n",
    "            self.__name = name\n",
    "    \n",
    "    def get_name(self):\n",
    "        return self.__name\n",
    "    \n",
    "    def set_age(self, age):\n",
    "        if age >= 10:\n",
    "            self.__age = age\n",
    "            \n",
    "    def get_age(self):\n",
    "        return self.__age\n",
    "        "
   ]
  },
  {
   "cell_type": "code",
   "execution_count": 95,
   "metadata": {
    "ExecuteTime": {
     "end_time": "2022-12-27T07:26:53.977016Z",
     "start_time": "2022-12-27T07:26:53.959065Z"
    },
    "slideshow": {
     "slide_type": "fragment"
    }
   },
   "outputs": [],
   "source": [
    "class Person5:\n",
    "    # name: 두글자 이상만 대입할 수 있다.\n",
    "    # age : 10이상만 대입 할 수 있다.\n",
    "    # address : 특별한 규칙이 없다.\n",
    "    # nage, age 는 아무값이나 대입할 수 없도록 처리 -> 정보은닉\n",
    "    def __init__(self, name, age, address):\n",
    "        \n",
    "        self.__name = None\n",
    "        self.set_name(name) # 같은 클래스의 instance 메소드를 호출 -> self.메소드()\n",
    "        \n",
    "        self.__age = None\n",
    "        self.set_age(age)\n",
    "        self.address = address\n",
    "        \n",
    "    # 이름변경\n",
    "    def set_name(self, name):\n",
    "        if len(name) >= 2:\n",
    "            self.__name = name\n",
    "            \n",
    "    # 이름조회\n",
    "    def get_name(self):\n",
    "        return self.__name\n",
    "    \n",
    "    # 나이변경\n",
    "    def set_age(self, age):\n",
    "        if age >= 10:\n",
    "            self.__age = age\n",
    "    \n",
    "    #나이조회\n",
    "    def get_age(self):\n",
    "        return self.__age\n",
    "    \n",
    "    def print_info(self):\n",
    "        print(f'이름: {self.__name}, 나이: {self.__age}, 주소: {self.address}')\n",
    "        \n",
    "        \n",
    "        \n",
    "        ### property() 함수를 이용해서 getter/setter를 변수에 등록.변수를 이용해 getter /setter 를 호출할 수 있게 해준다.\n",
    "    name = property(get_name, set_name) # property(getter, setter)\n",
    "    age = property(get_age, set_age)"
   ]
  },
  {
   "cell_type": "code",
   "execution_count": 170,
   "metadata": {
    "ExecuteTime": {
     "end_time": "2022-12-27T08:21:22.062962Z",
     "start_time": "2022-12-27T08:21:22.043016Z"
    }
   },
   "outputs": [
    {
     "name": "stdout",
     "output_type": "stream",
     "text": [
      "이순신\n",
      "20\n",
      "부산\n"
     ]
    }
   ],
   "source": [
    "p = Person5(\"이석민\", 10, \"서울\")\n",
    "\n",
    "\n",
    "p.name = '이순신'   # set_name()\n",
    "p.age = 20         # set_age()\n",
    "p.address = \"부산\" # address\n",
    "print(p.name)      # get_name()\n",
    "print(p.age)       # get_age()\n",
    "print(p.address)   # address"
   ]
  },
  {
   "cell_type": "code",
   "execution_count": 171,
   "metadata": {
    "ExecuteTime": {
     "end_time": "2022-12-27T08:21:23.623401Z",
     "start_time": "2022-12-27T08:21:23.611467Z"
    }
   },
   "outputs": [
    {
     "name": "stdout",
     "output_type": "stream",
     "text": [
      "이순신\n"
     ]
    }
   ],
   "source": [
    "p.name = '박'\n",
    "print(p.name)"
   ]
  },
  {
   "cell_type": "markdown",
   "metadata": {
    "slideshow": {
     "slide_type": "subslide"
    },
    "tags": []
   },
   "source": [
    "### 데코레이터(decorator)를 이용해 property 지정.\n",
    "- setter/getter 구현 + property()를 이용해 변수 등록 하는 것을 더 간단하게 구현하는 방식\n",
    "- setter/getter 메소드이름을 변수처럼 지정. (보통은 같은 이름으로 지정)\n",
    "- getter메소드: @property 데코레이터를 선언  \n",
    "- setter메소드: @getter메소드이름.setter  데코레이터를 선언.\n",
    "    - 반드시 getter 메소드를 먼저 정의한다.\n",
    "    - setter메소드 이름은 getter와 동일해야 한다.\n",
    "- getter/setter의 이름을 Attribute 변수처럼 사용한다.\n",
    "- 주의: getter/setter 메소드를 직접 호출 할 수 없다. 변수형식으로만 호출가능하다."
   ]
  },
  {
   "cell_type": "code",
   "execution_count": 27,
   "metadata": {
    "ExecuteTime": {
     "end_time": "2022-12-27T07:54:13.291932Z",
     "start_time": "2022-12-27T07:54:13.268994Z"
    },
    "slideshow": {
     "slide_type": "fragment"
    }
   },
   "outputs": [],
   "source": [
    "class Person6:\n",
    "    def __init__(self, name, age, address=None):\n",
    "        self.name = name  # setter name 메소드 호출\n",
    "        self.age = age    # setter age 메소드 호출\n",
    "        self.address = address\n",
    "        \n",
    "    @property    \n",
    "    def name(self):\n",
    "        print('getter name')\n",
    "        return self.__name\n",
    "    \n",
    "    @name.setter\n",
    "    def name(self,name):\n",
    "        print('setter name', name)\n",
    "        if len(name) >= 2:\n",
    "            self.__name = name\n",
    "            \n",
    "    @property\n",
    "    def age(self):\n",
    "        return self.__age\n",
    "    \n",
    "    @age.setter\n",
    "    def age(self, age):\n",
    "        if age >= 10:\n",
    "            self.__age = age\n",
    "            \n",
    "    def print_info(self):\n",
    "        print(f'이름: {self.name}, 나이: {self.age}, 주소: {self.address}') #######일관성 있게 접근하기 위해 이런 메소드를 사용한다."
   ]
  },
  {
   "cell_type": "code",
   "execution_count": 28,
   "metadata": {
    "ExecuteTime": {
     "end_time": "2022-12-27T08:11:21.180006Z",
     "start_time": "2022-12-27T08:11:21.163055Z"
    }
   },
   "outputs": [
    {
     "name": "stdout",
     "output_type": "stream",
     "text": [
      "setter name 홍길동\n",
      "getter name\n",
      "이름: 홍길동, 나이: 30, 주소: 서울\n"
     ]
    }
   ],
   "source": [
    "p = Person6('홍길동', 30, '서울')\n",
    "p.print_info()"
   ]
  },
  {
   "cell_type": "code",
   "execution_count": 133,
   "metadata": {
    "ExecuteTime": {
     "end_time": "2022-12-27T07:46:17.724665Z",
     "start_time": "2022-12-27T07:46:17.715688Z"
    }
   },
   "outputs": [
    {
     "name": "stdout",
     "output_type": "stream",
     "text": [
      "setter name 리\n",
      "getter name\n",
      "홍길동\n"
     ]
    }
   ],
   "source": [
    "p.name = '리'\n",
    "print(p.name)"
   ]
  },
  {
   "cell_type": "markdown",
   "metadata": {
    "slideshow": {
     "slide_type": "subslide"
    }
   },
   "source": [
    "## TODO\n",
    "- 제품 클래스 구현\n",
    "- 속성 : 제품ID:str 제품이름: str, 제품가격:int, 제조사이름:str\n",
    "-       정보은닉에 맞춰서 작성. 값을 대입/조회 하는 것은 변수처리 방식을 할 수 있도록 구현. # 데코나 그거 사용\n",
    "- 메소드: 전체 정보를 출력하는 메소드 #print_info\n",
    "\n",
    "메소드 : setter-4개, getter-4개. 전체정보 출력하는 메소드-1개"
   ]
  },
  {
   "cell_type": "code",
   "execution_count": 185,
   "metadata": {
    "ExecuteTime": {
     "end_time": "2022-12-27T08:50:28.428946Z",
     "start_time": "2022-12-27T08:50:28.413951Z"
    },
    "slideshow": {
     "slide_type": "fragment"
    }
   },
   "outputs": [],
   "source": [
    "class Pro:\n",
    "    def __init__(self, id, name, price, maker = None):\n",
    "        self.id = id\n",
    "        self.name = name\n",
    "        self.price = price\n",
    "        self.maker = maker\n",
    "\n",
    "    @property\n",
    "    def id(self):\n",
    "        return self.__id\n",
    "    \n",
    "    @id.setter\n",
    "    def id(self, id):\n",
    "        if len(id) >= 2:\n",
    "            self.__id = id\n",
    "            \n",
    "    @property\n",
    "    def name(self):\n",
    "        return self.__name\n",
    "    \n",
    "    @name.setter\n",
    "    def name(self, name):\n",
    "        if len(name) >= 3:\n",
    "            self.__name = name\n",
    "            \n",
    "    @property\n",
    "    def price(self):\n",
    "        return self.__price\n",
    "    \n",
    "    @price.setter\n",
    "    def price(self, price):\n",
    "        if price >= 10000:\n",
    "            self.__price = price\n",
    "            \n",
    "    def print_info(self):\n",
    "        print(f'제품ID: {self.id}, 제품이름: {self.name}, 제품가격: {self.price}, 제조사이름: {self.maker}')"
   ]
  },
  {
   "cell_type": "code",
   "execution_count": 186,
   "metadata": {
    "ExecuteTime": {
     "end_time": "2022-12-27T08:50:32.241614Z",
     "start_time": "2022-12-27T08:50:32.232641Z"
    }
   },
   "outputs": [],
   "source": [
    "k = Pro('ing', '슈퍼마리오', 3000000, '닌텐도')"
   ]
  },
  {
   "cell_type": "code",
   "execution_count": 187,
   "metadata": {
    "ExecuteTime": {
     "end_time": "2022-12-27T08:50:46.426329Z",
     "start_time": "2022-12-27T08:50:46.418385Z"
    }
   },
   "outputs": [
    {
     "name": "stdout",
     "output_type": "stream",
     "text": [
      "제품ID: ing, 제품이름: 슈퍼마리오, 제품가격: 3000000, 제조사이름: 닌텐도\n"
     ]
    }
   ],
   "source": [
    "k.print_info()"
   ]
  },
  {
   "cell_type": "code",
   "execution_count": 188,
   "metadata": {
    "ExecuteTime": {
     "end_time": "2022-12-27T08:50:52.293446Z",
     "start_time": "2022-12-27T08:50:52.275460Z"
    }
   },
   "outputs": [],
   "source": [
    "k.price = 12330000"
   ]
  },
  {
   "cell_type": "code",
   "execution_count": 189,
   "metadata": {
    "ExecuteTime": {
     "end_time": "2022-12-27T08:50:53.141926Z",
     "start_time": "2022-12-27T08:50:53.124968Z"
    }
   },
   "outputs": [
    {
     "name": "stdout",
     "output_type": "stream",
     "text": [
      "12330000\n"
     ]
    }
   ],
   "source": [
    "print(k.price)"
   ]
  },
  {
   "cell_type": "code",
   "execution_count": 190,
   "metadata": {
    "ExecuteTime": {
     "end_time": "2022-12-27T08:50:54.825268Z",
     "start_time": "2022-12-27T08:50:54.807312Z"
    }
   },
   "outputs": [
    {
     "name": "stdout",
     "output_type": "stream",
     "text": [
      "제품ID: ing, 제품이름: 슈퍼마리오, 제품가격: 12330000, 제조사이름: 닌텐도\n"
     ]
    }
   ],
   "source": [
    "k.print_info()"
   ]
  },
  {
   "cell_type": "code",
   "execution_count": 176,
   "metadata": {
    "ExecuteTime": {
     "end_time": "2022-12-27T08:40:40.569696Z",
     "start_time": "2022-12-27T08:40:40.549787Z"
    }
   },
   "outputs": [],
   "source": [
    "class Product:\n",
    "    \n",
    "    \n",
    "    def __init__(self, id, name, price, maker):\n",
    "        self.id = id\n",
    "        self.name = name\n",
    "        self.price = price\n",
    "        self.maker = maker\n",
    "        \n",
    "    #  setter\n",
    "    def set_id(self, id):\n",
    "        if len(id) >=0:\n",
    "            self.__id = id\n",
    "            \n",
    "    def set_name(self, name):\n",
    "        if len(name) >=0:\n",
    "            self.__name = name\n",
    "            \n",
    "    def set_price(self, price):\n",
    "        if price >= 1000:\n",
    "            self.__price = price\n",
    "    \n",
    "    def set_maker(self, maker):\n",
    "        if len(maker) >=0:\n",
    "            self.__maker = maker\n",
    "            \n",
    "            \n",
    "  # getter\n",
    "    def get_id(self):\n",
    "        return self.__id\n",
    "    def get_name(self):\n",
    "        return self.__name\n",
    "    def get_price(self):\n",
    "        return self.__price\n",
    "    def get_maker(self):\n",
    "        return self.__maker\n",
    "    \n",
    "    id = property(get_id, set_id)\n",
    "    name = property(get_name, set_name)\n",
    "    price = property(get_price, set_price)\n",
    "    maker = property(get_maker, set_maker)\n",
    "    \n",
    "    def print_info(self):\n",
    "        print(f'제품 id: {self.id}, 제품이름 :{self.name}, 제품가격: {self.price}, 제조사: {self.maker}')\n",
    "        "
   ]
  },
  {
   "cell_type": "code",
   "execution_count": 177,
   "metadata": {
    "ExecuteTime": {
     "end_time": "2022-12-27T08:41:19.791074Z",
     "start_time": "2022-12-27T08:41:19.784092Z"
    }
   },
   "outputs": [
    {
     "name": "stdout",
     "output_type": "stream",
     "text": [
      "제품 id: p-100, 제품이름 :TV, 제품가격: 100000, 제조사: LG\n"
     ]
    }
   ],
   "source": [
    "p = Product('p-100',\"TV\", 100000, \"LG\")\n",
    "p.print_info()"
   ]
  },
  {
   "cell_type": "code",
   "execution_count": 178,
   "metadata": {
    "ExecuteTime": {
     "end_time": "2022-12-27T08:42:15.726735Z",
     "start_time": "2022-12-27T08:42:15.716758Z"
    }
   },
   "outputs": [
    {
     "name": "stdout",
     "output_type": "stream",
     "text": [
      "제품 id: p-100, 제품이름 :TV, 제품가격: 100000, 제조사: LG\n"
     ]
    }
   ],
   "source": [
    "p.price = 0\n",
    "p.print_info()"
   ]
  },
  {
   "cell_type": "code",
   "execution_count": 180,
   "metadata": {
    "ExecuteTime": {
     "end_time": "2022-12-27T08:42:39.982517Z",
     "start_time": "2022-12-27T08:42:39.967553Z"
    }
   },
   "outputs": [
    {
     "name": "stdout",
     "output_type": "stream",
     "text": [
      "제품 id: p-100, 제품이름 :TV, 제품가격: 1001200, 제조사: LG\n"
     ]
    }
   ],
   "source": [
    "p.price = 1001200 # set_price() 호출\n",
    "p.print_info()"
   ]
  },
  {
   "cell_type": "code",
   "execution_count": 183,
   "metadata": {
    "ExecuteTime": {
     "end_time": "2022-12-27T08:48:21.260428Z",
     "start_time": "2022-12-27T08:48:21.248460Z"
    }
   },
   "outputs": [],
   "source": [
    "class Product2:\n",
    "    \n",
    "    def __init__(self, id, name, price, maker):\n",
    "        self.id = id\n",
    "        self.name = name\n",
    "        self.price = price\n",
    "        self.maker = maker\n",
    "  \n",
    "    # getter\n",
    "    @property\n",
    "    def id(self):\n",
    "        return self.__id\n",
    "    @property\n",
    "    def name(self):\n",
    "        return self.__name\n",
    "    @property\n",
    "    def price(self):\n",
    "        return self.__price\n",
    "    @property\n",
    "    def maker(self):\n",
    "        return self.__maker\n",
    "\n",
    "\n",
    "    #  setter\n",
    "    @id.setter\n",
    "    def id(self, id):\n",
    "        if len(id) >=0:\n",
    "            self.__id = id\n",
    "            \n",
    "    @name.setter\n",
    "    def name(self, name):\n",
    "        if len(name) >=0:\n",
    "            self.__name = name\n",
    "            \n",
    "    @price.setter\n",
    "    def price(self, price):\n",
    "        if price >= 1000:\n",
    "            self.__price = price\n",
    "    \n",
    "    @maker.setter\n",
    "    def maker(self, maker):\n",
    "        if len(maker) >=0:\n",
    "            self.__maker = maker\n",
    "            \n",
    "    \n",
    "    def print_info(self):\n",
    "        print(f'제품 id: {self.id}, 제품이름 :{self.name}, 제품가격: {self.price}, 제조사: {self.maker}')\n",
    "        "
   ]
  },
  {
   "cell_type": "code",
   "execution_count": 196,
   "metadata": {
    "ExecuteTime": {
     "end_time": "2022-12-27T08:53:35.209829Z",
     "start_time": "2022-12-27T08:53:35.201850Z"
    },
    "scrolled": false
   },
   "outputs": [
    {
     "name": "stdout",
     "output_type": "stream",
     "text": [
      "제품 id: id2112, 제품이름 :노트북, 제품가격: 4300000, 제조사: 삼성이에요\n"
     ]
    }
   ],
   "source": [
    "p2 = Product2(\"id2112\", \"노트북\", 4300000, \"삼성이에요\")\n",
    "p2.print_info()"
   ]
  },
  {
   "cell_type": "code",
   "execution_count": 197,
   "metadata": {
    "ExecuteTime": {
     "end_time": "2022-12-27T08:53:38.418170Z",
     "start_time": "2022-12-27T08:53:38.407199Z"
    }
   },
   "outputs": [
    {
     "name": "stdout",
     "output_type": "stream",
     "text": [
      "제품 id: id2112, 제품이름 :노트북, 제품가격: 4300000, 제조사: Apple\n"
     ]
    }
   ],
   "source": [
    "p2.maker = \"Apple\"\n",
    "p2.print_info()"
   ]
  },
  {
   "cell_type": "markdown",
   "metadata": {
    "slideshow": {
     "slide_type": "slide"
    }
   },
   "source": [
    "## 상속 (Inheritance)\n",
    "\n",
    "- 기존 클래스를 확장하여 새로운 클래스를 구현한다.\n",
    "    - 생성된 객체(instance)가 기존 클래스에 정의된 Attribute나 method를 사용할 수있고 그 외의 추가적인 member들을 가질 수 있는 클래스를 구현하는 방법.\n",
    "- **기반(Base) 클래스, 상위(Super) 클래스, 부모(Parent) 클래스**\n",
    "    - 물려 주는 클래스.\n",
    "    - 상속하는 클래스에 비해 더 추상적인 클래스가 된다. \n",
    "    - 상속하는 클래스의 데이터 타입이 된다.\n",
    "- **파생(Derived) 클래스, 하위(Sub) 클래스, 자식(Child) 클래스**\n",
    "    - 상속하는 클래스.\n",
    "    - 상속을 해준 클래스 보다 좀더 구체적인 클래스가 된다.\n",
    "- 상위 클래스와 하위클래스는 계층관계를 이룬다."
   ]
  },
  {
   "cell_type": "markdown",
   "metadata": {
    "slideshow": {
     "slide_type": "subslide"
    }
   },
   "source": [
    "### 다중상속과 단일 상속\n",
    "- 다중상속\n",
    "    - 여러 클래스로부터 상속할 수 있다\n",
    "- 단일상속\n",
    "    - 하나의 클래스로 부터만 상속할 수 있다.\n",
    "- 파이썬은 다중상속을 지원한다.\n",
    "- MRO (Method Resolution Order)\n",
    "    - 다중상속시 메소드 호출할 때 그 메소드를 찾는 순서. \n",
    "    1. 자기자신\n",
    "    2. 상위클래스(하위에서 상위로 올라간다)\n",
    "        - 다중상속의 경우 먼저 선언한 클래스 부터 찾는다. (왼쪽->오른쪽)\n",
    "- MRO 순서 조회 \n",
    "    - Class이름.mro()"
   ]
  },
  {
   "cell_type": "code",
   "execution_count": 12,
   "metadata": {
    "ExecuteTime": {
     "end_time": "2022-12-28T01:40:01.527239Z",
     "start_time": "2022-12-28T01:40:01.521293Z"
    }
   },
   "outputs": [],
   "source": [
    "class Person:\n",
    "    \n",
    "    def go(self):\n",
    "        print('학교에 간다.')\n",
    "        \n",
    "    def eat(self):\n",
    "        print(\"점심을 먹는다.\")"
   ]
  },
  {
   "cell_type": "code",
   "execution_count": 13,
   "metadata": {
    "ExecuteTime": {
     "end_time": "2022-12-28T01:40:02.346332Z",
     "start_time": "2022-12-28T01:40:02.329378Z"
    }
   },
   "outputs": [],
   "source": [
    "# Person을 상속받아서 Student/Teacher 클래스를 구현\n",
    "class Student(Person): # 클래스르이름(상속할 클래스 이름.[, 상속할 클래스 이름,.....])\n",
    "    \n",
    "    def study(self):\n",
    "        print(\"학생이 공부한다.\")\n",
    "        "
   ]
  },
  {
   "cell_type": "code",
   "execution_count": 14,
   "metadata": {
    "ExecuteTime": {
     "end_time": "2022-12-28T01:40:03.034519Z",
     "start_time": "2022-12-28T01:40:03.025542Z"
    }
   },
   "outputs": [],
   "source": [
    "class Teacher(Person):\n",
    "    \n",
    "    def teach(self):\n",
    "        print(\"수업을 가르친다.\")"
   ]
  },
  {
   "cell_type": "code",
   "execution_count": 15,
   "metadata": {
    "ExecuteTime": {
     "end_time": "2022-12-28T01:40:03.753380Z",
     "start_time": "2022-12-28T01:40:03.743408Z"
    }
   },
   "outputs": [],
   "source": [
    "class UniversityStudent(Student):\n",
    "    \n",
    "    def drink(self):\n",
    "        print(\"술을 마신다.\")\n",
    "        "
   ]
  },
  {
   "cell_type": "code",
   "execution_count": 16,
   "metadata": {
    "ExecuteTime": {
     "end_time": "2022-12-28T01:40:17.983273Z",
     "start_time": "2022-12-28T01:40:17.977286Z"
    }
   },
   "outputs": [
    {
     "name": "stdout",
     "output_type": "stream",
     "text": [
      "학교에 간다.\n",
      "점심을 먹는다.\n",
      "수업을 가르친다.\n"
     ]
    }
   ],
   "source": [
    "t = Teacher()\n",
    "t.go()\n",
    "t.eat()\n",
    "t.teach()"
   ]
  },
  {
   "cell_type": "code",
   "execution_count": 22,
   "metadata": {
    "ExecuteTime": {
     "end_time": "2022-12-28T01:42:15.585419Z",
     "start_time": "2022-12-28T01:42:15.574412Z"
    }
   },
   "outputs": [
    {
     "name": "stdout",
     "output_type": "stream",
     "text": [
      "학교에 간다.\n",
      "점심을 먹는다.\n",
      "학생이 공부한다.\n",
      "술을 마신다.\n"
     ]
    }
   ],
   "source": [
    "us = UniversityStudent()\n",
    "us.go()\n",
    "us.eat()\n",
    "us.study()\n",
    "us.drink()"
   ]
  },
  {
   "cell_type": "code",
   "execution_count": 23,
   "metadata": {
    "ExecuteTime": {
     "end_time": "2022-12-28T01:42:19.060380Z",
     "start_time": "2022-12-28T01:42:19.043426Z"
    },
    "collapsed": true
   },
   "outputs": [
    {
     "ename": "AttributeError",
     "evalue": "'UniversityStudent' object has no attribute 'teach'",
     "output_type": "error",
     "traceback": [
      "\u001b[1;31m---------------------------------------------------------------------------\u001b[0m",
      "\u001b[1;31mAttributeError\u001b[0m                            Traceback (most recent call last)",
      "\u001b[1;32m~\\AppData\\Local\\Temp\\ipykernel_5268\\694460131.py\u001b[0m in \u001b[0;36m<module>\u001b[1;34m\u001b[0m\n\u001b[1;32m----> 1\u001b[1;33m \u001b[0mus\u001b[0m\u001b[1;33m.\u001b[0m\u001b[0mteach\u001b[0m\u001b[1;33m(\u001b[0m\u001b[1;33m)\u001b[0m\u001b[1;33m\u001b[0m\u001b[1;33m\u001b[0m\u001b[0m\n\u001b[0m",
      "\u001b[1;31mAttributeError\u001b[0m: 'UniversityStudent' object has no attribute 'teach'"
     ]
    }
   ],
   "source": [
    "# us.teach()"
   ]
  },
  {
   "cell_type": "code",
   "execution_count": 24,
   "metadata": {
    "ExecuteTime": {
     "end_time": "2022-12-28T01:46:03.342515Z",
     "start_time": "2022-12-28T01:46:03.326557Z"
    }
   },
   "outputs": [
    {
     "data": {
      "text/plain": [
       "[__main__.UniversityStudent, __main__.Student, __main__.Person, object]"
      ]
     },
     "execution_count": 24,
     "metadata": {},
     "output_type": "execute_result"
    }
   ],
   "source": [
    "# tab 자동완성\n",
    "UniversityStudent.mro()\n"
   ]
  },
  {
   "cell_type": "markdown",
   "metadata": {
    "slideshow": {
     "slide_type": "subslide"
    }
   },
   "source": [
    "### Method Overriding (메소드 재정의)\n",
    "기반 클래스의 메소드의 구현부를 파생클래스에서 다시 구현하는 것을 말한다.  \n",
    "기반 클래스는 모든 파생클래스들에 적용할 수 있는 추상적인 구현밖에는 못한다.  \n",
    "이 경우 파생클래스에서 그 내용을 자신에 맞게 좀더 구체적으로 재구현할 수 있게 해주는 것을 Method Overriding이라고 한다.  \n",
    "방법은 파생클래스에서 overriding할 메소드의 선언문은 그래로 사용하고 그 구현부는 재구현하면 된다.  \n",
    "\n",
    "### super() 내장함수\n",
    "- 파생 클래스에서 기반 클래스의 instance를 반환(return) 해주는 함수\n",
    "- 구문\n",
    "```python\n",
    "super().메소드명() \n",
    "```\n",
    "- 기반 클래스의 Instance 메소드를 호출할 때 – super().메소드()\n",
    "    - 특히 method overriding을 한 클래스에서 기반 클래스의 overriding한 메소드를 호출 할 경우 반드시 `super().메소드() `형식으로 호출해야 한다.\n",
    "- 같은 클래스의 Instance 메소드를 호출할 때 – self.메소드()"
   ]
  },
  {
   "cell_type": "code",
   "execution_count": 31,
   "metadata": {
    "ExecuteTime": {
     "end_time": "2022-12-28T02:21:25.192784Z",
     "start_time": "2022-12-28T02:21:25.171874Z"
    }
   },
   "outputs": [],
   "source": [
    "class Person2:\n",
    "    def go(self):\n",
    "        print(\"학교에 간다.\")\n",
    "        \n",
    "    def eat(self):\n",
    "        print('점심을 먹는다.')"
   ]
  },
  {
   "cell_type": "code",
   "execution_count": 38,
   "metadata": {
    "ExecuteTime": {
     "end_time": "2022-12-28T02:35:19.666339Z",
     "start_time": "2022-12-28T02:35:19.645362Z"
    }
   },
   "outputs": [],
   "source": [
    "# student는 학교에 스쿨버스를 타고가는 좀더 구체적인 구현을 해야한다.\n",
    "# Teacher는 점심을 밖에 나가서 먹는다.라는 좀더 구체적인 구현을 해야한다.\n",
    "\n",
    "\n",
    "class Student2(Person2):\n",
    "    def study(self):\n",
    "        print('공부를 한다.')\n",
    "        self.eat()\n",
    "        \n",
    "    def go(self):\n",
    "        print('스쿨버스를 탄다.')\n",
    "#        print('학교에 간다.')    /   # 상위클래스 정의 된 내용이므로 상위클래스의  go()를 \n",
    "        super().go() # 상위클래스의 go를 호출한 명령어\n",
    "    #    print('학교에 스쿨버스를 타고 간다.')"
   ]
  },
  {
   "cell_type": "code",
   "execution_count": 39,
   "metadata": {
    "ExecuteTime": {
     "end_time": "2022-12-28T02:35:20.922174Z",
     "start_time": "2022-12-28T02:35:20.905219Z"
    }
   },
   "outputs": [
    {
     "name": "stdout",
     "output_type": "stream",
     "text": [
      "스쿨버스를 탄다.\n",
      "학교에 간다.\n"
     ]
    }
   ],
   "source": [
    "s = Student2()\n",
    "s.go()"
   ]
  },
  {
   "cell_type": "code",
   "execution_count": 40,
   "metadata": {
    "ExecuteTime": {
     "end_time": "2022-12-28T02:35:22.965106Z",
     "start_time": "2022-12-28T02:35:22.946118Z"
    }
   },
   "outputs": [
    {
     "name": "stdout",
     "output_type": "stream",
     "text": [
      "학교에 간다.\n",
      "밖으로 나가서 점심을 먹는다.\n"
     ]
    }
   ],
   "source": [
    "class Teacher2(Person2):\n",
    "    def teach(self):\n",
    "        print(\"수업을 가르친다.\")\n",
    "        \n",
    "    def eat(self):\n",
    "        print('밖으로 나가서 점심을 먹는다.')\n",
    "\n",
    "t = Teacher2()\n",
    "t.go()\n",
    "t.eat()"
   ]
  },
  {
   "cell_type": "code",
   "execution_count": 41,
   "metadata": {
    "ExecuteTime": {
     "end_time": "2022-12-28T06:10:06.188081Z",
     "start_time": "2022-12-28T06:10:06.165144Z"
    }
   },
   "outputs": [],
   "source": [
    "class In:\n",
    "    def __init__(self, name, age, address= None):\n",
    "        self.name = name\n",
    "        self.age = age\n",
    "        self.addres = address\n",
    "        \n",
    "    @property\n",
    "    def name(self):\n",
    "        return self.__name\n",
    "    @property\n",
    "    def age(self):\n",
    "        return self.__age\n",
    "    @name.setter\n",
    "    def name(self):\n",
    "        return self.__name\n",
    "    @age.setter\n",
    "    def age(self):\n",
    "        return self.__age\n",
    "    \n",
    "    def add_age(self, age):\n",
    "        self.age += age"
   ]
  },
  {
   "cell_type": "code",
   "execution_count": 42,
   "metadata": {
    "ExecuteTime": {
     "end_time": "2022-12-28T06:59:56.388148Z",
     "start_time": "2022-12-28T06:59:56.365208Z"
    }
   },
   "outputs": [],
   "source": [
    "class Person: ###부모 클래스\n",
    "    \n",
    "    def __init__(self, name, age, address = None):\n",
    "        self.name = name\n",
    "        self.age = age\n",
    "        self.address = address\n",
    "        \n",
    "    @property\n",
    "    def name(self):\n",
    "        return self.__name\n",
    "    \n",
    "    @name.setter\n",
    "    def name(self,name):\n",
    "        if len(name) >= 2:\n",
    "            self.__name = name\n",
    "            \n",
    "    @property\n",
    "    def age(self):\n",
    "        return self.__age\n",
    "    \n",
    "    @age.setter\n",
    "    def age(self, age):\n",
    "        if age >= 10:\n",
    "            self.__age = age\n",
    "            \n",
    "     #나이값을 더하는 메소드       \n",
    "    def add_age(self, age):\n",
    "        self.age += age\n",
    "        \n",
    "    # Person의 Attribute를(name, age, address)를 하나의 문자열로 만들어서 반환\n",
    "    \n",
    "    def get_info(self):\n",
    "        return f'이름: {self.name}, 나이: {self.age}, 주소: {self.address}'\n"
   ]
  },
  {
   "cell_type": "code",
   "execution_count": 43,
   "metadata": {
    "ExecuteTime": {
     "end_time": "2022-12-28T06:59:59.696919Z",
     "start_time": "2022-12-28T06:59:59.683916Z"
    }
   },
   "outputs": [
    {
     "name": "stdout",
     "output_type": "stream",
     "text": [
      "이름: 홍길동, 나이: 30, 주소: 서울\n",
      "이름: 홍길동, 나이: 33, 주소: 서울\n",
      "33\n"
     ]
    }
   ],
   "source": [
    "p = Person('홍길동',30, \"서울\")\n",
    "info = p.get_info()\n",
    "print(info)\n",
    "p.add_age(3)\n",
    "print(p.get_info())\n",
    "print(p.age)"
   ]
  },
  {
   "cell_type": "code",
   "execution_count": 44,
   "metadata": {
    "ExecuteTime": {
     "end_time": "2022-12-28T03:33:33.345654Z",
     "start_time": "2022-12-28T03:33:33.336679Z"
    }
   },
   "outputs": [],
   "source": [
    "## 자식클래스\n",
    "\n",
    "\n",
    "# Person 속성: name, age, address, \n",
    "# Student 속성: grade(성적)\n",
    "class Student(Person):\n",
    "    \n",
    "    def __init__(self, name, age, address, grade):\n",
    "        #name, age, address는 부모객체에 초기화 -> Person클래스의 __init__()을 호출.\n",
    "        super().__init__(name, age, address) # 부모클래스의 __init__()메소드를 호출. - \"super()\"\n",
    "        self.grade = grade\n",
    " #_______________________________________________________________________________ #      \n",
    "    #get_info()메소드를 overriding -> grade 정보까지 추가\n",
    "    \n",
    "    def get_info(self):\n",
    "        # name, age, address는 Person의 get_info()를 이용해서 조회\n",
    "        i = super().get_info()\n",
    "        return f'{i},  성적: {self.grade}'"
   ]
  },
  {
   "cell_type": "code",
   "execution_count": 45,
   "metadata": {
    "ExecuteTime": {
     "end_time": "2022-12-28T03:33:34.018989Z",
     "start_time": "2022-12-28T03:33:34.010048Z"
    }
   },
   "outputs": [
    {
     "name": "stdout",
     "output_type": "stream",
     "text": [
      "김학생 20 서울 10\n"
     ]
    }
   ],
   "source": [
    "s = Student(\"김학생\",20, \"서울\", 10)\n",
    "print(s.name, s.age, s.address, s.grade)"
   ]
  },
  {
   "cell_type": "code",
   "execution_count": 46,
   "metadata": {
    "ExecuteTime": {
     "end_time": "2022-12-28T03:33:34.658579Z",
     "start_time": "2022-12-28T03:33:34.639632Z"
    }
   },
   "outputs": [],
   "source": [
    "s.add_age(-2) # 자식 클래스의 메소드에 없기 때문에 부모클래스의 메소드를 자동으로 연결해서 사용한다."
   ]
  },
  {
   "cell_type": "code",
   "execution_count": 47,
   "metadata": {
    "ExecuteTime": {
     "end_time": "2022-12-28T03:33:37.548661Z",
     "start_time": "2022-12-28T03:33:37.540686Z"
    }
   },
   "outputs": [
    {
     "data": {
      "text/plain": [
       "18"
      ]
     },
     "execution_count": 47,
     "metadata": {},
     "output_type": "execute_result"
    }
   ],
   "source": [
    "s.age"
   ]
  },
  {
   "cell_type": "code",
   "execution_count": 48,
   "metadata": {
    "ExecuteTime": {
     "end_time": "2022-12-28T03:33:38.696651Z",
     "start_time": "2022-12-28T03:33:38.686681Z"
    }
   },
   "outputs": [
    {
     "name": "stdout",
     "output_type": "stream",
     "text": [
      "이름: 김학생, 나이: 18, 주소: 서울,  성적: 10\n"
     ]
    }
   ],
   "source": [
    "s_info = s.get_info()\n",
    "print(s_info)"
   ]
  },
  {
   "cell_type": "code",
   "execution_count": 49,
   "metadata": {
    "ExecuteTime": {
     "end_time": "2022-12-28T03:37:22.896819Z",
     "start_time": "2022-12-28T03:37:22.883854Z"
    }
   },
   "outputs": [],
   "source": [
    "# 다중상속시 메소드 호출 순서(MRO)\n",
    "# (A_1), (A_2) <- (B_1) <- (C) -> (B-2)\n",
    "class A_1:\n",
    "    pass\n",
    "class A_2:\n",
    "    pass\n",
    "class B_1(A_1, A_2):\n",
    "    pass\n",
    "class B_2:\n",
    "    pass\n",
    "class C(B_1, B_2):\n",
    "    pass"
   ]
  },
  {
   "cell_type": "code",
   "execution_count": 50,
   "metadata": {
    "ExecuteTime": {
     "end_time": "2022-12-28T03:37:45.494691Z",
     "start_time": "2022-12-28T03:37:45.483720Z"
    }
   },
   "outputs": [
    {
     "data": {
      "text/plain": [
       "[__main__.C, __main__.B_1, __main__.A_1, __main__.A_2, __main__.B_2, object]"
      ]
     },
     "execution_count": 50,
     "metadata": {},
     "output_type": "execute_result"
    }
   ],
   "source": [
    "C.mro()"
   ]
  },
  {
   "cell_type": "markdown",
   "metadata": {
    "slideshow": {
     "slide_type": "slide"
    }
   },
   "source": [
    "## 객체 관련 유용한 내장 함수, 특수 변수\n",
    "-  **`isinstance(객체, 클래스이름-datatype)`** : bool\n",
    "    - 객체가 두번째 매개변수로 지정한 클래스의 타입이면 True, 아니면 False 반환\n",
    "    - 여러개의 타입여부를 확인할 경우 class이름(type)들을 리스트로 묶어 준다.\n",
    "    - 기반클래스는 파생클래스객체의 타입이 되므로 객체와 그 객체의 기반클래스 비교시 True가 나온다.\n",
    "- **`객체.__dict__`**\n",
    "     - 객체가 가지고 있는 Attribute 변수들과 대입된 값을 dictionary에 넣어 반환\n",
    "- **`객체.__class__`**\n",
    "\n",
    "- 객체의 타입을 반환"
   ]
  },
  {
   "cell_type": "code",
   "execution_count": 51,
   "metadata": {
    "ExecuteTime": {
     "end_time": "2022-12-28T05:11:29.380370Z",
     "start_time": "2022-12-28T05:11:29.358388Z"
    }
   },
   "outputs": [
    {
     "data": {
      "text/plain": [
       "True"
      ]
     },
     "execution_count": 51,
     "metadata": {},
     "output_type": "execute_result"
    }
   ],
   "source": [
    "isinstance(p, Person)\n",
    "isinstance('abc', Person)\n",
    "isinstance(s, Student)\n",
    "#객체(값)의 타입 -> 생성한 클래스, 생성한 클래스의 상위클래스\n",
    "# s(Student객체)의 타입 : Sturdent, Person"
   ]
  },
  {
   "cell_type": "code",
   "execution_count": 116,
   "metadata": {
    "ExecuteTime": {
     "end_time": "2022-12-28T05:13:51.006228Z",
     "start_time": "2022-12-28T05:13:50.984247Z"
    }
   },
   "outputs": [
    {
     "name": "stdout",
     "output_type": "stream",
     "text": [
      "<class 'int'>\n"
     ]
    },
    {
     "data": {
      "text/plain": [
       "(True, True)"
      ]
     },
     "execution_count": 116,
     "metadata": {},
     "output_type": "execute_result"
    }
   ],
   "source": [
    "isinstance(10,int)\n",
    "print(type(10))\n",
    "type(10) ==int, isinstance(10,int)"
   ]
  },
  {
   "cell_type": "code",
   "execution_count": 117,
   "metadata": {
    "ExecuteTime": {
     "end_time": "2022-12-28T05:14:13.551256Z",
     "start_time": "2022-12-28T05:14:13.534264Z"
    }
   },
   "outputs": [
    {
     "data": {
      "text/plain": [
       "(True, True)"
      ]
     },
     "execution_count": 117,
     "metadata": {},
     "output_type": "execute_result"
    }
   ],
   "source": [
    "type(s) == Student, isinstance(s, Student)"
   ]
  },
  {
   "cell_type": "code",
   "execution_count": 119,
   "metadata": {
    "ExecuteTime": {
     "end_time": "2022-12-28T05:14:49.780258Z",
     "start_time": "2022-12-28T05:14:49.772318Z"
    }
   },
   "outputs": [
    {
     "data": {
      "text/plain": [
       "True"
      ]
     },
     "execution_count": 119,
     "metadata": {},
     "output_type": "execute_result"
    }
   ],
   "source": [
    "isinstance(10, (str, int))\n",
    "#10(값)이 str 또는 int 타입인지 여부"
   ]
  },
  {
   "cell_type": "code",
   "execution_count": 122,
   "metadata": {
    "ExecuteTime": {
     "end_time": "2022-12-28T05:17:55.890212Z",
     "start_time": "2022-12-28T05:17:55.880239Z"
    }
   },
   "outputs": [],
   "source": [
    "def func(value):\n",
    "    \n",
    "    if isinstance(value, (int, float)):\n",
    "        print(value*30)\n",
    "    else:\n",
    "        print(\"계산할 수 없습니다.\")\n",
    "        "
   ]
  },
  {
   "cell_type": "code",
   "execution_count": 123,
   "metadata": {
    "ExecuteTime": {
     "end_time": "2022-12-28T05:17:56.531174Z",
     "start_time": "2022-12-28T05:17:56.510226Z"
    }
   },
   "outputs": [
    {
     "name": "stdout",
     "output_type": "stream",
     "text": [
      "300\n",
      "132.0\n",
      "계산할 수 없습니다.\n"
     ]
    },
    {
     "data": {
      "text/plain": [
       "(None, None, None)"
      ]
     },
     "execution_count": 123,
     "metadata": {},
     "output_type": "execute_result"
    }
   ],
   "source": [
    "func(10), func(4.4), func('abc')"
   ]
  },
  {
   "cell_type": "code",
   "execution_count": null,
   "metadata": {},
   "outputs": [],
   "source": [
    "def func(value):\n",
    "    \n",
    "   # if isinstance(value, (int, float)):\n",
    "    if type(value)in [int,float]:\n",
    "        print(value*30)\n",
    "    else:\n",
    "        print(\"계산할 수 없습니다.\")\n",
    "\n",
    "    # 다른 방법\n",
    "        "
   ]
  },
  {
   "cell_type": "code",
   "execution_count": 129,
   "metadata": {
    "ExecuteTime": {
     "end_time": "2022-12-28T05:21:47.869398Z",
     "start_time": "2022-12-28T05:21:47.850486Z"
    }
   },
   "outputs": [
    {
     "data": {
      "text/plain": [
       "{'_Person__name': '김학생', '_Person__age': 18, 'address': '서울', 'grade': 10}"
      ]
     },
     "execution_count": 129,
     "metadata": {},
     "output_type": "execute_result"
    }
   ],
   "source": [
    "# s객체의 속성을 dictionary로 조회.\n",
    "s.__dict__"
   ]
  },
  {
   "cell_type": "code",
   "execution_count": 125,
   "metadata": {
    "ExecuteTime": {
     "end_time": "2022-12-28T05:20:36.874320Z",
     "start_time": "2022-12-28T05:20:36.857397Z"
    }
   },
   "outputs": [
    {
     "data": {
      "text/plain": [
       "{'_Person__name': '홍길동', '_Person__age': 33, 'address': '서울'}"
      ]
     },
     "execution_count": 125,
     "metadata": {},
     "output_type": "execute_result"
    }
   ],
   "source": [
    "p.__dict__"
   ]
  },
  {
   "cell_type": "code",
   "execution_count": 128,
   "metadata": {
    "ExecuteTime": {
     "end_time": "2022-12-28T05:21:24.556567Z",
     "start_time": "2022-12-28T05:21:24.545556Z"
    }
   },
   "outputs": [
    {
     "data": {
      "text/plain": [
       "(type, __main__.Student)"
      ]
     },
     "execution_count": 128,
     "metadata": {},
     "output_type": "execute_result"
    }
   ],
   "source": [
    "# 객체가 어떤 클래스의 타입인지를 조회.\n",
    "type(s.__class__), s.__class__"
   ]
  },
  {
   "cell_type": "code",
   "execution_count": 132,
   "metadata": {
    "ExecuteTime": {
     "end_time": "2022-12-28T05:24:23.292239Z",
     "start_time": "2022-12-28T05:24:23.281231Z"
    }
   },
   "outputs": [
    {
     "data": {
      "text/plain": [
       "['_Person__age',\n",
       " '_Person__name',\n",
       " '__class__',\n",
       " '__delattr__',\n",
       " '__dict__',\n",
       " '__dir__',\n",
       " '__doc__',\n",
       " '__eq__',\n",
       " '__format__',\n",
       " '__ge__',\n",
       " '__getattribute__',\n",
       " '__gt__',\n",
       " '__hash__',\n",
       " '__init__',\n",
       " '__init_subclass__',\n",
       " '__le__',\n",
       " '__lt__',\n",
       " '__module__',\n",
       " '__ne__',\n",
       " '__new__',\n",
       " '__reduce__',\n",
       " '__reduce_ex__',\n",
       " '__repr__',\n",
       " '__setattr__',\n",
       " '__sizeof__',\n",
       " '__str__',\n",
       " '__subclasshook__',\n",
       " '__weakref__',\n",
       " 'add_age',\n",
       " 'address',\n",
       " 'age',\n",
       " 'get_info',\n",
       " 'grade',\n",
       " 'name']"
      ]
     },
     "execution_count": 132,
     "metadata": {},
     "output_type": "execute_result"
    }
   ],
   "source": [
    "# 객체.__didr__(): 객체를 통해서 호출할 수 있는 모든 속성, 메소드들을 리스트로 반환\n",
    "s.__dir__()\n",
    "dir(s)\n"
   ]
  },
  {
   "cell_type": "markdown",
   "metadata": {
    "slideshow": {
     "slide_type": "slide"
    }
   },
   "source": [
    "## 특수 메소드\n",
    "\n",
    "\n",
    "### 특수 메소드란\n",
    "- 특정한 상황에서 사용될 때 자동으로 호출되도록 파이썬 실행환경에 정의된 약속된 메소드들이다. 객체에 특정 기능들을 추가할 때 사용한다.\n",
    "    - 정의한 메소드와 그것을 호출하는 함수가 다르다.\n",
    "         - ex) `__init__()` => 객체 생성할 때 호출 된다.\n",
    "- 메소드 명이 더블 언더스코어로 시작하고 끝난다. \n",
    "    - ex) `__init__(), __str__()`\n",
    "- 매직 메소드(Magic Method), 던더(DUNDER) 메소드라고도 한다.\n",
    "- 특수메소드 종류\n",
    "    - https://docs.python.org/ko/3/reference/datamodel.html#special-method-names"
   ]
  },
  {
   "cell_type": "markdown",
   "metadata": {
    "slideshow": {
     "slide_type": "subslide"
    }
   },
   "source": [
    "### 주요 특수메소드\n",
    "- **`__init__(self [, …])`**\n",
    "    - Initializer\n",
    "    - 객체 생성시 호출 된다.\n",
    "    - 객체 생성시 Attribute의 값들을 초기화하는 것을 구현한다.\n",
    "    - self 변수로 받은 instance에 Attribute를 설정한다.\n",
    "- **`__call__(self, […])`**\n",
    "- 객체를 함수처럼 호출 할 면 실행되는 메소드\n",
    "    - Argument를 받을 Parameter 변수는 self 변수 다음에 필요한대로 선언한다.\n",
    "    - 처리결과를 반환할 경우 `return value` 구문을 넣는다. (필수는 아니다.)\n",
    "\n"
   ]
  },
  {
   "cell_type": "code",
   "execution_count": 225,
   "metadata": {
    "ExecuteTime": {
     "end_time": "2022-12-28T07:10:05.789452Z",
     "start_time": "2022-12-28T07:10:05.770466Z"
    }
   },
   "outputs": [],
   "source": [
    "class Plus:\n",
    "    \n",
    "    def __init__(self, num1, num2):\n",
    "        # 덧셈할때 사용할 피연산자 두개를 속성으로 저장.\n",
    "        self.num1 = num1\n",
    "        self.num2 = num2\n",
    "    \n",
    "    def __call__(self, n):\n",
    "        #객체의 메인 기능(동작)을 구현하는 메소드 -> 객체를 함수처럼 사용할 수 있도록 한다.\n",
    "    \n",
    "        return (self.num1 +self.num2)**n\n",
    " #   def calc(self):\n",
    "#      return self.num1 + self.num2"
   ]
  },
  {
   "cell_type": "code",
   "execution_count": 226,
   "metadata": {
    "ExecuteTime": {
     "end_time": "2022-12-28T07:10:07.751544Z",
     "start_time": "2022-12-28T07:10:07.742569Z"
    }
   },
   "outputs": [
    {
     "name": "stdout",
     "output_type": "stream",
     "text": [
      "900\n"
     ]
    }
   ],
   "source": [
    "plus = Plus(10,20)\n",
    "result = plus(2) # 객체를 함수처럼 호출 -> __call__() 을 호출(약속임)\n",
    "#result = plus.calc()\n",
    "print(result)"
   ]
  },
  {
   "cell_type": "markdown",
   "metadata": {
    "slideshow": {
     "slide_type": "subslide"
    }
   },
   "source": [
    "- **`__repr__(self)`**\n",
    "    - Instance(객체) 자체를 표현할 수 있는 문자열을 반환한다.\n",
    "        - 보통 객체 생성하는 구문을 문자열로 반환한다.\n",
    "        - 반환된 문자열을 eval() 에 넣으면 동일한 attribute값들을 가진 객체를 생성할 수 있도록 정의한다.\n",
    "    - 내장함수 **repr(객체)** 호출할 때 이 메소드가 호출 된다.\n",
    "    - 대화형 IDE(REPL) 에서 객체를 참조하는 변수 출력할 때도 호출된다.\n",
    "> - eval(문자열)\n",
    ">     - 실행 가능한 구문의 문자열을 받아서 실행한다.\n",
    "\n",
    "- **`__str__(self)`**\n",
    "    - Instance(객체)의 Attribute들을 묶어서 문자열로 반환한다.\n",
    "    - 내장 함수 **str(객체)**  호출할 때 이 메소드가 호출 된다.\n",
    "        - str() 호출할 때 객체에 `__str__()`의 정의 안되 있으면 `__repr__()` 을 호출한다. `__repr__()`도 없으면 상위클래스에 정의된 `__str__()`을 호출한다.\n",
    "        - print() 함수는 값을 문자열로 변환해서 출력한다. 이때 그 값을 str() 에 넣어 문자열로 변환한다."
   ]
  },
  {
   "cell_type": "code",
   "execution_count": 213,
   "metadata": {
    "ExecuteTime": {
     "end_time": "2022-12-28T06:40:47.264903Z",
     "start_time": "2022-12-28T06:40:47.243959Z"
    }
   },
   "outputs": [],
   "source": [
    "class Person: ###부모 클래스\n",
    "    \n",
    "    def __init__(self, name, age, address = None):\n",
    "        self.name = name\n",
    "        self.age = age\n",
    "        self.address = address\n",
    "        \n",
    "    @property\n",
    "    def name(self):\n",
    "        return self.__name\n",
    "    \n",
    "    @name.setter\n",
    "    def name(self,name):\n",
    "        if len(name) >= 2:\n",
    "            self.__name = name\n",
    "            \n",
    "    @property\n",
    "    def age(self):\n",
    "        return self.__age\n",
    "    \n",
    "    @age.setter\n",
    "    def age(self, age):\n",
    "        if age >= 10:\n",
    "            self.__age = age\n",
    "            \n",
    "     #나이값을 더하는 메소드       \n",
    "    def add_age(self, age):\n",
    "        self.age += age\n",
    "        \n",
    "    #특수메소드 정의\n",
    "    def __repr__(self):\n",
    "        return f\"Person('{self.name}', {self.age}, '{self.address}')\" # 객체에 무엇이 들어있는지\n",
    "    \n",
    "    def __str__(self):\n",
    "        return f'이름: {self.name}, 나이: {self.age}, 주소: {self.address}' #객체의 상세내용\n",
    "    \n",
    "    # 연산자 재정의 특수메소드\n",
    "    # 덧셈\n",
    "    def __add__(self, other):\n",
    "  #      other 가 숫자이면 self.age에 더한다.\n",
    "  #      other 가 다른 Person객체이면 그 객체의 age에 self의 age를 더한다.\n",
    "  #      p + 30 (self:p, other:30)\n",
    "        \n",
    "        if isinstance(other, (int,float)):\n",
    "            return self.age + other\n",
    "        elif isinstance(other, Person):\n",
    "            return self.age + other.age\n",
    "        \n",
    "    def __gt__(self, other):\n",
    "        \n",
    "        #self 객체와 other 객체의 나이를 비교\n",
    "        if isinstance(other, Person):\n",
    "            return self.age > other.age\n",
    "        \n",
    "        else:\n",
    "            raise TypeError(f'Person과 {type(other)}는 비교할 수 없습니다') #Exception을 발생시킨다."
   ]
  },
  {
   "cell_type": "code",
   "execution_count": 214,
   "metadata": {
    "ExecuteTime": {
     "end_time": "2022-12-28T06:40:48.283236Z",
     "start_time": "2022-12-28T06:40:48.276255Z"
    }
   },
   "outputs": [],
   "source": [
    "p = Person('홍길동', 30, '서울')\n",
    "p2 = Person('이순신', 50, '부산')"
   ]
  },
  {
   "cell_type": "code",
   "execution_count": 215,
   "metadata": {
    "ExecuteTime": {
     "end_time": "2022-12-28T06:40:48.891775Z",
     "start_time": "2022-12-28T06:40:48.883761Z"
    }
   },
   "outputs": [
    {
     "data": {
      "text/plain": [
       "40"
      ]
     },
     "execution_count": 215,
     "metadata": {},
     "output_type": "execute_result"
    }
   ],
   "source": [
    "p +10 # __add__(self, other): self: p, other:10"
   ]
  },
  {
   "cell_type": "code",
   "execution_count": 216,
   "metadata": {
    "ExecuteTime": {
     "end_time": "2022-12-28T06:40:49.726535Z",
     "start_time": "2022-12-28T06:40:49.714564Z"
    }
   },
   "outputs": [
    {
     "data": {
      "text/plain": [
       "80"
      ]
     },
     "execution_count": 216,
     "metadata": {},
     "output_type": "execute_result"
    }
   ],
   "source": [
    "p + p2 # self: p, other: p2"
   ]
  },
  {
   "cell_type": "code",
   "execution_count": 217,
   "metadata": {
    "ExecuteTime": {
     "end_time": "2022-12-28T06:40:50.558164Z",
     "start_time": "2022-12-28T06:40:50.547150Z"
    }
   },
   "outputs": [
    {
     "data": {
      "text/plain": [
       "False"
      ]
     },
     "execution_count": 217,
     "metadata": {},
     "output_type": "execute_result"
    }
   ],
   "source": [
    "p > p2"
   ]
  },
  {
   "cell_type": "code",
   "execution_count": 218,
   "metadata": {
    "ExecuteTime": {
     "end_time": "2022-12-28T06:40:54.861516Z",
     "start_time": "2022-12-28T06:40:54.850509Z"
    },
    "collapsed": true
   },
   "outputs": [
    {
     "ename": "TypeError",
     "evalue": "'<' not supported between instances of 'Person' and 'int'",
     "output_type": "error",
     "traceback": [
      "\u001b[1;31m---------------------------------------------------------------------------\u001b[0m",
      "\u001b[1;31mTypeError\u001b[0m                                 Traceback (most recent call last)",
      "\u001b[1;32m~\\AppData\\Local\\Temp\\ipykernel_5268\\375008077.py\u001b[0m in \u001b[0;36m<module>\u001b[1;34m\u001b[0m\n\u001b[1;32m----> 1\u001b[1;33m \u001b[0mp\u001b[0m \u001b[1;33m<\u001b[0m \u001b[1;36m10\u001b[0m\u001b[1;33m\u001b[0m\u001b[1;33m\u001b[0m\u001b[0m\n\u001b[0m",
      "\u001b[1;31mTypeError\u001b[0m: '<' not supported between instances of 'Person' and 'int'"
     ]
    }
   ],
   "source": [
    "p < 10"
   ]
  },
  {
   "cell_type": "code",
   "execution_count": null,
   "metadata": {},
   "outputs": [],
   "source": []
  },
  {
   "cell_type": "code",
   "execution_count": 171,
   "metadata": {
    "ExecuteTime": {
     "end_time": "2022-12-28T06:24:02.361733Z",
     "start_time": "2022-12-28T06:24:02.342747Z"
    }
   },
   "outputs": [
    {
     "name": "stdout",
     "output_type": "stream",
     "text": [
      "<class 'str'>\n"
     ]
    },
    {
     "data": {
      "text/plain": [
       "\"Person('홍길동', 30, '서울')\""
      ]
     },
     "execution_count": 171,
     "metadata": {},
     "output_type": "execute_result"
    }
   ],
   "source": [
    "result = repr(p)\n",
    "print(type(result))\n",
    "result"
   ]
  },
  {
   "cell_type": "code",
   "execution_count": 172,
   "metadata": {
    "ExecuteTime": {
     "end_time": "2022-12-28T06:24:03.082717Z",
     "start_time": "2022-12-28T06:24:03.062735Z"
    }
   },
   "outputs": [
    {
     "data": {
      "text/plain": [
       "Person('홍길동', 30, '서울')"
      ]
     },
     "execution_count": 172,
     "metadata": {},
     "output_type": "execute_result"
    }
   ],
   "source": [
    "p"
   ]
  },
  {
   "cell_type": "code",
   "execution_count": 173,
   "metadata": {
    "ExecuteTime": {
     "end_time": "2022-12-28T06:24:03.802727Z",
     "start_time": "2022-12-28T06:24:03.782780Z"
    }
   },
   "outputs": [
    {
     "data": {
      "text/plain": [
       "30"
      ]
     },
     "execution_count": 173,
     "metadata": {},
     "output_type": "execute_result"
    }
   ],
   "source": [
    "30"
   ]
  },
  {
   "cell_type": "code",
   "execution_count": 174,
   "metadata": {
    "ExecuteTime": {
     "end_time": "2022-12-28T06:24:04.492657Z",
     "start_time": "2022-12-28T06:24:04.478694Z"
    }
   },
   "outputs": [
    {
     "name": "stdout",
     "output_type": "stream",
     "text": [
      "abc\n"
     ]
    },
    {
     "data": {
      "text/plain": [
       "'abc'"
      ]
     },
     "execution_count": 174,
     "metadata": {},
     "output_type": "execute_result"
    }
   ],
   "source": [
    "print('abc')\n",
    "'abc' #str.__repr()"
   ]
  },
  {
   "cell_type": "code",
   "execution_count": 175,
   "metadata": {
    "ExecuteTime": {
     "end_time": "2022-12-28T06:24:05.169058Z",
     "start_time": "2022-12-28T06:24:05.153102Z"
    }
   },
   "outputs": [
    {
     "name": "stdout",
     "output_type": "stream",
     "text": [
      "<class '__main__.Person'>\n"
     ]
    },
    {
     "data": {
      "text/plain": [
       "('홍길동', 30, '서울')"
      ]
     },
     "execution_count": 175,
     "metadata": {},
     "output_type": "execute_result"
    }
   ],
   "source": [
    "#\n",
    "p2 = eval(result)\n",
    "print(type(p2))\n",
    "p2.name, p2.age, p2.address"
   ]
  },
  {
   "cell_type": "code",
   "execution_count": 176,
   "metadata": {
    "ExecuteTime": {
     "end_time": "2022-12-28T06:24:05.951791Z",
     "start_time": "2022-12-28T06:24:05.940862Z"
    }
   },
   "outputs": [
    {
     "data": {
      "text/plain": [
       "'이름: 홍길동, 나이: 30, 주소: 서울'"
      ]
     },
     "execution_count": 176,
     "metadata": {},
     "output_type": "execute_result"
    }
   ],
   "source": [
    "# str (객체) -> __str__()호출\n",
    "str(p)"
   ]
  },
  {
   "cell_type": "code",
   "execution_count": 178,
   "metadata": {
    "ExecuteTime": {
     "end_time": "2022-12-28T06:24:10.472767Z",
     "start_time": "2022-12-28T06:24:10.456787Z"
    }
   },
   "outputs": [
    {
     "name": "stdout",
     "output_type": "stream",
     "text": [
      "이름: 홍길동, 나이: 30, 주소: 서울\n"
     ]
    }
   ],
   "source": [
    "print(p) # print(값) -> 값을 문자열로 변환한 뒤 출력, 변환시 str()"
   ]
  },
  {
   "cell_type": "markdown",
   "metadata": {
    "slideshow": {
     "slide_type": "subslide"
    }
   },
   "source": [
    "#### 연산자 재정의(Operator overriding) 관련 특수 메소드\n",
    "- 연산자의 피연산자로 객체를 사용하면 호출되는 메소드들\n",
    "- 다항연산자일 경우 가장 왼쪽의 객체에 정의된 메소드가 호출된다.\n",
    "    - `a + b` 일경우 a의 `__add__()` 가 호출된다.\n",
    "- **비교 연산자**\n",
    "    - **`__eq__(self, other)`** : self == other\n",
    "        - == 로 객체의 내용을 비교할 때 정의 한다.\n",
    "    - **`__lt__(self, other)`** : self < other, __gt__(self, other): self > other\n",
    "        - min()이나 max()에서 인수로 사용할 경우 정의해야 한다.\n",
    "    - **`__le__(self, other)`**: self <= other\n",
    "    - **`__ge__(self, other)`**: self >= other\n",
    "    - **`__ne__(self, other)`**: self != other"
   ]
  },
  {
   "cell_type": "markdown",
   "metadata": {
    "slideshow": {
     "slide_type": "fragment"
    }
   },
   "source": [
    "- **산술 연산자**\n",
    "    - **`__add__(self, other)`**: self + other\n",
    "    - **`__sub__(self, other)`**: self - other\n",
    "    - **`__mul__(self, other)`**: self * other\n",
    "    - **`__truediv__(self, other)`**: self / other\n",
    "    - **`__floordiv__(self, other)`**: self // other\n",
    "    - **`__mod__(self, other)`**: self % other"
   ]
  },
  {
   "cell_type": "code",
   "execution_count": null,
   "metadata": {
    "slideshow": {
     "slide_type": "fragment"
    }
   },
   "outputs": [],
   "source": []
  },
  {
   "cell_type": "markdown",
   "metadata": {
    "slideshow": {
     "slide_type": "slide"
    }
   },
   "source": [
    "# class변수, class 메소드\n",
    "- **class변수**\n",
    "    - (Intance가 아닌) 클래스 자체의 데이터\n",
    "    - Attribute가 객체별로 생성된다면, class변수는 클래스당 하나가 생성된다.\n",
    "    - 구현\n",
    "        - class 블럭에 변수 선언.\n",
    "- **class 메소드**\n",
    "    - 클래스 변수를 처리하는 메소드\n",
    "    - 구현\n",
    "        - @classmethod 데코레이터를 붙인다.\n",
    "        - 첫번째 매개변수로 클래스를 받는 변수를 선언한다. 이 변수를 이용해 클래스 변수나 다른 클래스 메소드를 호출 한다."
   ]
  },
  {
   "cell_type": "markdown",
   "metadata": {
    "slideshow": {
     "slide_type": "subslide"
    }
   },
   "source": [
    "# static 메소드\n",
    "- 클래스의 메소드로 클래스 변수와 상관없는 단순기능을 정의한다.\n",
    "    - Caller 에서 받은 argument만 가지고 일하는 메소드를 구현한다.\n",
    "- 구현\n",
    "    - @staticmethod 데코레이터를 붙인다.\n",
    "    - Parameter에 대한 규칙은 없이 필요한 변수들만 선언한다.\n",
    "    "
   ]
  },
  {
   "cell_type": "markdown",
   "metadata": {
    "slideshow": {
     "slide_type": "fragment"
    }
   },
   "source": [
    "## class 메소드/변수, static 메소드 호출\n",
    "- 클래스이름.변수\n",
    "- 클래스이름.메소드() "
   ]
  },
  {
   "cell_type": "code",
   "execution_count": 1,
   "metadata": {
    "ExecuteTime": {
     "end_time": "2022-12-28T07:28:37.513849Z",
     "start_time": "2022-12-28T07:28:37.500848Z"
    },
    "slideshow": {
     "slide_type": "fragment"
    }
   },
   "outputs": [],
   "source": [
    "class Calculator:\n",
    "    PI = 3.14 #클래스 변수\n",
    "    \n",
    "    @classmethod\n",
    "    def circle_area(clazz, radius):\n",
    "        return radius * radius * clazz.PI #클래스 변수 호출.\n",
    "    \n",
    "    @staticmethod # 함수로 사용하기엔 거의 사용 안함\n",
    "    def square_area(width, height):\n",
    "        return width * height"
   ]
  },
  {
   "cell_type": "code",
   "execution_count": 235,
   "metadata": {
    "ExecuteTime": {
     "end_time": "2022-12-28T07:24:33.490791Z",
     "start_time": "2022-12-28T07:24:33.476790Z"
    }
   },
   "outputs": [
    {
     "name": "stdout",
     "output_type": "stream",
     "text": [
      "3.14\n"
     ]
    }
   ],
   "source": [
    "# 클래스 변수 호출: 클래스이름.변수명\n",
    "print(Calculator.PI)\n",
    "#Calculator.PI = 3.14159\n",
    "#print(Calculator.PI)"
   ]
  },
  {
   "cell_type": "code",
   "execution_count": null,
   "metadata": {},
   "outputs": [],
   "source": [
    "class calculator:\n",
    "    PI = 3.14 # 클래스변수\n",
    "    \n",
    "    @classmethod\n",
    "    def circle_area(clazz, radius):\n",
    "        return radius * radius * clazz.PI # 클래스 변수 호출"
   ]
  },
  {
   "cell_type": "code",
   "execution_count": null,
   "metadata": {},
   "outputs": [],
   "source": []
  },
  {
   "cell_type": "code",
   "execution_count": null,
   "metadata": {},
   "outputs": [],
   "source": []
  },
  {
   "cell_type": "code",
   "execution_count": 236,
   "metadata": {
    "ExecuteTime": {
     "end_time": "2022-12-28T07:24:34.163860Z",
     "start_time": "2022-12-28T07:24:34.149899Z"
    }
   },
   "outputs": [
    {
     "data": {
      "text/plain": [
       "78.5"
      ]
     },
     "execution_count": 236,
     "metadata": {},
     "output_type": "execute_result"
    }
   ],
   "source": [
    "Calculator.circle_area(5)"
   ]
  },
  {
   "cell_type": "code",
   "execution_count": 237,
   "metadata": {
    "ExecuteTime": {
     "end_time": "2022-12-28T07:24:35.302156Z",
     "start_time": "2022-12-28T07:24:35.294213Z"
    }
   },
   "outputs": [
    {
     "data": {
      "text/plain": [
       "78.5"
      ]
     },
     "execution_count": 237,
     "metadata": {},
     "output_type": "execute_result"
    }
   ],
   "source": [
    "5*5*3.14"
   ]
  },
  {
   "cell_type": "code",
   "execution_count": 240,
   "metadata": {
    "ExecuteTime": {
     "end_time": "2022-12-28T07:29:54.313168Z",
     "start_time": "2022-12-28T07:29:54.295215Z"
    }
   },
   "outputs": [
    {
     "data": {
      "text/plain": [
       "50"
      ]
     },
     "execution_count": 240,
     "metadata": {},
     "output_type": "execute_result"
    }
   ],
   "source": [
    "Calculator.square_area(10, 5)"
   ]
  },
  {
   "cell_type": "code",
   "execution_count": 241,
   "metadata": {
    "ExecuteTime": {
     "end_time": "2022-12-28T07:32:58.514227Z",
     "start_time": "2022-12-28T07:32:58.504290Z"
    },
    "slideshow": {
     "slide_type": "fragment"
    }
   },
   "outputs": [
    {
     "data": {
      "text/plain": [
       "[__main__.Calculator, object]"
      ]
     },
     "execution_count": 241,
     "metadata": {},
     "output_type": "execute_result"
    }
   ],
   "source": [
    "Calculator.mro()"
   ]
  }
 ],
 "metadata": {
  "kernelspec": {
   "display_name": "Python 3 (ipykernel)",
   "language": "python",
   "name": "python3"
  },
  "language_info": {
   "codemirror_mode": {
    "name": "ipython",
    "version": 3
   },
   "file_extension": ".py",
   "mimetype": "text/x-python",
   "name": "python",
   "nbconvert_exporter": "python",
   "pygments_lexer": "ipython3",
   "version": "3.9.16"
  },
  "toc": {
   "base_numbering": 1,
   "nav_menu": {},
   "number_sections": true,
   "sideBar": true,
   "skip_h1_title": false,
   "title_cell": "Table of Contents",
   "title_sidebar": "Contents",
   "toc_cell": false,
   "toc_position": {
    "height": "calc(100% - 180px)",
    "left": "10px",
    "top": "150px",
    "width": "303.825px"
   },
   "toc_section_display": true,
   "toc_window_display": false
  },
  "varInspector": {
   "cols": {
    "lenName": 16,
    "lenType": 16,
    "lenVar": 40
   },
   "kernels_config": {
    "python": {
     "delete_cmd_postfix": "",
     "delete_cmd_prefix": "del ",
     "library": "var_list.py",
     "varRefreshCmd": "print(var_dic_list())"
    },
    "r": {
     "delete_cmd_postfix": ") ",
     "delete_cmd_prefix": "rm(",
     "library": "var_list.r",
     "varRefreshCmd": "cat(var_dic_list()) "
    }
   },
   "types_to_exclude": [
    "module",
    "function",
    "builtin_function_or_method",
    "instance",
    "_Feature"
   ],
   "window_display": false
  }
 },
 "nbformat": 4,
 "nbformat_minor": 4
}
