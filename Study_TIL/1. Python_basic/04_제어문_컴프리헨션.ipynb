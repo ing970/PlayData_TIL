{
 "cells": [
  {
   "cell_type": "markdown",
   "id": "8c49cd8e",
   "metadata": {
    "slideshow": {
     "slide_type": "slide"
    }
   },
   "source": [
    "# 제어문(Control flow statement)\n",
    "기본적으로 프로그램은 순차구조를 가진다. 즉 작성한 순서대로 실행이 된다.  \n",
    "이런 실행흐름을 다른 순서로 제어하기 위한 구문을 만드는 문법이 제어문이다.  \n",
    "제어문은 **조건문** 과 **반복문** 두가지 문법이 있다.\n",
    "- 조건문\n",
    "    - if 문\n",
    "- 반복문\n",
    "    - while 문\n",
    "    - for in 문"
   ]
  },
  {
   "cell_type": "markdown",
   "id": "92c502ce",
   "metadata": {
    "slideshow": {
     "slide_type": "slide"
    }
   },
   "source": [
    "# 조건문/분기문 (conditional statement)\n",
    "- 프로그램이 명령문들을 실행하는 도중 특정 순서에서 **조건에 따라 흐름의 나눠져야 하는 경우 사용한다**\n",
    "- 파이썬은 조건문으로 **if문**이 있다.\n",
    "\n",
    "![조건문](../images/ch03_01.png)\n",
    "\n",
    "<center>입력 받은 a 의 값이 0인지 여부에 따라 두가지 흐름으로 분기된다.</center>\n"
   ]
  },
  {
   "cell_type": "markdown",
   "id": "2a3c1835",
   "metadata": {
    "slideshow": {
     "slide_type": "subslide"
    }
   },
   "source": [
    "## 구문\n",
    "\n",
    "- 조건이 True일 경우만 특정 구문들을 실행 하는 조건문.\n",
    "```python\n",
    "if 조건:    # 조건은 bool 표현식을 기술한다. 조건선언 다음에 : 으로 선언해서 코드블록을 구분한다.\n",
    "    명령문1  # 조건이 True이면 실행할 구문들을 코드블럭에 기술한다.\n",
    "    명령문2  # 코드 블록은 들여쓰기를 이용해 묶어준다. 보통 공백 4칸으로 들여쓰기를 한다.\n",
    "    ...\n",
    "```\n",
    "> <b style='font-size:1.2em'>파이썬의 코드블록(code block)</b>  \n",
    "> 코드블록이란 여러개의 실행명령문들을 묶어놓은 것을 말한다. \n",
    "> 파이썬에서는 코드블록을 작성할 때 들여쓰기를 이용해 묶어준다. 같은 칸만큼 들여쓰기를 한 명령문들이 같은 블록으로 묶인다.\n",
    "> 들여쓰기는 관례적으로 공백 4칸을 사용한다. "
   ]
  },
  {
   "cell_type": "code",
   "execution_count": 2,
   "id": "2b9b48a1",
   "metadata": {
    "ExecuteTime": {
     "end_time": "2022-12-22T00:49:56.627858Z",
     "start_time": "2022-12-22T00:49:29.794324Z"
    }
   },
   "outputs": [
    {
     "name": "stdout",
     "output_type": "stream",
     "text": [
      "정수: 0\n",
      "'0'입니다.\n",
      "Zero\n",
      "종료\n"
     ]
    }
   ],
   "source": [
    "# 1. 정수를 입력받는다.\n",
    "num = int(input(\"정수: \"))\n",
    "# 2. 입력받은 정수가 0이면 \"영입니다.\" 라고 출력을 한다.\n",
    "if num == 0:\n",
    "    print(\"'0'입니다.\")\n",
    "    print(\"Zero\")\n",
    "# 3. \"종료\"를 출력한다.\n",
    "print(\"종료\")"
   ]
  },
  {
   "cell_type": "markdown",
   "id": "09c79c35",
   "metadata": {
    "slideshow": {
     "slide_type": "subslide"
    }
   },
   "source": [
    "- 조건이 True일때 실행할 구문과 False일때 실행하는 조건문.\n",
    "```python\n",
    "if 조건:     \n",
    "    명령문1_1 # 조건이 True일 경우 실행할 구문들\n",
    "    명령문1_2\n",
    "    ...\n",
    "else:\n",
    "    명령문2_1 # 조건이 False일 경우 실행할 구문들\n",
    "    명령문2_2\n",
    "    ...\n",
    "```"
   ]
  },
  {
   "cell_type": "code",
   "execution_count": 4,
   "id": "b6ecc021",
   "metadata": {
    "ExecuteTime": {
     "end_time": "2022-12-22T01:12:58.978206Z",
     "start_time": "2022-12-22T01:12:54.867412Z"
    }
   },
   "outputs": [
    {
     "name": "stdout",
     "output_type": "stream",
     "text": [
      "정수: -1\n",
      "'0' 이 아닙니다.\n",
      "Not Zero\n",
      "종료\n"
     ]
    }
   ],
   "source": [
    "# 정수를 입력받는다.\n",
    "num = int(input(\"정수: \"))\n",
    "# 2-1. 만약에 정수가 0이면 \"영 입니다.\" 를 출력\n",
    "if num == 0:\n",
    "    print(\"'0' 입니다.\")\n",
    "    print(\"Zero\")\n",
    "# 2-2 0이 아니면 \"영이 아닙니다.\" 를 출력\n",
    "else:\n",
    "    print(\"'0' 이 아닙니다.\")\n",
    "    print(\"Not Zero\")\n",
    "# 3. 종료\n",
    "print(\"종료\")"
   ]
  },
  {
   "cell_type": "code",
   "execution_count": 10,
   "id": "20efc336",
   "metadata": {
    "ExecuteTime": {
     "end_time": "2022-12-22T01:16:32.758475Z",
     "start_time": "2022-12-22T01:16:32.744515Z"
    }
   },
   "outputs": [
    {
     "name": "stdout",
     "output_type": "stream",
     "text": [
      "False\n",
      "True\n"
     ]
    }
   ],
   "source": [
    "print(bool(0))\n",
    "print(bool(10))"
   ]
  },
  {
   "cell_type": "code",
   "execution_count": null,
   "id": "0c1e93f1",
   "metadata": {
    "ExecuteTime": {
     "start_time": "2022-12-22T01:25:11.027Z"
    }
   },
   "outputs": [],
   "source": [
    "# 위 문제 참고##############\n",
    "# 정수를 입력받는다.\n",
    "num = int(input(\"정수 :\"))\n",
    "# 2-1. 만약에 정수가 0이면 \"영 입니다.\" 를 출력\n",
    "if num: # or if \n",
    "    print(\"영이 아닙니다.\")\n",
    "    print(\"Not Zero\")\n",
    "# 2-2 0이 아니면 \"영이 아닙니다.\" 를 출력\n",
    "else:\n",
    "    print(\"영 입니다.\")\n",
    "    print(\"Zero\")\n",
    "# 3. 종료\n",
    "print(\"종료\")"
   ]
  },
  {
   "cell_type": "code",
   "execution_count": 1,
   "id": "c5770075",
   "metadata": {
    "ExecuteTime": {
     "end_time": "2022-12-22T01:29:37.485057Z",
     "start_time": "2022-12-22T01:29:33.826915Z"
    }
   },
   "outputs": [
    {
     "name": "stdout",
     "output_type": "stream",
     "text": [
      "ID :ssssss\n",
      "ssssss는 사용할 수 있는 ID 입니다.\n",
      "가입처리\n",
      "종료\n"
     ]
    }
   ],
   "source": [
    "# 1. id를 입력받는다.\n",
    "id = input(\"ID :\")\n",
    "# 2-1 . id 가 5글자 이상이면 \"사용할수 있는 ID 입니다.\" 를 출력\n",
    "if len(id) >= 5:\n",
    "    print(f\"{id}는 사용할 수 있는 ID 입니다.\")\n",
    "    print(\"가입처리\")\n",
    "    # 2-2. id가 5글자 미만이면 \"ID는 5글자 이상 입력하세요\" 를 출력\n",
    "else:\n",
    "    print(\"ID는 5글자 이상 입력하세요.\")\n",
    "    print(f\"입력한 ID는 {len(id)}글자 입니다.\")\n",
    "# 3. \"가입 처리\"를 출력\n",
    "print(\"종료\")"
   ]
  },
  {
   "cell_type": "code",
   "execution_count": 2,
   "id": "b9eef95b",
   "metadata": {
    "ExecuteTime": {
     "end_time": "2022-12-22T01:31:39.205999Z",
     "start_time": "2022-12-22T01:31:37.582065Z"
    }
   },
   "outputs": [
    {
     "name": "stdout",
     "output_type": "stream",
     "text": [
      "입력하세요:dd\n",
      "0글자 이상\n"
     ]
    }
   ],
   "source": [
    "# 입력받은 글자가 0글자 이상이면 \"글을 입력했습니다.\"\n",
    "s = input(\"입력하세요:\")\n",
    "# if len(s) > 0:\n",
    "if s:\n",
    "    print(\"0글자 이상\")\n",
    "else:\n",
    "    print(\"빈문자열\")"
   ]
  },
  {
   "cell_type": "markdown",
   "id": "621eae9a",
   "metadata": {
    "slideshow": {
     "slide_type": "subslide"
    }
   },
   "source": [
    "- 조건이 여러개인 조건문.\n",
    "```python\n",
    "if 조건1:\n",
    "    명령문1_1  # 조건1이 True일 경우 실행할 코드블록. \n",
    "    명령문1_2\n",
    "    ...\n",
    "elif 조건2:    # 다음 조건으로 앞의 조건들이 모드 False일 경우 비교한다.\n",
    "    명령문2_1  # 조건2가 True일 경우 실행할 코드블록.\n",
    "    명령문2_2\n",
    "    ...\n",
    "elif 조건3 :\n",
    "    명령문3_1\n",
    "    명령문3_2\n",
    "    ...\n",
    "else:         # 위의 모든 조건이 False일 경우 실행하는 코드블록. 생략 가능하다.\n",
    "    명령문4\n",
    "```"
   ]
  },
  {
   "cell_type": "code",
   "execution_count": 5,
   "id": "1212e6ba",
   "metadata": {
    "ExecuteTime": {
     "end_time": "2022-12-22T01:41:15.737012Z",
     "start_time": "2022-12-22T01:41:12.987312Z"
    }
   },
   "outputs": [
    {
     "name": "stdout",
     "output_type": "stream",
     "text": [
      "정수: 1\n",
      "양수 입니다.\n",
      "종료\n"
     ]
    }
   ],
   "source": [
    "# 1. 정수를 입력받는다.\n",
    "num = int(input(\"정수: \"))\n",
    "# 2-1. 입력받은 정수가 0초과이면 \"양수입니다.\" 출력.\n",
    "if num > 0:\n",
    "    print(\"양수 입니다.\")\n",
    "    \n",
    "# 2-2. 입력받은 정수가 0이면 \"0입니다.\" 출력\n",
    "elif num == 0: # not num 입력 가능.\n",
    "    print(\"'0'입니다.\")\n",
    "    \n",
    "# 2-3. 입력받은 정수가 0 미만이면 \"음수입니다.\" 를 출력.\n",
    "elif num < 0: # else: 도 가능\n",
    "    print(\"음수 입니다.\")\n",
    "    \n",
    "# 3. 종료\n",
    "print(\"종료\")"
   ]
  },
  {
   "cell_type": "code",
   "execution_count": 5,
   "id": "136b0cf6",
   "metadata": {
    "ExecuteTime": {
     "end_time": "2022-12-22T01:50:30.539079Z",
     "start_time": "2022-12-22T01:48:30.447701Z"
    }
   },
   "outputs": [
    {
     "name": "stdout",
     "output_type": "stream",
     "text": [
      "정수 :100\n",
      "양수입니다.\n",
      "100 이상입니다.\n"
     ]
    }
   ],
   "source": [
    "# 정수를 입력을 받는다. 0이상이면 \"양수입니다.\" 출력. 100 이상이면 추가로 \"100 이상입니다\" 를 출력\n",
    "num = int(input(\"정수 :\"))\n",
    "if num >= 0:\n",
    "    print(\"양수입니다.\")\n",
    "if num >= 100: # 양수중에 100 이상인지를 추가 비교.\n",
    "    print(\"100 이상입니다.\")"
   ]
  },
  {
   "cell_type": "code",
   "execution_count": 15,
   "id": "0240e4dc",
   "metadata": {
    "ExecuteTime": {
     "end_time": "2022-12-22T02:11:12.085445Z",
     "start_time": "2022-12-22T02:11:08.352497Z"
    }
   },
   "outputs": [
    {
     "name": "stdout",
     "output_type": "stream",
     "text": [
      "정수 :1000000\n",
      "양수\n",
      "100 이상\n",
      "1000 이상\n",
      "종료\n"
     ]
    }
   ],
   "source": [
    "num = int(input(\"정수 :\"))\n",
    "if num >= 0:\n",
    "    print(\"양수\")\n",
    "    if num >= 100:\n",
    "        print(\"100 이상\")\n",
    "        if num >= 1000:\n",
    "            print(\"1000 이상\")\n",
    "print(\"종료\")"
   ]
  },
  {
   "cell_type": "code",
   "execution_count": null,
   "id": "15b8e917",
   "metadata": {},
   "outputs": [],
   "source": [
    "num = int(input(\"정수 :\"))\n",
    "if num >= 0:\n",
    "    print(\"양수\")\n",
    "    if num >= 100:\n",
    "        print(\"100 이상\")\n",
    "        if num >= 1000:\n",
    "            print(\"1000 이상\")\n",
    "print(\"종료\")"
   ]
  },
  {
   "cell_type": "markdown",
   "id": "2149b728",
   "metadata": {
    "slideshow": {
     "slide_type": "slide"
    }
   },
   "source": [
    "# 반복문 (Loop statement)\n",
    "\n",
    "특정 구문들을 반복해서 실행할 때 사용한다. 동일한 코드를 여러번 반복하거나 값이 일정하게 변하는 코드를 반복할 경우 사용한다.  \n",
    "단순 반복을 처리하는 **while문**과 iterable객체가 제공하는 값들을 반복 조회하는 **for in문** 두가지 문법이 있다.\n",
    "\n",
    "![반복문](../images/ch03_02.png)\n",
    "<center>count의 값이 limit의 값보다 크거나 같을때 까지 count의 값을 1증가 후 출력하는 구문을 반복한다. </center>"
   ]
  },
  {
   "cell_type": "markdown",
   "id": "b4740a36",
   "metadata": {
    "slideshow": {
     "slide_type": "subslide"
    }
   },
   "source": [
    "## while문\n",
    "- 조건이 True인 동안 구문을 반복해서 실행한다.\n",
    "\n",
    "### 구문\n",
    "```python\n",
    "while 조건:       # 조건은 bool 표현식을 기술한다. 조건선언 다음에 : 으로 선언해서 코드블록을 구분한다\n",
    "    반복할 구문1  # 반복할 구문을 코드블록으로 작성한다.  \n",
    "    반복할 구문2\n",
    "    ...\n",
    "```"
   ]
  },
  {
   "cell_type": "code",
   "execution_count": 1,
   "id": "6b11bde6",
   "metadata": {
    "ExecuteTime": {
     "end_time": "2022-12-22T02:23:47.427005Z",
     "start_time": "2022-12-22T02:23:45.670971Z"
    },
    "slideshow": {
     "slide_type": "fragment"
    }
   },
   "outputs": [
    {
     "name": "stdout",
     "output_type": "stream",
     "text": [
      "반복횟수: 5\n",
      "1\n",
      "2\n",
      "3\n",
      "4\n",
      "5\n",
      "끝\n"
     ]
    }
   ],
   "source": [
    "limit = int(input(\"반복횟수: \"))\n",
    "count = 0 # 몇번째 반복인지를 저장하는 변수\n",
    "while count < limit:\n",
    "    count += 1 # 조건을 변경하는 구문이 있어야 반복을 멈춘다.\n",
    "    print(count)\n",
    "print(\"끝\")"
   ]
  },
  {
   "cell_type": "markdown",
   "id": "04f12e55",
   "metadata": {
    "slideshow": {
     "slide_type": "subslide"
    }
   },
   "source": [
    "## for  in 문\n",
    "- for in문은 Iterable 타입의 객체가 가지고 있는 값들을 각가 모두 조회하여 처리하는 구문을 작성할 때 사용한다.\n",
    "\n",
    "> - Iterable\n",
    ">    - 반복가능한 객체. 반복문(for in)을 이용해 일련의 값들을 반복적으로 각각 제공하는 객체를 말한다. \n",
    ">    - 대표적으로 List, Tuple, Dictionary, Set, 문자열 등이 있다.\n",
    "\n",
    "### 구문\n",
    "```python\n",
    "for 변수 in Iterable: # for in 선언후 : 으로 선언부와 구현부를 나눈다.\n",
    "    반복구문          # Iterable이 반복시 제공하는 값을 가지는 \"변수\"를 이용한 반복구문을 코드블록으로 작성한다.\n",
    "    반복구문\n",
    "```"
   ]
  },
  {
   "cell_type": "code",
   "execution_count": 50,
   "id": "528ea2c9",
   "metadata": {
    "ExecuteTime": {
     "end_time": "2022-12-22T03:01:55.748470Z",
     "start_time": "2022-12-22T03:01:55.737501Z"
    }
   },
   "outputs": [],
   "source": [
    "l = [10, 5, 8, 20, 8, 7]"
   ]
  },
  {
   "cell_type": "code",
   "execution_count": 57,
   "id": "298d0bf4",
   "metadata": {
    "ExecuteTime": {
     "end_time": "2022-12-22T03:05:26.493527Z",
     "start_time": "2022-12-22T03:05:26.471587Z"
    }
   },
   "outputs": [
    {
     "data": {
      "text/plain": [
       "10"
      ]
     },
     "execution_count": 57,
     "metadata": {},
     "output_type": "execute_result"
    }
   ],
   "source": [
    "l = [10, 5, 8, 20, 8, 7] # iterable\n",
    "l_iter = iter(l)         # iterable\n",
    "next(l_iter)"
   ]
  },
  {
   "cell_type": "code",
   "execution_count": 55,
   "id": "1d90fe90",
   "metadata": {
    "ExecuteTime": {
     "end_time": "2022-12-22T03:03:18.642636Z",
     "start_time": "2022-12-22T03:03:18.619698Z"
    }
   },
   "outputs": [
    {
     "name": "stdout",
     "output_type": "stream",
     "text": [
      "5 100\n",
      "8 160\n",
      "20 400\n",
      "8 160\n",
      "7 140\n"
     ]
    },
    {
     "ename": "StopIteration",
     "evalue": "",
     "output_type": "error",
     "traceback": [
      "\u001b[1;31m---------------------------------------------------------------------------\u001b[0m",
      "\u001b[1;31mStopIteration\u001b[0m                             Traceback (most recent call last)",
      "\u001b[1;32m~\\AppData\\Local\\Temp\\ipykernel_10088\\867768986.py\u001b[0m in \u001b[0;36m<module>\u001b[1;34m\u001b[0m\n\u001b[0;32m      1\u001b[0m \u001b[1;32mwhile\u001b[0m \u001b[1;32mTrue\u001b[0m\u001b[1;33m:\u001b[0m \u001b[1;31m# 리스트의 모든 값들을 다 처리할 떄 까지. -> stopIteration 이란 Exception이 발생할 때 까지.\u001b[0m\u001b[1;33m\u001b[0m\u001b[1;33m\u001b[0m\u001b[0m\n\u001b[1;32m----> 2\u001b[1;33m     \u001b[0mv\u001b[0m \u001b[1;33m=\u001b[0m \u001b[0mnext\u001b[0m\u001b[1;33m(\u001b[0m\u001b[0ml_iter\u001b[0m\u001b[1;33m)\u001b[0m \u001b[1;31m# 리스트에서 값을 하나 조회해서 변수 v에 할당.\u001b[0m\u001b[1;33m\u001b[0m\u001b[1;33m\u001b[0m\u001b[0m\n\u001b[0m\u001b[0;32m      3\u001b[0m     \u001b[0mv2\u001b[0m \u001b[1;33m=\u001b[0m \u001b[0mv\u001b[0m\u001b[1;33m*\u001b[0m\u001b[1;36m20\u001b[0m        \u001b[1;31m# v의 값을 처리\u001b[0m\u001b[1;33m\u001b[0m\u001b[1;33m\u001b[0m\u001b[0m\n\u001b[0;32m      4\u001b[0m     \u001b[0mprint\u001b[0m\u001b[1;33m(\u001b[0m\u001b[0mv\u001b[0m\u001b[1;33m,\u001b[0m \u001b[0mv2\u001b[0m\u001b[1;33m)\u001b[0m\u001b[1;33m\u001b[0m\u001b[1;33m\u001b[0m\u001b[0m\n",
      "\u001b[1;31mStopIteration\u001b[0m: "
     ]
    }
   ],
   "source": [
    "while True: # 리스트의 모든 값들을 다 처리할 떄 까지. -> stopIteration 이란 Exception이 발생할 때 까지.\n",
    "    v = next(l_iter) # 리스트에서 값을 하나 조회해서 변수 v에 할당.\n",
    "    v2 = v*20        # v의 값을 처리\n",
    "    print(v, v2)"
   ]
  },
  {
   "cell_type": "code",
   "execution_count": 61,
   "id": "5a6f8e01",
   "metadata": {
    "ExecuteTime": {
     "end_time": "2022-12-22T03:10:59.083225Z",
     "start_time": "2022-12-22T03:10:59.061285Z"
    }
   },
   "outputs": [
    {
     "name": "stdout",
     "output_type": "stream",
     "text": [
      "10 200\n",
      "5 100\n",
      "8 160\n",
      "20 400\n",
      "8 160\n",
      "7 140\n"
     ]
    }
   ],
   "source": [
    "l = [10, 5, 8, 20, 8, 7]\n",
    "l_iter = iter(l)  \n",
    "v = next(l_iter)\n",
    "v2 = v*20\n",
    "for v in l:\n",
    "    v2 = v * 20\n",
    "    print(v, v2)"
   ]
  },
  {
   "cell_type": "code",
   "execution_count": 52,
   "id": "fd0bc84a",
   "metadata": {
    "ExecuteTime": {
     "end_time": "2022-12-22T03:02:12.136585Z",
     "start_time": "2022-12-22T03:02:12.124586Z"
    }
   },
   "outputs": [],
   "source": [
    "l = [10, 5, 8, 20, 8, 7]"
   ]
  },
  {
   "cell_type": "code",
   "execution_count": 53,
   "id": "a6bbff23",
   "metadata": {
    "ExecuteTime": {
     "end_time": "2022-12-22T03:02:13.862363Z",
     "start_time": "2022-12-22T03:02:13.842420Z"
    }
   },
   "outputs": [
    {
     "name": "stdout",
     "output_type": "stream",
     "text": [
      "<list_iterator object at 0x00000146BF7FB6A0>\n"
     ]
    }
   ],
   "source": [
    "l = [10, 5, 8, 20, 8, 7]\n",
    "l_iter = iter(l)  \n",
    "print(l_iter)"
   ]
  },
  {
   "cell_type": "code",
   "execution_count": 21,
   "id": "6c25f15f",
   "metadata": {
    "ExecuteTime": {
     "end_time": "2022-12-22T02:44:44.108251Z",
     "start_time": "2022-12-22T02:44:44.097280Z"
    }
   },
   "outputs": [
    {
     "name": "stdout",
     "output_type": "stream",
     "text": [
      "1, 2, 3, 4, 5, "
     ]
    }
   ],
   "source": [
    "for v in (1,2,3,4,5):\n",
    "    print(v, end=\", \")"
   ]
  },
  {
   "cell_type": "code",
   "execution_count": 22,
   "id": "6e0a2c61",
   "metadata": {
    "ExecuteTime": {
     "end_time": "2022-12-22T02:45:40.289759Z",
     "start_time": "2022-12-22T02:45:40.269779Z"
    }
   },
   "outputs": [
    {
     "name": "stdout",
     "output_type": "stream",
     "text": [
      "10\t20\t30\t"
     ]
    }
   ],
   "source": [
    "for v in {10,20,30,10,10}:\n",
    "    print(v, end=\"\\t\")"
   ]
  },
  {
   "cell_type": "code",
   "execution_count": 24,
   "id": "5814f7ab",
   "metadata": {
    "ExecuteTime": {
     "end_time": "2022-12-22T02:47:20.000757Z",
     "start_time": "2022-12-22T02:47:19.979846Z"
    }
   },
   "outputs": [
    {
     "name": "stdout",
     "output_type": "stream",
     "text": [
      "key1 1\n",
      "key2 2\n",
      "key3 3\n"
     ]
    }
   ],
   "source": [
    "d = {\"key1\":1, \"key2\":2, \"key3\":3}\n",
    "for v in d: #dictionary는 key를 반환.\n",
    "    print(v, d[v])"
   ]
  },
  {
   "cell_type": "code",
   "execution_count": 26,
   "id": "c40bd86a",
   "metadata": {
    "ExecuteTime": {
     "end_time": "2022-12-22T02:48:30.934374Z",
     "start_time": "2022-12-22T02:48:30.925399Z"
    }
   },
   "outputs": [
    {
     "name": "stdout",
     "output_type": "stream",
     "text": [
      "a\n",
      "b\n",
      "c\n",
      "d\n",
      "e\n",
      "f\n",
      "g\n"
     ]
    }
   ],
   "source": [
    "for v in \"abcdefg\":\n",
    "    print(v)"
   ]
  },
  {
   "cell_type": "markdown",
   "id": "945c07fc",
   "metadata": {
    "ExecuteTime": {
     "end_time": "2022-12-22T02:50:18.847051Z",
     "start_time": "2022-12-22T02:50:18.835047Z"
    }
   },
   "source": [
    " l = [\n",
    "    [1, 2, 3],\n",
    "    [4, 5, 6],\n",
    "    [7, 8, 9]\n",
    "]\n",
    "for v in l:\n",
    "    print(v)"
   ]
  },
  {
   "cell_type": "code",
   "execution_count": 14,
   "id": "b0a98a7b",
   "metadata": {
    "ExecuteTime": {
     "end_time": "2022-12-22T03:55:03.668320Z",
     "start_time": "2022-12-22T03:55:03.649406Z"
    }
   },
   "outputs": [
    {
     "name": "stdout",
     "output_type": "stream",
     "text": [
      "[1, 2, 3]\n",
      "[4, 5, 6]\n",
      "[7, 8, 9]\n"
     ]
    }
   ],
   "source": [
    "l = [ [1, 2, 3], [4, 5, 6], [7, 8, 9] ]\n",
    "for v in l: print(v)"
   ]
  },
  {
   "cell_type": "code",
   "execution_count": 66,
   "id": "aa1203e8",
   "metadata": {
    "ExecuteTime": {
     "end_time": "2022-12-22T03:12:51.702362Z",
     "start_time": "2022-12-22T03:12:51.694381Z"
    }
   },
   "outputs": [
    {
     "name": "stdout",
     "output_type": "stream",
     "text": [
      "10\n",
      "5\n",
      "8\n",
      "20\n",
      "8\n",
      "7\n"
     ]
    }
   ],
   "source": [
    "for v in l:\n",
    "    print(v)"
   ]
  },
  {
   "cell_type": "code",
   "execution_count": 19,
   "id": "da0ce0f6",
   "metadata": {
    "ExecuteTime": {
     "end_time": "2022-12-22T03:59:01.582515Z",
     "start_time": "2022-12-22T03:59:01.562531Z"
    },
    "slideshow": {
     "slide_type": "fragment"
    }
   },
   "outputs": [
    {
     "name": "stdout",
     "output_type": "stream",
     "text": [
      "1\n",
      "-----------\n",
      "2\n",
      "-----------\n",
      "3\n",
      "-----------\n",
      "4\n",
      "-----------\n",
      "5\n",
      "-----------\n",
      "6\n",
      "-----------\n",
      "7\n",
      "-----------\n",
      "8\n",
      "-----------\n",
      "9\n",
      "-----------\n"
     ]
    }
   ],
   "source": [
    "l = [ [1, 2, 3], [4, 5, 6], [7, 8, 9] ]\n",
    "for v in l:\n",
    "    for value in v:\n",
    "        print(value)\n",
    "        print('-----------')"
   ]
  },
  {
   "cell_type": "markdown",
   "id": "1f30cd6f",
   "metadata": {
    "slideshow": {
     "slide_type": "subslide"
    }
   },
   "source": [
    "## continue와 break를 이용한 반복문 제어\n",
    "- **continue**\n",
    "    - 현재 반복을 중단하고 다음 반복을 진행한다.\n",
    "    - 특정 조건에서 처리를 멈추고 다음 처리를 반복할 때 사용한다.\n",
    "- **break**\n",
    "    - 반복을 중단한다.\n",
    "    - 특정 조건에서 반복문을 중간에 중지할때 사용한다.\n",
    "- continue와 break는 특정 조건에서 실행되야 하는 경우가 대부분이므로 if문 안에 작성한다.    "
   ]
  },
  {
   "cell_type": "code",
   "execution_count": 3,
   "id": "9edba03d",
   "metadata": {
    "ExecuteTime": {
     "end_time": "2022-12-22T03:16:45.669016Z",
     "start_time": "2022-12-22T03:16:45.658078Z"
    }
   },
   "outputs": [
    {
     "name": "stdout",
     "output_type": "stream",
     "text": [
      "3\n",
      "6\n",
      "9\n"
     ]
    }
   ],
   "source": [
    "l = [1,2,3,4,5,6,7,8,9,10,11]\n",
    "# 3의 배수들만 출력\n",
    "for v in l:\n",
    "    if v % 3 == 0:\n",
    "        print(v)"
   ]
  },
  {
   "cell_type": "code",
   "execution_count": 4,
   "id": "5187286d",
   "metadata": {
    "ExecuteTime": {
     "end_time": "2022-12-22T03:17:52.784351Z",
     "start_time": "2022-12-22T03:17:52.775374Z"
    }
   },
   "outputs": [
    {
     "name": "stdout",
     "output_type": "stream",
     "text": [
      "3\n",
      "6\n",
      "9\n"
     ]
    }
   ],
   "source": [
    "for v in l:\n",
    "    if v % 3 !=0: # 3의 배수가 아니라면\n",
    "        continue # 다음 원소를 반복 조회하라.\n",
    "    print(v)"
   ]
  },
  {
   "cell_type": "code",
   "execution_count": 5,
   "id": "b9cb822c",
   "metadata": {},
   "outputs": [
    {
     "name": "stdout",
     "output_type": "stream",
     "text": [
      "3\n",
      "6\n",
      "9\n"
     ]
    }
   ],
   "source": [
    "for v in l:\n",
    "    if v % 3 == 0:\n",
    "        print(v)\n",
    "    continue"
   ]
  },
  {
   "cell_type": "code",
   "execution_count": 74,
   "id": "447407bc",
   "metadata": {
    "ExecuteTime": {
     "end_time": "2022-12-22T03:20:04.533081Z",
     "start_time": "2022-12-22T03:20:04.517119Z"
    }
   },
   "outputs": [
    {
     "name": "stdout",
     "output_type": "stream",
     "text": [
      "1\n",
      "2\n",
      "3\n",
      "4\n",
      "5\n",
      "6\n"
     ]
    }
   ],
   "source": [
    "# list의 값이 7이 있을 경우 더이상 출력하지 않는다.\n",
    "for v in l:\n",
    "    if v == 7: # False 이면 계속 하다 True 가 될때 break.\n",
    "        break\n",
    "    print(v)"
   ]
  },
  {
   "cell_type": "code",
   "execution_count": 79,
   "id": "70d91e05",
   "metadata": {
    "ExecuteTime": {
     "end_time": "2022-12-22T03:25:21.008605Z",
     "start_time": "2022-12-22T03:25:20.998630Z"
    }
   },
   "outputs": [
    {
     "name": "stdout",
     "output_type": "stream",
     "text": [
      "True\n"
     ]
    }
   ],
   "source": [
    "l2 = [10, 2, 30, 10, 20, 7, 10, 20, 7, 10 ,2 ,7]\n",
    "# l2 에 7이 있는지를 확인\n",
    "result = False # 7이 있는지 여부를 bool 값을 저장할 변수\n",
    "for v in l2:\n",
    "    if v == 7:\n",
    "        result = True # 만약에 7이 몇개인지를 확인하려면 전체를 다 검사해야하는데 7이 있는지 없는지만 확인할 경우 첫번쨰 것을 찾고 끝낸다.\n",
    "        break\n",
    "print(result)"
   ]
  },
  {
   "cell_type": "code",
   "execution_count": 80,
   "id": "81d61615",
   "metadata": {
    "ExecuteTime": {
     "end_time": "2022-12-22T03:25:21.951317Z",
     "start_time": "2022-12-22T03:25:21.939384Z"
    }
   },
   "outputs": [
    {
     "name": "stdout",
     "output_type": "stream",
     "text": [
      "7 있음\n"
     ]
    }
   ],
   "source": [
    "str_result = \"7 있음\" if result else \"7 없음\"\n",
    "print(str_result)"
   ]
  },
  {
   "cell_type": "code",
   "execution_count": 12,
   "id": "e0257f4f",
   "metadata": {
    "ExecuteTime": {
     "end_time": "2022-12-22T03:43:42.668322Z",
     "start_time": "2022-12-22T03:43:32.364128Z"
    }
   },
   "outputs": [
    {
     "name": "stdout",
     "output_type": "stream",
     "text": [
      "txt: 122\n",
      ">> 122\n",
      "txt: 22\n",
      ">> 22\n",
      "txt: !q\n"
     ]
    }
   ],
   "source": [
    "# 사용자로 \"!q\" 입력할 때 까지 글을 입력받아서 출력한다. \n",
    "while True:\n",
    "    txt = input(\"txt: \")\n",
    "    if txt == \"!q\":      \n",
    "        break\n",
    "    print(f\">> {txt}\")"
   ]
  },
  {
   "cell_type": "code",
   "execution_count": null,
   "id": "d16b321d",
   "metadata": {
    "ExecuteTime": {
     "start_time": "2022-12-22T04:14:11.006Z"
    }
   },
   "outputs": [
    {
     "name": "stdout",
     "output_type": "stream",
     "text": [
      "txt: sdklsldk\n",
      ">> sdklsldk\n",
      "txt: sdklskd\n",
      ">> sdklskd\n",
      "txt: [sldklsd\n",
      ">> [sldklsd\n"
     ]
    }
   ],
   "source": [
    "txt = input(\"txt: \")\n",
    "while txt != \"!q\":\n",
    "    print(f\">> {txt}\")\n",
    "    txt = input(\"txt: \")\n"
   ]
  },
  {
   "cell_type": "code",
   "execution_count": 2,
   "id": "10e357db",
   "metadata": {
    "ExecuteTime": {
     "end_time": "2022-12-22T05:05:31.204099Z",
     "start_time": "2022-12-22T05:05:02.430050Z"
    }
   },
   "outputs": [
    {
     "name": "stdout",
     "output_type": "stream",
     "text": [
      "txt: skdl\n",
      ">> skdl\n",
      "txt: skdl\n",
      ">> skdl\n",
      "txt: 안녕\n",
      ">> 안녕\n",
      "txt: 안녕\n",
      ">> 안녕\n",
      "txt: 항이\n",
      ">> 항이\n",
      "txt: 하이\n",
      ">> 하이\n",
      "txt: !q\n",
      ">> !q\n",
      "txt: iq\n"
     ]
    }
   ],
   "source": [
    "txt = input(\"txt: \")\n",
    "while txt != \"iq\":\n",
    "    print(f\">> {txt}\")\n",
    "    txt = input(\"txt: \")"
   ]
  },
  {
   "cell_type": "code",
   "execution_count": 1,
   "id": "9c83f246",
   "metadata": {
    "ExecuteTime": {
     "end_time": "2022-12-22T04:18:13.077233Z",
     "start_time": "2022-12-22T04:18:13.055296Z"
    }
   },
   "outputs": [
    {
     "name": "stdout",
     "output_type": "stream",
     "text": [
      "1, 2, 3, \n",
      "10, 20, "
     ]
    }
   ],
   "source": [
    "# 중첩 반복문의 안쪽 반복문에서 전체 반복문을 멈추게(break) 하기 위한 로직.\n",
    "\n",
    "l = [[1,2,3], [10,20,30], [100,200,300]]\n",
    "# 20이 있으면 전체 반복을 멈춘다.\n",
    "is_finish = False # 전체 반복을 멈출지 여부 (True: 멈춤, False: 안멈춤)\n",
    "for v in l:\n",
    "    \n",
    "    for value in v:\n",
    "        print(value, end=\", \")\n",
    "        if value == 20:\n",
    "            is_finish = True\n",
    "            break\n",
    "    if is_finish:\n",
    "        break            \n",
    "    print()"
   ]
  },
  {
   "cell_type": "code",
   "execution_count": 8,
   "id": "ece89a5b",
   "metadata": {
    "ExecuteTime": {
     "end_time": "2022-12-22T05:09:19.606486Z",
     "start_time": "2022-12-22T05:09:19.583547Z"
    }
   },
   "outputs": [
    {
     "name": "stdout",
     "output_type": "stream",
     "text": [
      "1, 2, 3, \n",
      "10, 20, "
     ]
    }
   ],
   "source": [
    "# 중첩 반복문의 안쪽 반복문에서 전체 반복문을 멈추게(break) 하기 위한 로직.\n",
    "\n",
    "l = [[1,2,3], [10,20,30], [100,200,300]]\n",
    "# 20이 있으면 전체 반복을 멈춘다.\n",
    "is_finish = False\n",
    "for v in l:\n",
    "    for value in v:\n",
    "        print(value, end=\", \")\n",
    "        if value == 20:\n",
    "            is_finish = True\n",
    "            break\n",
    "    if is_finish:\n",
    "        break\n",
    "    print()"
   ]
  },
  {
   "cell_type": "markdown",
   "id": "dc6099c5",
   "metadata": {
    "slideshow": {
     "slide_type": "slide"
    }
   },
   "source": [
    "## for in 문 연관 내장 함수\n",
    "\n",
    "### range()\n",
    "- 일정한 간격의 연속된 정수를 제공하는 반복가능 객체 생성한다.\n",
    "- 구문\n",
    "    - `range([시작값], 멈춤값, [증감값])`\n",
    "        - 시작값, 멈춤값, 증감값 모두 정수만 가능하다.\n",
    "        - 시작값 > 멈춤값 이고 증감값이 음수이면 내림차순으로 값을 제공한다.\n",
    "        1. 전달값이 **1개: 멈춤값**. \n",
    "            - 0 ~ (멈춤값-1)까지 1씩 증가하는 정수를 제공\n",
    "        2. 전달값이 **2개: 시작값, 멈춤값**. \n",
    "            - 시작값 ~ (멈춤값-1) 까지 1씩 증가하는 정수 제공\n",
    "        3. 전달값이 **3개: 시작값, 멈춤값, 증감값(간격)**. \n",
    "            - 시작값 ~ (멈춤값-1)까지 증감값만큼 증가하는 정수를 제공.\n"
   ]
  },
  {
   "cell_type": "code",
   "execution_count": 6,
   "id": "5d187655",
   "metadata": {
    "ExecuteTime": {
     "end_time": "2022-12-22T05:18:08.568445Z",
     "start_time": "2022-12-22T05:18:08.548534Z"
    }
   },
   "outputs": [
    {
     "name": "stdout",
     "output_type": "stream",
     "text": [
      "range(10, 101, 10)\n"
     ]
    },
    {
     "data": {
      "text/plain": [
       "[10, 20, 30, 40, 50, 60, 70, 80, 90, 100]"
      ]
     },
     "execution_count": 6,
     "metadata": {},
     "output_type": "execute_result"
    }
   ],
   "source": [
    "r = range(10, 101, 10) # 10 ~ 100 까지, 10씩 증가\n",
    "print(r)\n",
    "list(r)"
   ]
  },
  {
   "cell_type": "code",
   "execution_count": 12,
   "id": "0341d6ad",
   "metadata": {
    "ExecuteTime": {
     "end_time": "2022-12-22T05:19:21.302595Z",
     "start_time": "2022-12-22T05:19:21.291628Z"
    }
   },
   "outputs": [
    {
     "name": "stdout",
     "output_type": "stream",
     "text": [
      "10,20,30,40,50,60,70,80,90,"
     ]
    }
   ],
   "source": [
    "for i in range(10, 100, 10):\n",
    "    print(i, end=\",\")"
   ]
  },
  {
   "cell_type": "code",
   "execution_count": 13,
   "id": "b1b8cf44",
   "metadata": {
    "ExecuteTime": {
     "end_time": "2022-12-22T05:20:12.960539Z",
     "start_time": "2022-12-22T05:20:12.949566Z"
    }
   },
   "outputs": [
    {
     "name": "stdout",
     "output_type": "stream",
     "text": [
      "10, 11, 12, 13, 14, "
     ]
    }
   ],
   "source": [
    "for i in range(10, 15):\n",
    "    print(i, end=\", \")"
   ]
  },
  {
   "cell_type": "code",
   "execution_count": 14,
   "id": "faccf5ae",
   "metadata": {
    "ExecuteTime": {
     "end_time": "2022-12-22T05:20:52.183340Z",
     "start_time": "2022-12-22T05:20:52.168376Z"
    }
   },
   "outputs": [
    {
     "name": "stdout",
     "output_type": "stream",
     "text": [
      "0, 1, 2, 3, 4, 5, 6, 7, 8, 9, "
     ]
    }
   ],
   "source": [
    "for i in range(10): # end 값\n",
    "    print(i, end=\", \")"
   ]
  },
  {
   "cell_type": "code",
   "execution_count": 15,
   "id": "6a0238f8",
   "metadata": {
    "ExecuteTime": {
     "end_time": "2022-12-22T05:21:54.343039Z",
     "start_time": "2022-12-22T05:21:54.329039Z"
    }
   },
   "outputs": [
    {
     "name": "stdout",
     "output_type": "stream",
     "text": [
      "100, 90, 80, 70, 60, 50, 40, 30, 20, 10, 0, "
     ]
    }
   ],
   "source": [
    "for i in range(100, -1, -10):\n",
    "    print(i, end=\", \")"
   ]
  },
  {
   "cell_type": "code",
   "execution_count": 19,
   "id": "4741fe4b",
   "metadata": {
    "ExecuteTime": {
     "end_time": "2022-12-22T05:24:18.900707Z",
     "start_time": "2022-12-22T05:24:18.883751Z"
    }
   },
   "outputs": [
    {
     "name": "stdout",
     "output_type": "stream",
     "text": [
      "1, 안녕하세요.\n",
      "2, 안녕하세요.\n",
      "3, 안녕하세요.\n",
      "4, 안녕하세요.\n",
      "5, 안녕하세요.\n",
      "6, 안녕하세요.\n",
      "7, 안녕하세요.\n",
      "8, 안녕하세요.\n",
      "9, 안녕하세요.\n",
      "10, 안녕하세요.\n"
     ]
    }
   ],
   "source": [
    "# \"안녕하세요\" 를 10번 출력\n",
    "for i in range(10):\n",
    "    print(f\"{i+1}, 안녕하세요.\")"
   ]
  },
  {
   "cell_type": "code",
   "execution_count": 53,
   "id": "e2bec91c",
   "metadata": {
    "ExecuteTime": {
     "end_time": "2022-12-22T06:07:26.894027Z",
     "start_time": "2022-12-22T06:07:26.886048Z"
    }
   },
   "outputs": [
    {
     "name": "stdout",
     "output_type": "stream",
     "text": [
      "안녕하세요.\n",
      "안녕하세요.\n",
      "안녕하세요.\n",
      "안녕하세요.\n",
      "안녕하세요.\n",
      "안녕하세요.\n",
      "안녕하세요.\n",
      "안녕하세요.\n",
      "안녕하세요.\n",
      "안녕하세요.\n"
     ]
    }
   ],
   "source": [
    "# 변수명을 \"_\" 를 사용하는 관례: 이 변수는 사용하지 않는데 구문상 어쩔 수 없이 넣었다.\n",
    "for _ in range(10):\n",
    "    print(\"안녕하세요.\")"
   ]
  },
  {
   "cell_type": "code",
   "execution_count": 51,
   "id": "6896ecae",
   "metadata": {
    "ExecuteTime": {
     "end_time": "2022-12-22T06:04:26.704501Z",
     "start_time": "2022-12-22T06:04:26.697518Z"
    }
   },
   "outputs": [
    {
     "name": "stdout",
     "output_type": "stream",
     "text": [
      "3 3 3\n"
     ]
    }
   ],
   "source": [
    "# a, b는 사용할 변수, _는 사용안할 변수. (관례)\n",
    "a, b, _ = (1, 2, 3)\n",
    "print(a, b, _)"
   ]
  },
  {
   "cell_type": "markdown",
   "id": "5de9d74e",
   "metadata": {
    "slideshow": {
     "slide_type": "subslide"
    }
   },
   "source": [
    "## enumerate()\n",
    "\n",
    "- 구문\n",
    "    - `enumerate(Iterable,  [, start=정수])`\n",
    "        - 현재 몇번째 값을 제공하는 지(현재 몇번째 반복인지)를 나타내는 **index**와 제공하는 **원소**를 tuple로 묶어서 반환\n",
    "        - Iterable\n",
    "            - 값을 제공할 Iterable객체\n",
    "        - start: 정수\n",
    "            - index 시작 값. 생략하면 0부터 시작한다."
   ]
  },
  {
   "cell_type": "code",
   "execution_count": 29,
   "id": "c437fc24",
   "metadata": {
    "ExecuteTime": {
     "end_time": "2022-12-22T05:34:58.350518Z",
     "start_time": "2022-12-22T05:34:58.342539Z"
    }
   },
   "outputs": [
    {
     "name": "stdout",
     "output_type": "stream",
     "text": [
      "(0, 10)\n",
      "(1, 20)\n",
      "(2, 30)\n",
      "(3, 40)\n",
      "(4, 50)\n",
      "********************\n",
      "(100, 10)\n",
      "(101, 20)\n",
      "(102, 30)\n",
      "(103, 40)\n",
      "(104, 50)\n"
     ]
    }
   ],
   "source": [
    "nums = [10, 20, 30, 40, 50]\n",
    "for value in enumerate(nums):\n",
    "    print(value)\n",
    "print(\"*\"*20)\n",
    "for value in enumerate(nums, start=100): # 100번째 부터 시작한다.(시작값 설정)\n",
    "    print(value)"
   ]
  },
  {
   "cell_type": "code",
   "execution_count": 30,
   "id": "dcb8d131",
   "metadata": {
    "ExecuteTime": {
     "end_time": "2022-12-22T05:36:48.231170Z",
     "start_time": "2022-12-22T05:36:48.212219Z"
    }
   },
   "outputs": [
    {
     "name": "stdout",
     "output_type": "stream",
     "text": [
      "index :0, value:10\n",
      "index :1, value:20\n",
      "index :2, value:30\n",
      "index :3, value:40\n",
      "index :4, value:50\n"
     ]
    }
   ],
   "source": [
    "for value in enumerate(nums):\n",
    "    print(f\"index :{value[0]}, value:{value[1]}\")"
   ]
  },
  {
   "cell_type": "code",
   "execution_count": 31,
   "id": "1b03bcb6",
   "metadata": {
    "ExecuteTime": {
     "end_time": "2022-12-22T05:38:56.092537Z",
     "start_time": "2022-12-22T05:38:56.083567Z"
    }
   },
   "outputs": [
    {
     "name": "stdout",
     "output_type": "stream",
     "text": [
      "1, 10\n",
      "2, 20\n",
      "3, 30\n",
      "4, 40\n",
      "5, 50\n"
     ]
    }
   ],
   "source": [
    "# index, value = (0, 10)\n",
    "for index, value in enumerate(nums, start=1): #tuple 대입을 통해 각각의 변수에 따로 대입처리.\n",
    "    print(f\"{index}, {value}\")"
   ]
  },
  {
   "cell_type": "code",
   "execution_count": 9,
   "id": "9061ba25",
   "metadata": {
    "ExecuteTime": {
     "end_time": "2022-12-22T05:43:32.610897Z",
     "start_time": "2022-12-22T05:43:32.587960Z"
    }
   },
   "outputs": [
    {
     "name": "stdout",
     "output_type": "stream",
     "text": [
      "0, 기록남기기\n",
      "1000, 기록남기기\n",
      "2000, 기록남기기\n",
      "3000, 기록남기기\n",
      "4000, 기록남기기\n",
      "5000, 기록남기기\n",
      "6000, 기록남기기\n",
      "7000, 기록남기기\n",
      "8000, 기록남기기\n",
      "9000, 기록남기기\n"
     ]
    }
   ],
   "source": [
    "\n",
    "for index, data in enumerate(range(10000)):\n",
    "    # 처리\n",
    "    # 처리에  대한 기록(log)을 저장 -> 1000번에 한번씩\n",
    "    if index % 1000 == 0:\n",
    "        print(f\"{index}, 기록남기기\")"
   ]
  },
  {
   "cell_type": "markdown",
   "id": "f5a5540f",
   "metadata": {
    "slideshow": {
     "slide_type": "subslide"
    }
   },
   "source": [
    "## zip()\n",
    "- 여러 개의 Iterable 객체를 받아 반복시 같은 index의 값끼리 튜플로 묶어 반환한다.\n",
    "- 구문\n",
    "    - `zip(Iterable1, Iterable2, Iterable3 [, .......])`\n",
    "        - Iterable 2개이상.전달한다.\n",
    "- 각 자료구조 객체의 크기가 다를 경우 크기가 작은 것의 개수에 맞춰 반복한다."
   ]
  },
  {
   "cell_type": "code",
   "execution_count": 10,
   "id": "b4af7151",
   "metadata": {
    "ExecuteTime": {
     "end_time": "2022-12-22T05:50:26.802848Z",
     "start_time": "2022-12-22T05:50:26.791836Z"
    }
   },
   "outputs": [],
   "source": [
    "# 세명의 정보를 이름, 나이, 주소별로 따로 저장.\n",
    "# 같은 index의 값들이 한사람의 정보.\n",
    "names = [\"홍길동\", \"나\", \"너\"] # 3\n",
    "ages = [30, 20, 10] # 3\n",
    "addresses = [\"서울\", \"인천\", \"광주\", \"세종\", \"경기\"] # 5개여도 값이 있는 개채들만 적용."
   ]
  },
  {
   "cell_type": "code",
   "execution_count": 11,
   "id": "7db2bae4",
   "metadata": {
    "ExecuteTime": {
     "end_time": "2022-12-22T05:50:27.633723Z",
     "start_time": "2022-12-22T05:50:27.628738Z"
    }
   },
   "outputs": [
    {
     "name": "stdout",
     "output_type": "stream",
     "text": [
      "<class 'tuple'> ('홍길동', 30, '서울')\n",
      "<class 'tuple'> ('나', 20, '인천')\n",
      "<class 'tuple'> ('너', 10, '광주')\n"
     ]
    }
   ],
   "source": [
    "# 같은 index의 값들을 튜플로 묶어서 제공.\n",
    "for value in zip(names, ages, addresses):\n",
    "    print(type(value), value)"
   ]
  },
  {
   "cell_type": "code",
   "execution_count": 12,
   "id": "1c3edf1e",
   "metadata": {
    "ExecuteTime": {
     "end_time": "2022-12-22T05:51:17.727693Z",
     "start_time": "2022-12-22T05:51:17.720746Z"
    }
   },
   "outputs": [
    {
     "name": "stdout",
     "output_type": "stream",
     "text": [
      "이름: 홍길동, 나이: 30, 주소: 서울\n",
      "이름: 나, 나이: 20, 주소: 인천\n",
      "이름: 너, 나이: 10, 주소: 광주\n"
     ]
    }
   ],
   "source": [
    "for name, age, address in zip(names, ages, addresses):\n",
    "    print(f\"이름: {name}, 나이: {age}, 주소: {address}\")"
   ]
  },
  {
   "cell_type": "markdown",
   "id": "2df89dae",
   "metadata": {
    "slideshow": {
     "slide_type": "subslide"
    }
   },
   "source": [
    "# 컴프리헨션(Comprehension)\n",
    "\n",
    "- 기존 Iterable의 원소들을 이용해서 새로운 자료구조(List, Dictionary, Set)를 생성하는 구문.\n",
    "    - 기존 Iterable의 **원소들을 처리한 결과**나  **특정 조건이 True인 값들을** 새로운 자료구조에 넣을때 사용.\n",
    "    - 결과를 넣을 새로운 자료구조에 따라 다음 세가지 구문이 있다.\n",
    "        - 리스트 컴프리헨션\n",
    "        - 딕셔너리  컴프리헨션\n",
    "        - 셋  컴프리헨션\n",
    "- 튜플 컴프리헨션은 없다.\n",
    "- 딕셔너리 컴프리헨션과 셋 컴프리헨션은 파이썬 3 에 새로 추가되었다."
   ]
  },
  {
   "cell_type": "code",
   "execution_count": 61,
   "id": "a2fa16f1",
   "metadata": {
    "ExecuteTime": {
     "end_time": "2022-12-22T06:17:51.218434Z",
     "start_time": "2022-12-22T06:17:51.202476Z"
    }
   },
   "outputs": [
    {
     "name": "stdout",
     "output_type": "stream",
     "text": [
      "결과:  [10, 20, 30, 40, 50, 60, 70, 10, 20, 30]\n"
     ]
    }
   ],
   "source": [
    "l1 = [1, 2, 3, 4,5,6,7,1,2,3]\n",
    "# l1의 원들을 10배한 결과를 가지는 리스트\n",
    "\n",
    "# for in \n",
    "result_list = []\n",
    "for value in l1:\n",
    "    result_list.append(value * 10)\n",
    "    \n",
    "print(\"결과: \", result_list)"
   ]
  },
  {
   "cell_type": "code",
   "execution_count": 62,
   "id": "6dcb692e",
   "metadata": {
    "ExecuteTime": {
     "end_time": "2022-12-22T06:17:52.300832Z",
     "start_time": "2022-12-22T06:17:52.279853Z"
    }
   },
   "outputs": [
    {
     "data": {
      "text/plain": [
       "[10, 20, 30, 40, 50, 60, 70, 10, 20, 30]"
      ]
     },
     "execution_count": 62,
     "metadata": {},
     "output_type": "execute_result"
    }
   ],
   "source": [
    "# 리스트 컴프리헨션\n",
    "[value*10 for value in l1]"
   ]
  },
  {
   "cell_type": "code",
   "execution_count": 63,
   "id": "aba59a72",
   "metadata": {
    "ExecuteTime": {
     "end_time": "2022-12-22T06:17:53.421690Z",
     "start_time": "2022-12-22T06:17:53.403735Z"
    }
   },
   "outputs": [
    {
     "data": {
      "text/plain": [
       "{10, 20, 30, 40, 50, 60, 70}"
      ]
     },
     "execution_count": 63,
     "metadata": {},
     "output_type": "execute_result"
    }
   ],
   "source": [
    "# 셋 컴프리헨션\n",
    "{value*10 for value in l1}"
   ]
  },
  {
   "cell_type": "code",
   "execution_count": 66,
   "id": "a7c5f438",
   "metadata": {
    "ExecuteTime": {
     "end_time": "2022-12-22T06:20:33.701499Z",
     "start_time": "2022-12-22T06:20:33.687537Z"
    }
   },
   "outputs": [
    {
     "data": {
      "text/plain": [
       "{'key-0': 10,\n",
       " 'key-1': 20,\n",
       " 'key-2': 30,\n",
       " 'key-3': 40,\n",
       " 'key-4': 50,\n",
       " 'key-5': 60,\n",
       " 'key-6': 70,\n",
       " 'key-7': 10,\n",
       " 'key-8': 20,\n",
       " 'key-9': 30}"
      ]
     },
     "execution_count": 66,
     "metadata": {},
     "output_type": "execute_result"
    }
   ],
   "source": [
    "result_dict = {}\n",
    "for index, value in enumerate(l1):\n",
    "    result_dict[f\"key-{index}\"] = value *10\n",
    "    \n",
    "result_dict"
   ]
  },
  {
   "cell_type": "code",
   "execution_count": 73,
   "id": "74f0460a",
   "metadata": {
    "ExecuteTime": {
     "end_time": "2022-12-22T06:24:27.210015Z",
     "start_time": "2022-12-22T06:24:27.191065Z"
    }
   },
   "outputs": [
    {
     "data": {
      "text/plain": [
       "{'key-0': 10,\n",
       " 'key-1': 20,\n",
       " 'key-2': 30,\n",
       " 'key-3': 40,\n",
       " 'key-4': 50,\n",
       " 'key-5': 60,\n",
       " 'key-6': 70,\n",
       " 'key-7': 10,\n",
       " 'key-8': 20,\n",
       " 'key-9': 30}"
      ]
     },
     "execution_count": 73,
     "metadata": {},
     "output_type": "execute_result"
    }
   ],
   "source": [
    "# 딕셔너리 컴프리헨션\n",
    "{f\"key-{index}\":value*10  for index, value in enumerate(l1)} # key:value"
   ]
  },
  {
   "cell_type": "code",
   "execution_count": null,
   "id": "522232b7",
   "metadata": {},
   "outputs": [],
   "source": [
    "# 일괄처리 기법 => map (각 값들과 처리함수 - 연산을 연결해서 처리.)"
   ]
  },
  {
   "cell_type": "code",
   "execution_count": 1,
   "id": "e9879036",
   "metadata": {
    "ExecuteTime": {
     "end_time": "2022-12-22T06:48:32.262858Z",
     "start_time": "2022-12-22T06:48:32.240916Z"
    },
    "collapsed": true
   },
   "outputs": [
    {
     "data": {
      "text/plain": [
       "[2,\n",
       " 4,\n",
       " 6,\n",
       " 8,\n",
       " 10,\n",
       " 12,\n",
       " 14,\n",
       " 16,\n",
       " 18,\n",
       " 20,\n",
       " 22,\n",
       " 24,\n",
       " 26,\n",
       " 28,\n",
       " 30,\n",
       " 32,\n",
       " 34,\n",
       " 36,\n",
       " 38,\n",
       " 40,\n",
       " 42,\n",
       " 44,\n",
       " 46,\n",
       " 48,\n",
       " 50,\n",
       " 52,\n",
       " 54,\n",
       " 56,\n",
       " 58,\n",
       " 60,\n",
       " 62,\n",
       " 64,\n",
       " 66,\n",
       " 68,\n",
       " 70,\n",
       " 72,\n",
       " 74,\n",
       " 76,\n",
       " 78,\n",
       " 80,\n",
       " 82,\n",
       " 84,\n",
       " 86,\n",
       " 88,\n",
       " 90,\n",
       " 92,\n",
       " 94,\n",
       " 96,\n",
       " 98]"
      ]
     },
     "execution_count": 1,
     "metadata": {},
     "output_type": "execute_result"
    }
   ],
   "source": [
    "l2 = list(range(1,100))\n",
    "# l2의 값들 중에 짝수만 찾아서 리스트에 담는다. -> 값들중에서 특정 조건이 True인 값들만 걸러내는 처리 -> filter\n",
    "result_list2 = []\n",
    "for value in l2:\n",
    "    if value % 2 == 0: # not value % 2\n",
    "        result_list2.append(value)\n",
    "        \n",
    "result_list2"
   ]
  },
  {
   "cell_type": "code",
   "execution_count": 2,
   "id": "e04827d9",
   "metadata": {
    "ExecuteTime": {
     "end_time": "2022-12-22T06:48:36.516316Z",
     "start_time": "2022-12-22T06:48:36.500359Z"
    },
    "collapsed": true,
    "slideshow": {
     "slide_type": "fragment"
    }
   },
   "outputs": [
    {
     "data": {
      "text/plain": [
       "[2,\n",
       " 4,\n",
       " 6,\n",
       " 8,\n",
       " 10,\n",
       " 12,\n",
       " 14,\n",
       " 16,\n",
       " 18,\n",
       " 20,\n",
       " 22,\n",
       " 24,\n",
       " 26,\n",
       " 28,\n",
       " 30,\n",
       " 32,\n",
       " 34,\n",
       " 36,\n",
       " 38,\n",
       " 40,\n",
       " 42,\n",
       " 44,\n",
       " 46,\n",
       " 48,\n",
       " 50,\n",
       " 52,\n",
       " 54,\n",
       " 56,\n",
       " 58,\n",
       " 60,\n",
       " 62,\n",
       " 64,\n",
       " 66,\n",
       " 68,\n",
       " 70,\n",
       " 72,\n",
       " 74,\n",
       " 76,\n",
       " 78,\n",
       " 80,\n",
       " 82,\n",
       " 84,\n",
       " 86,\n",
       " 88,\n",
       " 90,\n",
       " 92,\n",
       " 94,\n",
       " 96,\n",
       " 98]"
      ]
     },
     "execution_count": 2,
     "metadata": {},
     "output_type": "execute_result"
    }
   ],
   "source": [
    "[value for value in l2 if value % 2 == 0]"
   ]
  },
  {
   "cell_type": "code",
   "execution_count": 79,
   "id": "0f1badd4",
   "metadata": {
    "ExecuteTime": {
     "end_time": "2022-12-22T06:33:28.881973Z",
     "start_time": "2022-12-22T06:33:28.860034Z"
    },
    "collapsed": true
   },
   "outputs": [
    {
     "data": {
      "text/plain": [
       "{2,\n",
       " 4,\n",
       " 6,\n",
       " 8,\n",
       " 10,\n",
       " 12,\n",
       " 14,\n",
       " 16,\n",
       " 18,\n",
       " 20,\n",
       " 22,\n",
       " 24,\n",
       " 26,\n",
       " 28,\n",
       " 30,\n",
       " 32,\n",
       " 34,\n",
       " 36,\n",
       " 38,\n",
       " 40,\n",
       " 42,\n",
       " 44,\n",
       " 46,\n",
       " 48,\n",
       " 50,\n",
       " 52,\n",
       " 54,\n",
       " 56,\n",
       " 58,\n",
       " 60,\n",
       " 62,\n",
       " 64,\n",
       " 66,\n",
       " 68,\n",
       " 70,\n",
       " 72,\n",
       " 74,\n",
       " 76,\n",
       " 78,\n",
       " 80,\n",
       " 82,\n",
       " 84,\n",
       " 86,\n",
       " 88,\n",
       " 90,\n",
       " 92,\n",
       " 94,\n",
       " 96,\n",
       " 98}"
      ]
     },
     "execution_count": 79,
     "metadata": {},
     "output_type": "execute_result"
    }
   ],
   "source": [
    "{value for value in l2 if value % 2 == 0}"
   ]
  },
  {
   "cell_type": "code",
   "execution_count": 80,
   "id": "12ef88d0",
   "metadata": {
    "ExecuteTime": {
     "end_time": "2022-12-22T06:33:55.195249Z",
     "start_time": "2022-12-22T06:33:55.173344Z"
    },
    "collapsed": true
   },
   "outputs": [
    {
     "data": {
      "text/plain": [
       "{2: 2,\n",
       " 4: 4,\n",
       " 6: 6,\n",
       " 8: 8,\n",
       " 10: 10,\n",
       " 12: 12,\n",
       " 14: 14,\n",
       " 16: 16,\n",
       " 18: 18,\n",
       " 20: 20,\n",
       " 22: 22,\n",
       " 24: 24,\n",
       " 26: 26,\n",
       " 28: 28,\n",
       " 30: 30,\n",
       " 32: 32,\n",
       " 34: 34,\n",
       " 36: 36,\n",
       " 38: 38,\n",
       " 40: 40,\n",
       " 42: 42,\n",
       " 44: 44,\n",
       " 46: 46,\n",
       " 48: 48,\n",
       " 50: 50,\n",
       " 52: 52,\n",
       " 54: 54,\n",
       " 56: 56,\n",
       " 58: 58,\n",
       " 60: 60,\n",
       " 62: 62,\n",
       " 64: 64,\n",
       " 66: 66,\n",
       " 68: 68,\n",
       " 70: 70,\n",
       " 72: 72,\n",
       " 74: 74,\n",
       " 76: 76,\n",
       " 78: 78,\n",
       " 80: 80,\n",
       " 82: 82,\n",
       " 84: 84,\n",
       " 86: 86,\n",
       " 88: 88,\n",
       " 90: 90,\n",
       " 92: 92,\n",
       " 94: 94,\n",
       " 96: 96,\n",
       " 98: 98}"
      ]
     },
     "execution_count": 80,
     "metadata": {},
     "output_type": "execute_result"
    }
   ],
   "source": [
    "{value:value for value in l2 if value % 2 == 0}"
   ]
  },
  {
   "cell_type": "code",
   "execution_count": 83,
   "id": "11518d86",
   "metadata": {
    "ExecuteTime": {
     "end_time": "2022-12-22T06:36:25.503483Z",
     "start_time": "2022-12-22T06:36:25.489559Z"
    }
   },
   "outputs": [
    {
     "data": {
      "text/plain": [
       "[0.1, 0.2, 0.3, 0.4, 0.5, 0.6, 0.7, 0.8, 0.9]"
      ]
     },
     "execution_count": 83,
     "metadata": {},
     "output_type": "execute_result"
    }
   ],
   "source": [
    "# l2의 값들중에 10의 배수만 찾아서 100으로 나눈값을 리스트에 담는다. -> filter / map\n",
    "[value/100 for value in l2 if not value % 10]"
   ]
  },
  {
   "cell_type": "code",
   "execution_count": 85,
   "id": "05da62d4",
   "metadata": {
    "ExecuteTime": {
     "end_time": "2022-12-22T06:38:14.644590Z",
     "start_time": "2022-12-22T06:38:14.635612Z"
    }
   },
   "outputs": [
    {
     "data": {
      "text/plain": [
       "['abc', 'abbb', 'dddfddd', 'dadcdef']"
      ]
     },
     "execution_count": 85,
     "metadata": {},
     "output_type": "execute_result"
    }
   ],
   "source": [
    "l3 = (\"Abc\", \"aBBB\", \"DDDfddd\", \"Dadcdef\")\n",
    "# l3의 모든 문자열을 소문자로 변환한 결과를 리스트에 담기\n",
    "[value.lower() for value in l3]"
   ]
  },
  {
   "cell_type": "code",
   "execution_count": 94,
   "id": "56202c2e",
   "metadata": {
    "ExecuteTime": {
     "end_time": "2022-12-22T06:42:35.855803Z",
     "start_time": "2022-12-22T06:42:35.834821Z"
    }
   },
   "outputs": [
    {
     "data": {
      "text/plain": [
       "{'Abc': 3, 'aBBB': 4, 'DDDfddd': 7, 'Dadcdef': 7}"
      ]
     },
     "execution_count": 94,
     "metadata": {},
     "output_type": "execute_result"
    }
   ],
   "source": [
    "# l3의 문자열의 글자수를 문자열:글자수 형식의 딕셔너리로 생성\n",
    "{txt:len(txt) for txt in l3}"
   ]
  },
  {
   "cell_type": "code",
   "execution_count": 96,
   "id": "9c979586",
   "metadata": {
    "ExecuteTime": {
     "end_time": "2022-12-22T06:42:46.006693Z",
     "start_time": "2022-12-22T06:42:45.992691Z"
    }
   },
   "outputs": [
    {
     "data": {
      "text/plain": [
       "{'DDDfddd': 7, 'Dadcdef': 7}"
      ]
     },
     "execution_count": 96,
     "metadata": {},
     "output_type": "execute_result"
    }
   ],
   "source": [
    "# l3의 문자열의 글자수를 문자열:글자수 형식의 딕셔너리로 생성 (5의 배수)\n",
    "{txt:len(txt) for txt in l3 if len(txt) > 5}"
   ]
  },
  {
   "cell_type": "code",
   "execution_count": 4,
   "id": "24cee880",
   "metadata": {
    "ExecuteTime": {
     "end_time": "2022-12-22T06:48:52.809857Z",
     "start_time": "2022-12-22T06:48:52.787882Z"
    }
   },
   "outputs": [
    {
     "data": {
      "text/plain": [
       "[10, 20, 30, 40, 50, 60, 70, 80, 90, 100]"
      ]
     },
     "execution_count": 4,
     "metadata": {},
     "output_type": "execute_result"
    }
   ],
   "source": [
    "l4 = [[1,2,3,4,5,], [6,7,8,9,10]]\n",
    "result_list3 = []\n",
    "for lst in l4:\n",
    "    for value in lst:\n",
    "        result_list3.append(value * 10)\n",
    "        \n",
    "result_list3"
   ]
  },
  {
   "cell_type": "code",
   "execution_count": 11,
   "id": "9bb9732b",
   "metadata": {
    "ExecuteTime": {
     "end_time": "2022-12-22T06:54:28.295523Z",
     "start_time": "2022-12-22T06:54:28.272584Z"
    }
   },
   "outputs": [
    {
     "data": {
      "text/plain": [
       "[10, 20, 30, 40, 50, 60, 70, 80, 90, 100]"
      ]
     },
     "execution_count": 11,
     "metadata": {},
     "output_type": "execute_result"
    }
   ],
   "source": [
    "[value*10 for lst in l4 for value in lst]"
   ]
  },
  {
   "cell_type": "code",
   "execution_count": 29,
   "id": "43ffe01a",
   "metadata": {
    "ExecuteTime": {
     "end_time": "2022-12-22T07:09:57.139472Z",
     "start_time": "2022-12-22T07:09:57.120523Z"
    }
   },
   "outputs": [
    {
     "data": {
      "text/plain": [
       "[50, 100]"
      ]
     },
     "execution_count": 29,
     "metadata": {},
     "output_type": "execute_result"
    }
   ],
   "source": [
    "[value*10 for lst in l4 for value in lst if value % 5==0] # value가 5의 배수라면?!"
   ]
  },
  {
   "cell_type": "markdown",
   "id": "092288d7",
   "metadata": {
    "slideshow": {
     "slide_type": "skip"
    }
   },
   "source": [
    "# TODO"
   ]
  },
  {
   "cell_type": "code",
   "execution_count": 81,
   "id": "ecdab2e9",
   "metadata": {
    "ExecuteTime": {
     "end_time": "2022-12-22T08:02:54.760587Z",
     "start_time": "2022-12-22T08:02:52.883747Z"
    },
    "slideshow": {
     "slide_type": "skip"
    }
   },
   "outputs": [
    {
     "name": "stdout",
     "output_type": "stream",
     "text": [
      "점수: 50\n",
      "F학점\n"
     ]
    }
   ],
   "source": [
    "#(1) 다음 점수 구간에 맞게 학점을 출력하세요.\n",
    "# 91 ~ 100 : A학점\n",
    "# 81 ~ 90 :  B학점\n",
    "# 71 ~ 80 :  C학점\n",
    "# 61 ~ 70 :  D학점\n",
    "# 60이하   :  F학점\n",
    "st_result = int(input(\"점수: \"))\n",
    "\n",
    "if st_result <= 100:\n",
    "    if st_result > 90:\n",
    "        print(\"A학점\")\n",
    "        \n",
    "if st_result <= 90:\n",
    "    if st_result > 80:\n",
    "        print(\"B학점\")\n",
    "        \n",
    "if st_result <= 80:\n",
    "    if st_result > 70:\n",
    "        print(\"C학점\")\n",
    "        \n",
    "if st_result <= 70:\n",
    "    if st_result > 60:\n",
    "        print(\"D학점\")\n",
    "        \n",
    "    else:\n",
    "        print(\"F학점\")"
   ]
  },
  {
   "cell_type": "code",
   "execution_count": null,
   "id": "32621210",
   "metadata": {},
   "outputs": [],
   "source": [
    "# 1번 다른방법\n",
    "\n",
    "st = = int(input(\"점수: \"))\n",
    "if st < 0 or st > 100:\n",
    "    print(f'{st}는 변환할 수 없는 점수입니다. 0 ~ 100 사이의 값을 넣으세요.')\n",
    "elif st >= 91:\n",
    "    print('A학점')\n",
    "elif st >= 81:\n",
    "    ..\n",
    "    .\n",
    "    .\n",
    "    .\n",
    "else:\n",
    "    print(\"D학점\")"
   ]
  },
  {
   "cell_type": "code",
   "execution_count": 34,
   "id": "67cb27a7",
   "metadata": {
    "ExecuteTime": {
     "end_time": "2022-12-22T07:16:19.135260Z",
     "start_time": "2022-12-22T07:16:17.221798Z"
    },
    "slideshow": {
     "slide_type": "skip"
    }
   },
   "outputs": [
    {
     "name": "stdout",
     "output_type": "stream",
     "text": [
      "ID: ㄴㅇㄴㅇㄴㅇㄴㅇ\n",
      "사용할 수 있습니다.\n"
     ]
    }
   ],
   "source": [
    "#(2) 사용자로 부터 ID를 입력 받은 뒤 입력받은 ID가 5글자 이상이면 \"사용할 수 있습니다.\"를 5글자 미만이면 \"사용할 수 없는 ID입니다.\"를 출력하세요.\n",
    "\n",
    "id = input(\"ID: \")\n",
    "if len(id) >= 5:\n",
    "    print(\"사용할 수 있습니다.\")\n",
    "else:\n",
    "    print(\"사용할 수 없는 ID 입니다.\")"
   ]
  },
  {
   "cell_type": "code",
   "execution_count": 89,
   "id": "d44e4388",
   "metadata": {
    "ExecuteTime": {
     "end_time": "2022-12-22T08:16:41.321194Z",
     "start_time": "2022-12-22T08:16:40.195300Z"
    },
    "slideshow": {
     "slide_type": "skip"
    }
   },
   "outputs": [
    {
     "name": "stdout",
     "output_type": "stream",
     "text": [
      "도시명: 대구\n",
      "광역시\n"
     ]
    }
   ],
   "source": [
    "#(3) 사용자로부터 우리나라 도시명을 입력 받은 뒤 입력받은 도시명이 서울이면 \"특별시\"를 인천,부산,광주,대구,대전,울산 이면 \"광역시\"를 나머지는 \"특별시나 광역시가 아닙니다.\"를 출력하세요.\n",
    "\n",
    "user = str(input(\"도시명: \"))\n",
    "a = \"서울\"\n",
    "b = [\"인천\", \"부산\", \"광주\", \"대구\", \"대전\", \"울산\"]\n",
    "if user == a:\n",
    "    print(\"특별시\")\n",
    "elif user in b: ###############################틀림 \"==\" -> \"in\"\n",
    "    print(\"광역시\")\n",
    "else:\n",
    "    print(\"특별시나 광역시가 아닙니다.\")\n",
    "    "
   ]
  },
  {
   "cell_type": "code",
   "execution_count": 100,
   "id": "441dee54",
   "metadata": {
    "ExecuteTime": {
     "end_time": "2022-12-22T08:28:25.602171Z",
     "start_time": "2022-12-22T08:28:25.575246Z"
    },
    "collapsed": true,
    "slideshow": {
     "slide_type": "skip"
    }
   },
   "outputs": [
    {
     "name": "stdout",
     "output_type": "stream",
     "text": [
      "85\n"
     ]
    },
    {
     "ename": "TypeError",
     "evalue": "'int' object is not callable",
     "output_type": "error",
     "traceback": [
      "\u001b[1;31m---------------------------------------------------------------------------\u001b[0m",
      "\u001b[1;31mTypeError\u001b[0m                                 Traceback (most recent call last)",
      "\u001b[1;32m~\\AppData\\Local\\Temp\\ipykernel_12560\\3124843793.py\u001b[0m in \u001b[0;36m<module>\u001b[1;34m\u001b[0m\n\u001b[0;32m      6\u001b[0m \u001b[1;33m\u001b[0m\u001b[0m\n\u001b[0;32m      7\u001b[0m \u001b[0mprint\u001b[0m\u001b[1;33m(\u001b[0m\u001b[0mn\u001b[0m\u001b[1;33m)\u001b[0m\u001b[1;33m\u001b[0m\u001b[1;33m\u001b[0m\u001b[0m\n\u001b[1;32m----> 8\u001b[1;33m \u001b[0mjumsu_avg\u001b[0m \u001b[1;33m=\u001b[0m \u001b[0msum\u001b[0m\u001b[1;33m(\u001b[0m\u001b[0mjumsu\u001b[0m\u001b[1;33m)\u001b[0m\u001b[1;33m/\u001b[0m\u001b[0mlen\u001b[0m\u001b[1;33m(\u001b[0m\u001b[0mjumsu\u001b[0m\u001b[1;33m)\u001b[0m\u001b[1;33m\u001b[0m\u001b[1;33m\u001b[0m\u001b[0m\n\u001b[0m",
      "\u001b[1;31mTypeError\u001b[0m: 'int' object is not callable"
     ]
    }
   ],
   "source": [
    "#(4) 아래 리스트의 평균을 구하시오. \n",
    "jumsu = [100, 90, 100, 80, 70, 100, 80, 90, 95, 85]\n",
    "sum = 0\n",
    "for n in jumsu:\n",
    "    sum += n\n",
    "\n",
    "print(n)\n",
    "jumsu_avg = /len(jumsu)"
   ]
  },
  {
   "cell_type": "code",
   "execution_count": 97,
   "id": "d544e6d0",
   "metadata": {
    "ExecuteTime": {
     "end_time": "2022-12-22T08:22:45.745026Z",
     "start_time": "2022-12-22T08:22:45.729031Z"
    },
    "collapsed": true
   },
   "outputs": [
    {
     "ename": "TypeError",
     "evalue": "'int' object is not callable",
     "output_type": "error",
     "traceback": [
      "\u001b[1;31m---------------------------------------------------------------------------\u001b[0m",
      "\u001b[1;31mTypeError\u001b[0m                                 Traceback (most recent call last)",
      "\u001b[1;32m~\\AppData\\Local\\Temp\\ipykernel_12560\\2630714491.py\u001b[0m in \u001b[0;36m<module>\u001b[1;34m\u001b[0m\n\u001b[1;32m----> 1\u001b[1;33m \u001b[0msum\u001b[0m\u001b[1;33m(\u001b[0m\u001b[0mjumsu\u001b[0m\u001b[1;33m)\u001b[0m\u001b[1;33m/\u001b[0m\u001b[0mlen\u001b[0m\u001b[1;33m(\u001b[0m\u001b[0mjumsu\u001b[0m\u001b[1;33m)\u001b[0m\u001b[1;33m\u001b[0m\u001b[1;33m\u001b[0m\u001b[0m\n\u001b[0m",
      "\u001b[1;31mTypeError\u001b[0m: 'int' object is not callable"
     ]
    }
   ],
   "source": [
    "sum(jumsu)/len(jumsu)"
   ]
  },
  {
   "cell_type": "code",
   "execution_count": 98,
   "id": "becc05e1",
   "metadata": {
    "ExecuteTime": {
     "end_time": "2022-12-22T08:25:22.891316Z",
     "start_time": "2022-12-22T08:25:22.864353Z"
    },
    "collapsed": true,
    "slideshow": {
     "slide_type": "skip"
    }
   },
   "outputs": [
    {
     "ename": "NameError",
     "evalue": "name 'jumsu_avg' is not defined",
     "output_type": "error",
     "traceback": [
      "\u001b[1;31m---------------------------------------------------------------------------\u001b[0m",
      "\u001b[1;31mNameError\u001b[0m                                 Traceback (most recent call last)",
      "\u001b[1;32m~\\AppData\\Local\\Temp\\ipykernel_12560\\1253466008.py\u001b[0m in \u001b[0;36m<module>\u001b[1;34m\u001b[0m\n\u001b[0;32m      2\u001b[0m \u001b[1;33m\u001b[0m\u001b[0m\n\u001b[0;32m      3\u001b[0m \u001b[1;32mfor\u001b[0m \u001b[0mindex\u001b[0m\u001b[1;33m,\u001b[0m \u001b[0mvalue\u001b[0m \u001b[1;32min\u001b[0m \u001b[0menumerate\u001b[0m\u001b[1;33m(\u001b[0m\u001b[0mjumsu\u001b[0m\u001b[1;33m)\u001b[0m\u001b[1;33m:\u001b[0m\u001b[1;33m\u001b[0m\u001b[1;33m\u001b[0m\u001b[0m\n\u001b[1;32m----> 4\u001b[1;33m     \u001b[1;32mif\u001b[0m \u001b[0mvalue\u001b[0m \u001b[1;33m>=\u001b[0m \u001b[0mjumsu_avg\u001b[0m\u001b[1;33m:\u001b[0m\u001b[1;33m\u001b[0m\u001b[1;33m\u001b[0m\u001b[0m\n\u001b[0m\u001b[0;32m      5\u001b[0m         \u001b[0mprint\u001b[0m\u001b[1;33m(\u001b[0m\u001b[1;34mf\"{index}-Pass\"\u001b[0m\u001b[1;33m)\u001b[0m\u001b[1;33m\u001b[0m\u001b[1;33m\u001b[0m\u001b[0m\n\u001b[0;32m      6\u001b[0m     \u001b[1;32melse\u001b[0m\u001b[1;33m:\u001b[0m\u001b[1;33m\u001b[0m\u001b[1;33m\u001b[0m\u001b[0m\n",
      "\u001b[1;31mNameError\u001b[0m: name 'jumsu_avg' is not defined"
     ]
    }
   ],
   "source": [
    "#(5) 위 jumsu리스트에서 평균점수이상은 pass, 미만은 fail을 index번호와 함께 출력하시오. (ex: 0-pass, 1-pass, 2-fail)\n",
    "\n",
    "for index, value in enumerate(jumsu):\n",
    "    if value >= jumsu_avg:\n",
    "        print(f\"{index}-Pass\")\n",
    "    else:\n",
    "        print(f\"{index}-Fail\")\n",
    "\n",
    "\n"
   ]
  },
  {
   "cell_type": "code",
   "execution_count": 99,
   "id": "f73c3c27",
   "metadata": {
    "ExecuteTime": {
     "end_time": "2022-12-22T08:27:18.794885Z",
     "start_time": "2022-12-22T08:27:18.771943Z"
    },
    "collapsed": true
   },
   "outputs": [
    {
     "ename": "NameError",
     "evalue": "name 'jumsu_avg' is not defined",
     "output_type": "error",
     "traceback": [
      "\u001b[1;31m---------------------------------------------------------------------------\u001b[0m",
      "\u001b[1;31mNameError\u001b[0m                                 Traceback (most recent call last)",
      "\u001b[1;32m~\\AppData\\Local\\Temp\\ipykernel_12560\\3129690936.py\u001b[0m in \u001b[0;36m<module>\u001b[1;34m\u001b[0m\n\u001b[0;32m      1\u001b[0m \u001b[1;32mfor\u001b[0m \u001b[0mindex\u001b[0m\u001b[1;33m,\u001b[0m \u001b[0mvalue\u001b[0m \u001b[1;32min\u001b[0m \u001b[0menumerate\u001b[0m\u001b[1;33m(\u001b[0m\u001b[0mjumsu\u001b[0m\u001b[1;33m)\u001b[0m\u001b[1;33m:\u001b[0m\u001b[1;33m\u001b[0m\u001b[1;33m\u001b[0m\u001b[0m\n\u001b[1;32m----> 2\u001b[1;33m     \u001b[0mprint\u001b[0m\u001b[1;33m(\u001b[0m\u001b[1;34mf'{index} - {\"Pass\" if value >= jumsu_avg else \"Fail\"}'\u001b[0m\u001b[1;33m)\u001b[0m\u001b[1;33m\u001b[0m\u001b[1;33m\u001b[0m\u001b[0m\n\u001b[0m",
      "\u001b[1;31mNameError\u001b[0m: name 'jumsu_avg' is not defined"
     ]
    }
   ],
   "source": [
    "for index, value in enumerate(jumsu):\n",
    "    print(f'{index} - {\"Pass\" if value >= jumsu_avg else \"Fail\"}')"
   ]
  },
  {
   "cell_type": "code",
   "execution_count": 46,
   "id": "777540a8",
   "metadata": {
    "ExecuteTime": {
     "end_time": "2022-12-22T06:00:22.998077Z",
     "start_time": "2022-12-22T06:00:22.978098Z"
    },
    "slideshow": {
     "slide_type": "skip"
    }
   },
   "outputs": [
    {
     "name": "stdout",
     "output_type": "stream",
     "text": [
      "95\n"
     ]
    }
   ],
   "source": [
    "#(6) 아래 리스트 값들 중 최대값을 조회해 출력\n",
    "jumsu = [60, 90, 80, 80, 70, 55, 80, 90, 95, 85]\n",
    "print(max(jumsu))"
   ]
  },
  {
   "cell_type": "code",
   "execution_count": 103,
   "id": "2be085bc",
   "metadata": {
    "ExecuteTime": {
     "end_time": "2022-12-22T08:33:13.303017Z",
     "start_time": "2022-12-22T08:33:13.285065Z"
    },
    "slideshow": {
     "slide_type": "skip"
    }
   },
   "outputs": [
    {
     "name": "stdout",
     "output_type": "stream",
     "text": [
      "소\n",
      "호랑이\n",
      "용\n",
      "뱀\n"
     ]
    }
   ],
   "source": [
    "#(7) 다음 리스트 중에서 \"쥐\"와 \"토끼\" 제외한 나머지를 출력하세요.\n",
    "str_list = [\"쥐\", \"소\", \"호랑이\", \"토끼\", \"용\", \"뱀\"]\n",
    "\n",
    "for value in str_list:\n",
    "    if value not in [\"쥐\", \"토끼\"]:\n",
    "        print(value)"
   ]
  },
  {
   "cell_type": "code",
   "execution_count": 106,
   "id": "384b9088",
   "metadata": {
    "ExecuteTime": {
     "end_time": "2022-12-22T08:36:33.071988Z",
     "start_time": "2022-12-22T08:36:31.834744Z"
    },
    "slideshow": {
     "slide_type": "skip"
    }
   },
   "outputs": [
    {
     "name": "stdout",
     "output_type": "stream",
     "text": [
      "몇 단을 출력하시겠습니까? : 3\n",
      "3 X 1 = 3\n",
      "3 X 2 = 6\n",
      "3 X 3 = 9\n",
      "3 X 4 = 12\n",
      "3 X 5 = 15\n",
      "3 X 6 = 18\n",
      "3 X 7 = 21\n",
      "3 X 8 = 24\n",
      "3 X 9 = 27\n"
     ]
    }
   ],
   "source": [
    "#(8) 사용자로부터 정수를 입력받아 그 단의 구구단을 출력하시오. \n",
    "# ex) 단을 입력하시오 : 2  \n",
    "# 2 x 1 = 2\n",
    "# 2 x 2 = 4\n",
    "#..\n",
    "# 2 x 9 = 18\n",
    "\n",
    "#컴프리헨션\n",
    "a = int(input(\"몇 단을 출력하시겠습니까? : \")) \n",
    "for y in range(1, 10): \n",
    "    print(f\"{a} X {y} = {a*y}\")"
   ]
  },
  {
   "cell_type": "code",
   "execution_count": 60,
   "id": "38688581",
   "metadata": {
    "ExecuteTime": {
     "end_time": "2022-12-22T07:30:56.074525Z",
     "start_time": "2022-12-22T07:30:56.056535Z"
    },
    "slideshow": {
     "slide_type": "skip"
    }
   },
   "outputs": [
    {
     "data": {
      "text/plain": [
       "[20, 60, 140, 10, 240, 1400, 2, 70]"
      ]
     },
     "execution_count": 60,
     "metadata": {},
     "output_type": "execute_result"
    }
   ],
   "source": [
    "#(9) 다음 리스트가 가진 값에 두배(* 2)를 가지는 새로운 리스트를 만드시오. (리스트 컴프리헨션 이용)\n",
    "lst = [10, 30, 70, 5, 120, 700, 1, 35]\n",
    "\n",
    "[value * 2 for value in lst]"
   ]
  },
  {
   "cell_type": "code",
   "execution_count": 107,
   "id": "7423095d",
   "metadata": {
    "ExecuteTime": {
     "end_time": "2022-12-22T08:38:56.716074Z",
     "start_time": "2022-12-22T08:38:56.699081Z"
    },
    "slideshow": {
     "slide_type": "skip"
    }
   },
   "outputs": [
    {
     "data": {
      "text/plain": [
       "[(10, 100),\n",
       " (30, 300),\n",
       " (70, 700),\n",
       " (5, 50),\n",
       " (5, 50),\n",
       " (120, 1200),\n",
       " (700, 7000),\n",
       " (1, 10),\n",
       " (35, 350),\n",
       " (35, 350)]"
      ]
     },
     "execution_count": 107,
     "metadata": {},
     "output_type": "execute_result"
    }
   ],
   "source": [
    "#(10) 다음 리스트가 가진 값에 10배의 값을 가지는 값을 (원래값, 10배값) 의 튜플 묶음으로 가지는 리스트를 만드시오 (리스트 컴프리헨션 이용)\n",
    "# Ex) [(10,100), (30,300), .., (35, 350)]\n",
    "lst = [10, 30, 70, 5, 5, 120, 700, 1, 35, 35]\n",
    "\n",
    "[(value, value * 10) for value in lst]"
   ]
  },
  {
   "cell_type": "code",
   "execution_count": 68,
   "id": "14abda79",
   "metadata": {
    "ExecuteTime": {
     "end_time": "2022-12-22T07:38:56.176790Z",
     "start_time": "2022-12-22T07:38:56.158873Z"
    },
    "slideshow": {
     "slide_type": "skip"
    }
   },
   "outputs": [
    {
     "data": {
      "text/plain": [
       "[3, 33, 21, 33, 60, 120]"
      ]
     },
     "execution_count": 68,
     "metadata": {},
     "output_type": "execute_result"
    }
   ],
   "source": [
    "#(11) 다음 리스트가 가진 값들 중 3의 배수만 가지는 리스트를 만드시오. (리스트 컴프리헨션 이용)\n",
    "lst2 = [ 3, 20, 33, 21, 33, 8, 11, 10, 7, 17, 60, 120, 2]\n",
    "\n",
    "[value for value in lst2 if value % 3==0]"
   ]
  },
  {
   "cell_type": "code",
   "execution_count": 108,
   "id": "cc581b1e",
   "metadata": {
    "ExecuteTime": {
     "end_time": "2022-12-22T08:41:12.714361Z",
     "start_time": "2022-12-22T08:41:12.701390Z"
    },
    "slideshow": {
     "slide_type": "skip"
    }
   },
   "outputs": [
    {
     "data": {
      "text/plain": [
       "['a.exe', 'function.exe', 'b.exe', 'run.exe']"
      ]
     },
     "execution_count": 108,
     "metadata": {},
     "output_type": "execute_result"
    }
   ],
   "source": [
    "#(12) 다음 파일이름들을 담은 리스트에서 확장자가 exe인 파일만 골라서 새로운 리스트에 담으시오.(string의 endswith()함수 이용)\n",
    "file_name=[\"test.txt\", \"a.exe\", \"jupyter.bat\", \"function.exe\", \"b.exe\", \"cat.jpg\", \"dog.png\", \"run.exe\", \"i.dll\"]\n",
    "\n",
    "[file for file in file_name if file.endswith(\".exe\")]\n",
    "\n"
   ]
  },
  {
   "cell_type": "code",
   "execution_count": 109,
   "id": "086c51d2",
   "metadata": {
    "ExecuteTime": {
     "end_time": "2022-12-22T08:41:59.517347Z",
     "start_time": "2022-12-22T08:41:59.509327Z"
    },
    "slideshow": {
     "slide_type": "skip"
    }
   },
   "outputs": [
    {
     "data": {
      "text/plain": [
       "['mystroy.txt', 'jupyter.bat', 'function.exe']"
      ]
     },
     "execution_count": 109,
     "metadata": {},
     "output_type": "execute_result"
    }
   ],
   "source": [
    "#(13) 다음 중 10글자 이상인 파일명(확장자포함)만 가지는 리스트를 만드시오.\n",
    "file_name=[\"mystroy.txt\", \"a.exe\", \"jupyter.bat\", \"function.exe\", \"b.exe\", \"cat.jpg\", \"dog.png\", \"run.exe\", \"i.dll\"]\n",
    "\n",
    "[file for file in file_name if len(file) >=10 ]\n"
   ]
  },
  {
   "cell_type": "code",
   "execution_count": 111,
   "id": "45be5999",
   "metadata": {
    "ExecuteTime": {
     "end_time": "2022-12-22T08:44:45.154325Z",
     "start_time": "2022-12-22T08:44:45.132344Z"
    }
   },
   "outputs": [
    {
     "data": {
      "text/plain": [
       "['mystroy.txt', 'jupyter.bat', 'function.exe']"
      ]
     },
     "execution_count": 111,
     "metadata": {},
     "output_type": "execute_result"
    }
   ],
   "source": [
    "# 확장자를 뺀 피일명이 5글자 이상인 파일들.\n",
    "[file for file in file_name if len(file.split('.')[0]) >= 5]"
   ]
  },
  {
   "cell_type": "code",
   "execution_count": 114,
   "id": "a0cc04fa",
   "metadata": {
    "ExecuteTime": {
     "end_time": "2022-12-22T08:46:52.797295Z",
     "start_time": "2022-12-22T08:46:52.776383Z"
    },
    "slideshow": {
     "slide_type": "skip"
    }
   },
   "outputs": [
    {
     "data": {
      "text/plain": [
       "['c', 'g', 'h', 'k']"
      ]
     },
     "execution_count": 114,
     "metadata": {},
     "output_type": "execute_result"
    }
   ],
   "source": [
    "#(14) 다음 리스트에서 소문자만 가지는 새로운 리스트를 만드시오.\n",
    "str_list = [\"A\", \"B\", \"c\", \"D\", \"E\", \"F\", \"g\", \"h\", \"I\", \"J\", \"k\"]\n",
    "\n",
    "[value for value in str_list if value.islower()]"
   ]
  },
  {
   "cell_type": "code",
   "execution_count": 115,
   "id": "7461f29a",
   "metadata": {
    "ExecuteTime": {
     "end_time": "2022-12-22T08:47:07.798823Z",
     "start_time": "2022-12-22T08:47:07.790872Z"
    }
   },
   "outputs": [
    {
     "data": {
      "text/plain": [
       "['A', 'B', 'D', 'E', 'F', 'I', 'J']"
      ]
     },
     "execution_count": 115,
     "metadata": {},
     "output_type": "execute_result"
    }
   ],
   "source": [
    "[value for value in str_list if value.isupper()]"
   ]
  }
 ],
 "metadata": {
  "kernelspec": {
   "display_name": "Python 3 (ipykernel)",
   "language": "python",
   "name": "python3"
  },
  "language_info": {
   "codemirror_mode": {
    "name": "ipython",
    "version": 3
   },
   "file_extension": ".py",
   "mimetype": "text/x-python",
   "name": "python",
   "nbconvert_exporter": "python",
   "pygments_lexer": "ipython3",
   "version": "3.9.16"
  },
  "toc": {
   "base_numbering": 1,
   "nav_menu": {},
   "number_sections": true,
   "sideBar": true,
   "skip_h1_title": false,
   "title_cell": "Table of Contents",
   "title_sidebar": "Contents",
   "toc_cell": false,
   "toc_position": {
    "height": "calc(100% - 180px)",
    "left": "10px",
    "top": "150px",
    "width": "341.333px"
   },
   "toc_section_display": true,
   "toc_window_display": false
  },
  "varInspector": {
   "cols": {
    "lenName": 16,
    "lenType": 16,
    "lenVar": 40
   },
   "kernels_config": {
    "python": {
     "delete_cmd_postfix": "",
     "delete_cmd_prefix": "del ",
     "library": "var_list.py",
     "varRefreshCmd": "print(var_dic_list())"
    },
    "r": {
     "delete_cmd_postfix": ") ",
     "delete_cmd_prefix": "rm(",
     "library": "var_list.r",
     "varRefreshCmd": "cat(var_dic_list()) "
    }
   },
   "types_to_exclude": [
    "module",
    "function",
    "builtin_function_or_method",
    "instance",
    "_Feature"
   ],
   "window_display": false
  }
 },
 "nbformat": 4,
 "nbformat_minor": 5
}
