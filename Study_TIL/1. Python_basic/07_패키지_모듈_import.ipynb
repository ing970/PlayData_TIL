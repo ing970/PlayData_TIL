{
 "cells": [
  {
   "cell_type": "markdown",
   "id": "9d39c99a",
   "metadata": {
    "slideshow": {
     "slide_type": "slide"
    }
   },
   "source": [
    "# 모듈(Module)\n",
    "\n",
    "- 독립적인 기능을 가지고 재사용가능한 프로그램 단위를 모듈이라고 한다.\n",
    "- **파이썬에서 모듈**은 재사용 가능한 함수, 클래스등을 작성한 소스 파일을 말한다.\n",
    "    - 함수나 클래스를 작성한 `.py` 스크립트 파일 파일이 모듈이 된다.\n",
    "- 모듈의 함수나 클래스들을 다른 python 프로그램에서 호출 하여 사용할 수 있다.\n",
    "    - 단 사용하기 위해서는 `import` 를 먼저 해야 한다.\n",
    "- 이런 모듈들을 모아 놓으면 라이브러리가 된다.\n",
    "- **모듈의 종류**\n",
    "    - 표준 모듈\n",
    "        - 파이썬에 내장된 모듈\n",
    "    - 사용자 정의 모듈\n",
    "        - 개발자가 재사용을 위해 직접 만든 모듈 \n",
    "    - 3rd Party 모듈\n",
    "        - 특정 개발업체나 개발자들이 만들어 배포하는 모듈\n",
    "        - 사용자 정의 모듈도 배포되어 다른 곳에서 사용되면 3rd party 모듈이 된다.\n",
    "\n",
    "\n"
   ]
  },
  {
   "cell_type": "code",
   "execution_count": 2,
   "id": "a1f3d944",
   "metadata": {
    "ExecuteTime": {
     "end_time": "2022-12-28T08:41:13.037706Z",
     "start_time": "2022-12-28T08:41:13.028414Z"
    }
   },
   "outputs": [],
   "source": [
    "import my_module"
   ]
  },
  {
   "cell_type": "code",
   "execution_count": 3,
   "id": "b23e09a0",
   "metadata": {
    "ExecuteTime": {
     "end_time": "2022-12-28T08:41:32.153538Z",
     "start_time": "2022-12-28T08:41:32.141815Z"
    }
   },
   "outputs": [
    {
     "name": "stdout",
     "output_type": "stream",
     "text": [
      "1.0\n",
      "홍길동님 안녕하세요\n"
     ]
    }
   ],
   "source": [
    "print(my_module.__version__)\n",
    "print(my_module.greeting('홍길동'))"
   ]
  },
  {
   "cell_type": "markdown",
   "id": "0ba07092",
   "metadata": {
    "slideshow": {
     "slide_type": "slide"
    }
   },
   "source": [
    "# 패키지 (Package)\n",
    "- 모듈들을 모아 놓은 것을 패키지라고 한다.\n",
    "    - 그래서 파이썬에서는 **라이브러리를 패키지라고 한다.** (재사용가능한 모듈들을 모아 놓은 것이 패키지이므로)\n",
    "- 물리적으로는 모듈 파일들을 모아놓은 디렉토리(폴더)가 패키지이다.  \n",
    "- python 3.3 이전 버전은 package 디렉토리에 **\\_\\_init\\_\\_.py** 파일을 그 디렉토리에 반드시 위치시켜야 한다.\n",
    "    - 3.3 이후에는 위치시킬 필요는 없지만 package안의 모듈들의 import 관련 설정을 해야 하는 경우에는 `__init__.py`에 작성하고 위치시킨다.\n",
    "- **Root Package**\n",
    "    - 전체 모듈들을 담고 있는 최상위 패키지(디렉토리)\n",
    "    - 패키지 내의 속한 패키지를 통칭 **sub package** 라고 한다.\n",
    "    - Root package를 제외한 모든 package들은 다 sub package가 된다."
   ]
  },
  {
   "cell_type": "markdown",
   "id": "4a874a76",
   "metadata": {
    "slideshow": {
     "slide_type": "slide"
    }
   },
   "source": [
    "# import\n",
    "\n",
    "## 함수, 클래스 정의란\n",
    "1. 함수, 클래스를 구현한다.\n",
    "2. 구현된 함수, 클래스를 파이썬 실행환경에 등록한다.\n",
    "    - 등록하는 것은 메모리에 올리는(loading) 작업이다.\n",
    "    - 메모리에 올리기 위해서는 실행시켜서 파이썬 실행환경이 읽도록 해야 한다.\n",
    "- 파이썬 실행환경에 등록된 함수와 클래스만 호출해서 사용할 수 있다."
   ]
  },
  {
   "cell_type": "markdown",
   "id": "654df5d6",
   "metadata": {
    "slideshow": {
     "slide_type": "subslide"
    }
   },
   "source": [
    "## import 란\n",
    "- 파이썬 모듈 파일에 정의된 변수, 함수, 클래스들을 사용하기 위해 **파이썬 실행환경에 등록하는 작업**을 말한다.\n",
    "- 현재 프로그램 모듈의 것들이 아니라 **다른 모듈에 있는 것들은 사용하기 위해 import 작업을 먼저 해야 한다.**\n",
    "- 모듈을 import 하면 모듈의 내용이 실행되면서 그 안에 구현된 변수, 함수, 클래스들이 파이썬 실행환경에 그 모듈 이름을 namespace로 하여 등록된다.\n",
    "\n",
    "\n",
    "> - **namespace**\n",
    ">    - 여러개의 객체(존재하는 무언가)를 하나로 묶어 주면서 구분자 역할을 하는 이름을 주는 것을 namespace라고 한다.\n",
    ">    - namespace를 이용해 각 그룹들의 객체들을 구분할 수 있다. 그래서 같은 이름의 객체들을 사용할 수 있다.\n",
    ">    - 파이썬에서는 모듈에 정의된 변수, 함수, 클래스 들을 실행환경에 등록할 때 모듈명을 namespace로 묶어서 등록한다.\n",
    ">    - [위키백과 참고](https://ko.wikipedia.org/wiki/%EC%9D%B4%EB%A6%84%EA%B3%B5%EA%B0%84)"
   ]
  },
  {
   "cell_type": "markdown",
   "id": "34083bd0",
   "metadata": {
    "slideshow": {
     "slide_type": "subslide"
    }
   },
   "source": [
    "## import 구문\n",
    "- 기본구문\n",
    "    - `[from 사용할 것의 경로] import 사용할 것 [as 별칭] [, 사용할 것..]`\n",
    "    - \\[ \\] : 생략 가능한 구문\n",
    "    - 사용할 것\n",
    "        - 모듈\n",
    "        - 모듈안에 정의된 변수, 함수, 클래스"
   ]
  },
  {
   "cell_type": "code",
   "execution_count": 3,
   "id": "730a03b6",
   "metadata": {
    "ExecuteTime": {
     "end_time": "2022-12-29T01:23:18.429534Z",
     "start_time": "2022-12-29T01:23:18.411340Z"
    }
   },
   "outputs": [
    {
     "data": {
      "text/plain": [
       "'홍길동님 안녕하세요'"
      ]
     },
     "execution_count": 3,
     "metadata": {},
     "output_type": "execute_result"
    }
   ],
   "source": [
    "import my_module\n",
    "my_module.greeting('홍길동')"
   ]
  },
  {
   "cell_type": "code",
   "execution_count": null,
   "id": "a92b92a3",
   "metadata": {},
   "outputs": [],
   "source": [
    "# import my_package.calculator\n",
    "\n",
    "# my_package.calculator.plus()"
   ]
  },
  {
   "cell_type": "code",
   "execution_count": 6,
   "id": "6ada9f91",
   "metadata": {
    "ExecuteTime": {
     "end_time": "2022-12-29T01:26:38.394124Z",
     "start_time": "2022-12-29T01:26:38.377303Z"
    }
   },
   "outputs": [
    {
     "data": {
      "text/plain": [
       "15"
      ]
     },
     "execution_count": 6,
     "metadata": {},
     "output_type": "execute_result"
    }
   ],
   "source": [
    "from my_package import calculator as calc\n",
    "calc.plus(10, 5)"
   ]
  },
  {
   "cell_type": "code",
   "execution_count": 7,
   "id": "cbc10c0e",
   "metadata": {
    "ExecuteTime": {
     "end_time": "2022-12-29T01:26:43.822551Z",
     "start_time": "2022-12-29T01:26:43.800383Z"
    }
   },
   "outputs": [
    {
     "data": {
      "text/plain": [
       "10"
      ]
     },
     "execution_count": 7,
     "metadata": {},
     "output_type": "execute_result"
    }
   ],
   "source": [
    "import my_package.calculator as calc2\n",
    "calc2.plus(5, 5)"
   ]
  },
  {
   "cell_type": "code",
   "execution_count": null,
   "id": "b5dc7b98",
   "metadata": {},
   "outputs": [],
   "source": []
  },
  {
   "cell_type": "markdown",
   "id": "37a67c0e",
   "metadata": {
    "slideshow": {
     "slide_type": "subslide"
    }
   },
   "source": [
    "<b style='font-size:1.2em'> 1. 모듈 import</b>\n",
    "```python\n",
    "import 모듈   # 하나의 모듈 import.\n",
    "import 모듈 as 별칭 # namespace의 이름을 모듈명이 아니라 별칭으로 지정한다.\n",
    "import 모듈_1, 모듈_2 # 여러개 모듈 import.','를 구분자로 나열한다.\n",
    "import 모듈_1 as 별칭1, 모듈_2 as 별칭2\n",
    "```\n",
    "- 모듈을 import 하고 그 안에 함수, 클래스들을 사용할 때는 모듈명이 namespace 역할을 하기 때문에 `모듈명.함수()`, `모듈명.Class` 구문으로 호출한다.\n",
    "- 별칭(Alias)를 주면 namespace로 별칭을 사용한다.\n",
    "- **예**\n",
    "```python\n",
    "import test_module\n",
    "import my_module as mm\n",
    "# test_module의 hello() 함수 호출시\n",
    "test_module.hello()\n",
    "# my_module은 mm 별칭을 지정했으므로 mm을 namespace로 사용한다.\n",
    "p = mm.Person('홍길동', 30) # my_module의 Person 클래스 객체 생성\n",
    "```"
   ]
  },
  {
   "cell_type": "markdown",
   "id": "63abaa38",
   "metadata": {
    "slideshow": {
     "slide_type": "subslide"
    }
   },
   "source": [
    "<b style='font-size:1.2em'>2. 모듈내의 특정 항목만 import</b>\n",
    "```python\n",
    "from 모듈 import 함수  # 함수/클래스가 있는 모듈과 함수를 분리해서 import한다.\n",
    "from 모듈 import 클래스\n",
    "from 모듈 import 함수_1, 함수_2, 클래스\n",
    "from 모듈 import *   \n",
    "```\n",
    "- 모듈에 정의된 **일부 함수나 클래스만 사용할 경우** 개별적으로 import 할 수있다.\n",
    "- `from 모듈 import 함수` 구문으로 import 하면 import한 함수나 클래스들이 현재 실행중인 모듈의 namespace로 들어간다. 그래서 모듈명없이 바로 호출 할 수 있다.\n",
    "- `*`를 이용하면 그 모듈의 모든 함수/클래스들을 현재 실행중인 namespace에 추가해 사용할 수 있게 해준다. 이 방식은 **이름 충돌의 가능성이 있기때문에 추천되지 않는다.**"
   ]
  },
  {
   "cell_type": "code",
   "execution_count": 3,
   "id": "2b37dc6a",
   "metadata": {
    "ExecuteTime": {
     "end_time": "2022-12-29T01:35:55.248405Z",
     "start_time": "2022-12-29T01:35:55.241714Z"
    }
   },
   "outputs": [
    {
     "name": "stdout",
     "output_type": "stream",
     "text": [
      "aaa님 안녕하세요\n",
      "이름: 이름, 나이: 30\n"
     ]
    }
   ],
   "source": [
    "from my_module import greeting, Person\n",
    "\n",
    "print(greeting('aaa'))\n",
    "print(Person('이름', 30))"
   ]
  },
  {
   "cell_type": "markdown",
   "id": "b8bc6da8",
   "metadata": {
    "slideshow": {
     "slide_type": "subslide"
    }
   },
   "source": [
    "<b style='font-size:1.2em'>3. 패키지에 속한 모듈 import</b>\n",
    "\n",
    "```python\n",
    "from 패키지명 import 모듈\n",
    "from 패키지명.모듈 import 함수\n",
    "from 패키지명.모듈 import 클래스\n",
    "from 패키지명.모듈 import 함수_1, 함수_2, 클래스\n",
    "from Root패키지.Sub패키지1.Sub패키지2 import 모듈        # 패키지가 계층구조로 되있을 경우 `.` 으로 이용해 나열한다.\n",
    "from Root패키지.Sub패키지1.Sub패키지2.모듈 import 함수\n",
    "from Root패키지.Sub패키지1.Sub패키지2.모듈 import 클래스\n",
    "```\n",
    "\n",
    "- 패키지에 속한 모듈을 import 할 때는 **from 절에 패키지를 import 절에 모듈을** 설정한다.\n",
    "- **import 가능한 것은 변수, 모듈, 함수, 클래스 들이다.**  <b style='color:red'>패키지는 import 할수 없다.</b>"
   ]
  },
  {
   "cell_type": "code",
   "execution_count": 4,
   "id": "9aa736f9",
   "metadata": {
    "ExecuteTime": {
     "end_time": "2022-12-29T01:39:10.437564Z",
     "start_time": "2022-12-29T01:39:10.417401Z"
    }
   },
   "outputs": [
    {
     "data": {
      "text/plain": [
       "20"
      ]
     },
     "execution_count": 4,
     "metadata": {},
     "output_type": "execute_result"
    }
   ],
   "source": [
    "from my_package import calculator as calc # 모듈 import\n",
    "calc.plus(10, 10)"
   ]
  },
  {
   "cell_type": "code",
   "execution_count": 1,
   "id": "7e2cf669",
   "metadata": {
    "ExecuteTime": {
     "end_time": "2022-12-29T01:40:38.823630Z",
     "start_time": "2022-12-29T01:40:38.802328Z"
    }
   },
   "outputs": [
    {
     "data": {
      "text/plain": [
       "(15, 10)"
      ]
     },
     "execution_count": 1,
     "metadata": {},
     "output_type": "execute_result"
    }
   ],
   "source": [
    "# 함수, class단위로 import 하면 현재 모듈의 namespace에 들어간다.\n",
    "# 그래서 사용할 때 현재 모듈에서 정의한 함수나 클래스처럼 호출한다.\n",
    "from my_package.calculator import plus, minus\n",
    "\n",
    "plus(10, 5), minus(20, 10)"
   ]
  },
  {
   "cell_type": "code",
   "execution_count": 1,
   "id": "22c0522f",
   "metadata": {
    "ExecuteTime": {
     "end_time": "2022-12-29T01:44:23.674834Z",
     "start_time": "2022-12-29T01:44:23.667481Z"
    }
   },
   "outputs": [],
   "source": [
    "def plus():\n",
    "    print(\"덧셈이에요\")"
   ]
  },
  {
   "cell_type": "code",
   "execution_count": 2,
   "id": "d5a47334",
   "metadata": {
    "ExecuteTime": {
     "end_time": "2022-12-29T01:45:38.084769Z",
     "start_time": "2022-12-29T01:45:38.073748Z"
    }
   },
   "outputs": [
    {
     "name": "stdout",
     "output_type": "stream",
     "text": [
      "덧셈이에요\n"
     ]
    }
   ],
   "source": [
    "plus()"
   ]
  },
  {
   "cell_type": "code",
   "execution_count": 5,
   "id": "21d28179",
   "metadata": {
    "ExecuteTime": {
     "end_time": "2022-12-29T01:47:28.381206Z",
     "start_time": "2022-12-29T01:47:28.361834Z"
    }
   },
   "outputs": [
    {
     "data": {
      "text/plain": [
       "(2, 1, 20, 2.0)"
      ]
     },
     "execution_count": 5,
     "metadata": {},
     "output_type": "execute_result"
    }
   ],
   "source": [
    "# 이방식은 안쓰는 것이 좋다.\n",
    "from my_package.calculator import *  # 모듈의 모든 클래스/함수를 import\n",
    "\n",
    "plus(1,1), minus(2,1), multiply(10,2), divide(4,2)"
   ]
  },
  {
   "cell_type": "code",
   "execution_count": 4,
   "id": "0637b6c3",
   "metadata": {
    "ExecuteTime": {
     "end_time": "2022-12-29T01:45:46.075087Z",
     "start_time": "2022-12-29T01:45:45.906562Z"
    }
   },
   "outputs": [
    {
     "ename": "TypeError",
     "evalue": "plus() missing 2 required positional arguments: 'n1' and 'n2'",
     "output_type": "error",
     "traceback": [
      "\u001b[1;31m---------------------------------------------------------------------------\u001b[0m",
      "\u001b[1;31mTypeError\u001b[0m                                 Traceback (most recent call last)",
      "\u001b[1;32m~\\AppData\\Local\\Temp\\ipykernel_10288\\4064024495.py\u001b[0m in \u001b[0;36m<module>\u001b[1;34m\u001b[0m\n\u001b[1;32m----> 1\u001b[1;33m \u001b[0mplus\u001b[0m\u001b[1;33m(\u001b[0m\u001b[1;33m)\u001b[0m\u001b[1;33m\u001b[0m\u001b[1;33m\u001b[0m\u001b[0m\n\u001b[0m",
      "\u001b[1;31mTypeError\u001b[0m: plus() missing 2 required positional arguments: 'n1' and 'n2'"
     ]
    }
   ],
   "source": [
    "plus()"
   ]
  },
  {
   "cell_type": "markdown",
   "id": "6a263cf2",
   "metadata": {
    "slideshow": {
     "slide_type": "slide"
    }
   },
   "source": [
    "## import 된 모듈 찾는 경로 및 PYTHONPATH\n",
    "\n",
    "- `import 모듈` 구문을 사용하면 파이썬 실행 환경은 모듈을 다음 경로에서 찾는다.\n",
    "    1. 현재 실행중인 모듈(import 구문을 사용한 모듈)이 있는 경로\n",
    "    2. 파이썬 실행환경에 등록된 경로\n",
    "- 모듈을 찾는 순서는 다음에서 확인할 수 있다.\n",
    "```python\n",
    "import sys      # 표준모듈 sys\n",
    "print(sys.path) # 모듈을 찾는 경로를 저장한 list\n",
    "```\n",
    "- 위의 경로 이외에 파이썬 모듈이 있을 경우 PYTHONPATH 환경변수에 그 디렉토리 경로를 등록한다.\n",
    "    1. sys.path 에 추가한다. (사용할 때 마다 추가해야 한다.)\n",
    "    2. 운영체제 환경변수에 등록한다. (한번만 하면된다.)"
   ]
  },
  {
   "cell_type": "code",
   "execution_count": 6,
   "id": "08e46ae4",
   "metadata": {
    "ExecuteTime": {
     "end_time": "2022-12-29T02:17:06.639265Z",
     "start_time": "2022-12-29T02:17:06.619405Z"
    }
   },
   "outputs": [
    {
     "name": "stdout",
     "output_type": "stream",
     "text": [
      "['C:\\\\Classes\\\\01_python\\\\01_python 기초',\n",
      " 'C:\\\\Classes\\\\sign_lang\\\\tensorflow-yolov4-tflite',\n",
      " 'C:\\\\Users\\\\Playdata\\\\anaconda3\\\\python39.zip',\n",
      " 'C:\\\\Users\\\\Playdata\\\\anaconda3\\\\DLLs',\n",
      " 'C:\\\\Users\\\\Playdata\\\\anaconda3\\\\lib',\n",
      " 'C:\\\\Users\\\\Playdata\\\\anaconda3',\n",
      " '',\n",
      " 'C:\\\\Users\\\\Playdata\\\\AppData\\\\Roaming\\\\Python\\\\Python39\\\\site-packages',\n",
      " 'C:\\\\Users\\\\Playdata\\\\anaconda3\\\\lib\\\\site-packages',\n",
      " 'C:\\\\Users\\\\Playdata\\\\anaconda3\\\\lib\\\\site-packages\\\\win32',\n",
      " 'C:\\\\Users\\\\Playdata\\\\anaconda3\\\\lib\\\\site-packages\\\\win32\\\\lib',\n",
      " 'C:\\\\Users\\\\Playdata\\\\anaconda3\\\\lib\\\\site-packages\\\\Pythonwin',\n",
      " 'C:\\\\Users\\\\Playdata\\\\anaconda3\\\\lib\\\\site-packages\\\\IPython\\\\extensions',\n",
      " 'C:\\\\Users\\\\Playdata\\\\.ipython']\n"
     ]
    }
   ],
   "source": [
    "import sys\n",
    "from pprint import pprint  #  자료구조를 가독성 좋게(읽기 좋게) 출력\n",
    "pprint(sys.path)"
   ]
  },
  {
   "cell_type": "code",
   "execution_count": 1,
   "id": "13624776",
   "metadata": {
    "ExecuteTime": {
     "end_time": "2022-12-29T02:35:06.370271Z",
     "start_time": "2022-12-29T02:35:06.356352Z"
    }
   },
   "outputs": [
    {
     "name": "stdout",
     "output_type": "stream",
     "text": [
      "['C:\\\\Classes\\\\01_python\\\\01_python 기초',\n",
      " 'C:\\\\Temp',\n",
      " 'C:\\\\Users\\\\Playdata\\\\anaconda3\\\\python39.zip',\n",
      " 'C:\\\\Users\\\\Playdata\\\\anaconda3\\\\DLLs',\n",
      " 'C:\\\\Users\\\\Playdata\\\\anaconda3\\\\lib',\n",
      " 'C:\\\\Users\\\\Playdata\\\\anaconda3',\n",
      " '',\n",
      " 'C:\\\\Users\\\\Playdata\\\\AppData\\\\Roaming\\\\Python\\\\Python39\\\\site-packages',\n",
      " 'C:\\\\Users\\\\Playdata\\\\anaconda3\\\\lib\\\\site-packages',\n",
      " 'C:\\\\Users\\\\Playdata\\\\anaconda3\\\\lib\\\\site-packages\\\\win32',\n",
      " 'C:\\\\Users\\\\Playdata\\\\anaconda3\\\\lib\\\\site-packages\\\\win32\\\\lib',\n",
      " 'C:\\\\Users\\\\Playdata\\\\anaconda3\\\\lib\\\\site-packages\\\\Pythonwin',\n",
      " 'C:\\\\Users\\\\Playdata\\\\anaconda3\\\\lib\\\\site-packages\\\\IPython\\\\extensions',\n",
      " 'C:\\\\Users\\\\Playdata\\\\.ipython']\n"
     ]
    }
   ],
   "source": [
    "import sys\n",
    "from pprint import pprint  #  자료구조를 가독성 좋게(읽기 좋게) 출력\n",
    "pprint(sys.path)"
   ]
  },
  {
   "cell_type": "code",
   "execution_count": 8,
   "id": "4056b7f9",
   "metadata": {
    "ExecuteTime": {
     "end_time": "2022-12-29T02:27:48.174424Z",
     "start_time": "2022-12-29T02:27:48.163899Z"
    },
    "collapsed": true
   },
   "outputs": [
    {
     "name": "stdout",
     "output_type": "stream",
     "text": [
      "['C:\\\\Classes\\\\01_python\\\\01_python 기초',\n",
      " 'C:\\\\Classes\\\\sign_lang\\\\tensorflow-yolov4-tflite',\n",
      " 'C:\\\\Users\\\\Playdata\\\\anaconda3\\\\python39.zip',\n",
      " 'C:\\\\Users\\\\Playdata\\\\anaconda3\\\\DLLs',\n",
      " 'C:\\\\Users\\\\Playdata\\\\anaconda3\\\\lib',\n",
      " 'C:\\\\Users\\\\Playdata\\\\anaconda3',\n",
      " '',\n",
      " 'C:\\\\Users\\\\Playdata\\\\AppData\\\\Roaming\\\\Python\\\\Python39\\\\site-packages',\n",
      " 'C:\\\\Users\\\\Playdata\\\\anaconda3\\\\lib\\\\site-packages',\n",
      " 'C:\\\\Users\\\\Playdata\\\\anaconda3\\\\lib\\\\site-packages\\\\win32',\n",
      " 'C:\\\\Users\\\\Playdata\\\\anaconda3\\\\lib\\\\site-packages\\\\win32\\\\lib',\n",
      " 'C:\\\\Users\\\\Playdata\\\\anaconda3\\\\lib\\\\site-packages\\\\Pythonwin',\n",
      " 'C:\\\\Users\\\\Playdata\\\\anaconda3\\\\lib\\\\site-packages\\\\IPython\\\\extensions',\n",
      " 'C:\\\\Users\\\\Playdata\\\\.ipython',\n",
      " 'c:\\\\Temp']\n"
     ]
    }
   ],
   "source": [
    "# sys.path.append(r'c:\\Temp')\n",
    "# pprint(sys.path)"
   ]
  },
  {
   "cell_type": "code",
   "execution_count": 2,
   "id": "91e294e6",
   "metadata": {
    "ExecuteTime": {
     "end_time": "2022-12-29T02:35:43.286754Z",
     "start_time": "2022-12-29T02:35:43.275512Z"
    }
   },
   "outputs": [
    {
     "name": "stdout",
     "output_type": "stream",
     "text": [
      "test_module.test()\n"
     ]
    }
   ],
   "source": [
    "import test_module as tm\n",
    "\n",
    "tm.test()"
   ]
  },
  {
   "cell_type": "markdown",
   "id": "4222ef77",
   "metadata": {
    "slideshow": {
     "slide_type": "slide"
    }
   },
   "source": [
    "# 메인 모듈(Main Module)과 하위 모듈(Sub Module)\n",
    "\n",
    "- **메인 모듈**\n",
    "    - 현재 실행하고 있는 모듈\n",
    "- **하위 모듈 (Sub module)**\n",
    "    - 메인 모듈에서 import 되어 실행되는 모듈\n",
    "    - 모듈을 import하면 그 모듈을 실행 시킨다. 이때 모듈에 있는 실행코드들도 같이 실행된다. 이것을 방지 하기 위해 모듈이 메인 모듈로 실행되는지 하위 모듈로 실행되는지 확인이 필요하다.\n",
    "- <b>`__name__`</b> 내장 전역변수\n",
    "    - 실행 중인 모듈명을 저장하는 내장 전역변수\n",
    "    - **메인 모듈은 '\\_\\_main\\_\\_'** 을 **하위 모듈은 모듈명(파일명)** 이 저장된다.\n",
    "    - 모듈이 메인 모듈로 시작하는지 여부 확인 할 때 사용한다.\n",
    "    \n",
    "```python\n",
    "if __name__ == '__main__':\n",
    "    #메인모듈일 때 실행할 코드 블록\n",
    "```"
   ]
  },
  {
   "cell_type": "code",
   "execution_count": 1,
   "id": "82979fac",
   "metadata": {
    "ExecuteTime": {
     "end_time": "2022-12-29T02:51:01.705569Z",
     "start_time": "2022-12-29T02:51:01.674851Z"
    }
   },
   "outputs": [
    {
     "name": "stdout",
     "output_type": "stream",
     "text": [
      "11111\n"
     ]
    }
   ],
   "source": [
    "import my_module\n",
    "# import -> my_module.py를 실행시킨다."
   ]
  },
  {
   "cell_type": "code",
   "execution_count": 2,
   "id": "33e44625",
   "metadata": {
    "ExecuteTime": {
     "end_time": "2022-12-29T02:48:36.430363Z",
     "start_time": "2022-12-29T02:48:36.411293Z"
    }
   },
   "outputs": [
    {
     "data": {
      "text/plain": [
       "'aaaa님 안녕하세요'"
      ]
     },
     "execution_count": 2,
     "metadata": {},
     "output_type": "execute_result"
    }
   ],
   "source": [
    "my_module.greeting('aaaa')"
   ]
  },
  {
   "cell_type": "code",
   "execution_count": 7,
   "id": "b39f3cb4",
   "metadata": {
    "ExecuteTime": {
     "end_time": "2022-12-29T02:52:58.031248Z",
     "start_time": "2022-12-29T02:52:58.020044Z"
    }
   },
   "outputs": [],
   "source": [
    "import my_module"
   ]
  },
  {
   "cell_type": "code",
   "execution_count": 8,
   "id": "e060a1f6",
   "metadata": {
    "ExecuteTime": {
     "end_time": "2022-12-29T02:52:58.479771Z",
     "start_time": "2022-12-29T02:52:58.473523Z"
    }
   },
   "outputs": [
    {
     "data": {
      "text/plain": [
       "'aaaa님 안녕하세요. 반갑습니다.'"
      ]
     },
     "execution_count": 8,
     "metadata": {},
     "output_type": "execute_result"
    }
   ],
   "source": [
    "my_module.greeting('aaaa')"
   ]
  },
  {
   "cell_type": "code",
   "execution_count": null,
   "id": "9aed6fbe",
   "metadata": {},
   "outputs": [],
   "source": []
  },
  {
   "cell_type": "code",
   "execution_count": null,
   "id": "617290d8",
   "metadata": {},
   "outputs": [],
   "source": []
  },
  {
   "cell_type": "code",
   "execution_count": null,
   "id": "da246b20",
   "metadata": {},
   "outputs": [],
   "source": []
  },
  {
   "cell_type": "code",
   "execution_count": null,
   "id": "f958ebb9",
   "metadata": {},
   "outputs": [],
   "source": []
  }
 ],
 "metadata": {
  "kernelspec": {
   "display_name": "Python 3 (ipykernel)",
   "language": "python",
   "name": "python3"
  },
  "language_info": {
   "codemirror_mode": {
    "name": "ipython",
    "version": 3
   },
   "file_extension": ".py",
   "mimetype": "text/x-python",
   "name": "python",
   "nbconvert_exporter": "python",
   "pygments_lexer": "ipython3",
   "version": "3.9.16"
  },
  "toc": {
   "base_numbering": 1,
   "nav_menu": {},
   "number_sections": true,
   "sideBar": true,
   "skip_h1_title": false,
   "title_cell": "Table of Contents",
   "title_sidebar": "Contents",
   "toc_cell": false,
   "toc_position": {},
   "toc_section_display": true,
   "toc_window_display": false
  },
  "varInspector": {
   "cols": {
    "lenName": 16,
    "lenType": 16,
    "lenVar": 40
   },
   "kernels_config": {
    "python": {
     "delete_cmd_postfix": "",
     "delete_cmd_prefix": "del ",
     "library": "var_list.py",
     "varRefreshCmd": "print(var_dic_list())"
    },
    "r": {
     "delete_cmd_postfix": ") ",
     "delete_cmd_prefix": "rm(",
     "library": "var_list.r",
     "varRefreshCmd": "cat(var_dic_list()) "
    }
   },
   "types_to_exclude": [
    "module",
    "function",
    "builtin_function_or_method",
    "instance",
    "_Feature"
   ],
   "window_display": false
  }
 },
 "nbformat": 4,
 "nbformat_minor": 5
}
