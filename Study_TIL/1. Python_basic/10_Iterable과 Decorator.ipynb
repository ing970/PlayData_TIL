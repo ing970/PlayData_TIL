{
 "cells": [
  {
   "cell_type": "markdown",
   "id": "562c702d",
   "metadata": {
    "slideshow": {
     "slide_type": "slide"
    }
   },
   "source": [
    "# Iterator\n",
    "\n",
    "- **Iterable(공장)**\n",
    "    - 여러개의 데이터를 하나씩 또는 한 단위씩 제공하는 객체.\n",
    "    - Iterator객체를 반환하는 `__iter__()` 특수 메소드를 정의해야 한다.\n",
    "        - `__iter__()`는 `iter(Iterable)` 내장함수에 의해 호출된다. \n",
    "- **Iterator(가계)**\n",
    "    - 자신을 생성한 Iterable의 값들을 하나씩 또는 한 단위씩 제공하는 객체\n",
    "    - Iterable의 값을 제공하는 `__next__()` 특수 메소드를 정의한다.\n",
    "        - `__next__()` 는 `next(Iterator)` 내정함수에 의해 호출된다.\n",
    "        - 더 이상 제공할 값이 없을 경우 **StopIteration** Exception을 발생시켜야 한다."
   ]
  },
  {
   "cell_type": "code",
   "execution_count": 1,
   "id": "c7d5c4b6",
   "metadata": {
    "slideshow": {
     "slide_type": "fragment"
    }
   },
   "outputs": [],
   "source": [
    "# list -> Iterable 타입\n",
    "# list_iterator -> list의 iterable"
   ]
  },
  {
   "cell_type": "code",
   "execution_count": null,
   "id": "9e77b852",
   "metadata": {},
   "outputs": [],
   "source": []
  },
  {
   "cell_type": "code",
   "execution_count": 35,
   "id": "a34f7ba7",
   "metadata": {},
   "outputs": [
    {
     "name": "stdout",
     "output_type": "stream",
     "text": [
      "<class 'list_iterator'>\n"
     ]
    }
   ],
   "source": [
    "l = [1,2,3] # iterable\n",
    "l_iterator = iter(l)       # iterator를 조회 -> 리스트가 가진 값들을 하나씩 제공해주는 역할. l.__iter__()\n",
    "print(type(iter(l)))"
   ]
  },
  {
   "cell_type": "code",
   "execution_count": 3,
   "id": "91439e93",
   "metadata": {},
   "outputs": [
    {
     "name": "stdout",
     "output_type": "stream",
     "text": [
      "1\n"
     ]
    }
   ],
   "source": [
    "# 리스트 원소들을 list iterator를 이용해서 하나씩 조회\n",
    "print(next(l_iterator)) # l_iterator.__next__()"
   ]
  },
  {
   "cell_type": "code",
   "execution_count": 4,
   "id": "1e5b47bf",
   "metadata": {},
   "outputs": [
    {
     "name": "stdout",
     "output_type": "stream",
     "text": [
      "2\n"
     ]
    }
   ],
   "source": [
    "print(next(l_iterator)) "
   ]
  },
  {
   "cell_type": "code",
   "execution_count": 5,
   "id": "092a8a72",
   "metadata": {},
   "outputs": [
    {
     "name": "stdout",
     "output_type": "stream",
     "text": [
      "3\n"
     ]
    }
   ],
   "source": [
    "print(next(l_iterator)) "
   ]
  },
  {
   "cell_type": "code",
   "execution_count": 6,
   "id": "9a048759",
   "metadata": {},
   "outputs": [
    {
     "ename": "StopIteration",
     "evalue": "",
     "output_type": "error",
     "traceback": [
      "\u001b[0;31m---------------------------------------------------------------------------\u001b[0m",
      "\u001b[0;31mStopIteration\u001b[0m                             Traceback (most recent call last)",
      "\u001b[0;32m/var/folders/nc/lry6d8ws417_mblykm_8wpc40000gn/T/ipykernel_14291/3207827695.py\u001b[0m in \u001b[0;36m<module>\u001b[0;34m\u001b[0m\n\u001b[0;32m----> 1\u001b[0;31m \u001b[0mprint\u001b[0m\u001b[0;34m(\u001b[0m\u001b[0mnext\u001b[0m\u001b[0;34m(\u001b[0m\u001b[0ml_iterator\u001b[0m\u001b[0;34m)\u001b[0m\u001b[0;34m)\u001b[0m  \u001b[0;31m# 줄 값이 없어서 StopIteration 발생.\u001b[0m\u001b[0;34m\u001b[0m\u001b[0;34m\u001b[0m\u001b[0m\n\u001b[0m",
      "\u001b[0;31mStopIteration\u001b[0m: "
     ]
    }
   ],
   "source": [
    "print(next(l_iterator))  # 줄 값이 없어서 StopIteration 발생."
   ]
  },
  {
   "cell_type": "code",
   "execution_count": 26,
   "id": "85615f1c",
   "metadata": {},
   "outputs": [],
   "source": [
    "# for in 문을 구현\n",
    "def for_in(iterable):\n",
    "    \"\"\"\n",
    "    iterable의 값을 모두 출력하는 함수 -> for in 문을 구현.\n",
    "    \"\"\"\n",
    "    iterator = iter(iterable)\n",
    "    while True:\n",
    "        try:\n",
    "            v = next(iterator)\n",
    "            print(v)\n",
    "        except: #StopIteration 예외가 발생하면 break하고 반복문을 중단.\n",
    "            break"
   ]
  },
  {
   "cell_type": "code",
   "execution_count": 27,
   "id": "3046c89b",
   "metadata": {},
   "outputs": [
    {
     "name": "stdout",
     "output_type": "stream",
     "text": [
      "1\n",
      "2\n",
      "3\n"
     ]
    }
   ],
   "source": [
    "for_in(l)"
   ]
  },
  {
   "cell_type": "code",
   "execution_count": 28,
   "id": "5a14e44d",
   "metadata": {},
   "outputs": [
    {
     "name": "stdout",
     "output_type": "stream",
     "text": [
      "1\n",
      "2\n",
      "3\n"
     ]
    }
   ],
   "source": [
    "for v in l:\n",
    "    print(v)"
   ]
  },
  {
   "cell_type": "code",
   "execution_count": 29,
   "id": "d70bb990",
   "metadata": {},
   "outputs": [
    {
     "ename": "NameError",
     "evalue": "name 'iterable' is not defined",
     "output_type": "error",
     "traceback": [
      "\u001b[0;31m---------------------------------------------------------------------------\u001b[0m",
      "\u001b[0;31mNameError\u001b[0m                                 Traceback (most recent call last)",
      "\u001b[0;32m/var/folders/nc/lry6d8ws417_mblykm_8wpc40000gn/T/ipykernel_14291/3344028855.py\u001b[0m in \u001b[0;36m<module>\u001b[0;34m\u001b[0m\n\u001b[0;32m----> 1\u001b[0;31m \u001b[0mprint\u001b[0m\u001b[0;34m(\u001b[0m\u001b[0miterable\u001b[0m\u001b[0;34m)\u001b[0m\u001b[0;34m\u001b[0m\u001b[0;34m\u001b[0m\u001b[0m\n\u001b[0m",
      "\u001b[0;31mNameError\u001b[0m: name 'iterable' is not defined"
     ]
    }
   ],
   "source": [
    "print(iterable)"
   ]
  },
  {
   "cell_type": "markdown",
   "id": "ad311a49",
   "metadata": {
    "slideshow": {
     "slide_type": "subslide"
    }
   },
   "source": [
    "## for in 문 Iterable의 값을 순환반복하는 과정\n",
    "\n",
    "1. 반복 조회할 iterable객체의 __iter__() 를 호출 하여 Iterator를 구한다.\n",
    "1. 매 반복마다 Iterator의 __next__() 를 호출하여 다음 원소를 조회한다.\n",
    "1. 모든 원소들이 다 제공해 StopIteration Exception이 발생하면 반복문을 멈추고 빠져나온다."
   ]
  },
  {
   "cell_type": "code",
   "execution_count": 49,
   "id": "dbdd15ca",
   "metadata": {},
   "outputs": [],
   "source": [
    "# Iterable 과 Iterator를 구현\n",
    "# Iterable과 Iterator를 다른 클래스로 구현\n",
    "# Iterable\n",
    "class MyIterable:\n",
    "    \n",
    "    def __init__(self, *args):\n",
    "        \"\"\"\n",
    "        *args: 제공해줄 원소들을 가변인자 받는다.\n",
    "        \"\"\"\n",
    "        self.values = args # 튜플\n",
    "        \n",
    "    def __str__(self):\n",
    "        \"\"\"\n",
    "        제공할 원소들을 가진 튜플을 문자열로 반환.\n",
    "        \"\"\"\n",
    "        return str(self.values)\n",
    "    \n",
    "    def __iter__(self):\n",
    "        \"\"\"\n",
    "        iterable은 __iter__()를 반드시 재정의 해야한다.\n",
    "        Iterator 객체를 생성해서 반환하도록 처리\n",
    "        \"\"\"\n",
    "        return MyIterator(self.values) # MyIterator 가 MyIterable의 values값을 사용할 수 있도록 전달. "
   ]
  },
  {
   "cell_type": "code",
   "execution_count": 50,
   "id": "50521a06",
   "metadata": {},
   "outputs": [],
   "source": [
    "class MyIterator:\n",
    "    \n",
    "    def __init__(self,values):\n",
    "        \"\"\"\n",
    "        Iterator의 initializer()에서 Iterable의 원소들을 받아야 한다. (Iterable 객체 또는 그 원소들을 받도록 처리한다.)\n",
    "        \"\"\"\n",
    "        self.values = values\n",
    "        self.index = 0 # 몇번째 원소까지 제공했는지 상태를 저장할 attribute\n",
    "    \n",
    "    def __next__(self):\n",
    "        \"\"\"\n",
    "        nex(iterator) 했을 때 호출된 메소드. 다음 원소를 제공. 제공할 다음 원소가 없으면 StopInteration Exception 발생시킨다.\n",
    "        \"\"\"\n",
    "        # self.values의 값을 하나씩 조회해서 return\n",
    "        if len(self.values) <= self.index:\n",
    "            raise StopIteration()\n",
    "        ret_value = self.values[self.index]\n",
    "        self.index += 1\n",
    "        return ret_value"
   ]
  },
  {
   "cell_type": "code",
   "execution_count": 51,
   "id": "4db0bed2",
   "metadata": {},
   "outputs": [
    {
     "name": "stdout",
     "output_type": "stream",
     "text": [
      "(1, 2, 3, 4)\n"
     ]
    },
    {
     "data": {
      "text/plain": [
       "__main__.MyIterator"
      ]
     },
     "execution_count": 51,
     "metadata": {},
     "output_type": "execute_result"
    }
   ],
   "source": [
    "mi = MyIterable(1,2,3,4)\n",
    "print(mi)\n",
    "# iteravle로 부터 interator 를 생성\n",
    "m_iter = iter(mi)\n",
    "type(m_iter)"
   ]
  },
  {
   "cell_type": "code",
   "execution_count": 52,
   "id": "b255a618",
   "metadata": {},
   "outputs": [
    {
     "data": {
      "text/plain": [
       "1"
      ]
     },
     "execution_count": 52,
     "metadata": {},
     "output_type": "execute_result"
    }
   ],
   "source": [
    "next(m_iter)"
   ]
  },
  {
   "cell_type": "code",
   "execution_count": 54,
   "id": "2ed3a06b",
   "metadata": {},
   "outputs": [
    {
     "data": {
      "text/plain": [
       "2"
      ]
     },
     "execution_count": 54,
     "metadata": {},
     "output_type": "execute_result"
    }
   ],
   "source": [
    "next(m_iter)"
   ]
  },
  {
   "cell_type": "code",
   "execution_count": 55,
   "id": "7088218d",
   "metadata": {},
   "outputs": [
    {
     "data": {
      "text/plain": [
       "3"
      ]
     },
     "execution_count": 55,
     "metadata": {},
     "output_type": "execute_result"
    }
   ],
   "source": [
    "next(m_iter)"
   ]
  },
  {
   "cell_type": "code",
   "execution_count": 56,
   "id": "379ad3c6",
   "metadata": {},
   "outputs": [
    {
     "data": {
      "text/plain": [
       "4"
      ]
     },
     "execution_count": 56,
     "metadata": {},
     "output_type": "execute_result"
    }
   ],
   "source": [
    "next(m_iter)"
   ]
  },
  {
   "cell_type": "code",
   "execution_count": 57,
   "id": "cc9d08c0",
   "metadata": {
    "collapsed": true
   },
   "outputs": [
    {
     "ename": "StopIteration",
     "evalue": "",
     "output_type": "error",
     "traceback": [
      "\u001b[0;31m---------------------------------------------------------------------------\u001b[0m",
      "\u001b[0;31mStopIteration\u001b[0m                             Traceback (most recent call last)",
      "\u001b[0;32m/var/folders/nc/lry6d8ws417_mblykm_8wpc40000gn/T/ipykernel_96536/3727571760.py\u001b[0m in \u001b[0;36m<module>\u001b[0;34m\u001b[0m\n\u001b[0;32m----> 1\u001b[0;31m \u001b[0mnext\u001b[0m\u001b[0;34m(\u001b[0m\u001b[0mm_iter\u001b[0m\u001b[0;34m)\u001b[0m\u001b[0;34m\u001b[0m\u001b[0;34m\u001b[0m\u001b[0m\n\u001b[0m",
      "\u001b[0;32m/var/folders/nc/lry6d8ws417_mblykm_8wpc40000gn/T/ipykernel_96536/1045770788.py\u001b[0m in \u001b[0;36m__next__\u001b[0;34m(self)\u001b[0m\n\u001b[1;32m     14\u001b[0m         \u001b[0;31m# self.values의 값을 하나씩 조회해서 return\u001b[0m\u001b[0;34m\u001b[0m\u001b[0;34m\u001b[0m\u001b[0m\n\u001b[1;32m     15\u001b[0m         \u001b[0;32mif\u001b[0m \u001b[0mlen\u001b[0m\u001b[0;34m(\u001b[0m\u001b[0mself\u001b[0m\u001b[0;34m.\u001b[0m\u001b[0mvalues\u001b[0m\u001b[0;34m)\u001b[0m \u001b[0;34m<=\u001b[0m \u001b[0mself\u001b[0m\u001b[0;34m.\u001b[0m\u001b[0mindex\u001b[0m\u001b[0;34m:\u001b[0m\u001b[0;34m\u001b[0m\u001b[0;34m\u001b[0m\u001b[0m\n\u001b[0;32m---> 16\u001b[0;31m             \u001b[0;32mraise\u001b[0m \u001b[0mStopIteration\u001b[0m\u001b[0;34m(\u001b[0m\u001b[0;34m)\u001b[0m\u001b[0;34m\u001b[0m\u001b[0;34m\u001b[0m\u001b[0m\n\u001b[0m\u001b[1;32m     17\u001b[0m         \u001b[0mret_value\u001b[0m \u001b[0;34m=\u001b[0m \u001b[0mself\u001b[0m\u001b[0;34m.\u001b[0m\u001b[0mvalues\u001b[0m\u001b[0;34m[\u001b[0m\u001b[0mself\u001b[0m\u001b[0;34m.\u001b[0m\u001b[0mindex\u001b[0m\u001b[0;34m]\u001b[0m\u001b[0;34m\u001b[0m\u001b[0;34m\u001b[0m\u001b[0m\n\u001b[1;32m     18\u001b[0m         \u001b[0mself\u001b[0m\u001b[0;34m.\u001b[0m\u001b[0mindex\u001b[0m \u001b[0;34m+=\u001b[0m \u001b[0;36m1\u001b[0m\u001b[0;34m\u001b[0m\u001b[0;34m\u001b[0m\u001b[0m\n",
      "\u001b[0;31mStopIteration\u001b[0m: "
     ]
    }
   ],
   "source": [
    "next(m_iter)"
   ]
  },
  {
   "cell_type": "code",
   "execution_count": 53,
   "id": "1d34e5aa",
   "metadata": {},
   "outputs": [
    {
     "name": "stdout",
     "output_type": "stream",
     "text": [
      "A\n",
      "B\n",
      "C\n"
     ]
    }
   ],
   "source": [
    "for v in MyIterable('A','B','C'):\n",
    "    print(v)"
   ]
  },
  {
   "cell_type": "code",
   "execution_count": 62,
   "id": "b336cea8",
   "metadata": {},
   "outputs": [],
   "source": [
    "# Iterable과 Iterator를 한 클래스로 구현\n",
    "class MyIterable2:\n",
    "    \n",
    "    def __init__(self, *args):\n",
    "        \"\"\"\n",
    "        *args: 제공해줄 원소들을 가변인자 받는다.\n",
    "        \"\"\"\n",
    "        self.values = args # 튜플\n",
    "        self.index = 0     # 다른점!!!!!!!\n",
    "        \n",
    "    def __str__(self):\n",
    "        \"\"\"\n",
    "        제공할 원소들을 가진 튜플을 문자열로 반환.\n",
    "        \"\"\"\n",
    "        return str(self.values)\n",
    "    \n",
    "    def __iter__(self):\n",
    "        \"\"\"\n",
    "        iterable은 __iter__()를 반드시 재정의 해야한다.\n",
    "        Iterator 객체를 생성해서 반환하도록 처리\n",
    "        \"\"\"\n",
    "        return self # MyIterator 가 MyIterable의 values값을 사용할 수 있도록 전달. \n",
    "                    # 다른점!!!!!!!!!!!\n",
    "        \n",
    "    def __next__(self):\n",
    "        \"\"\"\n",
    "        nex(iterator) 했을 때 호출된 메소드. 다음 원소를 제공. 제공할 다음 원소가 없으면 StopInteration Exception 발생시킨다.\n",
    "        \"\"\"\n",
    "        # self.values의 값을 하나씩 조회해서 return\n",
    "        if len(self.values) <= self.index:\n",
    "            raise StopIteration()\n",
    "        ret_value = self.values[self.index]\n",
    "        self.index += 1\n",
    "        return ret_value\n",
    "    \n",
    "    def __getitem__(self, index):\n",
    "        # 객체[index] : self = 객체, index = index\n",
    "        return self.values[index]"
   ]
  },
  {
   "cell_type": "code",
   "execution_count": 63,
   "id": "87b05a0a",
   "metadata": {},
   "outputs": [
    {
     "name": "stdout",
     "output_type": "stream",
     "text": [
      "1\t2\t3\t4\t5\t6\t7\t"
     ]
    }
   ],
   "source": [
    "for v in MyIterable2(1,2,3,4,5,6,7):\n",
    "    print(v, end=\"\\t\")\n"
   ]
  },
  {
   "cell_type": "code",
   "execution_count": 64,
   "id": "59ff9a1d",
   "metadata": {},
   "outputs": [
    {
     "name": "stdout",
     "output_type": "stream",
     "text": [
      "<class '__main__.MyIterable2'>\n",
      "<class '__main__.MyIterable2'>\n"
     ]
    }
   ],
   "source": [
    "mi2 = MyIterable2(1,2,3,4,5)\n",
    "print(type(mi2))\n",
    "m_iter2 = iter(mi2)\n",
    "print(type(m_iter2))"
   ]
  },
  {
   "cell_type": "code",
   "execution_count": 71,
   "id": "0117087f",
   "metadata": {
    "slideshow": {
     "slide_type": "fragment"
    }
   },
   "outputs": [
    {
     "data": {
      "text/plain": [
       "1"
      ]
     },
     "execution_count": 71,
     "metadata": {},
     "output_type": "execute_result"
    }
   ],
   "source": [
    "mi2[0] # indexer 연산자 ==> __getitem__() 재정의. (iterable에 재정의)"
   ]
  },
  {
   "cell_type": "code",
   "execution_count": 72,
   "id": "215380c5",
   "metadata": {},
   "outputs": [
    {
     "data": {
      "text/plain": [
       "4"
      ]
     },
     "execution_count": 72,
     "metadata": {},
     "output_type": "execute_result"
    }
   ],
   "source": [
    "mi2[3]"
   ]
  },
  {
   "cell_type": "markdown",
   "id": "5323e175",
   "metadata": {
    "slideshow": {
     "slide_type": "subslide"
    }
   },
   "source": [
    "## Generator\n",
    "- Iterable과 Iterator를 합친 기능을 함수 형태로 구현(정의)한 것을 generator라고 한다.\n",
    "    - 제공할 값들을 미리 메모리에 올리지 않고 로직을 통해 값들을 호출자가 필요할 때 마다 제공할 때 유용하다.\n",
    "- 제너레이터 함수에서 값을 반환\n",
    "    - **yield 반환값**\n",
    "        - 반환값을 가지고 호출한 곳으로 돌아간다. 현재 상태(돌아가기 직전 상태)를 기억하면서 돌아간다. \n",
    "            - 값을 반환하고 일시정지 상태라고 생각하면 된다.\n",
    "        - 다음 실행시점에 yield 구문 다음 부터 실행된다.\n",
    "    - **return \\[valuye\\]**\n",
    "        - generator 함수 종료\n",
    "        - StopIteration 발생시킨다.\n",
    "- Generator 의 원소 조회\n",
    "    - next(Generator객체)"
   ]
  },
  {
   "cell_type": "code",
   "execution_count": 42,
   "id": "4df6590b",
   "metadata": {
    "slideshow": {
     "slide_type": "fragment"
    }
   },
   "outputs": [],
   "source": [
    "def test_gen(num=0):\n",
    "    print('1.', num)\n",
    "    num += 10\n",
    "    yield num\n",
    "    print('2.', num)\n",
    "    num += 20\n",
    "    yield num\n",
    "#   return None (생략)"
   ]
  },
  {
   "cell_type": "code",
   "execution_count": 43,
   "id": "8618eabb",
   "metadata": {},
   "outputs": [],
   "source": [
    "gen = test_gen(10) # generator를 호출 ==> generator 객체를 생성"
   ]
  },
  {
   "cell_type": "code",
   "execution_count": 44,
   "id": "cc5576e1",
   "metadata": {},
   "outputs": [
    {
     "name": "stdout",
     "output_type": "stream",
     "text": [
      "1. 10\n"
     ]
    },
    {
     "data": {
      "text/plain": [
       "20"
      ]
     },
     "execution_count": 44,
     "metadata": {},
     "output_type": "execute_result"
    }
   ],
   "source": [
    "#generator를 호출 => next()를 이용\n",
    "next(gen) # yield 까지 일한다."
   ]
  },
  {
   "cell_type": "code",
   "execution_count": 45,
   "id": "1b94c0aa",
   "metadata": {},
   "outputs": [
    {
     "name": "stdout",
     "output_type": "stream",
     "text": [
      "2. 20\n"
     ]
    },
    {
     "data": {
      "text/plain": [
       "40"
      ]
     },
     "execution_count": 45,
     "metadata": {},
     "output_type": "execute_result"
    }
   ],
   "source": [
    "next(gen) # 이전 yield 다음부터 다음 yield까지 처리"
   ]
  },
  {
   "cell_type": "code",
   "execution_count": 46,
   "id": "6b09eb13",
   "metadata": {},
   "outputs": [
    {
     "ename": "StopIteration",
     "evalue": "",
     "output_type": "error",
     "traceback": [
      "\u001b[0;31m---------------------------------------------------------------------------\u001b[0m",
      "\u001b[0;31mStopIteration\u001b[0m                             Traceback (most recent call last)",
      "\u001b[0;32m/var/folders/nc/lry6d8ws417_mblykm_8wpc40000gn/T/ipykernel_14291/186048338.py\u001b[0m in \u001b[0;36m<module>\u001b[0;34m\u001b[0m\n\u001b[0;32m----> 1\u001b[0;31m \u001b[0mnext\u001b[0m\u001b[0;34m(\u001b[0m\u001b[0mgen\u001b[0m\u001b[0;34m)\u001b[0m \u001b[0;31m# 더이상 실행할 코드가 없으면(return) StopIteration Exception 발생\u001b[0m\u001b[0;34m\u001b[0m\u001b[0;34m\u001b[0m\u001b[0m\n\u001b[0m",
      "\u001b[0;31mStopIteration\u001b[0m: "
     ]
    }
   ],
   "source": [
    "next(gen) # 더이상 실행할 코드가 없으면(return) StopIteration Exception 발생"
   ]
  },
  {
   "cell_type": "code",
   "execution_count": 82,
   "id": "23f08c92",
   "metadata": {},
   "outputs": [
    {
     "name": "stdout",
     "output_type": "stream",
     "text": [
      "1. 100\n",
      "110\n",
      "2. 110\n",
      "130\n"
     ]
    }
   ],
   "source": [
    "for v in test_gen(100):\n",
    "    print(v)"
   ]
  },
  {
   "cell_type": "code",
   "execution_count": 87,
   "id": "9898d802",
   "metadata": {},
   "outputs": [],
   "source": [
    "# range()를 generator로 구현.\n",
    "def my_range(start, end = None, step=1):\n",
    "    if end == None: #not end\n",
    "        end = start \n",
    "        start = 0\n",
    "    while True:\n",
    "        if start >= end:\n",
    "            break\n",
    "        yield start\n",
    "        start += step"
   ]
  },
  {
   "cell_type": "code",
   "execution_count": 90,
   "id": "6a1aaa12",
   "metadata": {},
   "outputs": [
    {
     "name": "stdout",
     "output_type": "stream",
     "text": [
      "5\n"
     ]
    }
   ],
   "source": [
    "gen = my_range(5,8)\n",
    "print(next(gen))"
   ]
  },
  {
   "cell_type": "code",
   "execution_count": 91,
   "id": "9fe32292",
   "metadata": {},
   "outputs": [
    {
     "name": "stdout",
     "output_type": "stream",
     "text": [
      "6\n",
      "7\n"
     ]
    }
   ],
   "source": [
    "print(next(gen))\n",
    "print(next(gen))\n"
   ]
  },
  {
   "cell_type": "code",
   "execution_count": 93,
   "id": "6a619648",
   "metadata": {},
   "outputs": [
    {
     "name": "stdout",
     "output_type": "stream",
     "text": [
      "1, 11, 21, 31, 41, 51, 61, 71, 81, 91, "
     ]
    }
   ],
   "source": [
    "for i in my_range(1, 100, 10):\n",
    "    print(i, end = \", \")"
   ]
  },
  {
   "cell_type": "code",
   "execution_count": 94,
   "id": "af06350d",
   "metadata": {},
   "outputs": [
    {
     "name": "stdout",
     "output_type": "stream",
     "text": [
      "0,1,2,3,4,"
     ]
    }
   ],
   "source": [
    "for i in my_range(5):\n",
    "    print(i, end=',')"
   ]
  },
  {
   "cell_type": "markdown",
   "id": "ae6dec96",
   "metadata": {
    "slideshow": {
     "slide_type": "subslide"
    }
   },
   "source": [
    "### Generator 표현식 (Generator Comprehension)\n",
    "- 컴프리헨션구문을 **( )** 로 묶어 표현한다.\n",
    "- 컴프리헨션 구문안의 Iterable의 원소들을 처리해서 제공하는 generator 표현식\n",
    "- Generator Comprehension 은 반복 가능한 객체만 만들고 실제 원소에 대한 요청이 왔을 때 값을 생성한다.\n",
    "    - 메모리 효율이 다른 Comprehension들 보다 좋다."
   ]
  },
  {
   "cell_type": "code",
   "execution_count": 60,
   "id": "62f2205d",
   "metadata": {},
   "outputs": [
    {
     "name": "stdout",
     "output_type": "stream",
     "text": [
      "<class 'generator'>\n"
     ]
    }
   ],
   "source": [
    "gen = (i for i in range(10))\n",
    "print(type(gen))"
   ]
  },
  {
   "cell_type": "code",
   "execution_count": 61,
   "id": "c44f2c2f",
   "metadata": {},
   "outputs": [
    {
     "data": {
      "text/plain": [
       "0"
      ]
     },
     "execution_count": 61,
     "metadata": {},
     "output_type": "execute_result"
    }
   ],
   "source": [
    "next(gen)"
   ]
  },
  {
   "cell_type": "code",
   "execution_count": 151,
   "id": "0e8d38d4",
   "metadata": {},
   "outputs": [
    {
     "name": "stdout",
     "output_type": "stream",
     "text": [
      "1, 2, 3, 4, 5, 6, 7, 8, 9, "
     ]
    }
   ],
   "source": [
    "for i in gen:\n",
    "    print(i, end=', ')"
   ]
  },
  {
   "cell_type": "code",
   "execution_count": 152,
   "id": "ed7832f8",
   "metadata": {},
   "outputs": [],
   "source": [
    "def my_gen(num):\n",
    "    for i in range(num):\n",
    "        yield i"
   ]
  },
  {
   "cell_type": "code",
   "execution_count": 153,
   "id": "cdc17bda",
   "metadata": {},
   "outputs": [
    {
     "ename": "TypeError",
     "evalue": "'int' object is not iterable",
     "output_type": "error",
     "traceback": [
      "\u001b[0;31m---------------------------------------------------------------------------\u001b[0m",
      "\u001b[0;31mTypeError\u001b[0m                                 Traceback (most recent call last)",
      "\u001b[0;32m/var/folders/nc/lry6d8ws417_mblykm_8wpc40000gn/T/ipykernel_96536/1938812950.py\u001b[0m in \u001b[0;36m<module>\u001b[0;34m\u001b[0m\n\u001b[1;32m      1\u001b[0m \u001b[0ml\u001b[0m \u001b[0;34m=\u001b[0m \u001b[0mlist\u001b[0m\u001b[0;34m(\u001b[0m\u001b[0mrange\u001b[0m\u001b[0;34m(\u001b[0m\u001b[0;36m1000\u001b[0m\u001b[0;34m)\u001b[0m\u001b[0;34m)\u001b[0m\u001b[0;34m\u001b[0m\u001b[0;34m\u001b[0m\u001b[0m\n\u001b[0;32m----> 2\u001b[0;31m \u001b[0mf\u001b[0m \u001b[0;34m=\u001b[0m \u001b[0mfilter\u001b[0m\u001b[0;34m(\u001b[0m\u001b[0;32mlambda\u001b[0m \u001b[0mx\u001b[0m \u001b[0;34m:\u001b[0m \u001b[0mx\u001b[0m\u001b[0;34m%\u001b[0m\u001b[0;36m2\u001b[0m \u001b[0;34m==\u001b[0m \u001b[0;36m0\u001b[0m\u001b[0;34m,\u001b[0m \u001b[0;36m1\u001b[0m\u001b[0;34m)\u001b[0m\u001b[0;34m\u001b[0m\u001b[0;34m\u001b[0m\u001b[0m\n\u001b[0m\u001b[1;32m      3\u001b[0m \u001b[0mprint\u001b[0m\u001b[0;34m(\u001b[0m\u001b[0mtype\u001b[0m\u001b[0;34m(\u001b[0m\u001b[0mf\u001b[0m\u001b[0;34m)\u001b[0m\u001b[0;34m)\u001b[0m\u001b[0;34m\u001b[0m\u001b[0;34m\u001b[0m\u001b[0m\n\u001b[1;32m      4\u001b[0m \u001b[0;32mfor\u001b[0m \u001b[0mi\u001b[0m \u001b[0;32min\u001b[0m \u001b[0mf\u001b[0m\u001b[0;34m:\u001b[0m\u001b[0;34m\u001b[0m\u001b[0;34m\u001b[0m\u001b[0m\n\u001b[1;32m      5\u001b[0m     \u001b[0mprint\u001b[0m\u001b[0;34m(\u001b[0m\u001b[0mi\u001b[0m\u001b[0;34m,\u001b[0m \u001b[0mend\u001b[0m\u001b[0;34m=\u001b[0m\u001b[0;34m', '\u001b[0m\u001b[0;34m)\u001b[0m\u001b[0;34m\u001b[0m\u001b[0;34m\u001b[0m\u001b[0m\n",
      "\u001b[0;31mTypeError\u001b[0m: 'int' object is not iterable"
     ]
    }
   ],
   "source": [
    "l = list(range(1000))\n",
    "f = filter(lambda x : x%2 == 0, 1)\n",
    "print(type(f))\n",
    "for i in f:\n",
    "    print(i, end=', ')"
   ]
  },
  {
   "cell_type": "markdown",
   "id": "929f0230",
   "metadata": {
    "slideshow": {
     "slide_type": "slide"
    }
   },
   "source": [
    "# Decorator (장식자)\n",
    "\n",
    "## 파이썬에서 함수는 일급 시민(first class citizen) 이다.\n",
    "- 일급 시민 (first class citizen) 이란\n",
    "    1. 변수에 대입 할 수 있다.\n",
    "    2. Argument로 사용할 수 있다.\n",
    "    3. 함수나 메소드의 반환값으로 사용 할 수 있다.\n",
    "    "
   ]
  },
  {
   "cell_type": "code",
   "execution_count": null,
   "id": "f89443a6",
   "metadata": {},
   "outputs": [],
   "source": [
    "@property # @가 데코리에터 이다."
   ]
  },
  {
   "cell_type": "markdown",
   "id": "b46580f2",
   "metadata": {
    "slideshow": {
     "slide_type": "subslide"
    }
   },
   "source": [
    "## 지역함수(Local Function) 란\n",
    "- 함수 안에 정의 한 함수를 말한다.\n",
    "    - 중첩 함수(Nested function) 이라고도 한다.\n",
    "- 지역함수가 선언된 함수를 **outer function** 지역함수는 **inner function** 이라고 한다. \n",
    "- inner function은 outer function의 지역변수를 자유롭게 사용할 수 있다.\n",
    "- 기본적으로 inner function은 outer function 안에서만 호출 할 수있다.\n",
    "- 단 outer function이 정의된 inner function을 return value로 반환하면 밖에서도 호출 할 수 있다."
   ]
  },
  {
   "cell_type": "markdown",
   "id": "766a1432",
   "metadata": {
    "slideshow": {
     "slide_type": "fragment"
    }
   },
   "source": [
    "## Closure (클로저)\n",
    "- 지역함수(Inner function)를 정의한 Outer function이 종료되어도 지역함수가 종료될 때까지 outer function의 지역변수들은 메모리에 계속 유지 되어 inner function에서 사용할 수 있다. \n",
    "- 파이썬 실행환경은 inner function이 종료될때 까지 outer function의 지역변수들(parameter포함)을 사용할 수 있도록 저장하는 공간이 **closure**이다."
   ]
  },
  {
   "cell_type": "code",
   "execution_count": 143,
   "id": "26761b35",
   "metadata": {},
   "outputs": [],
   "source": [
    "def outer():\n",
    "    outer_var = 'outer함수의 변수'\n",
    "    def inner(num):\n",
    "        inner_var = \"inner함수의 변수\"\n",
    "        print('inner함수의 매개변수 num:', num)\n",
    "        print(inner_var)\n",
    "        print(outer_var)\n",
    "#     print(outer_var) # 지역변수를 호출(조회)\n",
    "#     inner(100)       # 지역함수를 호출\n",
    "    \n",
    "    return inner # 함수를 반환."
   ]
  },
  {
   "cell_type": "code",
   "execution_count": 145,
   "id": "ac4e8612",
   "metadata": {},
   "outputs": [
    {
     "name": "stdout",
     "output_type": "stream",
     "text": [
      "inner함수의 매개변수 num: 300\n",
      "inner함수의 변수\n",
      "outer함수의 변수\n"
     ]
    }
   ],
   "source": [
    "func = outer()\n",
    "func(300)"
   ]
  },
  {
   "cell_type": "code",
   "execution_count": 147,
   "id": "40c64ab7",
   "metadata": {},
   "outputs": [],
   "source": [
    "def outer():\n",
    "    outer_var = 'outer함수의 변수'\n",
    "    def inner(num):\n",
    "        inner_var = \"inner함수의 변수\"\n",
    "        print('inner함수의 매개변수 num:', num)\n",
    "        print(inner_var)\n",
    "        print(outer_var)\n",
    "#     print(outer_var) # 지역변수를 호출(조회)\n",
    "#     inner(100)       # 지역함수를 호출\n",
    "    outer_var = 500000\n",
    "    return inner # 함수를 반환."
   ]
  },
  {
   "cell_type": "code",
   "execution_count": 148,
   "id": "ce4037d7",
   "metadata": {},
   "outputs": [
    {
     "name": "stdout",
     "output_type": "stream",
     "text": [
      "inner함수의 매개변수 num: 300\n",
      "inner함수의 변수\n",
      "500000\n"
     ]
    }
   ],
   "source": [
    "func = outer()\n",
    "func(300)"
   ]
  },
  {
   "cell_type": "markdown",
   "id": "b58a1e1d",
   "metadata": {
    "slideshow": {
     "slide_type": "slide"
    }
   },
   "source": [
    "## Decorator (장식자)\n",
    "- 기존의 함수를 수정하지 않고 그 함수 전/후에 실행되는 구문을 추가할 수 있도록 하는 함수를 말한다.\n",
    "- 기존 함수코드를 수정하지 않고 새로운 기능의 추가를 쉽게 해준다.\n",
    "- 함수의 전/후처리 하는 구문을 **필요하면 붙이고 필요 없으면 쉽게 제거할 수 있다**\n",
    "\n",
    "![개요](images/ch10_01.png)"
   ]
  },
  {
   "cell_type": "code",
   "execution_count": 62,
   "id": "5c7f5353",
   "metadata": {
    "slideshow": {
     "slide_type": "fragment"
    }
   },
   "outputs": [
    {
     "name": "stdout",
     "output_type": "stream",
     "text": [
      "안녕하세요.\n",
      "반갑습니다.\n"
     ]
    }
   ],
   "source": [
    "def a():\n",
    "    print('안녕하세요.')\n",
    "def b():\n",
    "    print('반갑습니다.')\n",
    "a()\n",
    "b()"
   ]
  },
  {
   "cell_type": "code",
   "execution_count": 63,
   "id": "cea8bee0",
   "metadata": {},
   "outputs": [],
   "source": [
    "def dash_decorator(func):\n",
    "# func : 함수 - 전/후 처리를 추가할 original 함수\n",
    "    def wrapper():    # 관례적으로 inner 함수는 wrapper라고 표현한다.\n",
    "        print('-'*20) # 전처리\n",
    "        func()\n",
    "        print('-'*20) # 후처리\n",
    "    return wrapper"
   ]
  },
  {
   "cell_type": "code",
   "execution_count": 64,
   "id": "c8fe3587",
   "metadata": {},
   "outputs": [
    {
     "name": "stdout",
     "output_type": "stream",
     "text": [
      "--------------------\n",
      "안녕하세요.\n",
      "--------------------\n"
     ]
    }
   ],
   "source": [
    "w_a = dash_decorator(a)\n",
    "w_a()"
   ]
  },
  {
   "cell_type": "code",
   "execution_count": 65,
   "id": "62987d39",
   "metadata": {},
   "outputs": [
    {
     "name": "stdout",
     "output_type": "stream",
     "text": [
      "--------------------\n",
      "반갑습니다.\n",
      "--------------------\n"
     ]
    }
   ],
   "source": [
    "w_b = dash_decorator(b)\n",
    "w_b()"
   ]
  },
  {
   "cell_type": "code",
   "execution_count": 66,
   "id": "c045ac1f",
   "metadata": {},
   "outputs": [],
   "source": [
    "def shap_decorator(func):\n",
    "    \n",
    "    def wrapper():\n",
    "        print(\"#\"*20)\n",
    "        func()\n",
    "    return wrapper"
   ]
  },
  {
   "cell_type": "code",
   "execution_count": 73,
   "id": "780cdf8e",
   "metadata": {},
   "outputs": [],
   "source": [
    "# c()함수를 호출하면 c함수를 dash_decorator()함수의 argument로 전환해서 호출하고 거기 반환되는 inner 함수를 실행시켜라.\n",
    "@dash_decorator\n",
    "@shap_decorator\n",
    "def c():\n",
    "    print(\"이것은 c 함수입니다.\")"
   ]
  },
  {
   "cell_type": "code",
   "execution_count": 74,
   "id": "d8f6451e",
   "metadata": {},
   "outputs": [
    {
     "name": "stdout",
     "output_type": "stream",
     "text": [
      "--------------------\n",
      "####################\n",
      "이것은 c 함수입니다.\n",
      "--------------------\n"
     ]
    }
   ],
   "source": [
    "c()\n",
    "# w_c = dash_decorator(c)\n",
    "# w_c() 와 동일하다."
   ]
  },
  {
   "cell_type": "code",
   "execution_count": 75,
   "id": "2c610119",
   "metadata": {},
   "outputs": [],
   "source": [
    "@dash_decorator\n",
    "@shap_decorator\n",
    "def d():\n",
    "    print('이것은 d 함수입니다.')"
   ]
  },
  {
   "cell_type": "code",
   "execution_count": 76,
   "id": "5b2413c6",
   "metadata": {},
   "outputs": [
    {
     "name": "stdout",
     "output_type": "stream",
     "text": [
      "--------------------\n",
      "####################\n",
      "이것은 d 함수입니다.\n",
      "--------------------\n"
     ]
    }
   ],
   "source": [
    "d()"
   ]
  },
  {
   "cell_type": "code",
   "execution_count": 77,
   "id": "e57715a8",
   "metadata": {},
   "outputs": [],
   "source": [
    "@shap_decorator\n",
    "def greeting(name): # name이라는 매게변수 떄문에 Exception 발생.\n",
    "    print(f'{name}님 환영합니다.')"
   ]
  },
  {
   "cell_type": "code",
   "execution_count": 208,
   "id": "a83ec888",
   "metadata": {},
   "outputs": [],
   "source": [
    "def shap_decorator2(func):\n",
    "    def wrapper(name = None):\n",
    "        print(\"#\"*30)\n",
    "        if name == None:\n",
    "            func()\n",
    "        else:\n",
    "            func(name)\n",
    "\n",
    "    return wrapper"
   ]
  },
  {
   "cell_type": "code",
   "execution_count": 209,
   "id": "f839dc8b",
   "metadata": {},
   "outputs": [],
   "source": [
    "@shap_decorator2 # 2 적용.\n",
    "def greeting(name): \n",
    "    print(f'{name}님 환영합니다.')"
   ]
  },
  {
   "cell_type": "code",
   "execution_count": 210,
   "id": "02290ac8",
   "metadata": {},
   "outputs": [
    {
     "name": "stdout",
     "output_type": "stream",
     "text": [
      "##############################\n",
      "홍길동님 환영합니다.\n"
     ]
    }
   ],
   "source": [
    "greeting('홍길동')"
   ]
  },
  {
   "cell_type": "markdown",
   "id": "aaf6447c",
   "metadata": {
    "slideshow": {
     "slide_type": "subslide"
    }
   },
   "source": [
    "### Decorator 구현 및 사용\n",
    "\n",
    "- 구현\n",
    "    1. 전/후처리 기능을 추가할 함수를 parameter로 받는다.\n",
    "    2. 그 함수 호출 전후로 추가할 기능을 작성한 **지역함수**를 정의한다.\n",
    "    3. `2`번의 함수를 반환한다.\n",
    "```python\n",
    "def decorator(func):\n",
    "    def wrapper([parameter]): # decorator 적용할 함수에 파라미터를 전달할 경우 parameter 변수들을 선언\n",
    "        # 전처리\n",
    "        func()\n",
    "        # 후처리\n",
    "    return wrapper \n",
    "```\n",
    "\n",
    "- 호출\n",
    "    - `@decorator이름`를 적용하고자하는 함수 선언전에 기술한다.\n",
    "```python\n",
    "@decorator\n",
    "def caller([parameter]):\n",
    "    ...\n",
    "```"
   ]
  },
  {
   "cell_type": "markdown",
   "id": "6121017a",
   "metadata": {
    "slideshow": {
     "slide_type": "skip"
    }
   },
   "source": [
    "# TODO\n",
    "함수가 실행된 실행시간(초)을 재는 decorator"
   ]
  },
  {
   "cell_type": "code",
   "execution_count": 38,
   "id": "584edc3a",
   "metadata": {},
   "outputs": [
    {
     "data": {
      "text/plain": [
       "1672795299.699291"
      ]
     },
     "execution_count": 38,
     "metadata": {},
     "output_type": "execute_result"
    }
   ],
   "source": [
    "import time\n",
    "\n",
    "time.time() # 현재시간 => Timestamp 형식으로 알려준다. => Timestamp: 1970년 1월 1일 0시 0분 0초 부터 얼마나 지났는지를 초로 변환."
   ]
  },
  {
   "cell_type": "code",
   "execution_count": 41,
   "id": "dd563803",
   "metadata": {},
   "outputs": [
    {
     "name": "stdout",
     "output_type": "stream",
     "text": [
      "1\n",
      "2\n"
     ]
    }
   ],
   "source": [
    "print(1)\n",
    "time.sleep(2) # 2초 동안 멈춘다.(대기한다)\n",
    "print(2)"
   ]
  },
  {
   "cell_type": "code",
   "execution_count": 42,
   "id": "2628216a",
   "metadata": {},
   "outputs": [],
   "source": [
    "@timechecker_decorator\n",
    "def test1():\n",
    "    print(1)\n",
    "    time.sleep(3)\n",
    "    print(2)"
   ]
  },
  {
   "cell_type": "code",
   "execution_count": 43,
   "id": "ab729255",
   "metadata": {},
   "outputs": [],
   "source": [
    "@timechecker_decorator\n",
    "def test2():\n",
    "    print(1)\n",
    "    time.sleep(2)\n",
    "    print(2)"
   ]
  },
  {
   "cell_type": "code",
   "execution_count": 33,
   "id": "007ee621",
   "metadata": {},
   "outputs": [],
   "source": [
    "@timechecker_decorator\n",
    "def test3():\n",
    "    print(1)\n",
    "    time.sleep(5)\n",
    "    print(2)"
   ]
  },
  {
   "cell_type": "code",
   "execution_count": 40,
   "id": "98de8ad7",
   "metadata": {},
   "outputs": [],
   "source": [
    "@timechecker_decorator\n",
    "def test3():\n",
    "    print(1)\n",
    "    time.sleep(5)\n",
    "    print(2)"
   ]
  },
  {
   "cell_type": "code",
   "execution_count": 39,
   "id": "460162b9",
   "metadata": {},
   "outputs": [],
   "source": [
    "# 1. original 함수를 매개변수로 받는다.\n",
    "# 2. original 함수 호출 전후로 전/후처리를 하는 inner 함수 구현\n",
    "# 강사님이 푼 문제\n",
    "\n",
    "import time\n",
    "def timechecker_decorator(func):\n",
    "    def wrapper():\n",
    "        s = time.time()\n",
    "        func()\n",
    "        e = time.time()\n",
    "        print(f'걸린시간: {round(e-s,2)}초') # round(a,2): a의 소수점 2자리수 까지 반올림을 한다.\n",
    "        \n",
    "    return wrapper"
   ]
  },
  {
   "cell_type": "code",
   "execution_count": 28,
   "id": "a6f1ffa5",
   "metadata": {},
   "outputs": [],
   "source": [
    "# 내가 푼 문제\n",
    "\n",
    "def timechecker_decorator(func):\n",
    "    \n",
    "    s = time.time()\n",
    "    func()\n",
    "    e = time.time()\n",
    "    print(e - s)"
   ]
  }
 ],
 "metadata": {
  "kernelspec": {
   "display_name": "Python 3 (ipykernel)",
   "language": "python",
   "name": "python3"
  },
  "language_info": {
   "codemirror_mode": {
    "name": "ipython",
    "version": 3
   },
   "file_extension": ".py",
   "mimetype": "text/x-python",
   "name": "python",
   "nbconvert_exporter": "python",
   "pygments_lexer": "ipython3",
   "version": "3.9.13"
  },
  "toc": {
   "base_numbering": 1,
   "nav_menu": {},
   "number_sections": true,
   "sideBar": true,
   "skip_h1_title": false,
   "title_cell": "Table of Contents",
   "title_sidebar": "Contents",
   "toc_cell": false,
   "toc_position": {},
   "toc_section_display": true,
   "toc_window_display": false
  },
  "varInspector": {
   "cols": {
    "lenName": 16,
    "lenType": 16,
    "lenVar": 40
   },
   "kernels_config": {
    "python": {
     "delete_cmd_postfix": "",
     "delete_cmd_prefix": "del ",
     "library": "var_list.py",
     "varRefreshCmd": "print(var_dic_list())"
    },
    "r": {
     "delete_cmd_postfix": ") ",
     "delete_cmd_prefix": "rm(",
     "library": "var_list.r",
     "varRefreshCmd": "cat(var_dic_list()) "
    }
   },
   "types_to_exclude": [
    "module",
    "function",
    "builtin_function_or_method",
    "instance",
    "_Feature"
   ],
   "window_display": false
  }
 },
 "nbformat": 4,
 "nbformat_minor": 5
}
