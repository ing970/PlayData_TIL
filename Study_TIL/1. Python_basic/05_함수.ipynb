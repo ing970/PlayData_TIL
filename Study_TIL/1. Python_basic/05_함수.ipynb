{
 "cells": [
  {
   "cell_type": "markdown",
   "metadata": {
    "slideshow": {
     "slide_type": "slide"
    }
   },
   "source": [
    "# 함수란\n",
    "- 함수란 입력변수와 출력변수간의 대응 관계를 정의한 것을 말한다.\n",
    "- 프로그램에서 함수란 하나의 작업, 기능, 동작을 처리하기 위한 사용자 정의 연산자라고 할 수 있다.\n",
    "    - 함수는 값을 입력(Input)을 받아서 처리후 처리결과를 출력(Output)하는 일련의 과정을 정의한 것을 말한다.\n",
    "    - 만들어진 함수는 동일한 작업이 필요할 때 마다 재사용될 수 있다.\n",
    "    - 함수를 구현해 파이썬 실행환경에 등록하는 것을 **함수를 정의(define)한다** 라고 한다.\n",
    "    - 정의된 함수를 사용하는 것을 **함수를 호출(call)한다** 라고 한다.\n",
    "    - 파이썬에서 함수는 일급 시민 객체(First Class Citizen Object)이다.\n",
    "    \n",
    "> - **일급 시민 객체란**   \n",
    ">    – 변수에 할당할 수 있고, 함수의 입력값으로 전달할 수 있고, 함수의 반환 값으로 반환할 수 있는 객체를 말한다."
   ]
  },
  {
   "cell_type": "markdown",
   "metadata": {
    "slideshow": {
     "slide_type": "slide"
    }
   },
   "source": [
    "# 함수 만들기\n",
    "- 함수의 정의\n",
    "    - 새로운 함수를 만드는 것을 함수의 정의라고 한다.\n",
    "    - 함수를 구현하고 그것을 파이썬 실행환경에 새로운 기능으로 등록하는 과정을 말한다."
   ]
  },
  {
   "cell_type": "markdown",
   "metadata": {
    "slideshow": {
     "slide_type": "fragment"
    }
   },
   "source": [
    "- 함수 구현\n",
    "    - 함수의 선언부와 구현부로 나누어진다\n",
    "        - 함수의 선언부(Header) : 함수의 이름과 입력값을 받을 변수(Parameter, 매개변수)를 지정한다.\n",
    "        - 함수의 구현부(Body) : 함수가 호출 되었을 때 실행할 실행문들을 순서대로 작성한다."
   ]
  },
  {
   "cell_type": "markdown",
   "metadata": {
    "slideshow": {
     "slide_type": "fragment"
    }
   },
   "source": [
    "   \n",
    "``` python\n",
    "def 함수이름( [변수, 변수, ..]):  # 선언 부(Header)\n",
    "    # 구현 부(body)\n",
    "    실행구문1\n",
    "    실행구문2\n",
    "    실행구문3\n",
    "    …\n",
    "    [return [결과값]]\n",
    "```\n",
    "- 함수 선언 마지막에는 `:` 을 넣어 구현부와 구분한다.\n",
    "- Parameter(매개변수)는 argument(호출하는 곳에서 전달하는 함수의 입력값)를 받기 위한 변수로 0개 이상 선언할 수 있다.\n",
    "- 함수의 실행구문은 코드블록으로 들여쓰기로 블록을 묶어준다. \n",
    "    - 들여쓰기는 보통 공백 4칸을 사용한다.\n",
    "- 함수의 처리 결과값이 있을 경우 **return 구문**을 넣고 없을 경우 return은 생략할 수 있다.\n",
    "- **함수이름 관례**\n",
    "    - 함수이름은 보통 동사형으로 만든다.\n",
    "    - 모두 소문자로 하고 여러단어로 구성할 경우 각 단어들을 `_`로 연결한다. (변수와 동일)"
   ]
  },
  {
   "cell_type": "code",
   "execution_count": 1,
   "metadata": {
    "ExecuteTime": {
     "end_time": "2022-12-26T01:27:16.543568Z",
     "start_time": "2022-12-26T01:27:16.536589Z"
    }
   },
   "outputs": [],
   "source": [
    "# 함수 정의\n",
    "def greeting(): #header(선언부) - parameter 가 없는 함수.\n",
    "    # boody (구현부)\n",
    "    print(\"안녕하세요.\")\n",
    "    print(\"반갑습니다.\")\n",
    "    # 반환값(return value) 없는 함수."
   ]
  },
  {
   "cell_type": "code",
   "execution_count": 3,
   "metadata": {
    "ExecuteTime": {
     "end_time": "2022-12-26T01:27:24.245501Z",
     "start_time": "2022-12-26T01:27:24.237520Z"
    }
   },
   "outputs": [
    {
     "name": "stdout",
     "output_type": "stream",
     "text": [
      "안녕하세요.\n",
      "반갑습니다.\n"
     ]
    }
   ],
   "source": [
    "# 함수 호출 - []: 선택사항\n",
    "# [반환값을 저장할 변수 = ] 함수이름([argument들, ])\n",
    "# 함수이름()\n",
    "greeting()"
   ]
  },
  {
   "cell_type": "code",
   "execution_count": null,
   "metadata": {},
   "outputs": [],
   "source": [
    "print(\"나이:\" + str(30)) # 내장함수 호출"
   ]
  },
  {
   "cell_type": "code",
   "execution_count": 4,
   "metadata": {
    "ExecuteTime": {
     "end_time": "2022-12-26T01:35:10.737732Z",
     "start_time": "2022-12-26T01:35:10.722789Z"
    }
   },
   "outputs": [],
   "source": [
    "# 파라미터가 있는 함수 -> 파라미터 ; 호출하는 쪽(caller)에 전달 받을 값(argument)을 저장할 변수(개수 제한 없다.)\n",
    "def greeting2(name):\n",
    "    print(f\"{name}님 안녕하세요.\")\n",
    "    print(\"반갑습니다.\")"
   ]
  },
  {
   "cell_type": "code",
   "execution_count": 13,
   "metadata": {
    "ExecuteTime": {
     "end_time": "2022-12-26T01:36:56.942994Z",
     "start_time": "2022-12-26T01:36:56.936012Z"
    }
   },
   "outputs": [
    {
     "name": "stdout",
     "output_type": "stream",
     "text": [
      "이석민님 안녕하세요.\n",
      "반갑습니다.\n",
      "이순신님 안녕하세요.\n",
      "반갑습니다.\n"
     ]
    }
   ],
   "source": [
    "greeting2(\"이석민\")\n",
    "greeting2(\"이순신\")"
   ]
  },
  {
   "cell_type": "code",
   "execution_count": 15,
   "metadata": {
    "ExecuteTime": {
     "end_time": "2022-12-26T01:39:39.250130Z",
     "start_time": "2022-12-26T01:39:39.232180Z"
    }
   },
   "outputs": [],
   "source": [
    "def greeting3(name, age):\n",
    "    print(f'{age}세의 {name}님 안녕하세요.')\n",
    "    print('반갑습니다.')"
   ]
  },
  {
   "cell_type": "code",
   "execution_count": 17,
   "metadata": {
    "ExecuteTime": {
     "end_time": "2022-12-26T01:40:22.406173Z",
     "start_time": "2022-12-26T01:40:22.389221Z"
    }
   },
   "outputs": [
    {
     "name": "stdout",
     "output_type": "stream",
     "text": [
      "10세의 이순신님 안녕하세요.\n",
      "반갑습니다.\n"
     ]
    }
   ],
   "source": [
    "greeting3('이순신', 10)"
   ]
  },
  {
   "cell_type": "markdown",
   "metadata": {
    "slideshow": {
     "slide_type": "subslide"
    }
   },
   "source": [
    "### return value(반환값)\n",
    "- 함수가 호출받아 처리한 결과값으로 호출한 곳으로 반환하는 값이다.\n",
    "- 함수 구현부에 return \\[값\\] 구문을 사용해 반환한다.\n",
    "    - **return**\n",
    "        - 함수가 정상적으로 끝났고 호출한곳으로 돌아간다.\n",
    "        - 보통은 함수 구현의 마지막에 넣지만 경우에 따라 중간에 올 수 있다.\n",
    "    - return 반환값\n",
    "        - 호출한 곳으로 값을 가지고 돌아간다. (반환한다)\n",
    "        - 반환값이 없을 경우 None을 반환한다.\n",
    "        - 함수에 return 구문이 없을 경우 마지막에 return None이 실행된다.\n",
    "- 여러개의 값을 return 하는 경우 자료구조로 묶어서 전달해야한다.\n",
    "    - 함수는 한개의 값만 반환할 수 있다. "
   ]
  },
  {
   "cell_type": "code",
   "execution_count": 2,
   "metadata": {
    "ExecuteTime": {
     "end_time": "2022-12-26T01:50:54.595062Z",
     "start_time": "2022-12-26T01:50:54.586122Z"
    }
   },
   "outputs": [],
   "source": [
    "# return 값이 있는 함수\n",
    "def greeting4(name):\n",
    "    txt = f'{name}님 안녕하세요.\\n반갑습니다.'\n",
    "    return txt # 호출한 곳으로(caller)로 txt변수값을 가지고 돌아가라."
   ]
  },
  {
   "cell_type": "code",
   "execution_count": 4,
   "metadata": {
    "ExecuteTime": {
     "end_time": "2022-12-26T01:52:26.213615Z",
     "start_time": "2022-12-26T01:52:26.194670Z"
    }
   },
   "outputs": [
    {
     "name": "stdout",
     "output_type": "stream",
     "text": [
      "홍길동님 안녕하세요.\n",
      "반갑습니다.\n"
     ]
    }
   ],
   "source": [
    "txt = greeting4('홍길동')\n",
    "print(txt)"
   ]
  },
  {
   "cell_type": "code",
   "execution_count": 22,
   "metadata": {
    "ExecuteTime": {
     "end_time": "2022-12-26T01:54:27.498348Z",
     "start_time": "2022-12-26T01:54:27.489375Z"
    }
   },
   "outputs": [
    {
     "name": "stdout",
     "output_type": "stream",
     "text": [
      "안녕하세요.\n",
      "반갑습니다.\n",
      "None\n"
     ]
    }
   ],
   "source": [
    "r_value = greeting()\n",
    "print(r_value) # return 값이 없는 함수의 return 값은 'None'"
   ]
  },
  {
   "cell_type": "code",
   "execution_count": 23,
   "metadata": {
    "ExecuteTime": {
     "end_time": "2022-12-26T01:59:22.227922Z",
     "start_time": "2022-12-26T01:59:22.210961Z"
    }
   },
   "outputs": [],
   "source": [
    "# return 값이 여러개인 함수.\n",
    "def calculate(num1, num2):\n",
    "    r1 = num1 + num2\n",
    "    r2 = num1 - num2\n",
    "    r3 = num1 * num2\n",
    "    r4 = num1 / num2\n",
    "    \n",
    "    return r1, r2, r3 ,r4 # 튜플로 묶어서 반환.\n",
    "#    return{'plus':r1, 'minus':r2, 'multuiply'r3, 'divide':r4} 딕셔너리 대입(참고)\n",
    "    "
   ]
  },
  {
   "cell_type": "code",
   "execution_count": 25,
   "metadata": {
    "ExecuteTime": {
     "end_time": "2022-12-26T02:00:37.157905Z",
     "start_time": "2022-12-26T02:00:37.141949Z"
    }
   },
   "outputs": [
    {
     "name": "stdout",
     "output_type": "stream",
     "text": [
      "<class 'tuple'>\n",
      "(30, -10, 200, 0.5)\n"
     ]
    }
   ],
   "source": [
    "result = calculate(10,20)\n",
    "print(type(result))\n",
    "print(result)"
   ]
  },
  {
   "cell_type": "code",
   "execution_count": 26,
   "metadata": {
    "ExecuteTime": {
     "end_time": "2022-12-26T02:01:53.293909Z",
     "start_time": "2022-12-26T02:01:53.286927Z"
    }
   },
   "outputs": [
    {
     "name": "stdout",
     "output_type": "stream",
     "text": [
      "150 50 5000 2.0\n"
     ]
    }
   ],
   "source": [
    "r1, r2, r3, r4, = calculate(100,50)\n",
    "print(r1, r2, r3, r4) #튜플대입"
   ]
  },
  {
   "cell_type": "code",
   "execution_count": 34,
   "metadata": {
    "ExecuteTime": {
     "end_time": "2022-12-26T02:26:52.275868Z",
     "start_time": "2022-12-26T02:26:52.264930Z"
    },
    "slideshow": {
     "slide_type": "fragment"
    }
   },
   "outputs": [],
   "source": [
    "def divide(num1, num2):\n",
    "    if num2 == 0:\n",
    "        print('0으로 못 나눕니다.') # 에러 로그\n",
    "        return # None\n",
    "        \n",
    "    \n",
    "    \n",
    "    return num1 / num2"
   ]
  },
  {
   "cell_type": "code",
   "execution_count": 30,
   "metadata": {
    "ExecuteTime": {
     "end_time": "2022-12-26T02:24:39.649857Z",
     "start_time": "2022-12-26T02:24:39.636924Z"
    }
   },
   "outputs": [
    {
     "name": "stdout",
     "output_type": "stream",
     "text": [
      "5.0\n"
     ]
    }
   ],
   "source": [
    "result = divide(10,2)\n",
    "print(result)"
   ]
  },
  {
   "cell_type": "code",
   "execution_count": 36,
   "metadata": {
    "ExecuteTime": {
     "end_time": "2022-12-26T02:27:11.315827Z",
     "start_time": "2022-12-26T02:27:11.294882Z"
    }
   },
   "outputs": [
    {
     "name": "stdout",
     "output_type": "stream",
     "text": [
      "0으로 못 나눕니다.\n",
      "None\n"
     ]
    }
   ],
   "source": [
    "result = divide(10,0)\n",
    "print(result)"
   ]
  },
  {
   "cell_type": "markdown",
   "metadata": {
    "slideshow": {
     "slide_type": "slide"
    }
   },
   "source": [
    "## Parameter (매개변수)\n",
    " \n",
    "### 기본값이 있는 Parameter\n",
    "- 매개변수에 값을 대입하는 구문을 작성하면 호출할 때 argument 가 넘어오지 않으면 대입해놓은 기본값을 사용한다.\n",
    "- 함수 정의시 기본값 없는 매개변수, 있는 매개변수를 같이 선언할 수 있다.\n",
    "    - **이때 기본값 없는 매개변수들을 선언하고 그 다음에 기본값 있는 매개변수들을 선언한다.** "
   ]
  },
  {
   "cell_type": "code",
   "execution_count": 37,
   "metadata": {
    "ExecuteTime": {
     "end_time": "2022-12-26T02:34:59.650418Z",
     "start_time": "2022-12-26T02:34:59.641404Z"
    }
   },
   "outputs": [],
   "source": [
    "def print_info(name): # 매개변수에는 반드시 값이 대입되야 한다.\n",
    "    print(f'이름: {name}')"
   ]
  },
  {
   "cell_type": "code",
   "execution_count": 39,
   "metadata": {
    "ExecuteTime": {
     "end_time": "2022-12-26T02:35:31.935260Z",
     "start_time": "2022-12-26T02:35:31.917272Z"
    },
    "collapsed": true
   },
   "outputs": [
    {
     "name": "stdout",
     "output_type": "stream",
     "text": [
      "이름: 홍길동\n"
     ]
    },
    {
     "ename": "TypeError",
     "evalue": "print_info() missing 1 required positional argument: 'name'",
     "output_type": "error",
     "traceback": [
      "\u001b[1;31m---------------------------------------------------------------------------\u001b[0m",
      "\u001b[1;31mTypeError\u001b[0m                                 Traceback (most recent call last)",
      "\u001b[1;32m~\\AppData\\Local\\Temp\\ipykernel_12156\\39674612.py\u001b[0m in \u001b[0;36m<module>\u001b[1;34m\u001b[0m\n\u001b[0;32m      1\u001b[0m \u001b[0mprint_info\u001b[0m\u001b[1;33m(\u001b[0m\u001b[1;34m'홍길동'\u001b[0m\u001b[1;33m)\u001b[0m\u001b[1;33m\u001b[0m\u001b[1;33m\u001b[0m\u001b[0m\n\u001b[1;32m----> 2\u001b[1;33m \u001b[0mprint_info\u001b[0m\u001b[1;33m(\u001b[0m\u001b[1;33m)\u001b[0m\u001b[1;33m\u001b[0m\u001b[1;33m\u001b[0m\u001b[0m\n\u001b[0m",
      "\u001b[1;31mTypeError\u001b[0m: print_info() missing 1 required positional argument: 'name'"
     ]
    }
   ],
   "source": [
    "print_info('홍길동')\n",
    "print_info()"
   ]
  },
  {
   "cell_type": "code",
   "execution_count": 46,
   "metadata": {
    "ExecuteTime": {
     "end_time": "2022-12-26T02:39:25.973388Z",
     "start_time": "2022-12-26T02:39:25.957433Z"
    }
   },
   "outputs": [],
   "source": [
    "# 기본값이 있는 파라미터 -> caller가 argument를 전달하지 않으면 기본값을 대입해서 사용.\n",
    "def print_info2(name=None):\n",
    "    if name == None:\n",
    "        print('이름이 없습니다.')\n",
    "        return\n",
    "    print(f'name: {name}')"
   ]
  },
  {
   "cell_type": "code",
   "execution_count": 47,
   "metadata": {
    "ExecuteTime": {
     "end_time": "2022-12-26T02:39:27.394275Z",
     "start_time": "2022-12-26T02:39:27.379316Z"
    }
   },
   "outputs": [
    {
     "name": "stdout",
     "output_type": "stream",
     "text": [
      "name: 홍길동\n",
      "이름이 없습니다.\n"
     ]
    }
   ],
   "source": [
    "print_info2('홍길동')\n",
    "print_info2()"
   ]
  },
  {
   "cell_type": "code",
   "execution_count": 87,
   "metadata": {
    "ExecuteTime": {
     "end_time": "2022-12-26T03:48:05.746985Z",
     "start_time": "2022-12-26T03:48:05.736049Z"
    }
   },
   "outputs": [],
   "source": [
    "# def print_info3(id, name, address==Nonem, age, email=None): #기본값 없는 파라미터들, 있는 파라미터들\n",
    "def print_info3(id, name, age, address=None, email=None):\n",
    "    print(id, name, address, age, email)\n"
   ]
  },
  {
   "cell_type": "code",
   "execution_count": 88,
   "metadata": {
    "ExecuteTime": {
     "end_time": "2022-12-26T03:48:07.232218Z",
     "start_time": "2022-12-26T03:48:07.210275Z"
    }
   },
   "outputs": [
    {
     "name": "stdout",
     "output_type": "stream",
     "text": [
      "ing970 홍길동 None 30 None\n",
      "ing970 홍길동 서울 30 None\n",
      "ing970 홍길동 서울 30 ing@naver.com\n"
     ]
    }
   ],
   "source": [
    "print_info3('ing970', '홍길동', 30)\n",
    "print_info3('ing970', '홍길동', 30, '서울')\n",
    "print_info3('ing970', '홍길동', 30, '서울', 'ing@naver.com')"
   ]
  },
  {
   "cell_type": "markdown",
   "metadata": {
    "slideshow": {
     "slide_type": "subslide"
    }
   },
   "source": [
    "### Positional argument와 Keyword argument \n",
    "- Argument는 함수/메소드를 호출할 때 전달하는 입력값을 말한다.\n",
    "    - Argument는 전달하는 값이고 Parameter는 그 값을 저장하는 변수\n",
    "- Positional argument\n",
    "    -  함수 호출 할때 argument(전달인자)를 Parameter  순서에 맞춰 값을 넣어서 호출.\n",
    "- keyword  argument \n",
    "    - 함수 호출할 때 argument를 `Parameter변수명 = 전달할값` 형식으로 선언해서 어떤 parameter에 어떤 값을 전달할 것인지 지정해서 호출.\n",
    "    - 순서와 상관없이 호출하는 것이 가능.\n",
    "    - parameter가 많고 대부분 기본값이 있는 함수 호출 할 때 뒤 쪽에 선언된 parameter에만 값을 전달하고 싶을 경우 유용하다."
   ]
  },
  {
   "cell_type": "code",
   "execution_count": 55,
   "metadata": {
    "ExecuteTime": {
     "end_time": "2022-12-26T03:09:19.214466Z",
     "start_time": "2022-12-26T03:09:19.205492Z"
    }
   },
   "outputs": [],
   "source": [
    "def test_func(a, b, c, d, e, f, g):\n",
    "    print(a, b, c, d, e, f, g, sep=', ')"
   ]
  },
  {
   "cell_type": "code",
   "execution_count": 56,
   "metadata": {
    "ExecuteTime": {
     "end_time": "2022-12-26T03:09:56.179326Z",
     "start_time": "2022-12-26T03:09:56.171345Z"
    }
   },
   "outputs": [
    {
     "name": "stdout",
     "output_type": "stream",
     "text": [
      "10, 20, 30, 40, 50, 60, 70\n"
     ]
    }
   ],
   "source": [
    "test_func(10,20,30,40,50,60,70) # positional argument 방식 호출"
   ]
  },
  {
   "cell_type": "code",
   "execution_count": 57,
   "metadata": {
    "ExecuteTime": {
     "end_time": "2022-12-26T03:10:53.858647Z",
     "start_time": "2022-12-26T03:10:53.837743Z"
    },
    "scrolled": true
   },
   "outputs": [
    {
     "name": "stdout",
     "output_type": "stream",
     "text": [
      "100, 200, 500, 700, 400, 700, 300\n"
     ]
    }
   ],
   "source": [
    "test_func(a=100, b=200, g=300, c=500, f=700, e=400, d=700) #keyword argument 방식 호출"
   ]
  },
  {
   "cell_type": "code",
   "execution_count": 58,
   "metadata": {
    "ExecuteTime": {
     "end_time": "2022-12-26T03:13:12.069087Z",
     "start_time": "2022-12-26T03:13:12.061108Z"
    }
   },
   "outputs": [],
   "source": [
    "def test_func2(a=0, b=0, c=0, d=0, e=0, f=0, g=0):\n",
    "    print(a, b, c, d, e, f, g, sep=', ')"
   ]
  },
  {
   "cell_type": "code",
   "execution_count": 62,
   "metadata": {
    "ExecuteTime": {
     "end_time": "2022-12-26T03:15:03.496076Z",
     "start_time": "2022-12-26T03:15:03.487062Z"
    }
   },
   "outputs": [
    {
     "name": "stdout",
     "output_type": "stream",
     "text": [
      "0, 0, 0, 0, 0, 0, 0\n",
      "0, 0, 0, 0, 0, 0, 100\n",
      "0, 0, 0, 0, 0, 0, 200\n"
     ]
    }
   ],
   "source": [
    "test_func2()\n",
    "# 파라미터 g(마지막)의 값만 대입, 나머지는 default 값으로 호출\n",
    "# 위치 기반\n",
    "test_func2(0, 0, 0, 0, 0, 0, 100)\n",
    "# keyword argument\n",
    "test_func2(g=200)"
   ]
  },
  {
   "cell_type": "markdown",
   "metadata": {
    "slideshow": {
     "slide_type": "subslide"
    }
   },
   "source": [
    "### 가변인자 (Var args) 파라미터\n",
    "- 호출하는 쪽에서 argument로 0 ~ n개의 값을 나열해서 여러개의 값들을 전달하면 **tuple이나 dictionary로 묶어서** 받을 수있도록 선언하는 parameter\n",
    "    - positial argument로 전달하는 것과 keyword argument로 전달되는 값을 받는 두가지 방식이 있다.\n",
    "- \\*변수명: **positional argument**를 개수와 상관없이 하나의 변수로 받을 수 있도록 선언하는 가변인자.\n",
    "    - 전달된 값들은 tuple로 받아서 처리한다.\n",
    "    - 관례적으로 변수명은 \\*args 를 사용한다.\n",
    "- \\*\\*변수명: **keyword argument**를 개수와 상관없이 하나의 변수로 받을 수 있도록 선언하는 가변인자.\n",
    "    - 전달된 값들은 dictionary로 받아서 처리한다.\n",
    "    - 관례적으로 변수명은 \\*\\*kwargs 를 사용한다.\n",
    "- 하나의 함수에 가변인자는 \\* 하나, \\*\\* 두개짜리 각각 한개씩만 선언할 수 있다.\n",
    "- 일반 parameter 들과 같이 사용할 경우 일반 parameter들을 먼저 선언하고 가변인자를 나중에 선연한다.\n",
    "    - 두종류의 가변인자를 같이 선언할 때는 \\*변수명 가변인자를 먼저 선언한다."
   ]
  },
  {
   "cell_type": "code",
   "execution_count": 90,
   "metadata": {
    "ExecuteTime": {
     "end_time": "2022-12-26T03:49:35.916055Z",
     "start_time": "2022-12-26T03:49:35.911066Z"
    },
    "slideshow": {
     "slide_type": "fragment"
    }
   },
   "outputs": [],
   "source": [
    "def summation(nums): # 자료구조 (리스트, 튜플)\n",
    "    # 누적합계 계산\n",
    "    result = 0\n",
    "    for i in nums:\n",
    "        result += i\n",
    "    return result\n"
   ]
  },
  {
   "cell_type": "code",
   "execution_count": 91,
   "metadata": {
    "ExecuteTime": {
     "end_time": "2022-12-26T03:49:38.565113Z",
     "start_time": "2022-12-26T03:49:38.554142Z"
    }
   },
   "outputs": [
    {
     "name": "stdout",
     "output_type": "stream",
     "text": [
      "3\n",
      "15\n"
     ]
    }
   ],
   "source": [
    "# 전달해 줘야 하는 값의 개수 가변(변경될 수 있다.)인 경우 리스트나 튜플 같은 자료구조로 묶어서 전달.\n",
    "r = summation([1,2])\n",
    "print(r)\n",
    "r= summation((1,2,3,4,5)) # 튜플은 소괄호\n",
    "print(r)"
   ]
  },
  {
   "cell_type": "code",
   "execution_count": 92,
   "metadata": {
    "ExecuteTime": {
     "end_time": "2022-12-26T03:49:41.969022Z",
     "start_time": "2022-12-26T03:49:41.963038Z"
    }
   },
   "outputs": [],
   "source": [
    "def summation2(*nums): ################## *nums' -  가변인자 표시 ' * '\n",
    "    print(type(nums), nums)\n",
    "    result = 0\n",
    "    for i in nums:\n",
    "        result += i\n",
    "    return result"
   ]
  },
  {
   "cell_type": "code",
   "execution_count": 93,
   "metadata": {
    "ExecuteTime": {
     "end_time": "2022-12-26T03:49:42.849221Z",
     "start_time": "2022-12-26T03:49:42.840274Z"
    }
   },
   "outputs": [
    {
     "name": "stdout",
     "output_type": "stream",
     "text": [
      "<class 'tuple'> ()\n"
     ]
    },
    {
     "data": {
      "text/plain": [
       "0"
      ]
     },
     "execution_count": 93,
     "metadata": {},
     "output_type": "execute_result"
    }
   ],
   "source": [
    "summation2()"
   ]
  },
  {
   "cell_type": "code",
   "execution_count": 94,
   "metadata": {
    "ExecuteTime": {
     "end_time": "2022-12-26T03:49:43.646104Z",
     "start_time": "2022-12-26T03:49:43.626053Z"
    }
   },
   "outputs": [
    {
     "name": "stdout",
     "output_type": "stream",
     "text": [
      "<class 'tuple'> (1, 2, 3, 4, 5)\n"
     ]
    },
    {
     "data": {
      "text/plain": [
       "15"
      ]
     },
     "execution_count": 94,
     "metadata": {},
     "output_type": "execute_result"
    }
   ],
   "source": [
    "summation2(1,2,3,4,5)"
   ]
  },
  {
   "cell_type": "code",
   "execution_count": 79,
   "metadata": {
    "ExecuteTime": {
     "end_time": "2022-12-26T03:28:47.698163Z",
     "start_time": "2022-12-26T03:28:47.676218Z"
    }
   },
   "outputs": [
    {
     "name": "stdout",
     "output_type": "stream",
     "text": [
      "<class 'tuple'> (10, 20, 30, 40, 50, 60, 70, 80, 90, 100, 1, 2, 3, 4, 5, 6, 7)\n"
     ]
    },
    {
     "data": {
      "text/plain": [
       "578"
      ]
     },
     "execution_count": 79,
     "metadata": {},
     "output_type": "execute_result"
    }
   ],
   "source": [
    "summation2(10,20,30,40,50,60,70,80,90,100,1,2,3,4,5,6,7)"
   ]
  },
  {
   "cell_type": "code",
   "execution_count": 100,
   "metadata": {
    "ExecuteTime": {
     "end_time": "2022-12-26T03:51:51.668116Z",
     "start_time": "2022-12-26T03:51:51.651160Z"
    }
   },
   "outputs": [],
   "source": [
    "def print_info3(**info):\n",
    "    print(type(info), info)"
   ]
  },
  {
   "cell_type": "code",
   "execution_count": 101,
   "metadata": {
    "ExecuteTime": {
     "end_time": "2022-12-26T03:51:53.931049Z",
     "start_time": "2022-12-26T03:51:53.909108Z"
    }
   },
   "outputs": [
    {
     "name": "stdout",
     "output_type": "stream",
     "text": [
      "<class 'dict'> {}\n",
      "<class 'dict'> {'name': '홍길동', 'age': 20}\n",
      "<class 'dict'> {'id': 'ing9', 'name': '이석민', 'age': 10, 'address': '서울', 'email': 'ing@naver.com', 'tall': 200}\n"
     ]
    }
   ],
   "source": [
    "# 가변인자 **에 값을 전달 -> keyword argument를 나열한다.\n",
    "print_info3()\n",
    "print_info3(name = \"홍길동\", age=20)\n",
    "print_info3(id = \"ing9\", name='이석민', age=10, address='서울', email='ing@naver.com', tall= 200)"
   ]
  },
  {
   "cell_type": "code",
   "execution_count": 24,
   "metadata": {
    "ExecuteTime": {
     "end_time": "2022-12-26T05:15:29.309377Z",
     "start_time": "2022-12-26T05:15:29.294383Z"
    }
   },
   "outputs": [],
   "source": [
    "def test_func(a, b, c, *args, **kwargs):\n",
    "    print(a, b, c, args, kwargs)"
   ]
  },
  {
   "cell_type": "code",
   "execution_count": 25,
   "metadata": {
    "ExecuteTime": {
     "end_time": "2022-12-26T05:15:31.462992Z",
     "start_time": "2022-12-26T05:15:31.448992Z"
    }
   },
   "outputs": [
    {
     "name": "stdout",
     "output_type": "stream",
     "text": [
      "10 20 30 (40, 50, 60) {'가': 10, '나': 20, '다': 30}\n"
     ]
    }
   ],
   "source": [
    "test_func(10,20,30,40,50,60, 가=10, 나=20, 다=30)"
   ]
  },
  {
   "cell_type": "code",
   "execution_count": 29,
   "metadata": {
    "ExecuteTime": {
     "end_time": "2022-12-26T05:17:04.080356Z",
     "start_time": "2022-12-26T05:17:04.062407Z"
    }
   },
   "outputs": [
    {
     "name": "stdout",
     "output_type": "stream",
     "text": [
      "1 2 3 (100, 200, 300, 400) {'aaa': 10, 'bbb': 20, 'ccc': 30}\n"
     ]
    }
   ],
   "source": [
    "lst = [100, 200, 300, 400]\n",
    "dic = {'aaa':10, 'bbb':20, 'ccc':30}\n",
    "# text_func() 호출 -> *args에 lst튜플을 **kwargs는 dic 딕셔너리의 값을 전달.\n",
    "test_func(1,2,3, *lst, **dic)\n",
    "# 가변인자 파라미터에 전달할 튜플/리스트 에 *를 딕셔너리에 **를 붙이면 positional args 와 keyword args로 변환되어 호출한다."
   ]
  },
  {
   "cell_type": "markdown",
   "metadata": {
    "slideshow": {
     "slide_type": "slide"
    }
   },
   "source": [
    "# 변수의 유효범위\n",
    "\n",
    "- 전역변수 (global variable)\n",
    "    - 함수 밖에 선언 된 변수\n",
    "    - 모든 함수들이 공통적으로 사용할 수 있다.\n",
    "    - 하나의 함수에서 값을 변경하면 그 변한 값이 모든 함수에 영향을 주기 때문에 함부로 변경하지 않는다.\n",
    "    - 함수내에서 전역변수에 값을 대입하기 위해서는 global 키워드를 이용해 사용할 것을 미리 선언해야 한다.\n",
    "        - global로 선언하지 않으면 이름이 동일한 지역변수가 된다. \n",
    "        - 조회할 경우에는 상관없다.\n",
    "- 지역변수 (local variable)\n",
    "    - 함수안에 선언된 변수\n",
    "    - 선언된 그 함수 안에서만 사용할 수 있다."
   ]
  },
  {
   "cell_type": "code",
   "execution_count": 12,
   "metadata": {
    "ExecuteTime": {
     "end_time": "2022-12-26T05:38:04.906247Z",
     "start_time": "2022-12-26T05:38:04.895309Z"
    }
   },
   "outputs": [],
   "source": [
    "name = '홍길동'  # 전역변수\n",
    "address = '서울'\n",
    "\n",
    "def func5():\n",
    "    # 전역변수 name 의 값을 변경\n",
    "    global name, address # 이 함수에서 name 변수를 사용하면(대입, 조회) 전역변수 name을 가리킨다. 고 선언\n",
    "    name = '이순신' # 전역변수의 값 변경.\n",
    "\n",
    "def func4():\n",
    "    name = '이순신' # 지역변수 (함수안에 정의된 변수는 다 지역변수.)\n",
    "    print('func4', name)\n",
    "\n",
    "def func1():\n",
    "    age= 10 # 함수안에 선언 및 초기화 -> 지역변수 -> 함수 안에서만 조회가능\n",
    "    print(name, age)\n",
    "\n",
    "def func2():\n",
    "    age=30 # 지역변수\n",
    "    print(name, age)\n",
    "    \n",
    "def func3():\n",
    "    print(age)"
   ]
  },
  {
   "cell_type": "code",
   "execution_count": 13,
   "metadata": {
    "ExecuteTime": {
     "end_time": "2022-12-26T05:38:07.114141Z",
     "start_time": "2022-12-26T05:38:07.107157Z"
    }
   },
   "outputs": [
    {
     "name": "stdout",
     "output_type": "stream",
     "text": [
      "홍길동 10\n",
      "이순신 10\n"
     ]
    }
   ],
   "source": [
    "func1()\n",
    "func5()\n",
    "func1()"
   ]
  },
  {
   "cell_type": "code",
   "execution_count": 14,
   "metadata": {
    "ExecuteTime": {
     "end_time": "2022-12-26T05:30:26.148589Z",
     "start_time": "2022-12-26T05:30:26.133593Z"
    }
   },
   "outputs": [
    {
     "name": "stdout",
     "output_type": "stream",
     "text": [
      "func4 이순신\n",
      "이순신 10\n"
     ]
    }
   ],
   "source": [
    "func4()\n",
    "func1()"
   ]
  },
  {
   "cell_type": "code",
   "execution_count": 15,
   "metadata": {
    "ExecuteTime": {
     "end_time": "2022-12-26T05:41:45.762213Z",
     "start_time": "2022-12-26T05:41:45.739311Z"
    },
    "collapsed": true
   },
   "outputs": [
    {
     "name": "stdout",
     "output_type": "stream",
     "text": [
      "이순신 10\n",
      "이순신 30\n"
     ]
    },
    {
     "ename": "NameError",
     "evalue": "name 'age' is not defined",
     "output_type": "error",
     "traceback": [
      "\u001b[0;31m---------------------------------------------------------------------------\u001b[0m",
      "\u001b[0;31mNameError\u001b[0m                                 Traceback (most recent call last)",
      "Cell \u001b[0;32mIn[15], line 3\u001b[0m\n\u001b[1;32m      1\u001b[0m func1()\n\u001b[1;32m      2\u001b[0m func2()\n\u001b[0;32m----> 3\u001b[0m \u001b[43mfunc3\u001b[49m\u001b[43m(\u001b[49m\u001b[43m)\u001b[49m\n",
      "Cell \u001b[0;32mIn[12], line 22\u001b[0m, in \u001b[0;36mfunc3\u001b[0;34m()\u001b[0m\n\u001b[1;32m     21\u001b[0m \u001b[38;5;28;01mdef\u001b[39;00m \u001b[38;5;21mfunc3\u001b[39m():\n\u001b[0;32m---> 22\u001b[0m     \u001b[38;5;28mprint\u001b[39m(\u001b[43mage\u001b[49m)\n",
      "\u001b[0;31mNameError\u001b[0m: name 'age' is not defined"
     ]
    }
   ],
   "source": [
    "func1()\n",
    "func2()\n",
    "func3()"
   ]
  },
  {
   "cell_type": "markdown",
   "metadata": {
    "slideshow": {
     "slide_type": "slide"
    }
   },
   "source": [
    "# 함수는 일급시민객체 => 함수는 값이다.\n",
    "- 일급시민객체\n",
    "    1. 변수에 대입 할 수 있다.\n",
    "    1. 함수 호출할때 argument로 사용할 수 있다.\n",
    "    1. 함수의 return 값으로 사용할 수 있다.\n"
   ]
  },
  {
   "cell_type": "code",
   "execution_count": 1,
   "metadata": {
    "ExecuteTime": {
     "end_time": "2022-12-26T05:46:26.104483Z",
     "start_time": "2022-12-26T05:46:26.089524Z"
    },
    "slideshow": {
     "slide_type": "fragment"
    }
   },
   "outputs": [
    {
     "name": "stdout",
     "output_type": "stream",
     "text": [
      "Hello world\n",
      "None\n"
     ]
    }
   ],
   "source": [
    "def hello():\n",
    "    print('Hello world')\n",
    "\n",
    "v = hello() # 함수를 호출, 반환값을 변수 v에 대입\n",
    "print(v)"
   ]
  },
  {
   "cell_type": "code",
   "execution_count": null,
   "metadata": {},
   "outputs": [],
   "source": [
    "my_hello = hello # 함수를 my_hello 란 변수에 대입.\n",
    "print(type(my_hellio), my_hello)"
   ]
  },
  {
   "cell_type": "code",
   "execution_count": 22,
   "metadata": {
    "ExecuteTime": {
     "end_time": "2022-12-26T06:15:44.023582Z",
     "start_time": "2022-12-26T06:15:44.013569Z"
    }
   },
   "outputs": [],
   "source": [
    "def plus(num1, num2):\n",
    "    # 함수에 구현 -> 값 두개를 어떻게 처리 할지 로직\n",
    "    # 처리할 값 -> parameter로 받는다.\n",
    "    return num1 + num2"
   ]
  },
  {
   "cell_type": "code",
   "execution_count": 24,
   "metadata": {
    "ExecuteTime": {
     "end_time": "2022-12-26T06:16:03.328164Z",
     "start_time": "2022-12-26T06:16:03.311170Z"
    }
   },
   "outputs": [
    {
     "data": {
      "text/plain": [
       "101"
      ]
     },
     "execution_count": 24,
     "metadata": {},
     "output_type": "execute_result"
    }
   ],
   "source": [
    "plus(1, 2)\n",
    "plus(1, 100)"
   ]
  },
  {
   "cell_type": "code",
   "execution_count": 31,
   "metadata": {
    "ExecuteTime": {
     "end_time": "2022-12-26T06:25:40.245155Z",
     "start_time": "2022-12-26T06:25:40.234183Z"
    }
   },
   "outputs": [],
   "source": [
    "def calc(func):\n",
    "    # 처리할 값을 함수가 가지고 있다.\n",
    "    # 어떻게 처리할지 없다.\n",
    "    num1, num2 = 10, 20\n",
    "    result = func(num1, num2)\n",
    "    print(\"계산결과:\", result) ########### 보통 처리할 로직이 있고 개발자 쓸 값을 대입해서 결과를 도출하나, 가끔 처리할 값은 있고 로직을 받아 처리할 때도 있다."
   ]
  },
  {
   "cell_type": "code",
   "execution_count": 32,
   "metadata": {
    "ExecuteTime": {
     "end_time": "2022-12-26T06:25:42.422007Z",
     "start_time": "2022-12-26T06:25:42.409003Z"
    }
   },
   "outputs": [],
   "source": [
    "def plus(n1,n2):\n",
    "    return n1 + n2\n",
    "\n",
    "def minus(n1, n2):\n",
    "    return n1 - n2\n",
    "\n",
    "def greater_than(n1,n2):\n",
    "    return n1>n2"
   ]
  },
  {
   "cell_type": "code",
   "execution_count": 33,
   "metadata": {
    "ExecuteTime": {
     "end_time": "2022-12-26T06:25:44.255880Z",
     "start_time": "2022-12-26T06:25:44.247898Z"
    }
   },
   "outputs": [
    {
     "name": "stdout",
     "output_type": "stream",
     "text": [
      "계산결과: 30\n",
      "계산결과: -10\n",
      "계산결과: False\n"
     ]
    }
   ],
   "source": [
    "calc(plus)\n",
    "calc(minus)\n",
    "calc(greater_than)"
   ]
  },
  {
   "cell_type": "code",
   "execution_count": 30,
   "metadata": {
    "ExecuteTime": {
     "end_time": "2022-12-26T06:24:01.447507Z",
     "start_time": "2022-12-26T06:24:01.428592Z"
    }
   },
   "outputs": [
    {
     "data": {
      "text/plain": [
       "(3, 3)"
      ]
     },
     "execution_count": 30,
     "metadata": {},
     "output_type": "execute_result"
    }
   ],
   "source": [
    "m_plus = plus\n",
    "m_plus(1,2), plus(1,2 )"
   ]
  },
  {
   "cell_type": "markdown",
   "metadata": {
    "slideshow": {
     "slide_type": "slide"
    }
   },
   "source": [
    "## 람다식/람다표현식 (Lambda Expression)\n",
    "- 함수를 하나의 식을 이용해서 정의할때 사용하는 표현식(구문).\n",
    "- 값을 입력받아서 **간단한 처리한 결과**를 반환하는 간단한 함수를 표현식으로 정의할 수 있다.\n",
    "    - 처리결과를 return 하는 구문을 하나의 명령문으로 처리할 수 있을때 람다식을 사용할 수 있다. => return x + y\n",
    "- 구문\n",
    "```python\n",
    "lambda 매개변수[, 매개변수, ...] : 명령문(구문)\n",
    "```\n",
    "- 명령문(구문)은 하나의 실행문만 가능하다.\n",
    "- 명령문(구문)이 처리한 결과를 리턴해준다.\n",
    "- **람다식은 함수의 매개변수로 함수를 전달하는 일회성 함수를 만들때 주로 사용한다.**"
   ]
  },
  {
   "cell_type": "code",
   "execution_count": 44,
   "metadata": {
    "ExecuteTime": {
     "end_time": "2022-12-26T06:33:11.815828Z",
     "start_time": "2022-12-26T06:33:11.807851Z"
    }
   },
   "outputs": [],
   "source": [
    "def plus(n1,n2):\n",
    "    return n1 + n2\n",
    "\n",
    "plus2 = lambda n1, n2 : n1 + n2"
   ]
  },
  {
   "cell_type": "code",
   "execution_count": 46,
   "metadata": {
    "ExecuteTime": {
     "end_time": "2022-12-26T06:33:37.070286Z",
     "start_time": "2022-12-26T06:33:37.059316Z"
    }
   },
   "outputs": [
    {
     "name": "stdout",
     "output_type": "stream",
     "text": [
      "300\n"
     ]
    }
   ],
   "source": [
    "r= plus2(100,200)\n",
    "print(r)"
   ]
  },
  {
   "cell_type": "code",
   "execution_count": null,
   "metadata": {},
   "outputs": [],
   "source": [
    "r= plus2(100,200)\n",
    "print(r)"
   ]
  },
  {
   "cell_type": "code",
   "execution_count": 56,
   "metadata": {
    "ExecuteTime": {
     "end_time": "2022-12-26T06:39:30.121019Z",
     "start_time": "2022-12-26T06:39:30.108053Z"
    }
   },
   "outputs": [
    {
     "name": "stdout",
     "output_type": "stream",
     "text": [
      "False\n"
     ]
    }
   ],
   "source": [
    "def greater_than(n1,n2):\n",
    "    return n1>n2\n",
    "\n",
    "greater_than2 = lambda n1, n2 : n1 > n2 ######## 재 사용할 필요 없을때 보통 함수보다 lambda 형식으로 작성한다.\n",
    "r2 = greater_than2(100,200)\n",
    "print(r2)\n"
   ]
  },
  {
   "cell_type": "code",
   "execution_count": 57,
   "metadata": {
    "ExecuteTime": {
     "end_time": "2022-12-26T06:39:37.314474Z",
     "start_time": "2022-12-26T06:39:37.294532Z"
    }
   },
   "outputs": [
    {
     "data": {
      "text/plain": [
       "<function __main__.calc(func)>"
      ]
     },
     "execution_count": 57,
     "metadata": {},
     "output_type": "execute_result"
    }
   ],
   "source": [
    "calc"
   ]
  },
  {
   "cell_type": "code",
   "execution_count": 56,
   "metadata": {
    "ExecuteTime": {
     "end_time": "2022-12-26T06:39:30.121019Z",
     "start_time": "2022-12-26T06:39:30.108053Z"
    }
   },
   "outputs": [
    {
     "name": "stdout",
     "output_type": "stream",
     "text": [
      "False\n"
     ]
    }
   ],
   "source": [
    "def greater_than(n1,n2):\n",
    "    return n1>n2\n",
    "\n",
    "greater_than2 = lambda n1, n2 : n1 > n2\n",
    "r2 = greater_than2(100,200)\n",
    "print(r2)"
   ]
  },
  {
   "cell_type": "code",
   "execution_count": 52,
   "metadata": {
    "ExecuteTime": {
     "end_time": "2022-12-26T06:38:26.322050Z",
     "start_time": "2022-12-26T06:38:26.302140Z"
    }
   },
   "outputs": [
    {
     "name": "stdout",
     "output_type": "stream",
     "text": [
      "계산결과: -10\n"
     ]
    }
   ],
   "source": [
    "calc(lambda n1, n2 : n1 -n2)"
   ]
  },
  {
   "cell_type": "code",
   "execution_count": 55,
   "metadata": {
    "ExecuteTime": {
     "end_time": "2022-12-26T06:39:05.678375Z",
     "start_time": "2022-12-26T06:39:05.657469Z"
    }
   },
   "outputs": [
    {
     "name": "stdout",
     "output_type": "stream",
     "text": [
      "계산결과: True\n"
     ]
    }
   ],
   "source": [
    "calc(lambda n1, n2 : n1 <= n2)"
   ]
  },
  {
   "cell_type": "code",
   "execution_count": null,
   "metadata": {},
   "outputs": [],
   "source": [
    "\n",
    "plus(100, 200)"
   ]
  },
  {
   "cell_type": "code",
   "execution_count": null,
   "metadata": {},
   "outputs": [],
   "source": []
  },
  {
   "cell_type": "code",
   "execution_count": null,
   "metadata": {},
   "outputs": [],
   "source": []
  },
  {
   "cell_type": "code",
   "execution_count": null,
   "metadata": {},
   "outputs": [],
   "source": []
  },
  {
   "cell_type": "code",
   "execution_count": null,
   "metadata": {
    "slideshow": {
     "slide_type": "fragment"
    }
   },
   "outputs": [],
   "source": []
  },
  {
   "cell_type": "markdown",
   "metadata": {
    "slideshow": {
     "slide_type": "slide"
    }
   },
   "source": [
    "### iterable 관련 함수에서 함수를 매개변수로 받아 처리하는 함수들\n",
    "- sorted(iterable, reverse=False, key=None)\n",
    "    - 정렬처리\n",
    "    - 매개변수\n",
    "        - reverse: True - 내림차순, False - 오름차순(기본)\n",
    "        - key: 함수 \n",
    "            - Parameter로 iterable의 각 원소를 받는 함수.\n",
    "            - 정렬을 할 때 iterable의 원소기준으로 정렬하는 것이 아니라 이 함수가 반환하는 값을 기준으로 정렬\n",
    "- filter(함수, Iterable)\n",
    "    - Iterable의 원소들 중에서 특정 조건을 만족하는 원소들만 걸러주는 함수\n",
    "    - 함수\n",
    "        - 어떻게 걸러낼 것인지 조건을 정의. 매개변수 1개, 반환값 bool\n",
    "        - 원소 하나 하나를 함수에 전달해 True를 반환하는 것만 반환\n",
    "- map(함수, Iterable)\n",
    "    - Iterable의 원소들 하나 하나를 처리(변형)해서 그 결과를 반환\n",
    "    - 함수\n",
    "        - 원소들을 어떻게 처리할지 정의. 매개변수 1개. 반환값: 처리 결과\n",
    "- **filter/map 반환타입**: generator 형태로 반환 된다. (리스트가 아님)"
   ]
  },
  {
   "cell_type": "code",
   "execution_count": 60,
   "metadata": {
    "ExecuteTime": {
     "end_time": "2022-12-26T06:44:50.322098Z",
     "start_time": "2022-12-26T06:44:50.301141Z"
    }
   },
   "outputs": [
    {
     "data": {
      "text/plain": [
       "['aaa', 'ab', 'ba', 'c', 'e', '안녕하세요', '하']"
      ]
     },
     "execution_count": 60,
     "metadata": {},
     "output_type": "execute_result"
    }
   ],
   "source": [
    "l = ['aaa', 'c', 'e', 'ba', 'ab', '안녕하세요', '하']\n",
    "sorted(l)"
   ]
  },
  {
   "cell_type": "code",
   "execution_count": 61,
   "metadata": {
    "ExecuteTime": {
     "end_time": "2022-12-26T06:46:12.882693Z",
     "start_time": "2022-12-26T06:46:12.877706Z"
    }
   },
   "outputs": [],
   "source": [
    "def sort_elem(word):\n",
    "    return len(word)"
   ]
  },
  {
   "cell_type": "code",
   "execution_count": 65,
   "metadata": {
    "ExecuteTime": {
     "end_time": "2022-12-26T06:47:15.976541Z",
     "start_time": "2022-12-26T06:47:15.962538Z"
    }
   },
   "outputs": [
    {
     "name": "stdout",
     "output_type": "stream",
     "text": [
      "3\n",
      "1\n",
      "1\n",
      "2\n",
      "2\n",
      "5\n",
      "1\n"
     ]
    }
   ],
   "source": [
    "for w in l:\n",
    "    print(sort_elem(w))"
   ]
  },
  {
   "cell_type": "code",
   "execution_count": 68,
   "metadata": {
    "ExecuteTime": {
     "end_time": "2022-12-26T06:49:18.325680Z",
     "start_time": "2022-12-26T06:49:18.305730Z"
    }
   },
   "outputs": [
    {
     "data": {
      "text/plain": [
       "['c', 'e', '하', 'ba', 'ab', 'aaa', '안녕하세요']"
      ]
     },
     "execution_count": 68,
     "metadata": {},
     "output_type": "execute_result"
    }
   ],
   "source": [
    "# 글자수 순서로 정렬\n",
    "# sorted(l, key = sort_elem, reverse = True)\n",
    "sorted(l, key=len)"
   ]
  },
  {
   "cell_type": "code",
   "execution_count": 16,
   "metadata": {
    "ExecuteTime": {
     "end_time": "2022-12-26T07:20:44.291000Z",
     "start_time": "2022-12-26T07:20:44.276038Z"
    }
   },
   "outputs": [],
   "source": [
    "nums = list(range(1,10))\n"
   ]
  },
  {
   "cell_type": "code",
   "execution_count": 17,
   "metadata": {
    "ExecuteTime": {
     "end_time": "2022-12-26T07:17:10.723811Z",
     "start_time": "2022-12-26T07:17:10.702869Z"
    }
   },
   "outputs": [
    {
     "data": {
      "text/plain": [
       "[2, 4, 6, 8]"
      ]
     },
     "execution_count": 17,
     "metadata": {},
     "output_type": "execute_result"
    }
   ],
   "source": [
    "# nums에서 짝수만 조회\n",
    "result = []\n",
    "for v in nums:\n",
    "    if v % 2 ==0:\n",
    "        result.append(v)\n",
    "result"
   ]
  },
  {
   "cell_type": "code",
   "execution_count": 18,
   "metadata": {
    "ExecuteTime": {
     "end_time": "2022-12-26T07:18:08.104579Z",
     "start_time": "2022-12-26T07:18:08.082676Z"
    }
   },
   "outputs": [
    {
     "data": {
      "text/plain": [
       "[2, 4, 6, 8]"
      ]
     },
     "execution_count": 18,
     "metadata": {},
     "output_type": "execute_result"
    }
   ],
   "source": [
    "result2 = [v for v in nums if v % 2 ==0]\n",
    "result2"
   ]
  },
  {
   "cell_type": "code",
   "execution_count": 19,
   "metadata": {
    "ExecuteTime": {
     "end_time": "2022-12-26T07:20:46.322077Z",
     "start_time": "2022-12-26T07:20:46.312106Z"
    }
   },
   "outputs": [],
   "source": [
    "def func(num):\n",
    "    # 원소를 받아서\n",
    "    return num % 2 == 0 # bool 값을 반환"
   ]
  },
  {
   "cell_type": "code",
   "execution_count": 20,
   "metadata": {
    "ExecuteTime": {
     "end_time": "2022-12-26T07:24:13.384178Z",
     "start_time": "2022-12-26T07:24:13.371246Z"
    }
   },
   "outputs": [
    {
     "name": "stdout",
     "output_type": "stream",
     "text": [
      "<class 'filter'>\n",
      "2\n",
      "4\n",
      "6\n",
      "8\n"
     ]
    }
   ],
   "source": [
    "# result_gen = filter(func, nums)\n",
    "result_gen = filter(lambda num : num%2==0, nums)\n",
    "print(type(result_gen))\n",
    "for r in result_gen:\n",
    "    print(r)"
   ]
  },
  {
   "cell_type": "code",
   "execution_count": 21,
   "metadata": {
    "ExecuteTime": {
     "end_time": "2022-12-26T07:25:07.651590Z",
     "start_time": "2022-12-26T07:25:07.629649Z"
    }
   },
   "outputs": [
    {
     "name": "stdout",
     "output_type": "stream",
     "text": [
      "0.1\n",
      "0.2\n",
      "0.3\n",
      "0.4\n",
      "0.5\n",
      "0.6\n",
      "0.7\n",
      "0.8\n",
      "0.9\n"
     ]
    }
   ],
   "source": [
    "# mapping\n",
    "for v in map(lambda num : num / 10, nums):\n",
    "    print(v)"
   ]
  },
  {
   "cell_type": "code",
   "execution_count": 113,
   "metadata": {
    "ExecuteTime": {
     "end_time": "2022-12-26T07:27:13.670672Z",
     "start_time": "2022-12-26T07:27:13.648694Z"
    },
    "collapsed": true
   },
   "outputs": [
    {
     "data": {
      "text/plain": [
       "[0.1,\n",
       " 0.2,\n",
       " 0.3,\n",
       " 0.4,\n",
       " 0.5,\n",
       " 0.6,\n",
       " 0.7,\n",
       " 0.8,\n",
       " 0.9,\n",
       " 1.0,\n",
       " 1.1,\n",
       " 1.2,\n",
       " 1.3,\n",
       " 1.4,\n",
       " 1.5,\n",
       " 1.6,\n",
       " 1.7,\n",
       " 1.8,\n",
       " 1.9,\n",
       " 2.0,\n",
       " 2.1,\n",
       " 2.2,\n",
       " 2.3,\n",
       " 2.4,\n",
       " 2.5,\n",
       " 2.6,\n",
       " 2.7,\n",
       " 2.8,\n",
       " 2.9,\n",
       " 3.0,\n",
       " 3.1,\n",
       " 3.2,\n",
       " 3.3,\n",
       " 3.4,\n",
       " 3.5,\n",
       " 3.6,\n",
       " 3.7,\n",
       " 3.8,\n",
       " 3.9,\n",
       " 4.0,\n",
       " 4.1,\n",
       " 4.2,\n",
       " 4.3,\n",
       " 4.4,\n",
       " 4.5,\n",
       " 4.6,\n",
       " 4.7,\n",
       " 4.8,\n",
       " 4.9,\n",
       " 5.0,\n",
       " 5.1,\n",
       " 5.2,\n",
       " 5.3,\n",
       " 5.4,\n",
       " 5.5,\n",
       " 5.6,\n",
       " 5.7,\n",
       " 5.8,\n",
       " 5.9,\n",
       " 6.0,\n",
       " 6.1,\n",
       " 6.2,\n",
       " 6.3,\n",
       " 6.4,\n",
       " 6.5,\n",
       " 6.6,\n",
       " 6.7,\n",
       " 6.8,\n",
       " 6.9,\n",
       " 7.0,\n",
       " 7.1,\n",
       " 7.2,\n",
       " 7.3,\n",
       " 7.4,\n",
       " 7.5,\n",
       " 7.6,\n",
       " 7.7,\n",
       " 7.8,\n",
       " 7.9,\n",
       " 8.0,\n",
       " 8.1,\n",
       " 8.2,\n",
       " 8.3,\n",
       " 8.4,\n",
       " 8.5,\n",
       " 8.6,\n",
       " 8.7,\n",
       " 8.8,\n",
       " 8.9,\n",
       " 9.0,\n",
       " 9.1,\n",
       " 9.2,\n",
       " 9.3,\n",
       " 9.4,\n",
       " 9.5,\n",
       " 9.6,\n",
       " 9.7,\n",
       " 9.8,\n",
       " 9.9]"
      ]
     },
     "execution_count": 113,
     "metadata": {},
     "output_type": "execute_result"
    }
   ],
   "source": [
    "[v/10 for v in nums] ##### 속도적인 부분에서 컴프리헨스가 더 빠르다."
   ]
  },
  {
   "cell_type": "markdown",
   "metadata": {
    "slideshow": {
     "slide_type": "subslide"
    }
   },
   "source": [
    "# docstring\n",
    "- 함수에 대한 설명\n",
    "- 함수의 구현부의 첫번째에 여러줄 문자열로 작성한다.\n",
    "- 함수 매개변수/리턴타입에 대한 힌트(주석)"
   ]
  },
  {
   "cell_type": "code",
   "execution_count": 127,
   "metadata": {
    "ExecuteTime": {
     "end_time": "2022-12-26T07:42:20.263826Z",
     "start_time": "2022-12-26T07:42:20.244875Z"
    },
    "slideshow": {
     "slide_type": "fragment"
    }
   },
   "outputs": [],
   "source": [
    "def greeting(name:str, age:int, address:str = None) -> str:\n",
    "    \"\"\"\n",
    "    함수에 대한 설명\n",
    "    parameter:\n",
    "        변수명: 데이터 타입 ~ 설명\n",
    "        name: str ~ name 파라미터 설명\n",
    "        age: int ~ age 파라미터 설명\n",
    "        address: str = None - address 파라미터 설명.\n",
    "    return:\n",
    "        리턴값의 타입 - 리턴값에 대한 설명\n",
    "        str - 인산말을 변환한다.\n",
    "    raise:\n",
    "        함수 실행도중 발생가능성이 있는 Exception타입을 설명.\n",
    "        TypeError: 이름, 나이를 입력받지 못하면 발생.\n",
    "    \"\"\"\n",
    "    return f'{address}에 사는 {age}세의 {name}님 안녕하세요.'"
   ]
  },
  {
   "cell_type": "code",
   "execution_count": 129,
   "metadata": {
    "ExecuteTime": {
     "end_time": "2022-12-26T07:43:08.167863Z",
     "start_time": "2022-12-26T07:43:08.148910Z"
    }
   },
   "outputs": [
    {
     "data": {
      "text/plain": [
       "'30에 사는 30세의 30님 안녕하세요.'"
      ]
     },
     "execution_count": 129,
     "metadata": {},
     "output_type": "execute_result"
    }
   ],
   "source": []
  },
  {
   "cell_type": "code",
   "execution_count": 128,
   "metadata": {
    "ExecuteTime": {
     "end_time": "2022-12-26T07:42:25.342804Z",
     "start_time": "2022-12-26T07:42:25.321822Z"
    }
   },
   "outputs": [
    {
     "name": "stdout",
     "output_type": "stream",
     "text": [
      "Help on function greeting in module __main__:\n",
      "\n",
      "greeting(name: str, age: int, address: str = None) -> str\n",
      "    함수에 대한 설명\n",
      "    parameter:\n",
      "        변수명: 데이터 타입 ~ 설명\n",
      "        name: str ~ name 파라미터 설명\n",
      "        age: int ~ age 파라미터 설명\n",
      "        address: str = None - address 파라미터 설명.\n",
      "    return:\n",
      "        리턴값의 타입 - 리턴값에 대한 설명\n",
      "        str - 인산말을 변환한다.\n",
      "    raise:\n",
      "        함수 실행도중 발생가능성이 있는 Exception타입을 설명.\n",
      "        TypeError: 이름, 나이를 입력받지 못하면 발생.\n",
      "\n"
     ]
    }
   ],
   "source": [
    "help(greeting)"
   ]
  },
  {
   "cell_type": "code",
   "execution_count": 126,
   "metadata": {
    "ExecuteTime": {
     "end_time": "2022-12-26T07:39:05.953821Z",
     "start_time": "2022-12-26T07:39:05.851660Z"
    }
   },
   "outputs": [],
   "source": [
    "greeting?"
   ]
  },
  {
   "cell_type": "code",
   "execution_count": null,
   "metadata": {},
   "outputs": [],
   "source": [
    "greeting # shift + tab"
   ]
  },
  {
   "cell_type": "markdown",
   "metadata": {
    "slideshow": {
     "slide_type": "subslide"
    }
   },
   "source": [
    "### pass 키워드(예약어)\n",
    "- 빈 구현부를 만들때 사용\n",
    "    - 코드블럭을 하는 일 없이 채울 때 사용\n",
    "    - `...` 을 대신 사용할 수 있다."
   ]
  },
  {
   "cell_type": "code",
   "execution_count": 130,
   "metadata": {
    "ExecuteTime": {
     "end_time": "2022-12-26T07:46:18.632891Z",
     "start_time": "2022-12-26T07:46:18.624911Z"
    }
   },
   "outputs": [],
   "source": [
    "def test1():\n",
    "    pass\n",
    "\n",
    "def test2():\n",
    "    pass\n",
    "\n",
    "def test3():\n",
    "    pass"
   ]
  },
  {
   "cell_type": "code",
   "execution_count": 133,
   "metadata": {
    "ExecuteTime": {
     "end_time": "2022-12-26T07:47:07.064030Z",
     "start_time": "2022-12-26T07:47:07.050064Z"
    }
   },
   "outputs": [
    {
     "name": "stdout",
     "output_type": "stream",
     "text": [
      "10\n"
     ]
    }
   ],
   "source": [
    "a = 10\n",
    "if a > 10:\n",
    "    pass\n",
    "\n",
    "else:\n",
    "    print(a)"
   ]
  },
  {
   "cell_type": "code",
   "execution_count": 134,
   "metadata": {
    "ExecuteTime": {
     "end_time": "2022-12-26T07:48:57.637208Z",
     "start_time": "2022-12-26T07:48:57.626197Z"
    }
   },
   "outputs": [],
   "source": [
    "def test5():\n",
    "    ..."
   ]
  },
  {
   "cell_type": "code",
   "execution_count": 136,
   "metadata": {
    "ExecuteTime": {
     "end_time": "2022-12-26T07:49:33.284101Z",
     "start_time": "2022-12-26T07:49:33.265150Z"
    }
   },
   "outputs": [
    {
     "name": "stdout",
     "output_type": "stream",
     "text": [
      "Object `pd.read_csv` not found.\n"
     ]
    }
   ],
   "source": [
    "pd.read_csv?"
   ]
  },
  {
   "cell_type": "markdown",
   "metadata": {
    "slideshow": {
     "slide_type": "skip"
    }
   },
   "source": [
    "# TODO"
   ]
  },
  {
   "cell_type": "code",
   "execution_count": 13,
   "metadata": {
    "ExecuteTime": {
     "end_time": "2022-12-26T05:06:43.823436Z",
     "start_time": "2022-12-26T05:06:43.815498Z"
    },
    "slideshow": {
     "slide_type": "skip"
    }
   },
   "outputs": [
    {
     "name": "stdout",
     "output_type": "stream",
     "text": [
      "3 X 1 = 3\n",
      "3 X 2 = 6\n",
      "3 X 3 = 9\n",
      "3 X 4 = 12\n",
      "3 X 5 = 15\n",
      "3 X 6 = 18\n",
      "3 X 7 = 21\n",
      "3 X 8 = 24\n",
      "3 X 9 = 27\n"
     ]
    }
   ],
   "source": [
    "# 1. 사용자가 입력한 단의 구구단을 출력하는 함수를 구현(매개변수로 단을 받는다.)\n",
    "def dan(x):\n",
    "    for y in range(1,10):\n",
    "        print(f'{x} X {y} = {x*y}')\n",
    "    return\n",
    "dan(3)"
   ]
  },
  {
   "cell_type": "code",
   "execution_count": 59,
   "metadata": {
    "ExecuteTime": {
     "end_time": "2022-12-26T06:43:50.746730Z",
     "start_time": "2022-12-26T06:43:50.736723Z"
    },
    "slideshow": {
     "slide_type": "skip"
    }
   },
   "outputs": [
    {
     "data": {
      "text/plain": [
       "55"
      ]
     },
     "execution_count": 59,
     "metadata": {},
     "output_type": "execute_result"
    }
   ],
   "source": [
    "# 2. 시작 정수, 끝 정수를 받아 그 사이의 모든 정수의 합을 구해서 반환하는 함수를 구현(ex: 1, 20 => 1에서 20 사이의 모든 정수의 합계)\n",
    "def sik(a,b):\n",
    "    sum = 0\n",
    "    for i in range(a,b+1):\n",
    "        sum += i\n",
    "    return sum\n",
    "\n",
    "sik(1,10)"
   ]
  },
  {
   "cell_type": "code",
   "execution_count": 190,
   "metadata": {
    "ExecuteTime": {
     "end_time": "2022-12-26T08:19:49.599949Z",
     "start_time": "2022-12-26T08:19:49.583955Z"
    },
    "slideshow": {
     "slide_type": "skip"
    }
   },
   "outputs": [
    {
     "data": {
      "text/plain": [
       "55"
      ]
     },
     "execution_count": 190,
     "metadata": {},
     "output_type": "execute_result"
    }
   ],
   "source": [
    "# 3. 2번 문제에서 시작을 받지 않은 경우 0을, 끝 정수를 받지 않으면 10이 들어가도록 구현을 변경\n",
    "\n",
    "def sik(a = 0, b = 10):\n",
    "    sum = 0\n",
    "    for i in range(a, b+1):\n",
    "        sum += i\n",
    "    return sum\n",
    "\n",
    "sik(1,10)"
   ]
  },
  {
   "cell_type": "code",
   "execution_count": 192,
   "metadata": {
    "ExecuteTime": {
     "end_time": "2022-12-26T08:21:06.134475Z",
     "start_time": "2022-12-26T08:21:06.117481Z"
    },
    "slideshow": {
     "slide_type": "skip"
    }
   },
   "outputs": [
    {
     "name": "stdout",
     "output_type": "stream",
     "text": [
      "정상\n"
     ]
    }
   ],
   "source": [
    "# 4. 체질량 지수는 비만도를 나타내는 지수로 키가 a미터 이고 몸무게가 b kg일때 b/(a**2) 로 구한다.\n",
    "# 체질량 지수가\n",
    "#- 18.5 미만이면 저체중\n",
    "#- 18.5이상 25미만이면 정상 \n",
    "#- 25이상이면 과체중\n",
    "#- 30이상이면 비만으로 하는데\n",
    "#몸무게와 키를 매개변수로 받아 비만인지 과체중인지 반환하는 함수를 구현하시오.\n",
    "\n",
    "def kk(a, b):\n",
    "    bmi = b/(a**2)\n",
    "    if bmi < 18.5:\n",
    "        print(\"저체중\")\n",
    "    elif bmi > 18.5 and bmi < 25:\n",
    "        print(\"정상\")\n",
    "    elif bmi > 25 and bmi <30:\n",
    "        print(\"과체중\")\n",
    "    else:\n",
    "        print(\"비만\")\n",
    "    return\n",
    "\n",
    "kk(1.86, 84) #### 키는 m 기준으로 기입!!"
   ]
  },
  {
   "cell_type": "code",
   "execution_count": 154,
   "metadata": {
    "ExecuteTime": {
     "end_time": "2022-12-26T08:06:20.612554Z",
     "start_time": "2022-12-26T08:06:20.597557Z"
    }
   },
   "outputs": [
    {
     "data": {
      "text/plain": [
       "24.280263614290668"
      ]
     },
     "execution_count": 154,
     "metadata": {},
     "output_type": "execute_result"
    }
   ],
   "source": [
    "84/(1.86**2)"
   ]
  },
  {
   "cell_type": "code",
   "execution_count": 94,
   "metadata": {
    "ExecuteTime": {
     "end_time": "2022-12-26T07:11:35.830610Z",
     "start_time": "2022-12-26T07:11:35.810666Z"
    },
    "slideshow": {
     "slide_type": "skip"
    }
   },
   "outputs": [
    {
     "data": {
      "text/plain": [
       "[1, 20, 3, 21]"
      ]
     },
     "execution_count": 94,
     "metadata": {},
     "output_type": "execute_result"
    }
   ],
   "source": [
    "# 람다식\n",
    "#5. filter()를 이용해 다음 리스트에서 양수만 추출히 리스트를 구현\n",
    "ex1 = [1, -10, -2, 20, 3, -5, -7, 21]\n",
    "aa = lambda x : x > 0\n",
    "list(filter(aa, ex1))"
   ]
  },
  {
   "cell_type": "code",
   "execution_count": 210,
   "metadata": {
    "ExecuteTime": {
     "end_time": "2022-12-26T08:36:04.295903Z",
     "start_time": "2022-12-26T08:36:04.284930Z"
    }
   },
   "outputs": [
    {
     "data": {
      "text/plain": [
       "[1, 20, 3, 21]"
      ]
     },
     "execution_count": 210,
     "metadata": {},
     "output_type": "execute_result"
    }
   ],
   "source": [
    "# 5번 컴프리헨스 표현\n",
    "ex1 = [1, -10, -2, 20, 3, -5, -7, 21]\n",
    "\n",
    "[val for val in ex1 if val > 0]"
   ]
  },
  {
   "cell_type": "code",
   "execution_count": 228,
   "metadata": {
    "ExecuteTime": {
     "end_time": "2022-12-26T08:50:51.496428Z",
     "start_time": "2022-12-26T08:50:51.480434Z"
    },
    "slideshow": {
     "slide_type": "skip"
    }
   },
   "outputs": [
    {
     "data": {
      "text/plain": [
       "[100, 4, 25, 49]"
      ]
     },
     "execution_count": 228,
     "metadata": {},
     "output_type": "execute_result"
    }
   ],
   "source": [
    "#6. filter()와 map()을 이용해 다음 리스트에서 음수만 추출한 뒤 그 2 제곱한 값들을 가지는 리스트를 구현.\n",
    "ex2 = [1, -10, -2, 20, 3, -5, -7, 21]\n",
    "cc = lambda x : x < 0\n",
    "cf = filter(cc, ex2)\n",
    "rr = lambda x : x**2\n",
    "rm = map(rr, cf)\n",
    "list(rm)"
   ]
  },
  {
   "cell_type": "code",
   "execution_count": 219,
   "metadata": {
    "ExecuteTime": {
     "end_time": "2022-12-26T08:47:08.755672Z",
     "start_time": "2022-12-26T08:47:08.733692Z"
    }
   },
   "outputs": [
    {
     "ename": "TypeError",
     "evalue": "list expected at most 1 argument, got 2",
     "output_type": "error",
     "traceback": [
      "\u001b[1;31m---------------------------------------------------------------------------\u001b[0m",
      "\u001b[1;31mTypeError\u001b[0m                                 Traceback (most recent call last)",
      "\u001b[1;32m~\\AppData\\Local\\Temp\\ipykernel_5108\\2587357302.py\u001b[0m in \u001b[0;36m<module>\u001b[1;34m\u001b[0m\n\u001b[1;32m----> 1\u001b[1;33m \u001b[0mlist\u001b[0m\u001b[1;33m(\u001b[0m\u001b[1;32mlambda\u001b[0m \u001b[0mx\u001b[0m \u001b[1;33m:\u001b[0m \u001b[0mx\u001b[0m \u001b[1;33m<\u001b[0m \u001b[1;36m0\u001b[0m\u001b[1;33m,\u001b[0m \u001b[0mex2\u001b[0m\u001b[1;33m)\u001b[0m\u001b[1;33m\u001b[0m\u001b[1;33m\u001b[0m\u001b[0m\n\u001b[0m",
      "\u001b[1;31mTypeError\u001b[0m: list expected at most 1 argument, got 2"
     ]
    }
   ],
   "source": [
    "list(lambda x : x < 0, ex2)"
   ]
  },
  {
   "cell_type": "code",
   "execution_count": 211,
   "metadata": {
    "ExecuteTime": {
     "end_time": "2022-12-26T08:36:30.581112Z",
     "start_time": "2022-12-26T08:36:30.568146Z"
    }
   },
   "outputs": [
    {
     "data": {
      "text/plain": [
       "[100, 4, 25, 49]"
      ]
     },
     "execution_count": 211,
     "metadata": {},
     "output_type": "execute_result"
    }
   ],
   "source": [
    "#6번 컴프리헨스 표현\n",
    "\n",
    "ex2 = [1, -10, -2, 20, 3, -5, -7, 21]\n",
    "[pow(val, 2) for val in ex2 if val < 0]"
   ]
  },
  {
   "cell_type": "code",
   "execution_count": null,
   "metadata": {},
   "outputs": [],
   "source": []
  }
 ],
 "metadata": {
  "kernelspec": {
   "display_name": "Python 3 (ipykernel)",
   "language": "python",
   "name": "python3"
  },
  "language_info": {
   "codemirror_mode": {
    "name": "ipython",
    "version": 3
   },
   "file_extension": ".py",
   "mimetype": "text/x-python",
   "name": "python",
   "nbconvert_exporter": "python",
   "pygments_lexer": "ipython3",
   "version": "3.9.16"
  },
  "toc": {
   "base_numbering": 1,
   "nav_menu": {},
   "number_sections": true,
   "sideBar": true,
   "skip_h1_title": false,
   "title_cell": "Table of Contents",
   "title_sidebar": "Contents",
   "toc_cell": false,
   "toc_position": {
    "height": "calc(100% - 180px)",
    "left": "10px",
    "top": "150px",
    "width": "341.333px"
   },
   "toc_section_display": true,
   "toc_window_display": false
  },
  "varInspector": {
   "cols": {
    "lenName": 16,
    "lenType": 16,
    "lenVar": 40
   },
   "kernels_config": {
    "python": {
     "delete_cmd_postfix": "",
     "delete_cmd_prefix": "del ",
     "library": "var_list.py",
     "varRefreshCmd": "print(var_dic_list())"
    },
    "r": {
     "delete_cmd_postfix": ") ",
     "delete_cmd_prefix": "rm(",
     "library": "var_list.r",
     "varRefreshCmd": "cat(var_dic_list()) "
    }
   },
   "types_to_exclude": [
    "module",
    "function",
    "builtin_function_or_method",
    "instance",
    "_Feature"
   ],
   "window_display": false
  }
 },
 "nbformat": 4,
 "nbformat_minor": 4
}
