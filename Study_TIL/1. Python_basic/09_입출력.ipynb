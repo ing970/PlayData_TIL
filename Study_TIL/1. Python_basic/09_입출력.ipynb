{
 "cells": [
  {
   "cell_type": "markdown",
   "metadata": {
    "slideshow": {
     "slide_type": "slide"
    }
   },
   "source": [
    "# Path (경로)\n",
    "\n",
    "- **경로(Path)**\n",
    "    - 프로그램에서 사용할 **자원의 위치**를 path/경로 라고 한다.\n",
    "    - **파일 시스템**에서는 파일이나 디렉토리가 있는 위치의 경로를 말한다.\n",
    "    "
   ]
  },
  {
   "cell_type": "markdown",
   "metadata": {
    "slideshow": {
     "slide_type": "subslide"
    }
   },
   "source": [
    "- **절대경로**\n",
    "    - 자원의 전체 경로를 표현하는 방식\n",
    "    - 시작 경로부터 자원(파일, 디렉토리)이 있는 위치까지 표현한다.\n",
    "        - 시작 경로: Root Path\n",
    "            - windows: `c:`, `d:`\n",
    "            - Unix, Linux: `/`"
   ]
  },
  {
   "cell_type": "markdown",
   "metadata": {
    "slideshow": {
     "slide_type": "fragment"
    }
   },
   "source": [
    "- **상대경로**\n",
    "    - 현재 작업 경로(위치)에서 부터 자원이 있는 위치까지 표현한다.\n",
    "        - 시작 경로: 현재 작업경로\n",
    "    - 구문\n",
    "        - `.` : 현재 디렉토리\n",
    "        - `..`: 상위 디렉토리\n",
    "        - `/` : 경로 구분자,  상위경로/하위경로"
   ]
  },
  {
   "cell_type": "markdown",
   "metadata": {
    "slideshow": {
     "slide_type": "fragment"
    }
   },
   "source": [
    "- 운영체제(O/S)별 경로구분자\n",
    "    - 윈도우즈: `\\` (역슬래쉬)\n",
    "    - 리눅스/유닉스: `/` (슬래쉬)"
   ]
  },
  {
   "cell_type": "code",
   "execution_count": 1,
   "metadata": {
    "slideshow": {
     "slide_type": "fragment"
    }
   },
   "outputs": [
    {
     "ename": "SyntaxError",
     "evalue": "invalid syntax (2733139395.py, line 1)",
     "output_type": "error",
     "traceback": [
      "\u001b[0;36m  File \u001b[0;32m\"/var/folders/nc/lry6d8ws417_mblykm_8wpc40000gn/T/ipykernel_64685/2733139395.py\"\u001b[0;36m, line \u001b[0;32m1\u001b[0m\n\u001b[0;31m    ./../main.py | ../main.py  # \"./\"인 현재 디렉토리는 생략 가능.\u001b[0m\n\u001b[0m    ^\u001b[0m\n\u001b[0;31mSyntaxError\u001b[0m\u001b[0;31m:\u001b[0m invalid syntax\n"
     ]
    }
   ],
   "source": [
    "./../main.py \n",
    "../main.py  # \"./\"인 현재 디렉토리는 생략 가능."
   ]
  },
  {
   "cell_type": "code",
   "execution_count": null,
   "metadata": {},
   "outputs": [],
   "source": [
    "./claculator.py | calculator.py"
   ]
  },
  {
   "cell_type": "code",
   "execution_count": null,
   "metadata": {},
   "outputs": [],
   "source": [
    "path = \"/a/b/c\" or c:\\ # 시작 root 경로 -> 절대경로 표현\n",
    "path = \"./a/b\"  # 시작 현재 경로 -> ./ 또는 디렉토리나 파일명 일 경우 -> 상대경로 표현\n",
    "path = \"a/b/c\""
   ]
  },
  {
   "cell_type": "code",
   "execution_count": null,
   "metadata": {},
   "outputs": [],
   "source": [
    "# 경로 다루는 모듈\n",
    "# os 모듈, pathlib(3.4 추가) 모듈"
   ]
  },
  {
   "cell_type": "code",
   "execution_count": 9,
   "metadata": {},
   "outputs": [
    {
     "name": "stdout",
     "output_type": "stream",
     "text": [
      "/Users/seokminlee/Desktop/mose/python_basic/Anaconda/09입출력\n"
     ]
    },
    {
     "data": {
      "text/plain": [
       "str"
      ]
     },
     "execution_count": 9,
     "metadata": {},
     "output_type": "execute_result"
    }
   ],
   "source": [
    "import os\n",
    "\n",
    "# 현재 (working) 디렉토리 - 현재 main 모듈이 있는 경로.\n",
    "cwd = os.getcwd()\n",
    "print(cwd)\n",
    "type(cwd)"
   ]
  },
  {
   "cell_type": "code",
   "execution_count": 10,
   "metadata": {},
   "outputs": [
    {
     "name": "stdout",
     "output_type": "stream",
     "text": [
      "/Users/seokminlee/Desktop/mose/python_basic\n"
     ]
    }
   ],
   "source": [
    "# 현재 working directory 변경\n",
    "os.chdir(r'/Users/seokminlee/Desktop/mose/python_basic')\n",
    "print(os.getcwd())"
   ]
  },
  {
   "cell_type": "markdown",
   "metadata": {},
   "source": [
    "- r 이 들어가는 이유?"
   ]
  },
  {
   "cell_type": "code",
   "execution_count": 5,
   "metadata": {},
   "outputs": [
    {
     "name": "stdout",
     "output_type": "stream",
     "text": [
      "있는 디렉토리\n"
     ]
    }
   ],
   "source": [
    "# 디렉토리 생성\n",
    "try:\n",
    "    os.mkdir('test') # test 디렉토리를 생성 (없으면 생셩, 있으면 Exception 발생)\n",
    "except:\n",
    "    print('있는 디렉토리')"
   ]
  },
  {
   "cell_type": "code",
   "execution_count": 24,
   "metadata": {},
   "outputs": [
    {
     "data": {
      "text/plain": [
       "False"
      ]
     },
     "execution_count": 24,
     "metadata": {},
     "output_type": "execute_result"
    }
   ],
   "source": [
    "os.path.isdir('test1') # test1이 존재하고 디렉토리인지 여부\n",
    "os.path.isfile('test1') #test1이 존재하고 파일인지 여부\n",
    "os.path.exists('test1') #test1이 존재하는지 여부"
   ]
  },
  {
   "cell_type": "code",
   "execution_count": 8,
   "metadata": {},
   "outputs": [],
   "source": [
    "path = \"test2\"\n",
    "if not os.path.isdir(path): # 없으면 생성\n",
    "    os.mkdir(path)"
   ]
  },
  {
   "cell_type": "code",
   "execution_count": 26,
   "metadata": {},
   "outputs": [],
   "source": [
    "# 디렉토리 삭제\n",
    "if os.path.isdir('test2'):\n",
    "os.rmdir('test2') # 없는 디렉토리인 경우 Exception 발생."
   ]
  },
  {
   "cell_type": "code",
   "execution_count": 47,
   "metadata": {},
   "outputs": [],
   "source": [
    "# rmdir(디렉토리) - 안에 파일이나 하위디렉토리가 잇으면 Exception 발생.\n",
    "os.rmdir('test1')"
   ]
  },
  {
   "cell_type": "code",
   "execution_count": 10,
   "metadata": {},
   "outputs": [],
   "source": [
    "# 파일 삭제\n",
    "os.remove('test/a4.py') "
   ]
  },
  {
   "cell_type": "code",
   "execution_count": 11,
   "metadata": {},
   "outputs": [
    {
     "name": "stdout",
     "output_type": "stream",
     "text": [
      "['.DS_Store', 'a1.py', 'img2.jpeg', 'img1.jpeg', 'dir1', 'a2.py', 'd', 'a3.py']\n"
     ]
    }
   ],
   "source": [
    "from pprint import pprint\n",
    "path = \"test\"\n",
    "# test 디렉토리 아래 있는 파일들을 삭제\n",
    "# 1. test 디렉토리 아래있는 파일/디렉토리의 이름을 조회\n",
    "sub_list = os.listdir(path) # path 디렉토리 하위에 있는 디렉토리, 파일 이름을 리스트로 반환.\n",
    "pprint(sub_list)"
   ]
  },
  {
   "cell_type": "code",
   "execution_count": 99,
   "metadata": {},
   "outputs": [
    {
     "name": "stdout",
     "output_type": "stream",
     "text": [
      "a/b/c/d/e\n",
      "test/.DS_Store\n"
     ]
    }
   ],
   "source": [
    "# 경로를 합치기(결합)\n",
    "# print(path + '/' + sub_list[8])\n",
    "print(os.path.join('a', 'b', 'c', 'd', 'e'))\n",
    "print(os.path.join(path, sub_list[0]))"
   ]
  },
  {
   "cell_type": "code",
   "execution_count": 100,
   "metadata": {},
   "outputs": [],
   "source": [
    "for fname in sub_list:\n",
    "#    print(os.path.join(path, fname))\n",
    "    p = os.path.join(path, fname)\n",
    "    if os.path.isfile(p): \n",
    "        os.remove(p)      # 모든 파일 삭제"
   ]
  },
  {
   "cell_type": "markdown",
   "metadata": {},
   "source": [
    "- glob 모듈\n",
    "    - 디렉토리 안에 있는 파일/디렉토리들을 wild card 문자를 이용해서 다양하게 조회활 수 있다.\n",
    "    - wild card\n",
    "        - \\* : 0글자 이상의 모든 문자열\n",
    "            - ex) \\*.jpg 확장자가 jpg인 모든 이름의 파일. a\\*.png: 이름이 a로 시작하고 확장자가 png인 모든 파일\n",
    "        - ? : 한글자.\n",
    "            - ex) ab?de.jpg : 이름이 ab와 de사이에 아무글자나 한글자가 들어오는 jpg파일\n",
    "        - \\*\\* : 모든 하위 디렉토리. 하위디렉토리의 하위 디렉토리 포함.\n",
    "                "
   ]
  },
  {
   "cell_type": "code",
   "execution_count": 21,
   "metadata": {},
   "outputs": [],
   "source": [
    "from glob import glob"
   ]
  },
  {
   "cell_type": "code",
   "execution_count": 22,
   "metadata": {},
   "outputs": [
    {
     "data": {
      "text/plain": [
       "['test']"
      ]
     },
     "execution_count": 22,
     "metadata": {},
     "output_type": "execute_result"
    }
   ],
   "source": [
    "glob('test')"
   ]
  },
  {
   "cell_type": "code",
   "execution_count": 23,
   "metadata": {},
   "outputs": [
    {
     "data": {
      "text/plain": [
       "['test/a1.py']"
      ]
     },
     "execution_count": 23,
     "metadata": {},
     "output_type": "execute_result"
    }
   ],
   "source": [
    "glob('test/a1.py')"
   ]
  },
  {
   "cell_type": "code",
   "execution_count": 24,
   "metadata": {},
   "outputs": [
    {
     "data": {
      "text/plain": [
       "['test/a1.py', 'test/img2.jpeg', 'test/img1.jpeg', 'test/a2.py', 'test/a3.py']"
      ]
     },
     "execution_count": 24,
     "metadata": {},
     "output_type": "execute_result"
    }
   ],
   "source": [
    "glob('test/*.*')"
   ]
  },
  {
   "cell_type": "code",
   "execution_count": 25,
   "metadata": {},
   "outputs": [
    {
     "data": {
      "text/plain": [
       "['test/a1.py', 'test/a2.py', 'test/a3.py']"
      ]
     },
     "execution_count": 25,
     "metadata": {},
     "output_type": "execute_result"
    }
   ],
   "source": [
    "glob('test/*.py')"
   ]
  },
  {
   "cell_type": "code",
   "execution_count": 26,
   "metadata": {},
   "outputs": [
    {
     "data": {
      "text/plain": [
       "['test/a1.py', 'test/a2.py', 'test/a3.py']"
      ]
     },
     "execution_count": 26,
     "metadata": {},
     "output_type": "execute_result"
    }
   ],
   "source": [
    "glob('test/a?.py') # ? -> 한글자인데 아무거나"
   ]
  },
  {
   "cell_type": "code",
   "execution_count": 27,
   "metadata": {},
   "outputs": [
    {
     "data": {
      "text/plain": [
       "['test/a1.py',\n",
       " 'test/img2.jpeg',\n",
       " 'test/img1.jpeg',\n",
       " 'test/dir1',\n",
       " 'test/a2.py',\n",
       " 'test/d',\n",
       " 'test/a3.py']"
      ]
     },
     "execution_count": 27,
     "metadata": {},
     "output_type": "execute_result"
    }
   ],
   "source": [
    "glob('test/*')"
   ]
  },
  {
   "cell_type": "code",
   "execution_count": 43,
   "metadata": {},
   "outputs": [
    {
     "data": {
      "text/plain": [
       "['test/dir1/a1.py', 'test/dir1/a2.py']"
      ]
     },
     "execution_count": 43,
     "metadata": {},
     "output_type": "execute_result"
    }
   ],
   "source": [
    "glob('test/**/*.py') # test/ 모든 파위 디렉토리 /*.Py"
   ]
  },
  {
   "cell_type": "code",
   "execution_count": 49,
   "metadata": {},
   "outputs": [
    {
     "data": {
      "text/plain": [
       "['test/a1.py',\n",
       " 'test/a2.py',\n",
       " 'test/a3.py',\n",
       " 'test/dir1/a1.py',\n",
       " 'test/dir1/a2.py']"
      ]
     },
     "execution_count": 49,
     "metadata": {},
     "output_type": "execute_result"
    }
   ],
   "source": [
    "glob('test/**/*.py', recursive = True) # test directory, 그 하위, 그 하위\n",
    "                                       # ->>> 모든 하위 디렉토리를 다 찾아 준다."
   ]
  },
  {
   "cell_type": "code",
   "execution_count": 30,
   "metadata": {},
   "outputs": [],
   "source": [
    " # os.mkdir('a/b/c/d')\n",
    "os.makedirs('a/b/c/d', exist_ok = True) # 상위 디렉토리가 없으면 상위 디렉토리까지 만든다."
   ]
  },
  {
   "cell_type": "markdown",
   "metadata": {},
   "source": [
    "# pathlib 모듈울 이용해 경로 처리\n"
   ]
  },
  {
   "cell_type": "code",
   "execution_count": 34,
   "metadata": {},
   "outputs": [
    {
     "name": "stdout",
     "output_type": "stream",
     "text": [
      "test\n",
      "<class 'pathlib.PosixPath'>\n"
     ]
    }
   ],
   "source": [
    "from pathlib import Path\n",
    "# Path: attribute로 파일/디렉토리 경로를 가지며 그 경로관련 처리를 하는 다양한 메소드를 제공.\n",
    "\n",
    "path = Path('test') #test 디렉토리를 다루는 경로객체 생성\n",
    "print(path)\n",
    "print(type(path))"
   ]
  },
  {
   "cell_type": "code",
   "execution_count": 35,
   "metadata": {},
   "outputs": [
    {
     "name": "stdout",
     "output_type": "stream",
     "text": [
      "test/dir1/dir2/my_file.txt\n"
     ]
    },
    {
     "data": {
      "text/plain": [
       "(False, False, False)"
      ]
     },
     "execution_count": 35,
     "metadata": {},
     "output_type": "execute_result"
    }
   ],
   "source": [
    "# 경로 합치기 (os.path.join('경로1', '경로2', '경로3')) '경로1/경로2/경로3'\n",
    "path1 = path / \"dir1\" / \"dir2\" / \"my_file.txt\"\n",
    "print(path1)\n",
    "path1.is_file(), path1.is_dir(), path1.exists() # path1이 가진 경로가 있는지 여부"
   ]
  },
  {
   "cell_type": "code",
   "execution_count": 36,
   "metadata": {},
   "outputs": [
    {
     "data": {
      "text/plain": [
       "('test', 'dir1', 'dir2', 'my_file.txt')"
      ]
     },
     "execution_count": 36,
     "metadata": {},
     "output_type": "execute_result"
    }
   ],
   "source": [
    "path1.parts # 각 경로 요소들을 나눠서 튜플로 반환."
   ]
  },
  {
   "cell_type": "code",
   "execution_count": 37,
   "metadata": {},
   "outputs": [
    {
     "data": {
      "text/plain": [
       "('my_file.txt', 'my_file.txt')"
      ]
     },
     "execution_count": 37,
     "metadata": {},
     "output_type": "execute_result"
    }
   ],
   "source": [
    "path1.name, path1.parts[-1] # 마지막 경로(파일/디렉토리)의 이름을 조회"
   ]
  },
  {
   "cell_type": "code",
   "execution_count": 38,
   "metadata": {},
   "outputs": [
    {
     "data": {
      "text/plain": [
       "'.txt'"
      ]
     },
     "execution_count": 38,
     "metadata": {},
     "output_type": "execute_result"
    }
   ],
   "source": [
    "path1.suffix # 마지막 경로가 파일일때 확장자를 반환. 확장자가 없을 경우 None 반환."
   ]
  },
  {
   "cell_type": "code",
   "execution_count": 39,
   "metadata": {},
   "outputs": [
    {
     "data": {
      "text/plain": [
       "'my_file'"
      ]
     },
     "execution_count": 39,
     "metadata": {},
     "output_type": "execute_result"
    }
   ],
   "source": [
    "path1.stem #확장자를 뺀 파일명 또는 디렉토리 이름을 반환"
   ]
  },
  {
   "cell_type": "code",
   "execution_count": 51,
   "metadata": {},
   "outputs": [
    {
     "data": {
      "text/plain": [
       "[PosixPath('test/a1.py'),\n",
       " PosixPath('test/a2.py'),\n",
       " PosixPath('test/a3.py'),\n",
       " PosixPath('test/dir1/a1.py'),\n",
       " PosixPath('test/dir1/a2.py')]"
      ]
     },
     "execution_count": 51,
     "metadata": {},
     "output_type": "execute_result"
    }
   ],
   "source": [
    "lst = path.glob(\"**/*.py\")\n",
    "list(lst)"
   ]
  },
  {
   "cell_type": "code",
   "execution_count": 42,
   "metadata": {},
   "outputs": [
    {
     "data": {
      "text/plain": [
       "[PosixPath('test/img2.jpeg'), PosixPath('test/img1.jpeg')]"
      ]
     },
     "execution_count": 42,
     "metadata": {},
     "output_type": "execute_result"
    }
   ],
   "source": [
    "list(path.glob('*.jpeg'))"
   ]
  },
  {
   "cell_type": "markdown",
   "metadata": {},
   "source": [
    "# ------------------------------"
   ]
  },
  {
   "cell_type": "code",
   "execution_count": 53,
   "metadata": {},
   "outputs": [
    {
     "data": {
      "text/plain": [
       "'/Users/seokminlee/Desktop/mose/python_basic'"
      ]
     },
     "execution_count": 53,
     "metadata": {},
     "output_type": "execute_result"
    }
   ],
   "source": [
    "os.getcwd()"
   ]
  },
  {
   "cell_type": "code",
   "execution_count": 69,
   "metadata": {},
   "outputs": [],
   "source": [
    "dir_path = Path('test5')\n",
    "dir_path.mkdir(exist_ok = True) # Path 객체 경로의 디렉토리를 생성.\n",
    "# exist_ok = True : 디렉토리가 있으면 안만들고 없으면 만든다.\n",
    "# exist_ok = False(기본): 디렉토리가 없으면 만들고 있으면 Exception 발생."
   ]
  },
  {
   "cell_type": "code",
   "execution_count": 70,
   "metadata": {},
   "outputs": [
    {
     "name": "stdout",
     "output_type": "stream",
     "text": [
      "new-test5\n"
     ]
    }
   ],
   "source": [
    "new_path = dir_path.rename(r'new-test5') # 디렉토리/파일의 이름을 변경하고 새경로(Path)를 반환\n",
    "print(new_path)"
   ]
  },
  {
   "cell_type": "code",
   "execution_count": 71,
   "metadata": {},
   "outputs": [
    {
     "data": {
      "text/plain": [
       "PosixPath('new-test5')"
      ]
     },
     "execution_count": 71,
     "metadata": {},
     "output_type": "execute_result"
    }
   ],
   "source": [
    "new_path"
   ]
  },
  {
   "cell_type": "code",
   "execution_count": 72,
   "metadata": {},
   "outputs": [],
   "source": [
    "# 디렉토리 삭제\n",
    "new_path.rmdir()"
   ]
  },
  {
   "cell_type": "code",
   "execution_count": 74,
   "metadata": {},
   "outputs": [
    {
     "name": "stdout",
     "output_type": "stream",
     "text": [
      "True test/a1.py\n"
     ]
    }
   ],
   "source": [
    "f_path = path / 'a1.py'\n",
    "print(f_path.is_file(), f_path)"
   ]
  },
  {
   "cell_type": "code",
   "execution_count": 81,
   "metadata": {},
   "outputs": [
    {
     "name": "stdout",
     "output_type": "stream",
     "text": [
      "True test/a1.py\n"
     ]
    }
   ],
   "source": [
    "# 파일 삭제\n",
    "f_path.unlink\n",
    "print(f_path.is_file(), f_path)"
   ]
  },
  {
   "cell_type": "code",
   "execution_count": 83,
   "metadata": {},
   "outputs": [],
   "source": [
    "for f in path.glob('*.py'): # 확장자가 .py인 파일 모두 삭제\n",
    "# print(type(f))\n",
    "    f.unlink()"
   ]
  },
  {
   "cell_type": "code",
   "execution_count": null,
   "metadata": {},
   "outputs": [],
   "source": [
    "r'/Users/seokminlee/Desktop/mose/python_basic'"
   ]
  },
  {
   "cell_type": "code",
   "execution_count": null,
   "metadata": {},
   "outputs": [],
   "source": [
    "r'/Users/seokminlee/Desktop/' # tap 키를 눌러서 경로 설정 가능."
   ]
  },
  {
   "cell_type": "markdown",
   "metadata": {
    "slideshow": {
     "slide_type": "slide"
    }
   },
   "source": [
    "# 입출력 (IO)\n",
    "\n",
    "## 입출력이란\n",
    "- 프로그램이 사용하려는 외부 자원을 연결하여 데이터를 입력 받거나 출력하는 작업을 IO라고 한다.\n",
    "- 외부 자원\n",
    "    - 파일, 원격지 컴퓨터, Database 등.\n",
    "- **Stream**\n",
    "    - 입출력 시 **데이터의 흐름을 stream** 이라고 한다.\n",
    "- InputStream \n",
    "    - Program이 외부로 부터 데이터를 읽어 들이는 흐름.\n",
    "- OutputStream \n",
    "    - Program이 외부로 데이터를 써주는 흐름.\n",
    "\n",
    "\n",
    "![io](../images/ch09_01.png)"
   ]
  },
  {
   "cell_type": "markdown",
   "metadata": {
    "slideshow": {
     "slide_type": "subslide"
    }
   },
   "source": [
    "## IO 코딩 순서"
   ]
  },
  {
   "cell_type": "markdown",
   "metadata": {},
   "source": [
    "## 1. 파일 열기(연결)\n",
    "## 2. 데이터를 파일에 쓰기 / 읽기\n",
    "## 3. 파일 닫기 (연결 끊기)\n",
    "\n",
    "\n",
    "![io](../images/ch09_02.png)"
   ]
  },
  {
   "cell_type": "markdown",
   "metadata": {
    "slideshow": {
     "slide_type": "subslide"
    }
   },
   "source": [
    "### 파일 열기(연결)\n",
    "- open() 함수 사용\n",
    "    - 연결된 파일과 입출력 메소드를 제공하는 객체(Stream)를 리턴\n",
    "- 구문\n",
    "    - `open(file, mode='r', encoding=None)`\n",
    "    - 함수 주요 매개변수\n",
    "        - file : 연결할 파일 경로\n",
    "        - mode : 열기 모드\n",
    "        - 모드는 목적, 데이터종류를 조합한다.\n",
    "        - encoding \n",
    "            - 텍스트 파일일 경우 인코딩 방식\n",
    "            - None 또는 생략하면  os 기본 encoding방식을 따른다.\n",
    "                - Windows: cp949/euckr\n",
    "                - Linux, Unix:  **utf-8**\n",
    "|mode타입|mode문자|설명|\n",
    "|:-|-|-|\n",
    "|목적|r|읽기-목적의 기본 모드|\n",
    "||w|새로 쓰기 모드|\n",
    "||a|이어 쓰기 모드|\n",
    "||x|새로 쓰기모드-연결하려는 파일이 있으면 Exception발생|\n",
    "|데이터종류|b|binary 모드|\n",
    "||t|Text모드-text데이터 입출력시 사용|\n",
    "    "
   ]
  },
  {
   "cell_type": "code",
   "execution_count": null,
   "metadata": {},
   "outputs": [],
   "source": [
    "# w,a,x 는 다 쓰기 모드 // but, a 와 x 는 잘 안씀.\n",
    "# 1 bit = 1 byte"
   ]
  },
  {
   "cell_type": "code",
   "execution_count": null,
   "metadata": {},
   "outputs": [],
   "source": [
    "# 일기 -> r \n",
    "# 쓰기 -> w, a ,x\n",
    "# 대상: t(test)"
   ]
  },
  {
   "cell_type": "markdown",
   "metadata": {
    "slideshow": {
     "slide_type": "subslide"
    }
   },
   "source": [
    "### 출력 메소드\n",
    "\n",
    "- write(출력할 Data)\n",
    "    - 연결된 파일에 `출력할 Data` 출력한다.\n",
    "- writelines(문자열을 가진 컬렉션)\n",
    "    - 리스트, 튜플, 집합이 원소로 가진 문자열들을 한번에 출력한다.\n",
    "    - text 출력일 경우에만 사용가능.\n",
    "    - 원소에 문자열 이외의 타입의 값이 있을 경우 TypeError 발생"
   ]
  },
  {
   "cell_type": "code",
   "execution_count": 85,
   "metadata": {},
   "outputs": [
    {
     "data": {
      "text/plain": [
       "'/Users/seokminlee/Desktop/mose/python_basic'"
      ]
     },
     "execution_count": 85,
     "metadata": {},
     "output_type": "execute_result"
    }
   ],
   "source": [
    "os.getcwd()"
   ]
  },
  {
   "cell_type": "code",
   "execution_count": 2,
   "metadata": {},
   "outputs": [
    {
     "name": "stdout",
     "output_type": "stream",
     "text": [
      "file_data/test.txt\n"
     ]
    }
   ],
   "source": [
    "from pathlib import Path\n",
    "# file_data 폴더 아래 text/binary 파일을 쓰기.\n",
    "# 파일 저장할 디렉토리가 없으면 디렉토리를 만든다.\n",
    "dir_path = Path('file_data')\n",
    "dir_path.mkdir(exist_ok = True)\n",
    "write_path = dir_path/'test.txt'\n",
    "print(write_path)"
   ]
  },
  {
   "cell_type": "markdown",
   "metadata": {},
   "source": [
    "# ------------------------------"
   ]
  },
  {
   "cell_type": "code",
   "execution_count": 18,
   "metadata": {},
   "outputs": [],
   "source": [
    "from pathlib import Path\n",
    "dir_path = Path('file_data')\n",
    "dir_path.mkdir(exist_ok = True)\n",
    "write_path = dir_path / 'test.txt'\n",
    "\n",
    "fw = open(write_path, mode = 'wt', encoding = 'utf-8')\n"
   ]
  },
  {
   "cell_type": "code",
   "execution_count": 19,
   "metadata": {},
   "outputs": [],
   "source": [
    "from pathlib import Path\n",
    "dir_path = Path('file_data1')\n",
    "dir_path.mkdir(exist_ok = True)\n",
    "write_path = dir_path/'test.txt'"
   ]
  },
  {
   "cell_type": "code",
   "execution_count": 22,
   "metadata": {},
   "outputs": [],
   "source": [
    "fw = open(write_path, mode = 'wt', encoding = 'utf-8')\n",
    "fw.write('안녕하세요\\n')\n",
    "fw.write(\"반갑습니다.\\n\")\n",
    "fw.write(\"저는 이석민 이라고 합니다.\")\n",
    "fw.close()\n"
   ]
  },
  {
   "cell_type": "code",
   "execution_count": 23,
   "metadata": {},
   "outputs": [],
   "source": [
    "txt = \"\"\"안녕하세요\n",
    "반가워용\n",
    "저는 이석민이에요\n",
    "코딩이 어렵네요 \n",
    "오늘 일기쓰듯이 적는데\n",
    "복습이 참 어렵네요.\n",
    "이렇게해야 살아남겠죠?\n",
    "\"\"\"\n",
    "dir_path = Path('file_data1')\n",
    "dir_path.mkdir(exist_ok = True)\n",
    "write_path2 = dir_path / 'test2.txt'\n",
    "fw = open(write_path2, mode = 'wt', encoding = \"utf-8\")\n",
    "fw.write(txt)\n",
    "fw.close()"
   ]
  },
  {
   "cell_type": "code",
   "execution_count": null,
   "metadata": {},
   "outputs": [],
   "source": []
  },
  {
   "cell_type": "code",
   "execution_count": null,
   "metadata": {},
   "outputs": [],
   "source": []
  },
  {
   "cell_type": "code",
   "execution_count": null,
   "metadata": {},
   "outputs": [],
   "source": []
  },
  {
   "cell_type": "code",
   "execution_count": null,
   "metadata": {},
   "outputs": [],
   "source": []
  },
  {
   "cell_type": "code",
   "execution_count": null,
   "metadata": {},
   "outputs": [],
   "source": []
  },
  {
   "cell_type": "code",
   "execution_count": null,
   "metadata": {},
   "outputs": [],
   "source": []
  },
  {
   "cell_type": "code",
   "execution_count": null,
   "metadata": {},
   "outputs": [],
   "source": []
  },
  {
   "cell_type": "code",
   "execution_count": null,
   "metadata": {},
   "outputs": [],
   "source": []
  },
  {
   "cell_type": "code",
   "execution_count": 12,
   "metadata": {},
   "outputs": [],
   "source": [
    "# 1. 연결\n",
    "    # 1.연결할 파일의 경로: 문자열, Path객체 - 절대/상대경로\n",
    "    # 2. wt - w: 쓰기모드, t: text\n",
    "fw = open(write_path, mode = 'wt', encoding = 'utf-8')\n",
    "# 2. 출력(w모드)\n",
    "fw.write('abcde\\n')\n",
    "fw.write('가나다라\\n')\n",
    "fw.write('12345')\n",
    "# 연결닫기\n",
    "fw.close()"
   ]
  },
  {
   "cell_type": "code",
   "execution_count": 14,
   "metadata": {},
   "outputs": [],
   "source": [
    "txt = \"\"\"안녕하세요.\n",
    "반갑습니다.\n",
    "또만나요.\"\"\"\n",
    "write_path2 = dir_path / 'test2.txt'\n",
    "fw = open(write_path2, mode = 'wt', encoding = 'utf-8')\n",
    "fw.write(txt)\n",
    "fw.close()"
   ]
  },
  {
   "cell_type": "code",
   "execution_count": 103,
   "metadata": {},
   "outputs": [],
   "source": [
    "txt_list = [\"첫번째 줄\\n\", \"두번째 줄\\n\", \"세번째 줄\\n\"]\n",
    "write_path3 = dir_path / 'test3.txt'\n",
    "# fw = open(write_path3, mode = 'wt', encoding = 'utf-8')   # wt는 새로 쓰기\n",
    "fw = open(write_path3, mode = 'at', encoding = 'utf-8')     # at는 이어쓰기\n",
    "fw.writelines(txt_list)\n",
    "fw.close()"
   ]
  },
  {
   "cell_type": "code",
   "execution_count": 40,
   "metadata": {},
   "outputs": [
    {
     "name": "stdout",
     "output_type": "stream",
     "text": [
      "<class '_io.TextIOWrapper'>\n",
      "at utf-8 file_data/test3.txt\n",
      "False\n",
      "True\n"
     ]
    }
   ],
   "source": [
    "fw = open(write_path3, mode = 'at', encoding = 'utf-8')  \n",
    "print(type(fw))\n",
    "print(fw.mode, fw.encoding, fw.name) # fw.name - 연결된 파일경로 확인.\n",
    "fw.write('가나다')\n",
    "print(fw.closed) # 연결 여부를 bool: 연결상태: False, 닫히면 True\n",
    "fw.close()\n",
    "print(fw.closed) # 연결 여부를 bool\n",
    "# fw.write('abc') # fw: 끊어진(닫힌) 연결."
   ]
  },
  {
   "cell_type": "markdown",
   "metadata": {
    "slideshow": {
     "slide_type": "slide"
    }
   },
   "source": [
    "### 입력 메소드\n",
    "- read() : 문자열(text mode), bytes(binary mode) \n",
    "    - 연결된 파일의 내용을 한번에 모두 읽어 들인다.\n",
    "- readline() : 문자열(text mode), bytes(binary mode)\n",
    "    - 한 줄만 읽는다.\n",
    "    - text 입력일 경우만 사용가능\n",
    "    - 읽은 라인이 없으면 `빈문자열`을 리턴한다.\n",
    "- readlines() : 리스트\n",
    "    - 한번에 다 읽은 뒤 각각의 라인을 리스트에 원소로 담아 반환한다.\n",
    "- Input Stream (TextIOWrapper, BufferedReader)는 Iterable 타입\n",
    "    - for문을 이용한 라인단위 순차 조회할 수 있다."
   ]
  },
  {
   "cell_type": "code",
   "execution_count": 24,
   "metadata": {},
   "outputs": [
    {
     "name": "stdout",
     "output_type": "stream",
     "text": [
      "\n"
     ]
    }
   ],
   "source": [
    "read_path = 'file_data/test.txt'\n",
    "fr = open(read_path, mode = 'rt',encoding = 'utf-8') # 모드: r - read, t - text파일, encoding: default는 os 인코딩방식(win:cp949, mac/리눅스: utf-8)\n",
    "# 1. 읽기 - read(): 한번에 전체를 다 읽는다.\n",
    "r_txt = fr.read()\n",
    "# 2. 연결 닫기\n",
    "fr.close()"
   ]
  },
  {
   "cell_type": "code",
   "execution_count": 50,
   "metadata": {},
   "outputs": [
    {
     "name": "stdout",
     "output_type": "stream",
     "text": [
      "abcde\n",
      "\n",
      "가나다라\n",
      "\n",
      "12345\n",
      "\n"
     ]
    }
   ],
   "source": [
    "fr = open(read_path, mode = 'rt',encoding = 'utf-8')\n",
    "print(fr.readline()) # 첫번째 줄 (print 로 인해 Enter 한번 더 읽기.)\n",
    "print(fr.readline()) # 두번째 줄\n",
    "print(fr.readline()) # 세번째 줄\n",
    "print(fr.readline()) # 네번째 줄 - 없는 줄일 경우 \"\": 빈문자열 반환.\n",
    "fr.close()"
   ]
  },
  {
   "cell_type": "code",
   "execution_count": null,
   "metadata": {},
   "outputs": [],
   "source": [
    "# for i in range(5):\n",
    "#     readline() - 5줄만 알고 싶을때!!!!"
   ]
  },
  {
   "cell_type": "code",
   "execution_count": 51,
   "metadata": {},
   "outputs": [
    {
     "name": "stdout",
     "output_type": "stream",
     "text": [
      "1. abcde\n",
      "2. 가나다라\n",
      "3. 12345"
     ]
    }
   ],
   "source": [
    "fr = open(read_path, mode = 'rt',encoding = 'utf-8')\n",
    "line_num = 0\n",
    "while True:\n",
    "    txt = fr.readline()\n",
    "    if not txt: # 빈문자열이라면 -> 다 읽었다.\n",
    "        break\n",
    "    line_num += 1\n",
    "    print(str(line_num)+ \". \" + txt, end='')\n",
    "fr.close()"
   ]
  },
  {
   "cell_type": "code",
   "execution_count": 118,
   "metadata": {},
   "outputs": [
    {
     "name": "stdout",
     "output_type": "stream",
     "text": [
      "1. abcde\n",
      "2. 가나다라\n",
      "3. 12345"
     ]
    }
   ],
   "source": [
    "# readlines()\n",
    "fr = open(read_path, mode = 'rt',encoding = 'utf-8')\n",
    "txt_list = fr.readlines()\n",
    "# print(txt_list)\n",
    "for idx, txt in enumerate(txt_list, start = 1):\n",
    "    print(f'{idx}. {txt}', end= \"\")\n",
    "fr.close()"
   ]
  },
  {
   "cell_type": "code",
   "execution_count": 56,
   "metadata": {
    "slideshow": {
     "slide_type": "fragment"
    }
   },
   "outputs": [
    {
     "name": "stdout",
     "output_type": "stream",
     "text": [
      "0-abcde\n",
      "1-가나다라\n",
      "2-12345"
     ]
    }
   ],
   "source": [
    "fr = open(read_path, mode = 'rt',encoding = 'utf-8')\n",
    "# read 모드의 InputStream 객체는 Iterable 타입 -> for in 문에서 사용가능 -> 한번 반복시마다 한줄씩 반환.\n",
    "for line_num, txt in enumerate(fr):\n",
    "    print(f'{line_num}-{txt}', end= \"\")\n",
    "fr.close()"
   ]
  },
  {
   "cell_type": "code",
   "execution_count": null,
   "metadata": {},
   "outputs": [],
   "source": []
  },
  {
   "cell_type": "code",
   "execution_count": null,
   "metadata": {},
   "outputs": [],
   "source": []
  },
  {
   "cell_type": "markdown",
   "metadata": {
    "slideshow": {
     "slide_type": "slide"
    }
   },
   "source": [
    "## with block\n",
    "\n",
    "파일과 입출력 작업이 다 끝나면 반드시 연결을 닫아야 한다. 매번 연결을 닫는 작업을 하는 것이 번거롭고 실수로 안 닫을 경우 문제가 생길 수 있다. **with block은 block을 벗어나면 자동으로 연결을 닫아 준다.** 그래서 연결을 닫는 코드를 생략할 수 있다.\n",
    "\n",
    "- 구문\n",
    "```python\n",
    "with open() as 변수: # `변수`는 open()이 반환하는 Stream객체를 참조한다.\n",
    "    입출력 작업      # 변수를 이용해 입출력 작업을 처리한다.\n",
    "# with block을 빠져 나오면 close()가 자동으로 실행된다.\n",
    "```"
   ]
  },
  {
   "cell_type": "code",
   "execution_count": null,
   "metadata": {},
   "outputs": [],
   "source": [
    "변수 = open(대상파일, 모드)\n",
    "with open (대상파일, 모드) as 변수\n",
    "    변수를 이용해서 입출력\n",
    "with 블록 빠져나오면 -> close() 자동으로 처리"
   ]
  },
  {
   "cell_type": "code",
   "execution_count": 119,
   "metadata": {},
   "outputs": [
    {
     "name": "stdout",
     "output_type": "stream",
     "text": [
      "종료-with block 밖\n",
      "True\n"
     ]
    }
   ],
   "source": [
    "write_path = 'file_data/my_test.txt'\n",
    "with open(write_path, 'wt', encoding = 'utf-8') as fw:\n",
    "    fw.write('A')\n",
    "    fw.write('B\\n')\n",
    "    fw.write('3\\n')\n",
    "#    fw.close()    \n",
    "print('종료-with block 밖')\n",
    "print(fw.closed)"
   ]
  },
  {
   "cell_type": "code",
   "execution_count": 61,
   "metadata": {},
   "outputs": [
    {
     "name": "stdout",
     "output_type": "stream",
     "text": [
      "AB\n",
      "3\n",
      "\n",
      "종료 True\n"
     ]
    }
   ],
   "source": [
    "with open(write_path, 'rt', encoding='utf-8') as fr:\n",
    "    print(fr.read())\n",
    "print('종료', fr.closed)"
   ]
  },
  {
   "cell_type": "code",
   "execution_count": 127,
   "metadata": {},
   "outputs": [],
   "source": [
    "# binary data를 I/O\n",
    "# copy\n",
    "def copy_file(src:str, target:str):\n",
    "    \"\"\"\n",
    "    src 경로의 파일을 target경로로 카피\n",
    "    \"\"\"\n",
    "    #InputSteam-src, OutputStream- target\n",
    "    # 1. 읽기\n",
    "    fr = open(src, mode = 'rb')\n",
    "    fw = open(target, mode = 'wb')\n",
    "    \n",
    "    # 2. I/O\n",
    "    r_data = fr.read() # 읽기\n",
    "    fw.write(r_data) # 출력\n",
    "    print(type(fr), type(fw))\n",
    "    print(type(r_data))\n",
    "    \n",
    "    # 3. close\n",
    "    fr.close()\n",
    "    fw.close()"
   ]
  },
  {
   "cell_type": "code",
   "execution_count": 129,
   "metadata": {},
   "outputs": [
    {
     "name": "stdout",
     "output_type": "stream",
     "text": [
      "<class '_io.BufferedReader'> <class '_io.BufferedWriter'>\n",
      "<class 'bytes'>\n"
     ]
    }
   ],
   "source": [
    "import os\n",
    "src = os.path.join('file_data', \"img1.jpeg\")\n",
    "target = os.path.join('file_data', 'img2.jpeg')\n",
    "copy_file(src, target)"
   ]
  },
  {
   "cell_type": "code",
   "execution_count": 69,
   "metadata": {},
   "outputs": [
    {
     "name": "stdout",
     "output_type": "stream",
     "text": [
      "10\n"
     ]
    }
   ],
   "source": [
    "i = 10\n",
    "print(i) # 정수 i를 문자열(str)로 변환해서 출력."
   ]
  },
  {
   "cell_type": "code",
   "execution_count": 70,
   "metadata": {},
   "outputs": [],
   "source": [
    "with open('a.txt', 'wt') as fw:\n",
    "#    fw.write(i) # t모드 -> text를 출력 ->str\n",
    "    fw.write(str(i))"
   ]
  },
  {
   "cell_type": "code",
   "execution_count": 72,
   "metadata": {},
   "outputs": [
    {
     "name": "stdout",
     "output_type": "stream",
     "text": [
      "30\n"
     ]
    }
   ],
   "source": [
    "with open('a.txt', 'rt') as fr:\n",
    "    a = fr.read()\n",
    "    print(int(a)+ 20) # a: str 이기 때문에 int로 변환 하고 출력"
   ]
  },
  {
   "cell_type": "code",
   "execution_count": 75,
   "metadata": {
    "slideshow": {
     "slide_type": "fragment"
    }
   },
   "outputs": [],
   "source": [
    "i = 10\n",
    "                                                        # int i의 값(10)을 출력 -> binary 모드로 출력 -> bytes 타입을 변환해서 출력.\n",
    "i_bytes = i.to_bytes(1, byteorder='little', signed=True)# signed=True -> 양수, False -> 음수!!\n",
    "                                                        # 1: 크기 - 1byte 크기로 변환, byteorder: little, big\n",
    "                                                        # 1, 2, 4, 8, 16, 32, 64 -> big - 앞에서부터\n",
    "                                                        # 64, 32, 16, 8, 4, 2, 1 -> little - 뒤에서부터\n",
    "with open('file_data/int.dat', 'wb') as fw:\n",
    "    fw.write(i_bytes)"
   ]
  },
  {
   "cell_type": "code",
   "execution_count": 78,
   "metadata": {},
   "outputs": [
    {
     "name": "stdout",
     "output_type": "stream",
     "text": [
      "<class 'bytes'>\n",
      "110\n"
     ]
    }
   ],
   "source": [
    "with open('file_data/int.dat', 'rb') as fr:\n",
    "    r_data = fr.read()\n",
    "    print(type(r_data))\n",
    "                                                        #    print(r_data)\n",
    "                                                        #    bytes 로 읽은 것을 int로 변환.\n",
    "    int.from_bytes(r_data, byteorder = 'little', signed = True)\n",
    "    print(i + 100)"
   ]
  },
  {
   "cell_type": "code",
   "execution_count": 130,
   "metadata": {},
   "outputs": [],
   "source": [
    "txt = \"\"\"오늘 하루 일과\n",
    "끝@@@!@!\n",
    "언능 자자\"\"\"\n",
    "\n",
    "dir_path = Path('file_data2')\n",
    "dir_path.mkdir(exist_ok = True)\n",
    "write_path = 'file_data2/SeokminLee.txt'\n",
    "with open(write_path, 'wt') as fw:\n",
    "    fw.write(txt)\n"
   ]
  },
  {
   "cell_type": "markdown",
   "metadata": {
    "slideshow": {
     "slide_type": "slide"
    }
   },
   "source": [
    "# pickle 모듈을 이용한 객체 직렬화\n",
    "\n",
    "## 객체 직렬화(Object Serialization)\n",
    "- 객체의 속성값들을 bytes로 변환해 출력하는 것을 객체 직렬화(Object Serialization) 이라고 한다.\n",
    "- bytes로 출력된 데이터를 읽어 객체화 하는 것을 객체 역직렬화(Object Deserialization) 이라고 한다."
   ]
  },
  {
   "cell_type": "markdown",
   "metadata": {
    "slideshow": {
     "slide_type": "fragment"
    }
   },
   "source": [
    "### pickle\n",
    "- 객체 파일 입출력을 위한 파이썬 모듈\n",
    "- open() 시 **binary mode**로 설정한다.\n",
    "- 저장시 파일 확장자는 보통 `pkl` 이나 `pickle` 로 한다.\n",
    "- ex)\n",
    "```python\n",
    "fw = open(\"data.pkl\", \"wb\") # 객체를 pickle에 저장하기 위한 output stream 생성\n",
    "fr = open(\"data.pkl\", \"rb\") # 파일에 저장된 객체를 읽어오기 위한 input stream 생성\n",
    "```\n",
    "- **메소드**\n",
    "    - dump(저장할 객체, fw) : 출력\n",
    "    - load(fr): 입력 - 읽은 객체를 반환한다."
   ]
  },
  {
   "cell_type": "code",
   "execution_count": 13,
   "metadata": {},
   "outputs": [],
   "source": [
    "import pickle\n",
    "\n",
    "num = 10\n",
    "with open('int_data.pk1', 'wb') as fw: #pickle 적용 -> binary 모드로 설정.\n",
    "# 출력: dump(값, output stream)\n",
    "    pickle.dump(num,fw)"
   ]
  },
  {
   "cell_type": "code",
   "execution_count": 14,
   "metadata": {},
   "outputs": [
    {
     "name": "stdout",
     "output_type": "stream",
     "text": [
      "<class 'int'>\n",
      "10\n"
     ]
    }
   ],
   "source": [
    "with open('int_data.pk1', 'rb') as fr:\n",
    "    # 입력 : Load(input stream)\n",
    "    num2 = pickle.load(fr)\n",
    "    print(type(num2))\n",
    "    print(num2)"
   ]
  },
  {
   "cell_type": "code",
   "execution_count": 16,
   "metadata": {},
   "outputs": [],
   "source": [
    "data = {\n",
    "    '이름':'홍길동',\n",
    "    '나이':num,\n",
    "    '취미': ['a','b','c'],\n",
    "    \"기혼\": False,\n",
    "    \"키\":185.6\n",
    "    \n",
    "}\n",
    "with open('data.pk1','wb' ) as fw:\n",
    "    pickle.dump(data, fw)"
   ]
  },
  {
   "cell_type": "code",
   "execution_count": 17,
   "metadata": {},
   "outputs": [
    {
     "name": "stdout",
     "output_type": "stream",
     "text": [
      "<class 'dict'>\n",
      "{'이름': '홍길동', '나이': 10, '취미': ['a', 'b', 'c'], '기혼': False, '키': 185.6}\n",
      "<class 'str'>\n",
      "<class 'int'>\n",
      "<class 'list'>\n",
      "<class 'bool'>\n",
      "<class 'float'>\n"
     ]
    }
   ],
   "source": [
    "with open('data.pk1','rb' ) as fr:\n",
    "    new_data = pickle.load(fr)\n",
    "    print(type(new_data))\n",
    "    print(new_data)\n",
    "    print(type(new_data['이름']))\n",
    "    print(type(new_data['나이']))\n",
    "    print(type(new_data['취미']))\n",
    "    print(type(new_data['기혼']))\n",
    "    print(type(new_data['키']))\n"
   ]
  },
  {
   "cell_type": "code",
   "execution_count": null,
   "metadata": {},
   "outputs": [],
   "source": []
  },
  {
   "cell_type": "code",
   "execution_count": null,
   "metadata": {},
   "outputs": [],
   "source": []
  },
  {
   "cell_type": "code",
   "execution_count": null,
   "metadata": {},
   "outputs": [],
   "source": []
  },
  {
   "cell_type": "markdown",
   "metadata": {
    "slideshow": {
     "slide_type": "skip"
    }
   },
   "source": [
    "# TODO"
   ]
  },
  {
   "cell_type": "markdown",
   "metadata": {
    "slideshow": {
     "slide_type": "skip"
    }
   },
   "source": [
    "- 간단한 터미널 기반 메모장\n",
    "    1. 사용자로부터 파일명을 입력받는다.\n",
    "    2. 사용자로부터 파일에 저장할 문장을 입력받아서 파일에 저장한다.\n",
    "        - 한줄씩 입력받는다.\n",
    "        - 사용자가 !q 를 입력하면 저장후 종료한다.\n",
    "    3. 사용자가 저장한 파일을 읽어서 출력한다.\n"
   ]
  },
  {
   "cell_type": "code",
   "execution_count": 11,
   "metadata": {},
   "outputs": [
    {
     "name": "stdout",
     "output_type": "stream",
     "text": [
      "Writing my_memo.py\n"
     ]
    }
   ],
   "source": [
    "%%writefile my_memo.py\n",
    "# 주피터 노트북 명령어(매직커맨드)\n",
    "# %%writefile 파일명 -> 실행하면 cell의 내용을 파일에 출력\n",
    "def memo():\n",
    "    print('저장할 파일명을 입력하세요.')\n",
    "    file_name = input('파일명: ')\n",
    "    print(f'{file_name}에 저장합니다.')\n",
    "    print('=======================')\n",
    "    with open(file_name, 'wt', encoding = \"utf-8\") as fw:\n",
    "        print('저장할 내용을 입력하세요.')\n",
    "        print('='*30)\n",
    "        while True:\n",
    "            line_txt = input('>')\n",
    "            if line_txt == \"!q\":\n",
    "                break\n",
    "            fw.write(line_txt+'\\n')\n",
    "    print('종료')\n"
   ]
  },
  {
   "cell_type": "code",
   "execution_count": 19,
   "metadata": {},
   "outputs": [
    {
     "name": "stdout",
     "output_type": "stream",
     "text": [
      "저장할 파일명을 입력하세요.\n",
      "파일명: 안녕하세요\n",
      "안녕하세요에 저장합니다.\n",
      "=======================\n",
      "저장할 내용을 입력하세요.\n",
      "==============================\n",
      ">잠온다\n",
      ">끝!@\n",
      ">!q\n",
      "종료\n"
     ]
    }
   ],
   "source": [
    "from my_memo import memo\n",
    "memo()"
   ]
  },
  {
   "cell_type": "code",
   "execution_count": null,
   "metadata": {},
   "outputs": [],
   "source": [
    "def memo():\n",
    "    print('저장할 파일명을 입력하세요.')\n",
    "    file_name = input('파일명: ')\n",
    "    print(f'{file_name}에 저장합니다.','='*30)\n",
    "    with open(file_name, 'wt', encoding = \"utf-8\") as fw:\n",
    "        print('저장할 내용을 입력하세요.')\n",
    "        print(\"=\"*30)\n",
    "        while True:\n",
    "            line_txt = input('>')\n",
    "            if line_txt == \"!q\":\n",
    "                break\n",
    "            fw.write(f'{line_txt}\\n')\n",
    "        print('종료')"
   ]
  },
  {
   "cell_type": "code",
   "execution_count": null,
   "metadata": {},
   "outputs": [],
   "source": [
    "def memo():\n",
    "    print('저장할 파일명을 입력하세요.')\n",
    "    file_name = input('파일명: ')\n",
    "    print(f'{file_name}에 저장합니다.','='*30)\n",
    "    with open(file_name, 'wt', encoding = \"utf-8\") as fw:\n",
    "        print('저장할 내용을 입력하세요.')\n",
    "        print(\"=\"*30)\n",
    "        while True:\n",
    "            line_txt = input('>')\n",
    "            if line_txt == \"!q\":\n",
    "                break\n",
    "            fw.write(line_txt +'\\n')\n",
    "        print('종료')"
   ]
  },
  {
   "cell_type": "code",
   "execution_count": null,
   "metadata": {},
   "outputs": [],
   "source": [
    "def memo():\n",
    "    print('저장할 파일명을 입력하세요.')\n",
    "    file_name = input('파일명: ')\n",
    "    print(f'{file_name}에 저장합니다.','='*30)\n",
    "    with open(file_name, 'wt', encoding = \"utf-8\") as fw:\n",
    "        print('저장할 내용을 입력하세요.')\n",
    "        print(\"=\"*30)\n",
    "        while True:\n",
    "            line_txt = input('>')\n",
    "            if line_txt == \"!q\":\n",
    "                break\n",
    "            fw.write(line_txt +'\\n')\n",
    "        print('종료')"
   ]
  },
  {
   "cell_type": "code",
   "execution_count": null,
   "metadata": {},
   "outputs": [],
   "source": [
    "memo()"
   ]
  },
  {
   "cell_type": "code",
   "execution_count": null,
   "metadata": {},
   "outputs": [],
   "source": []
  },
  {
   "cell_type": "code",
   "execution_count": null,
   "metadata": {},
   "outputs": [],
   "source": []
  },
  {
   "cell_type": "code",
   "execution_count": null,
   "metadata": {},
   "outputs": [],
   "source": [
    "# %load my_memo.py\n",
    "# 주피터 노트북 명령어(매직커맨드)\n",
    "# %%writefile 파일명 -> 실행하면 cell의 내용을 파일에 출력\n",
    "def memo():\n",
    "    print('저장할 파일명을 입력하세요.')\n",
    "    file_name = input('파일명: ')\n",
    "    print(f'{file_name}에 저장합니다.')\n",
    "    print('=======================')\n",
    "    with open(file_name, 'wt', encoding = \"utf-8\") as fw:\n",
    "        print('저장할 내용을 입력하세요.')\n",
    "        print('='*30)\n",
    "        while True:\n",
    "            line_txt = input('>')\n",
    "            if line_txt == \"!q\":\n",
    "                break\n",
    "            fw.write(line_txt+'\\n')\n",
    "    print('종료')\n"
   ]
  },
  {
   "cell_type": "code",
   "execution_count": null,
   "metadata": {},
   "outputs": [],
   "source": []
  },
  {
   "cell_type": "code",
   "execution_count": null,
   "metadata": {},
   "outputs": [],
   "source": []
  },
  {
   "cell_type": "code",
   "execution_count": null,
   "metadata": {},
   "outputs": [],
   "source": []
  },
  {
   "cell_type": "code",
   "execution_count": null,
   "metadata": {},
   "outputs": [],
   "source": []
  },
  {
   "cell_type": "code",
   "execution_count": 157,
   "metadata": {},
   "outputs": [],
   "source": [
    "def simple_memo():\n",
    "    global file_name\n",
    "    file_name = input('저장할 파일명을 입력하세요.\\n파일명: ')\n",
    "    print(f'====================\\n{file_name}에 저장합니다.\\n내용을 입력하세요.\\n====================')\n",
    "    with open(file_name, 'wt', encoding = \"utf-8\") as fw: \n",
    "        while 1:\n",
    "            txt = input()\n",
    "            if txt == '!q':\n",
    "                print('종료')\n",
    "                break\n",
    "            fw.write(f'{file_name}\\n')\n",
    "def read():\n",
    "    with open(file_name, 'rt') as fr:\n",
    "        file_read = fr.read()\n",
    "        print(f'\\n====================파일내용=====================\\n{file_read}')"
   ]
  },
  {
   "cell_type": "code",
   "execution_count": 158,
   "metadata": {},
   "outputs": [
    {
     "name": "stdout",
     "output_type": "stream",
     "text": [
      "저장할 파일명을 입력하세요.\n",
      "파일명: sdsdsds\n",
      "====================\n",
      "sdsdsds에 저장합니다.\n",
      "내용을 입력하세요.\n",
      "====================\n",
      "qwqwe\n",
      "rqwttqw\n",
      "!q\n",
      "종료\n"
     ]
    }
   ],
   "source": [
    "simple_memo()"
   ]
  },
  {
   "cell_type": "code",
   "execution_count": 3,
   "metadata": {},
   "outputs": [],
   "source": [
    "def simple_memo():\n",
    "    global file_name\n",
    "    file_name = input('저장할 파일명을 입력하세요.\\n파일명: ')\n",
    "    print(f'==============\\n{file_name}에 저장합니다.\\n내용을 입력하세요.\\n===============')\n",
    "    with open(file_name, 'wt', encoding = 'utf-8') as fw:\n",
    "        while 1:\n",
    "            txt = input()\n",
    "            if txt == '!q':\n",
    "                print('종료')\n",
    "                break\n",
    "            fw.write(f'{file_name}\\n')\n",
    "            \n",
    "def read():\n",
    "    with open(file_name, 'rt') as fr:\n",
    "        file_name = "
   ]
  },
  {
   "cell_type": "markdown",
   "metadata": {
    "slideshow": {
     "slide_type": "skip"
    }
   },
   "source": [
    "- member.csv 파일을 읽어서 각 열의 값을 배열에 담는다.    \n",
    "이름,나이,주소  형태의 csv를 읽어    \n",
    "```python\n",
    "names = []\n",
    "ages =[]\n",
    "address =[]    \n",
    "```\n",
    "배열에 넣는다. \n",
    "    - 단 첫줄은 head이므로 읽지 않는다.\n",
    "    - 참고 함수: 문자열 split(), for문 관련 enumerate()\n",
    "\n"
   ]
  },
  {
   "cell_type": "code",
   "execution_count": 59,
   "metadata": {},
   "outputs": [],
   "source": [
    "# 값들을 넣을 리스트를 생성\n",
    "names = []\n",
    "ages = []\n",
    "addresses = []\n",
    "\n",
    "# member.csv(txt) 와 입력 연결\n",
    "with open('member.csv', 'rt', encoding = 'utf-8') as fr:\n",
    "    for idx, line_txt in enumerate(fr):\n",
    "        if idx == 0: # 첫번쨰 줄일 경우\n",
    "            continue # 다음반복, 다음 원소를 처리해라\n",
    "        name, age, address = line_txt.strip().split(',') #strip() 엔터 제거, split()은 각 항목을 나누기\n",
    "        names.append(name)\n",
    "        ages.append(age)\n",
    "        addresses.append(address)"
   ]
  },
  {
   "cell_type": "code",
   "execution_count": 60,
   "metadata": {},
   "outputs": [
    {
     "name": "stdout",
     "output_type": "stream",
     "text": [
      "['홍길동', '김영수', '박영희', '이순신', '유관순']\n",
      "['20', '30', '23', '17', '27']\n",
      "광주\n"
     ]
    }
   ],
   "source": [
    "#열단위 조회\n",
    "\n",
    "print(names)\n",
    "print(ages)\n",
    "print(address)"
   ]
  },
  {
   "cell_type": "code",
   "execution_count": 61,
   "metadata": {},
   "outputs": [
    {
     "name": "stdout",
     "output_type": "stream",
     "text": [
      "('홍길동', '20', '서울')\n",
      "('김영수', '30', '인천')\n",
      "('박영희', '23', '부산')\n",
      "('이순신', '17', '서울')\n",
      "('유관순', '27', '광주')\n"
     ]
    }
   ],
   "source": [
    "#행단위 조회\n",
    "\n",
    "for info in zip(names, ages, addresses):\n",
    "    print(info)"
   ]
  },
  {
   "cell_type": "code",
   "execution_count": 63,
   "metadata": {},
   "outputs": [],
   "source": [
    "import pandas as pd\n",
    "\n",
    "member = pd.read_csv('member.csv')"
   ]
  },
  {
   "cell_type": "code",
   "execution_count": 64,
   "metadata": {},
   "outputs": [
    {
     "data": {
      "text/html": [
       "<div>\n",
       "<style scoped>\n",
       "    .dataframe tbody tr th:only-of-type {\n",
       "        vertical-align: middle;\n",
       "    }\n",
       "\n",
       "    .dataframe tbody tr th {\n",
       "        vertical-align: top;\n",
       "    }\n",
       "\n",
       "    .dataframe thead th {\n",
       "        text-align: right;\n",
       "    }\n",
       "</style>\n",
       "<table border=\"1\" class=\"dataframe\">\n",
       "  <thead>\n",
       "    <tr style=\"text-align: right;\">\n",
       "      <th></th>\n",
       "      <th>이름</th>\n",
       "      <th>나이</th>\n",
       "      <th>주소</th>\n",
       "    </tr>\n",
       "  </thead>\n",
       "  <tbody>\n",
       "    <tr>\n",
       "      <th>0</th>\n",
       "      <td>홍길동</td>\n",
       "      <td>20</td>\n",
       "      <td>서울</td>\n",
       "    </tr>\n",
       "    <tr>\n",
       "      <th>1</th>\n",
       "      <td>김영수</td>\n",
       "      <td>30</td>\n",
       "      <td>인천</td>\n",
       "    </tr>\n",
       "    <tr>\n",
       "      <th>2</th>\n",
       "      <td>박영희</td>\n",
       "      <td>23</td>\n",
       "      <td>부산</td>\n",
       "    </tr>\n",
       "    <tr>\n",
       "      <th>3</th>\n",
       "      <td>이순신</td>\n",
       "      <td>17</td>\n",
       "      <td>서울</td>\n",
       "    </tr>\n",
       "    <tr>\n",
       "      <th>4</th>\n",
       "      <td>유관순</td>\n",
       "      <td>27</td>\n",
       "      <td>광주</td>\n",
       "    </tr>\n",
       "  </tbody>\n",
       "</table>\n",
       "</div>"
      ],
      "text/plain": [
       "    이름  나이  주소\n",
       "0  홍길동  20  서울\n",
       "1  김영수  30  인천\n",
       "2  박영희  23  부산\n",
       "3  이순신  17  서울\n",
       "4  유관순  27  광주"
      ]
     },
     "execution_count": 64,
     "metadata": {},
     "output_type": "execute_result"
    }
   ],
   "source": [
    "member"
   ]
  },
  {
   "cell_type": "code",
   "execution_count": null,
   "metadata": {},
   "outputs": [],
   "source": [
    "- TSV (Tab Separated Value)"
   ]
  },
  {
   "cell_type": "markdown",
   "metadata": {
    "slideshow": {
     "slide_type": "skip"
    }
   },
   "source": [
    "> **CSV (Comma Separated Value)** 파일\n",
    "> - 데이터들을 정형화(표)된 형태로 텍스트파일에 저장하는 방식\n",
    "> - 하나의 데이터는 한줄에 표시. (데이터 구분자는 엔터)\n",
    "> - 하나의 데이터를 구성하는 값들(속성)들은 , 로 구분\n",
    ">     - tab으로 구분하는 경우 TSV \n",
    ">     - 각 속성값들은 \" \" 로 감싸기도 한다.\n",
    "> - 텍스트기반\n",
    "> - 파일 확장자는 `.csv`, `.tsv` 로 준다."
   ]
  }
 ],
 "metadata": {
  "kernelspec": {
   "display_name": "Python 3 (ipykernel)",
   "language": "python",
   "name": "python3"
  },
  "language_info": {
   "codemirror_mode": {
    "name": "ipython",
    "version": 3
   },
   "file_extension": ".py",
   "mimetype": "text/x-python",
   "name": "python",
   "nbconvert_exporter": "python",
   "pygments_lexer": "ipython3",
   "version": "3.9.13"
  },
  "toc": {
   "base_numbering": 1,
   "nav_menu": {},
   "number_sections": true,
   "sideBar": true,
   "skip_h1_title": false,
   "title_cell": "Table of Contents",
   "title_sidebar": "Contents",
   "toc_cell": false,
   "toc_position": {},
   "toc_section_display": true,
   "toc_window_display": false
  },
  "varInspector": {
   "cols": {
    "lenName": 16,
    "lenType": 16,
    "lenVar": 40
   },
   "kernels_config": {
    "python": {
     "delete_cmd_postfix": "",
     "delete_cmd_prefix": "del ",
     "library": "var_list.py",
     "varRefreshCmd": "print(var_dic_list())"
    },
    "r": {
     "delete_cmd_postfix": ") ",
     "delete_cmd_prefix": "rm(",
     "library": "var_list.r",
     "varRefreshCmd": "cat(var_dic_list()) "
    }
   },
   "types_to_exclude": [
    "module",
    "function",
    "builtin_function_or_method",
    "instance",
    "_Feature"
   ],
   "window_display": false
  }
 },
 "nbformat": 4,
 "nbformat_minor": 4
}
