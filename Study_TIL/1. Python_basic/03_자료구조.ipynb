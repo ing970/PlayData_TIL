{
 "cells": [
  {
   "cell_type": "markdown",
   "id": "da193321",
   "metadata": {
    "slideshow": {
     "slide_type": "slide"
    }
   },
   "source": [
    "# 자료구조란\n",
    "\n",
    "- 여러 개의 값들을 모아서 관리하는 데이터 타입.\n",
    "    - 한 개의 변수는 한 개의 값 밖에는 가지지 못한다. 그러나 하나의 변수로 여러 개의 값 묶어서 저장해 관리해야 할 경우가 있다. \n",
    "    - 예) 고객의 정보의 경우 이름, 나이, 주소, 전화번호 등 여러개의 값이 모여서 하나의 값이 된다. \n",
    "- 파이썬은 데이터를 모으는 방식에 따라 다음과 같이 4개의 타입을 제공한다.\n",
    "    - List: 순서가 있으며 중복된 값들을 모으는 것을 허용하고 구성하는 값들(원소)을 변경할 수 있다.\n",
    "    - Tuple: 순서가 있으며 중복된 값들을 모으는 것을 허용하는데 구성하는 값들을 변경할 수 없다.\n",
    "    - Dictionary: key-value 형태로 값들을 저장해 관리한다.\n",
    "    - Set: 중복을 허용하지 않고 값들의 순서가 없다.\n",
    "- 원소, 성분, 요소, element\n",
    "    - 자료구조의 값들을 구성하는 개별 값들을 말한다.\n",
    "    - len(자료구조) 함수\n",
    "        - 자료구조 내의 원소의 개수를 반환한다."
   ]
  },
  {
   "cell_type": "markdown",
   "id": "84431cfd",
   "metadata": {
    "slideshow": {
     "slide_type": "slide"
    }
   },
   "source": [
    "# List (리스트)\n",
    "\n",
    "- 값을 순서대로 모아서 관리하는 자료구조. 원소(element)들을 순번을 이용해 식별한다.\n",
    "    - 각각의 원소가 어떤 값인지를 순번을 가지고 식별하기 때문에 순서가 매우 중요하다. 즉 같은 값에 대해 순서가 바뀌면 안된다.\n",
    "- 각 원소들은 순번을 index라고 하며 값을 조회하거나 변경할 때 index를 이용해 식별한다.\n",
    "    - index는 문자열과 마찮가지로 양수 index와 음수 index 두개가 각 값에 생긴다.\n",
    "    - 양수 index는 앞에서부터 음수 index는 뒤에서 부터 값을 식별할 때 사용하는 것이 편리하다.\n",
    "- 중복된 값들을 저장할 수 있다.\n",
    "- 각 원소들의 데이터 타입은 달라도 상관없다.\n",
    "    - 보통은 같은 타입의 데이터를 모은다.\n",
    "- 리스트를 구성하는 원소들을 변경할 수 있다. (추가, 삭제, 변경이 가능)\n",
    "\n",
    "## List 생성 구문\n",
    "```python\n",
    "[값, 값, 값, ..]\n",
    "```"
   ]
  },
  {
   "cell_type": "code",
   "execution_count": 4,
   "id": "a1e0a59e",
   "metadata": {
    "ExecuteTime": {
     "end_time": "2022-12-20T07:42:57.510096Z",
     "start_time": "2022-12-20T07:42:57.499121Z"
    }
   },
   "outputs": [
    {
     "name": "stdout",
     "output_type": "stream",
     "text": [
      "[10, 20, 30, 40, 50]\n"
     ]
    }
   ],
   "source": [
    "l1 = [10, 20, 30, 40, 50]\n",
    "print(l1)"
   ]
  },
  {
   "cell_type": "code",
   "execution_count": 7,
   "id": "b78f8981",
   "metadata": {
    "ExecuteTime": {
     "end_time": "2022-12-20T07:44:57.974113Z",
     "start_time": "2022-12-20T07:44:57.958151Z"
    }
   },
   "outputs": [
    {
     "data": {
      "text/plain": [
       "False"
      ]
     },
     "execution_count": 7,
     "metadata": {},
     "output_type": "execute_result"
    }
   ],
   "source": [
    "# type(값) : 값의 데이터타입을 반환\n",
    "type(30), type(3.2), type(True), type(\"abc\")\n",
    "x = 30\n",
    "type(x) == int\n",
    "type(x) == bool #str #float"
   ]
  },
  {
   "cell_type": "code",
   "execution_count": 9,
   "id": "841e1cb9",
   "metadata": {
    "ExecuteTime": {
     "end_time": "2022-12-20T07:45:44.442258Z",
     "start_time": "2022-12-20T07:45:44.433240Z"
    }
   },
   "outputs": [
    {
     "name": "stdout",
     "output_type": "stream",
     "text": [
      "<class 'list'>\n"
     ]
    }
   ],
   "source": [
    "type(l1)\n",
    "print(type(l1))"
   ]
  },
  {
   "cell_type": "code",
   "execution_count": 10,
   "id": "17406687",
   "metadata": {
    "ExecuteTime": {
     "end_time": "2022-12-20T07:46:22.411214Z",
     "start_time": "2022-12-20T07:46:22.392266Z"
    }
   },
   "outputs": [
    {
     "data": {
      "text/plain": [
       "[100, 4.5, True, 'abcd']"
      ]
     },
     "execution_count": 10,
     "metadata": {},
     "output_type": "execute_result"
    }
   ],
   "source": [
    "l2 = [100, 4.5, True, \"abcd\"]\n",
    "l2"
   ]
  },
  {
   "cell_type": "code",
   "execution_count": 11,
   "id": "51f48621",
   "metadata": {
    "ExecuteTime": {
     "end_time": "2022-12-20T07:47:50.981665Z",
     "start_time": "2022-12-20T07:47:50.960741Z"
    }
   },
   "outputs": [
    {
     "data": {
      "text/plain": [
       "[100, [1, 2, 3]]"
      ]
     },
     "execution_count": 11,
     "metadata": {},
     "output_type": "execute_result"
    }
   ],
   "source": [
    "l3 = [100, [1,2,3]] # 리스트(자료구조)도 값\n",
    "l3"
   ]
  },
  {
   "cell_type": "markdown",
   "id": "08d634bf",
   "metadata": {
    "slideshow": {
     "slide_type": "subslide"
    }
   },
   "source": [
    "## Indexing과 Slicing을 이용한 원소(element) 조회 및 변경\n",
    "\n",
    "### Indexing\n",
    "- 하나의 원소를 조회하거나 변경할 때 사용\n",
    "- 리스트\\[index\\] \n",
    "    - index의 원소를 조회\n",
    "- 리스트\\[index\\] = 값\n",
    "    - index의 원소를 변경"
   ]
  },
  {
   "cell_type": "markdown",
   "id": "ab5a40cb",
   "metadata": {
    "slideshow": {
     "slide_type": "fragment"
    }
   },
   "source": [
    "### Slicing\n",
    "- 범위로 조회하거나 그 범위의 값들을 변경한다.\n",
    "- 기본구문: **리스트\\[ 시작 index : 종료 index : 간격\\]**\n",
    "    - 시작 index ~ (종료 index – 1)\n",
    "    - 간격을 지정하면 간격만큼 index를 증/감한다. (생략 시 1이 기본 간격)\n",
    "- **0번 index 부터 조회 할 경우 시작 index는 생략가능**\n",
    "    - 리스트 \\[ : 5\\] => 0 ~ 4 까지 조회\n",
    "- **마지막 index까지 (끝까지) 조회 할 경우 종료 index는 생략 가능**\n",
    "    - 리스트\\[2 : \\] => 2번 index 에서 끝까지\n",
    "- **명시적으로 간격을 줄 경우**\n",
    "    - 리스트\\[ : : 3 \\] => 0, 3, 6, 9.. index의 값 조회\n",
    "    - 리스트\\[1 : 9 : 2\\] => 1, 3, 5, 7 index의 값 조회\n",
    "- **시작 index > 종료 index, 간격을 음수로 하면 역으로 반환한다.(Reverse)**\n",
    "    - 리스트\\[5: 1: -1\\] => 5, 4, 3, 2 index의 값 조회\n",
    "    - 리스트\\[: : -1\\]  => 마지막 index ~ 0번 index 까지 의미. Reverse 한다.\n",
    "\n",
    "#### slicing을 이용한 값 변경\n",
    "- slicing 을 이용할 경우 slicing된 원소 개수와 동일한 개수의 값들을 대입한다.\n",
    "    - `리스트[1:5] = 10,20,30,40` : index 1, 2, 3, 4의 값을 20으로 변경"
   ]
  },
  {
   "cell_type": "code",
   "execution_count": 10,
   "id": "4150c77a",
   "metadata": {
    "ExecuteTime": {
     "end_time": "2022-12-21T01:15:08.293765Z",
     "start_time": "2022-12-21T01:15:08.269862Z"
    }
   },
   "outputs": [
    {
     "data": {
      "text/plain": [
       "7"
      ]
     },
     "execution_count": 10,
     "metadata": {},
     "output_type": "execute_result"
    }
   ],
   "source": [
    "l = [0, 1, 2, 3, 4, 5, 6, 7, 8, 9]\n",
    "#indexing - 한개값을 조회\n",
    "l[2] # 앞에서 세번째 값\n",
    "l[-3] # 뒤에서 세번째 값"
   ]
  },
  {
   "cell_type": "code",
   "execution_count": 13,
   "id": "f9cb270a",
   "metadata": {
    "ExecuteTime": {
     "end_time": "2022-12-21T01:16:04.198261Z",
     "start_time": "2022-12-21T01:16:04.185297Z"
    }
   },
   "outputs": [
    {
     "name": "stdout",
     "output_type": "stream",
     "text": [
      "[0, 100, 2, 3, 4, 5, 6, 7, 8, 9]\n",
      "[0, 100, 2, 3, 4, 5, 6, 7, 800, 9]\n"
     ]
    }
   ],
   "source": [
    "# 변경\n",
    "l[1] = 100\n",
    "print(l)\n",
    "l[-2] = 800\n",
    "print(l)"
   ]
  },
  {
   "cell_type": "code",
   "execution_count": 14,
   "id": "88fbf291",
   "metadata": {
    "ExecuteTime": {
     "end_time": "2022-12-21T01:17:04.433778Z",
     "start_time": "2022-12-21T01:17:04.415823Z"
    }
   },
   "outputs": [
    {
     "data": {
      "text/plain": [
       "[2, 4, 6]"
      ]
     },
     "execution_count": 14,
     "metadata": {},
     "output_type": "execute_result"
    }
   ],
   "source": [
    "# slicing : 범위로 여러개의 원소 조회\n",
    "l[2:7:2]"
   ]
  },
  {
   "cell_type": "code",
   "execution_count": 15,
   "id": "c3a53050",
   "metadata": {
    "ExecuteTime": {
     "end_time": "2022-12-21T01:17:58.729878Z",
     "start_time": "2022-12-21T01:17:58.709931Z"
    }
   },
   "outputs": [
    {
     "data": {
      "text/plain": [
       "[2, 3, 4, 5, 6]"
      ]
     },
     "execution_count": 15,
     "metadata": {},
     "output_type": "execute_result"
    }
   ],
   "source": [
    "l[2:7]"
   ]
  },
  {
   "cell_type": "code",
   "execution_count": null,
   "id": "5c0b5f79",
   "metadata": {},
   "outputs": [],
   "source": [
    "l[:7] # 0 ~ 7-1, 1씩 증가"
   ]
  },
  {
   "cell_type": "code",
   "execution_count": 16,
   "id": "2fa834b3",
   "metadata": {
    "ExecuteTime": {
     "end_time": "2022-12-21T01:19:05.168945Z",
     "start_time": "2022-12-21T01:19:05.156020Z"
    }
   },
   "outputs": [
    {
     "data": {
      "text/plain": [
       "[4, 5, 6, 7, 800, 9]"
      ]
     },
     "execution_count": 16,
     "metadata": {},
     "output_type": "execute_result"
    }
   ],
   "source": [
    "l[4:] # 4 ~ 끝, 1씩 증가"
   ]
  },
  {
   "cell_type": "code",
   "execution_count": 17,
   "id": "77b32279",
   "metadata": {
    "ExecuteTime": {
     "end_time": "2022-12-21T01:19:36.683002Z",
     "start_time": "2022-12-21T01:19:36.667007Z"
    }
   },
   "outputs": [
    {
     "data": {
      "text/plain": [
       "[4, 7]"
      ]
     },
     "execution_count": 17,
     "metadata": {},
     "output_type": "execute_result"
    }
   ],
   "source": [
    "l[4::3] # 4 ~ 끝, 3씩 증가\n"
   ]
  },
  {
   "cell_type": "code",
   "execution_count": null,
   "id": "5228529c",
   "metadata": {},
   "outputs": [],
   "source": [
    "l[8:2:-1] # 8 ~ 2 -(-1)"
   ]
  },
  {
   "cell_type": "code",
   "execution_count": 19,
   "id": "bb9acf8e",
   "metadata": {
    "ExecuteTime": {
     "end_time": "2022-12-21T01:22:02.919072Z",
     "start_time": "2022-12-21T01:22:02.907106Z"
    }
   },
   "outputs": [
    {
     "data": {
      "text/plain": [
       "[9, 800, 7, 6, 5, 4, 3, 2, 100, 0]"
      ]
     },
     "execution_count": 19,
     "metadata": {},
     "output_type": "execute_result"
    }
   ],
   "source": [
    "l[::-1]"
   ]
  },
  {
   "cell_type": "markdown",
   "id": "a4f9fe12",
   "metadata": {
    "slideshow": {
     "slide_type": "slide"
    }
   },
   "source": [
    "## List 연산자\n",
    "- 리스트 + 리스트\n",
    "    - 두 리스트의 원소들을 합친 리스트를 반환한다.\n",
    "- 리스트 * 정수\n",
    "    - 같은 리스트의 원소들을 정수번 합친 리스트를 반환한다.   \n",
    "- in, not in 연산자\n",
    "    - 값 in 리스트\n",
    "        - 리스트의 원소로 값이 **있으면** True, 없으면 False 반환\n",
    "    - 값 not in 리스트\n",
    "        - 리스트의 원소로 값이 **없으면** True, 있으면 False 반환  \n",
    "- len(리스트)\n",
    "    - 리스트 내의 원소수를 반환.        "
   ]
  },
  {
   "cell_type": "code",
   "execution_count": 26,
   "id": "f085e817",
   "metadata": {
    "ExecuteTime": {
     "end_time": "2022-12-21T01:24:57.508179Z",
     "start_time": "2022-12-21T01:24:57.491224Z"
    },
    "slideshow": {
     "slide_type": "fragment"
    }
   },
   "outputs": [
    {
     "name": "stdout",
     "output_type": "stream",
     "text": [
      "True\n",
      "False\n"
     ]
    },
    {
     "data": {
      "text/plain": [
       "7"
      ]
     },
     "execution_count": 26,
     "metadata": {},
     "output_type": "execute_result"
    }
   ],
   "source": [
    "l = [0, 1, 2, 3, 4, 5, 6]\n",
    "print(2 in l)\n",
    "print(3 not in l)\n",
    "len(l)"
   ]
  },
  {
   "cell_type": "code",
   "execution_count": 28,
   "id": "c391c15f",
   "metadata": {
    "ExecuteTime": {
     "end_time": "2022-12-21T01:25:36.852897Z",
     "start_time": "2022-12-21T01:25:36.844900Z"
    }
   },
   "outputs": [
    {
     "name": "stdout",
     "output_type": "stream",
     "text": [
      "[1, 2, 3]\n",
      "[1, 2, 3, 10, 20, 30]\n"
     ]
    }
   ],
   "source": [
    "a = [1, 2, 3]\n",
    "b= [10, 20, 30]\n",
    "c= a + b\n",
    "print(a)\n",
    "print(c)"
   ]
  },
  {
   "cell_type": "code",
   "execution_count": 30,
   "id": "cde5a70a",
   "metadata": {
    "ExecuteTime": {
     "end_time": "2022-12-21T01:26:06.965548Z",
     "start_time": "2022-12-21T01:26:06.955575Z"
    }
   },
   "outputs": [
    {
     "name": "stdout",
     "output_type": "stream",
     "text": [
      "[1, 2, 3, 1, 2, 3, 1, 2, 3, 1, 2, 3, 1, 2, 3]\n",
      "[1, 2, 3]\n"
     ]
    }
   ],
   "source": [
    "d = a * 5\n",
    "print(d)\n",
    "print(a)"
   ]
  },
  {
   "cell_type": "code",
   "execution_count": 35,
   "id": "45d9bd10",
   "metadata": {
    "ExecuteTime": {
     "end_time": "2022-12-21T01:27:42.150416Z",
     "start_time": "2022-12-21T01:27:42.138408Z"
    }
   },
   "outputs": [
    {
     "name": "stdout",
     "output_type": "stream",
     "text": [
      "True\n",
      "False\n"
     ]
    }
   ],
   "source": [
    "print(10 in c) # 10이 리스트 C의 우너소로 있는지 여부\n",
    "print(100 in c)"
   ]
  },
  {
   "cell_type": "code",
   "execution_count": 36,
   "id": "97e4e8dd",
   "metadata": {
    "ExecuteTime": {
     "end_time": "2022-12-21T01:28:14.915954Z",
     "start_time": "2022-12-21T01:28:14.909008Z"
    }
   },
   "outputs": [
    {
     "name": "stdout",
     "output_type": "stream",
     "text": [
      "False\n",
      "True\n"
     ]
    }
   ],
   "source": [
    "print(10 not in c) # 10이 리스트 C의 원소로 없는지 여부\n",
    "print(100 not in c)"
   ]
  },
  {
   "cell_type": "code",
   "execution_count": 48,
   "id": "e2a5dc7c",
   "metadata": {
    "ExecuteTime": {
     "end_time": "2022-12-21T01:35:10.516069Z",
     "start_time": "2022-12-21T01:35:10.507090Z"
    }
   },
   "outputs": [
    {
     "name": "stdout",
     "output_type": "stream",
     "text": [
      "True\n",
      "True\n"
     ]
    }
   ],
   "source": [
    "print([1,2] in c)\n",
    "c = [[1,2], 3, 4]\n",
    "print([1,2] in c)"
   ]
  },
  {
   "cell_type": "code",
   "execution_count": 51,
   "id": "74f3905a",
   "metadata": {
    "ExecuteTime": {
     "end_time": "2022-12-21T01:36:05.465535Z",
     "start_time": "2022-12-21T01:36:05.457561Z"
    }
   },
   "outputs": [
    {
     "data": {
      "text/plain": [
       "[[1, 2], 3, 4]"
      ]
     },
     "execution_count": 51,
     "metadata": {},
     "output_type": "execute_result"
    }
   ],
   "source": [
    "c"
   ]
  },
  {
   "cell_type": "code",
   "execution_count": 50,
   "id": "6dc62e83",
   "metadata": {
    "ExecuteTime": {
     "end_time": "2022-12-21T01:35:57.038760Z",
     "start_time": "2022-12-21T01:35:57.016781Z"
    }
   },
   "outputs": [
    {
     "data": {
      "text/plain": [
       "(3, 4)"
      ]
     },
     "execution_count": 50,
     "metadata": {},
     "output_type": "execute_result"
    }
   ],
   "source": [
    "c[1], c[2]"
   ]
  },
  {
   "cell_type": "code",
   "execution_count": 46,
   "id": "4f92c119",
   "metadata": {
    "ExecuteTime": {
     "end_time": "2022-12-21T01:32:34.761501Z",
     "start_time": "2022-12-21T01:32:34.750567Z"
    }
   },
   "outputs": [
    {
     "data": {
      "text/plain": [
       "True"
      ]
     },
     "execution_count": 46,
     "metadata": {},
     "output_type": "execute_result"
    }
   ],
   "source": [
    "3 in c and 4 in c # C안에 3, 4 둘다 있는지 여부\n",
    "3 in c or 100 in c # C 안에 3 또는 100 둘중 하나가 있는지 여부"
   ]
  },
  {
   "cell_type": "code",
   "execution_count": 47,
   "id": "6f83dee4",
   "metadata": {
    "ExecuteTime": {
     "end_time": "2022-12-21T01:33:13.386575Z",
     "start_time": "2022-12-21T01:33:13.365595Z"
    }
   },
   "outputs": [
    {
     "data": {
      "text/plain": [
       "False"
      ]
     },
     "execution_count": 47,
     "metadata": {},
     "output_type": "execute_result"
    }
   ],
   "source": [
    "3 or 100 in c # or이 3을 먼저 계산하기에 이 문자열은 [X]\n",
    "3 and 100 in c # and가 3과 100 둘다 잡기에 이 문자열은 [O]"
   ]
  },
  {
   "cell_type": "markdown",
   "id": "f90af754",
   "metadata": {
    "slideshow": {
     "slide_type": "slide"
    }
   },
   "source": [
    "## 중첩 리스트 (Nested List)\n",
    "- List가 원소로 List를 가지는 것을 말한다.\n",
    "    - List를 포함한 모든 자료구조 타입들도 다 값이므로 다른 자료구조의 원소로 들어갈 수 있다.    "
   ]
  },
  {
   "cell_type": "code",
   "execution_count": 56,
   "id": "01bede57",
   "metadata": {
    "ExecuteTime": {
     "end_time": "2022-12-21T01:44:20.901036Z",
     "start_time": "2022-12-21T01:44:20.892063Z"
    },
    "slideshow": {
     "slide_type": "fragment"
    }
   },
   "outputs": [
    {
     "name": "stdout",
     "output_type": "stream",
     "text": [
      "[[1, 2, 3], [4, 5, 6], [7, 8, 9]]\n"
     ]
    }
   ],
   "source": [
    "l = [\n",
    "    [1,2,3],\n",
    "    [4,5,6],\n",
    "    [7,8,9]\n",
    "]\n",
    "print(l)"
   ]
  },
  {
   "cell_type": "code",
   "execution_count": 55,
   "id": "b4d7f5d9",
   "metadata": {
    "ExecuteTime": {
     "end_time": "2022-12-21T01:40:23.432739Z",
     "start_time": "2022-12-21T01:40:23.421801Z"
    }
   },
   "outputs": [
    {
     "data": {
      "text/plain": [
       "3"
      ]
     },
     "execution_count": 55,
     "metadata": {},
     "output_type": "execute_result"
    }
   ],
   "source": [
    "len(l)"
   ]
  },
  {
   "cell_type": "code",
   "execution_count": 58,
   "id": "f7580325",
   "metadata": {
    "ExecuteTime": {
     "end_time": "2022-12-21T01:45:44.885845Z",
     "start_time": "2022-12-21T01:45:44.877864Z"
    }
   },
   "outputs": [
    {
     "data": {
      "text/plain": [
       "2"
      ]
     },
     "execution_count": 58,
     "metadata": {},
     "output_type": "execute_result"
    }
   ],
   "source": [
    "l[0][1] # 0번째 박스에 1번 index 조회 - 중첩 List"
   ]
  },
  {
   "cell_type": "code",
   "execution_count": 59,
   "id": "bd0af2d1",
   "metadata": {
    "ExecuteTime": {
     "end_time": "2022-12-21T01:45:58.323852Z",
     "start_time": "2022-12-21T01:45:58.312880Z"
    }
   },
   "outputs": [
    {
     "data": {
      "text/plain": [
       "9"
      ]
     },
     "execution_count": 59,
     "metadata": {},
     "output_type": "execute_result"
    }
   ],
   "source": [
    "l[2][2] # 2번째 박스에 2번 index 조회"
   ]
  },
  {
   "cell_type": "markdown",
   "id": "29ff0e07",
   "metadata": {
    "slideshow": {
     "slide_type": "slide"
    }
   },
   "source": [
    "## List 대입\n",
    "리스트의 원소들을 각각 다른 변수에 대입하는 표현식"
   ]
  },
  {
   "cell_type": "code",
   "execution_count": 62,
   "id": "2dfd6c46",
   "metadata": {
    "ExecuteTime": {
     "end_time": "2022-12-21T01:48:37.635028Z",
     "start_time": "2022-12-21T01:48:37.622024Z"
    },
    "slideshow": {
     "slide_type": "fragment"
    }
   },
   "outputs": [
    {
     "name": "stdout",
     "output_type": "stream",
     "text": [
      "1 , 2 , 3\n"
     ]
    }
   ],
   "source": [
    "l = [1, 2, 3] #\n",
    "l = num1, num2, num3\n",
    "print(num1, num2, num3, sep=' , ')"
   ]
  },
  {
   "cell_type": "code",
   "execution_count": 63,
   "id": "1f571125",
   "metadata": {
    "ExecuteTime": {
     "end_time": "2022-12-21T01:49:22.856105Z",
     "start_time": "2022-12-21T01:49:22.839110Z"
    }
   },
   "outputs": [
    {
     "name": "stdout",
     "output_type": "stream",
     "text": [
      "100 200 300\n"
     ]
    }
   ],
   "source": [
    "a, b, c = [100, 200, 300]\n",
    "print(a, b, c)"
   ]
  },
  {
   "cell_type": "code",
   "execution_count": 65,
   "id": "6690118a",
   "metadata": {
    "ExecuteTime": {
     "end_time": "2022-12-21T01:52:36.135243Z",
     "start_time": "2022-12-21T01:52:36.123239Z"
    }
   },
   "outputs": [],
   "source": [
    "d, e, f = 1, 2, 3 # tuple 대입"
   ]
  },
  {
   "cell_type": "markdown",
   "id": "826b8780",
   "metadata": {
    "slideshow": {
     "slide_type": "slide"
    }
   },
   "source": [
    "## List 주요 메소드\n",
    "|메소드|설명|\n",
    "|:-|-|\n",
    "|append(value)|value를  추가한다.|\n",
    "|extend(List)|List의 원소들을 추가한다.|\n",
    "|sort(\\[reverse=False\\])|원소들을 오름차순 정렬한다. reverse=True로 하면 내림차순정렬 한다.|\n",
    "|insert(index, 삽입할값)|지정한 index에 '삽입할값'을 삽입한다.|\n",
    "|remove(삭제할값)|'삭제할값' 값과 같은 원소를 삭제한다.|\n",
    "|index(찾을값\\[, 시작index\\])|'찾을값'의 index를 반환한다.|\n",
    "|pop(\\[index\\])|index의 값을 반환하면서 삭제한다. index 생략하면 가장 마지막 값을 반환하며 삭제한다.|\n",
    "|count(값)|'값'이 리스트의 원소로 몇개 있는지 반환한다.|\n",
    "|clear()|리스트 안의 모든 원소들을 삭제한다.|\n",
    "\n"
   ]
  },
  {
   "cell_type": "code",
   "execution_count": 67,
   "id": "e0e127aa",
   "metadata": {
    "ExecuteTime": {
     "end_time": "2022-12-21T02:14:54.040090Z",
     "start_time": "2022-12-21T02:14:54.028085Z"
    }
   },
   "outputs": [
    {
     "name": "stdout",
     "output_type": "stream",
     "text": [
      "[1, 2, 3]\n",
      "[1, 2, 3, 10]\n"
     ]
    }
   ],
   "source": [
    "l = [1, 2, 3]\n",
    "print(l)\n",
    "l.append(10) # 10을 l에 추가\n",
    "print(l)"
   ]
  },
  {
   "cell_type": "code",
   "execution_count": 68,
   "id": "41ede38a",
   "metadata": {
    "ExecuteTime": {
     "end_time": "2022-12-21T02:16:52.260198Z",
     "start_time": "2022-12-21T02:16:52.250237Z"
    }
   },
   "outputs": [
    {
     "data": {
      "text/plain": [
       "['첫번째 결과', '두번째 결과', '세번째 결과']"
      ]
     },
     "execution_count": 68,
     "metadata": {},
     "output_type": "execute_result"
    }
   ],
   "source": [
    "result = [] #빈 리스트\n",
    "# 처리\n",
    "result.append('첫번째 결과')\n",
    "#처리\n",
    "result.append('두번째 결과')\n",
    "# 처리\n",
    "result.append('세번째 결과')\n",
    "result"
   ]
  },
  {
   "cell_type": "code",
   "execution_count": 73,
   "id": "f3e9ee3b",
   "metadata": {
    "ExecuteTime": {
     "end_time": "2022-12-21T02:20:23.462309Z",
     "start_time": "2022-12-21T02:20:23.449343Z"
    }
   },
   "outputs": [
    {
     "name": "stdout",
     "output_type": "stream",
     "text": [
      "[1, 2, 3, 10, 100, 200, 300, 100, 200, 300]\n"
     ]
    }
   ],
   "source": [
    "l.extend([100, 200, 300])\n",
    "print(l)"
   ]
  },
  {
   "cell_type": "code",
   "execution_count": 72,
   "id": "61ef2420",
   "metadata": {
    "ExecuteTime": {
     "end_time": "2022-12-21T02:20:02.263203Z",
     "start_time": "2022-12-21T02:20:02.244291Z"
    }
   },
   "outputs": [
    {
     "name": "stdout",
     "output_type": "stream",
     "text": [
      "[2, 4, 7, 8, 20, 30, 100]\n",
      "[100, 30, 20, 8, 7, 4, 2]\n"
     ]
    }
   ],
   "source": [
    "l2 = [2, 100, 7, 20, 30, 4, 8]\n",
    "# 정렬\n",
    "l2.sort() # 오름차순\n",
    "print(l2)\n",
    "l2.sort(reverse=True) # 내림차순\n",
    "print(l2)"
   ]
  },
  {
   "cell_type": "code",
   "execution_count": null,
   "id": "55fcee10",
   "metadata": {},
   "outputs": [],
   "source": [
    "sorted(l2) # L2 를 정렬한 결과를 담은 새로운 리스트를 반환한다. -> 임시적인거임\n",
    "# list 만 아니라 다른 자료구조들도 정렬한다."
   ]
  },
  {
   "cell_type": "code",
   "execution_count": 74,
   "id": "1d63ec82",
   "metadata": {
    "ExecuteTime": {
     "end_time": "2022-12-21T02:22:49.216309Z",
     "start_time": "2022-12-21T02:22:49.209327Z"
    }
   },
   "outputs": [
    {
     "data": {
      "text/plain": [
       "[100, 30, 20, 8, 7, 4, 2]"
      ]
     },
     "execution_count": 74,
     "metadata": {},
     "output_type": "execute_result"
    }
   ],
   "source": [
    "sorted(l2, reverse=True) # 내림차순"
   ]
  },
  {
   "cell_type": "code",
   "execution_count": 96,
   "id": "4b14d8e8",
   "metadata": {
    "ExecuteTime": {
     "end_time": "2022-12-21T02:30:04.906826Z",
     "start_time": "2022-12-21T02:30:04.889836Z"
    },
    "slideshow": {
     "slide_type": "fragment"
    }
   },
   "outputs": [
    {
     "name": "stdout",
     "output_type": "stream",
     "text": [
      "[2, 4, 1000, 7, 8, 20, 30, 100]\n"
     ]
    }
   ],
   "source": [
    "l2.insert(2, 1000)\n",
    "print(l2)"
   ]
  },
  {
   "cell_type": "code",
   "execution_count": 95,
   "id": "60b1eade",
   "metadata": {
    "ExecuteTime": {
     "end_time": "2022-12-21T02:30:01.550602Z",
     "start_time": "2022-12-21T02:30:01.541662Z"
    }
   },
   "outputs": [
    {
     "name": "stdout",
     "output_type": "stream",
     "text": [
      "[2, 4, 7, 8, 20, 30, 100]\n"
     ]
    }
   ],
   "source": [
    "l2.remove(1000) #값으로 삭제.\n",
    "print(l2)"
   ]
  },
  {
   "cell_type": "code",
   "execution_count": 114,
   "id": "d51f86af",
   "metadata": {
    "ExecuteTime": {
     "end_time": "2022-12-21T02:38:34.434281Z",
     "start_time": "2022-12-21T02:38:34.420282Z"
    }
   },
   "outputs": [
    {
     "name": "stdout",
     "output_type": "stream",
     "text": [
      "[1, 1, 1, 1, 1]\n"
     ]
    }
   ],
   "source": [
    "l3 = [1,1,1,1,1,1]\n",
    "l3.remove(1)\n",
    "print(l3)"
   ]
  },
  {
   "cell_type": "code",
   "execution_count": null,
   "id": "67c4e5df",
   "metadata": {},
   "outputs": [],
   "source": [
    "l3.remove(2) #없는 값을 삭제하면 에러 발생"
   ]
  },
  {
   "cell_type": "code",
   "execution_count": 137,
   "id": "9debcbc0",
   "metadata": {
    "ExecuteTime": {
     "end_time": "2022-12-21T02:49:26.354320Z",
     "start_time": "2022-12-21T02:49:26.341356Z"
    }
   },
   "outputs": [
    {
     "ename": "IndexError",
     "evalue": "list assignment index out of range",
     "output_type": "error",
     "traceback": [
      "\u001b[1;31m---------------------------------------------------------------------------\u001b[0m",
      "\u001b[1;31mIndexError\u001b[0m                                Traceback (most recent call last)",
      "\u001b[1;32m~\\AppData\\Local\\Temp\\ipykernel_12496\\4277210796.py\u001b[0m in \u001b[0;36m<module>\u001b[1;34m\u001b[0m\n\u001b[0;32m      1\u001b[0m \u001b[1;31m# index로 삭제\u001b[0m\u001b[1;33m\u001b[0m\u001b[1;33m\u001b[0m\u001b[0m\n\u001b[1;32m----> 2\u001b[1;33m \u001b[1;32mdel\u001b[0m \u001b[0ml2\u001b[0m\u001b[1;33m[\u001b[0m\u001b[1;36m3\u001b[0m\u001b[1;33m]\u001b[0m\u001b[1;33m\u001b[0m\u001b[1;33m\u001b[0m\u001b[0m\n\u001b[0m",
      "\u001b[1;31mIndexError\u001b[0m: list assignment index out of range"
     ]
    }
   ],
   "source": [
    "# index로 삭제\n",
    "del l2[3]"
   ]
  },
  {
   "cell_type": "code",
   "execution_count": 101,
   "id": "95e83a7a",
   "metadata": {
    "ExecuteTime": {
     "end_time": "2022-12-21T02:32:22.703711Z",
     "start_time": "2022-12-21T02:32:22.683733Z"
    }
   },
   "outputs": [
    {
     "data": {
      "text/plain": [
       "[2, 4, 1000, 8, 20, 30, 100]"
      ]
     },
     "execution_count": 101,
     "metadata": {},
     "output_type": "execute_result"
    }
   ],
   "source": [
    "l2"
   ]
  },
  {
   "cell_type": "code",
   "execution_count": 102,
   "id": "d359d97e",
   "metadata": {
    "ExecuteTime": {
     "end_time": "2022-12-21T02:32:34.858805Z",
     "start_time": "2022-12-21T02:32:34.847794Z"
    }
   },
   "outputs": [
    {
     "data": {
      "text/plain": [
       "8"
      ]
     },
     "execution_count": 102,
     "metadata": {},
     "output_type": "execute_result"
    }
   ],
   "source": [
    "l2[3]"
   ]
  },
  {
   "cell_type": "code",
   "execution_count": 151,
   "id": "845b840f",
   "metadata": {
    "ExecuteTime": {
     "end_time": "2022-12-21T02:54:51.683516Z",
     "start_time": "2022-12-21T02:54:51.663572Z"
    }
   },
   "outputs": [
    {
     "name": "stdout",
     "output_type": "stream",
     "text": [
      "[2, 4, 8, 20, 30, 100, 1000]\n"
     ]
    }
   ],
   "source": [
    "l2 = [2, 4, 1000, 8, 20, 30 ,100]\n",
    "l2.sort()\n",
    "print(l2)\n"
   ]
  },
  {
   "cell_type": "code",
   "execution_count": 152,
   "id": "5b72a366",
   "metadata": {
    "ExecuteTime": {
     "end_time": "2022-12-21T02:55:03.401518Z",
     "start_time": "2022-12-21T02:55:03.380576Z"
    }
   },
   "outputs": [
    {
     "name": "stdout",
     "output_type": "stream",
     "text": [
      "1000\n"
     ]
    },
    {
     "data": {
      "text/plain": [
       "[2, 4, 8, 20, 30, 100]"
      ]
     },
     "execution_count": 152,
     "metadata": {},
     "output_type": "execute_result"
    }
   ],
   "source": [
    "# 삭제한 뒤 삭제한 값을 반환\n",
    "r = l2.pop() #마지막 index의 값을 삭제하면서 반환\n",
    "print(r)\n",
    "l2"
   ]
  },
  {
   "cell_type": "code",
   "execution_count": 132,
   "id": "4be4ed10",
   "metadata": {
    "ExecuteTime": {
     "end_time": "2022-12-21T02:46:36.475766Z",
     "start_time": "2022-12-21T02:46:36.452828Z"
    }
   },
   "outputs": [
    {
     "ename": "IndexError",
     "evalue": "pop from empty list",
     "output_type": "error",
     "traceback": [
      "\u001b[1;31m---------------------------------------------------------------------------\u001b[0m",
      "\u001b[1;31mIndexError\u001b[0m                                Traceback (most recent call last)",
      "\u001b[1;32m~\\AppData\\Local\\Temp\\ipykernel_12496\\932435293.py\u001b[0m in \u001b[0;36m<module>\u001b[1;34m\u001b[0m\n\u001b[1;32m----> 1\u001b[1;33m \u001b[0mr2\u001b[0m \u001b[1;33m=\u001b[0m \u001b[0ml2\u001b[0m\u001b[1;33m.\u001b[0m\u001b[0mpop\u001b[0m\u001b[1;33m(\u001b[0m\u001b[1;36m2\u001b[0m\u001b[1;33m)\u001b[0m \u001b[1;31m# 2번 index의 값을 삭제하면서 반환\u001b[0m\u001b[1;33m\u001b[0m\u001b[1;33m\u001b[0m\u001b[0m\n\u001b[0m\u001b[0;32m      2\u001b[0m \u001b[0mprint\u001b[0m\u001b[1;33m(\u001b[0m\u001b[0mr2\u001b[0m\u001b[1;33m)\u001b[0m\u001b[1;33m\u001b[0m\u001b[1;33m\u001b[0m\u001b[0m\n\u001b[0;32m      3\u001b[0m \u001b[0ml2\u001b[0m\u001b[1;33m\u001b[0m\u001b[1;33m\u001b[0m\u001b[0m\n",
      "\u001b[1;31mIndexError\u001b[0m: pop from empty list"
     ]
    }
   ],
   "source": [
    "r2 = l2.pop(2) # 2번 index의 값을 삭제하면서 반환\n",
    "print(r2)\n",
    "l2"
   ]
  },
  {
   "cell_type": "code",
   "execution_count": 105,
   "id": "d9c15791",
   "metadata": {
    "ExecuteTime": {
     "end_time": "2022-12-21T02:35:01.450013Z",
     "start_time": "2022-12-21T02:35:01.438009Z"
    }
   },
   "outputs": [
    {
     "name": "stdout",
     "output_type": "stream",
     "text": [
      "[2, 4, 1000, 8, 20, 30]\n",
      "[]\n",
      "0\n"
     ]
    }
   ],
   "source": [
    "print(l2)\n",
    "l2.clear()\n",
    "print(l2)\n",
    "print(len(l2))"
   ]
  },
  {
   "cell_type": "code",
   "execution_count": 118,
   "id": "920c9af8",
   "metadata": {
    "ExecuteTime": {
     "end_time": "2022-12-21T02:39:30.480899Z",
     "start_time": "2022-12-21T02:39:30.468966Z"
    }
   },
   "outputs": [],
   "source": [
    "l3 = [1,1,1,1,1,1,1]"
   ]
  },
  {
   "cell_type": "code",
   "execution_count": 134,
   "id": "343505f5",
   "metadata": {
    "ExecuteTime": {
     "end_time": "2022-12-21T02:47:10.697290Z",
     "start_time": "2022-12-21T02:47:10.681297Z"
    }
   },
   "outputs": [
    {
     "name": "stdout",
     "output_type": "stream",
     "text": [
      "[1, 1, 1, 1, 1, 1, 1]\n",
      "0\n",
      "3\n"
     ]
    }
   ],
   "source": [
    "l3 = [1,1,1,1,1,1,1]\n",
    "print(l3)\n",
    "print(l3.index(1)) #원소값 1이 몇번 index에 있는지 조회, 조회는 앞에서부터(index 0부터) 찾는다.\n",
    "print(l3.index(1, 3)) #index 3부터 찾는다."
   ]
  },
  {
   "cell_type": "code",
   "execution_count": 139,
   "id": "dc80bb03",
   "metadata": {
    "ExecuteTime": {
     "end_time": "2022-12-21T02:51:32.891536Z",
     "start_time": "2022-12-21T02:51:32.869559Z"
    }
   },
   "outputs": [
    {
     "data": {
      "text/plain": [
       "7"
      ]
     },
     "execution_count": 139,
     "metadata": {},
     "output_type": "execute_result"
    }
   ],
   "source": [
    "l3.count(1) #원소 1이 몇개 있는는지?"
   ]
  },
  {
   "cell_type": "code",
   "execution_count": 154,
   "id": "74c125f9",
   "metadata": {
    "ExecuteTime": {
     "end_time": "2022-12-21T03:10:12.997114Z",
     "start_time": "2022-12-21T03:10:12.980161Z"
    }
   },
   "outputs": [
    {
     "name": "stdout",
     "output_type": "stream",
     "text": [
      "['-', '3', 'A', 'a', '가']\n",
      "['A', 'a', '가', '3', '-']\n"
     ]
    }
   ],
   "source": [
    "l4 = [\"A\", \"a\", \"가\", \"3\", \"-\"]\n",
    "print(sorted(l4))\n",
    "print(l4)"
   ]
  },
  {
   "cell_type": "markdown",
   "id": "5b28f033",
   "metadata": {
    "slideshow": {
     "slide_type": "slide"
    }
   },
   "source": [
    "# Tuple (튜플)\n",
    "- List와 같이 순서대로 원소들을 관리한다. 단 저장된 원소를 변경할 수 없다.\n",
    "- Tuple 은 각 위치(Index) 마다 정해진 의미가 있고 그 값이 한번 설정되면 바뀌지 않는 경우에 사용한다. \n",
    "    - Tuple은 값의 변경되지 않으므로 안전하다.\n",
    "    \n",
    "## Tuple 생성\n",
    "- `(value, value, value, ...)`\n",
    "- 소괄호를 생략할 수 있다.\n",
    "- 원소가 하나인 Tuple 표현식\n",
    "    - `(value,)` 또는 `value,` \n",
    "        - 값 뒤에 `,` 를 붙여준다. `,`를 붙이지 않으면 ( )가 연산자 우선순위 괄호가 된다. "
   ]
  },
  {
   "cell_type": "code",
   "execution_count": 1,
   "id": "17099a9e",
   "metadata": {
    "ExecuteTime": {
     "end_time": "2022-12-21T03:13:22.715277Z",
     "start_time": "2022-12-21T03:13:22.698287Z"
    },
    "slideshow": {
     "slide_type": "fragment"
    }
   },
   "outputs": [
    {
     "name": "stdout",
     "output_type": "stream",
     "text": [
      "<class 'tuple'>\n"
     ]
    }
   ],
   "source": [
    "t1 = (1, 2, 3, 4, 5)\n",
    "t2 = (\"A\", \"B\", \"C\")\n",
    "t3 = (\"A\", 20, True)\n",
    "print(type(t1))"
   ]
  },
  {
   "cell_type": "code",
   "execution_count": 157,
   "id": "e8fadd32",
   "metadata": {
    "ExecuteTime": {
     "end_time": "2022-12-21T03:13:38.117225Z",
     "start_time": "2022-12-21T03:13:38.111283Z"
    }
   },
   "outputs": [
    {
     "name": "stdout",
     "output_type": "stream",
     "text": [
      "<class 'tuple'>\n"
     ]
    }
   ],
   "source": [
    "print(type(t1))"
   ]
  },
  {
   "cell_type": "code",
   "execution_count": 160,
   "id": "848e85f3",
   "metadata": {
    "ExecuteTime": {
     "end_time": "2022-12-21T03:14:45.447263Z",
     "start_time": "2022-12-21T03:14:45.431341Z"
    }
   },
   "outputs": [
    {
     "name": "stdout",
     "output_type": "stream",
     "text": [
      "True\n",
      "False\n"
     ]
    }
   ],
   "source": [
    "print(type(t1) == tuple)\n",
    "print(type(t1) == list)"
   ]
  },
  {
   "cell_type": "markdown",
   "id": "16954356",
   "metadata": {
    "slideshow": {
     "slide_type": "slide"
    }
   },
   "source": [
    "## Indexing과 Slicing을 이용한 원소(element) 조회\n",
    "- 리스트와 동일하다.\n",
    "- 단 튜플은 조회만 가능하고 원소를 변경할 수 없다."
   ]
  },
  {
   "cell_type": "code",
   "execution_count": 3,
   "id": "9b9ceefd",
   "metadata": {
    "ExecuteTime": {
     "end_time": "2022-12-21T03:19:04.740168Z",
     "start_time": "2022-12-21T03:19:04.720225Z"
    }
   },
   "outputs": [
    {
     "name": "stdout",
     "output_type": "stream",
     "text": [
      "<class 'tuple'>\n"
     ]
    },
    {
     "data": {
      "text/plain": [
       "(tuple, 1)"
      ]
     },
     "execution_count": 3,
     "metadata": {},
     "output_type": "execute_result"
    }
   ],
   "source": [
    "t5 = (1,) # 원소가 1개인 튜플\n",
    "t6 = 1, # \",\" 를 추가함으로 정수를 튜플로 변환 가능!!!!!!!!!!!!!\n",
    "print(type(t5))\n",
    "type(t6), len(t6)"
   ]
  },
  {
   "cell_type": "code",
   "execution_count": 176,
   "id": "6c5b9b2c",
   "metadata": {
    "ExecuteTime": {
     "end_time": "2022-12-21T03:23:56.978668Z",
     "start_time": "2022-12-21T03:23:56.963711Z"
    },
    "slideshow": {
     "slide_type": "fragment"
    }
   },
   "outputs": [
    {
     "data": {
      "text/plain": [
       "(0, 1, 2, 3, 4, 5, 6, 7, 8, 9)"
      ]
     },
     "execution_count": 176,
     "metadata": {},
     "output_type": "execute_result"
    }
   ],
   "source": [
    "t = (0,1,2,3,4,5,6,7,8,9)\n",
    "t"
   ]
  },
  {
   "cell_type": "code",
   "execution_count": 177,
   "id": "60283c14",
   "metadata": {
    "ExecuteTime": {
     "end_time": "2022-12-21T03:23:58.789665Z",
     "start_time": "2022-12-21T03:23:58.772679Z"
    }
   },
   "outputs": [
    {
     "data": {
      "text/plain": [
       "(0, 5, 8)"
      ]
     },
     "execution_count": 177,
     "metadata": {},
     "output_type": "execute_result"
    }
   ],
   "source": [
    "t[0], t[5], t[8]"
   ]
  },
  {
   "cell_type": "code",
   "execution_count": 168,
   "id": "b4d97907",
   "metadata": {
    "ExecuteTime": {
     "end_time": "2022-12-21T03:21:20.038674Z",
     "start_time": "2022-12-21T03:21:20.019689Z"
    }
   },
   "outputs": [
    {
     "ename": "TypeError",
     "evalue": "'tuple' object does not support item assignment",
     "output_type": "error",
     "traceback": [
      "\u001b[1;31m---------------------------------------------------------------------------\u001b[0m",
      "\u001b[1;31mTypeError\u001b[0m                                 Traceback (most recent call last)",
      "\u001b[1;32m~\\AppData\\Local\\Temp\\ipykernel_12496\\816329950.py\u001b[0m in \u001b[0;36m<module>\u001b[1;34m\u001b[0m\n\u001b[1;32m----> 1\u001b[1;33m \u001b[0mt\u001b[0m\u001b[1;33m[\u001b[0m\u001b[1;36m0\u001b[0m\u001b[1;33m]\u001b[0m \u001b[1;33m=\u001b[0m \u001b[1;36m100\u001b[0m\u001b[1;33m\u001b[0m\u001b[1;33m\u001b[0m\u001b[0m\n\u001b[0m",
      "\u001b[1;31mTypeError\u001b[0m: 'tuple' object does not support item assignment"
     ]
    }
   ],
   "source": [
    "t[0] = 100 # 튜플은 값을 변경할 수 없다, 대입(assignment)을 지원하지 않아서. "
   ]
  },
  {
   "cell_type": "code",
   "execution_count": 170,
   "id": "3d956ffa",
   "metadata": {
    "ExecuteTime": {
     "end_time": "2022-12-21T03:22:39.993635Z",
     "start_time": "2022-12-21T03:22:39.981667Z"
    }
   },
   "outputs": [
    {
     "data": {
      "text/plain": [
       "(2, 4, 6)"
      ]
     },
     "execution_count": 170,
     "metadata": {},
     "output_type": "execute_result"
    }
   ],
   "source": [
    "# slicing\n",
    "t[2:8:2]"
   ]
  },
  {
   "cell_type": "code",
   "execution_count": 171,
   "id": "5a635751",
   "metadata": {
    "ExecuteTime": {
     "end_time": "2022-12-21T03:22:50.495553Z",
     "start_time": "2022-12-21T03:22:50.474646Z"
    }
   },
   "outputs": [
    {
     "data": {
      "text/plain": [
       "(0, 2, 4, 6)"
      ]
     },
     "execution_count": 171,
     "metadata": {},
     "output_type": "execute_result"
    }
   ],
   "source": [
    "t[:8:2]"
   ]
  },
  {
   "cell_type": "code",
   "execution_count": 172,
   "id": "45dddb26",
   "metadata": {
    "ExecuteTime": {
     "end_time": "2022-12-21T03:23:07.042598Z",
     "start_time": "2022-12-21T03:23:07.023645Z"
    }
   },
   "outputs": [
    {
     "data": {
      "text/plain": [
       "(0, 2, 4, 6, 8)"
      ]
     },
     "execution_count": 172,
     "metadata": {},
     "output_type": "execute_result"
    }
   ],
   "source": [
    "t[::2]"
   ]
  },
  {
   "cell_type": "code",
   "execution_count": 178,
   "id": "d6ff11c0",
   "metadata": {
    "ExecuteTime": {
     "end_time": "2022-12-21T03:24:18.919765Z",
     "start_time": "2022-12-21T03:24:18.910790Z"
    }
   },
   "outputs": [
    {
     "data": {
      "text/plain": [
       "(7, 6, 5, 4, 3)"
      ]
     },
     "execution_count": 178,
     "metadata": {},
     "output_type": "execute_result"
    }
   ],
   "source": [
    "t[7:2:-1]"
   ]
  },
  {
   "cell_type": "code",
   "execution_count": 180,
   "id": "79f4ef36",
   "metadata": {
    "ExecuteTime": {
     "end_time": "2022-12-21T03:24:52.166779Z",
     "start_time": "2022-12-21T03:24:52.149824Z"
    }
   },
   "outputs": [
    {
     "data": {
      "text/plain": [
       "(9, 8, 7, 6, 5, 4, 3, 2, 1, 0)"
      ]
     },
     "execution_count": 180,
     "metadata": {},
     "output_type": "execute_result"
    }
   ],
   "source": [
    "t[::-1]"
   ]
  },
  {
   "cell_type": "markdown",
   "id": "135101f3",
   "metadata": {
    "slideshow": {
     "slide_type": "slide"
    }
   },
   "source": [
    "## Tuple 연산자\n",
    "- tuple + tuple\n",
    "    - 두 tuple의 원소들을 합친 tuple을 반환한다.\n",
    "- tuple * 정수\n",
    "    - 같은 tuple의 원소들을 정수번 합친 tuple를 반환한다.  \n",
    "- in, not in 연산자\n",
    "    - 값 in tuple\n",
    "        - tuple의 원소로 값이 **있으면** True, 없으면 False 반환\n",
    "    - 값 not in tuple\n",
    "        - tuple의 원소로 값이 **없으면** True, 있으면 False 반환    \n",
    "- len(tuple)\n",
    "    - tuple의 원소 개수 반환        "
   ]
  },
  {
   "cell_type": "code",
   "execution_count": 184,
   "id": "5903e00f",
   "metadata": {
    "ExecuteTime": {
     "end_time": "2022-12-21T03:28:07.059851Z",
     "start_time": "2022-12-21T03:28:07.046847Z"
    },
    "slideshow": {
     "slide_type": "fragment"
    }
   },
   "outputs": [
    {
     "name": "stdout",
     "output_type": "stream",
     "text": [
      "(1, 2, 3, 4, 5)\n",
      "('A', 'B', 'C')\n",
      "(1, 2, 3, 4, 5, 'A', 'B', 'C')\n",
      "(1, 2, 3, 4, 5)\n",
      "('A', 'B', 'C')\n"
     ]
    }
   ],
   "source": [
    "print(t1)\n",
    "print(t2)\n",
    "result = t1 + t2\n",
    "print(result)\n",
    "print(t1)\n",
    "print(t2)"
   ]
  },
  {
   "cell_type": "code",
   "execution_count": 185,
   "id": "e77e560f",
   "metadata": {
    "ExecuteTime": {
     "end_time": "2022-12-21T03:29:26.982797Z",
     "start_time": "2022-12-21T03:29:26.975817Z"
    }
   },
   "outputs": [
    {
     "name": "stdout",
     "output_type": "stream",
     "text": [
      "(1, 2, 3, 4, 5, 1, 2, 3, 4, 5, 1, 2, 3, 4, 5)\n",
      "(1, 2, 3, 4, 5)\n"
     ]
    }
   ],
   "source": [
    "result2= t1*3 #t1 + t1 + t1\n",
    "print(result2)\n",
    "print(t1)"
   ]
  },
  {
   "cell_type": "code",
   "execution_count": 190,
   "id": "90f8d40c",
   "metadata": {
    "ExecuteTime": {
     "end_time": "2022-12-21T03:30:54.777862Z",
     "start_time": "2022-12-21T03:30:54.757911Z"
    }
   },
   "outputs": [
    {
     "name": "stdout",
     "output_type": "stream",
     "text": [
      "True\n",
      "False\n"
     ]
    }
   ],
   "source": [
    "print('B' in result)\n",
    "print(\"B\" not in result)"
   ]
  },
  {
   "cell_type": "code",
   "execution_count": 189,
   "id": "a4ea28b2",
   "metadata": {
    "ExecuteTime": {
     "end_time": "2022-12-21T03:30:41.123581Z",
     "start_time": "2022-12-21T03:30:41.115603Z"
    }
   },
   "outputs": [
    {
     "name": "stdout",
     "output_type": "stream",
     "text": [
      "False\n",
      "True\n"
     ]
    }
   ],
   "source": [
    "print(\"가\" in result)\n",
    "print(\"가\" not in result)"
   ]
  },
  {
   "cell_type": "code",
   "execution_count": 195,
   "id": "4b958366",
   "metadata": {
    "ExecuteTime": {
     "end_time": "2022-12-21T03:32:38.226796Z",
     "start_time": "2022-12-21T03:32:38.213828Z"
    }
   },
   "outputs": [
    {
     "name": "stdout",
     "output_type": "stream",
     "text": [
      "(10, 3, 8)\n"
     ]
    },
    {
     "data": {
      "text/plain": [
       "tuple"
      ]
     },
     "execution_count": 195,
     "metadata": {},
     "output_type": "execute_result"
    }
   ],
   "source": [
    "length = len(t), len(t2), len(result) \n",
    "print(length)\n",
    "type(length)"
   ]
  },
  {
   "cell_type": "code",
   "execution_count": 197,
   "id": "4ddcc854",
   "metadata": {
    "ExecuteTime": {
     "end_time": "2022-12-21T03:33:42.806201Z",
     "start_time": "2022-12-21T03:33:42.786256Z"
    }
   },
   "outputs": [
    {
     "name": "stdout",
     "output_type": "stream",
     "text": [
      "10 3 8\n"
     ]
    }
   ],
   "source": [
    "# 튜플 대입\n",
    "len1, len2, len3 = len(t), len(t2), len(result)\n",
    "print(len1, len2, len3)"
   ]
  },
  {
   "cell_type": "markdown",
   "id": "89803fdd",
   "metadata": {
    "slideshow": {
     "slide_type": "subslide"
    }
   },
   "source": [
    "## Tuple의 주요 메소드\n",
    "|메소드|설명|\n",
    "|:-|-|\n",
    "|index(찾을값 \\[, 시작index\\])|'찾을값'이 몇번 index인지 반환한다.|\n",
    "|count(값)|원소로 '값'이 몇개 있는지 반환한다.|"
   ]
  },
  {
   "cell_type": "code",
   "execution_count": 200,
   "id": "02f9df42",
   "metadata": {
    "ExecuteTime": {
     "end_time": "2022-12-21T03:35:53.719130Z",
     "start_time": "2022-12-21T03:35:53.707160Z"
    }
   },
   "outputs": [
    {
     "data": {
      "text/plain": [
       "(1, 2, 3, 4, 5, 'A', 'B', 'C')"
      ]
     },
     "execution_count": 200,
     "metadata": {},
     "output_type": "execute_result"
    }
   ],
   "source": [
    "result"
   ]
  },
  {
   "cell_type": "code",
   "execution_count": 201,
   "id": "0ca9f208",
   "metadata": {
    "ExecuteTime": {
     "end_time": "2022-12-21T03:36:13.245053Z",
     "start_time": "2022-12-21T03:36:13.224108Z"
    }
   },
   "outputs": [
    {
     "ename": "ValueError",
     "evalue": "tuple.index(x): x not in tuple",
     "output_type": "error",
     "traceback": [
      "\u001b[1;31m---------------------------------------------------------------------------\u001b[0m",
      "\u001b[1;31mValueError\u001b[0m                                Traceback (most recent call last)",
      "\u001b[1;32m~\\AppData\\Local\\Temp\\ipykernel_12496\\3476982603.py\u001b[0m in \u001b[0;36m<module>\u001b[1;34m\u001b[0m\n\u001b[0;32m      1\u001b[0m \u001b[0mresult\u001b[0m\u001b[1;33m.\u001b[0m\u001b[0mindex\u001b[0m\u001b[1;33m(\u001b[0m\u001b[1;34m\"A\"\u001b[0m\u001b[1;33m)\u001b[0m\u001b[1;33m\u001b[0m\u001b[1;33m\u001b[0m\u001b[0m\n\u001b[1;32m----> 2\u001b[1;33m \u001b[0mresult\u001b[0m\u001b[1;33m.\u001b[0m\u001b[0mindex\u001b[0m\u001b[1;33m(\u001b[0m\u001b[1;34m\"A\"\u001b[0m\u001b[1;33m,\u001b[0m \u001b[1;36m6\u001b[0m\u001b[1;33m)\u001b[0m\u001b[1;33m\u001b[0m\u001b[1;33m\u001b[0m\u001b[0m\n\u001b[0m",
      "\u001b[1;31mValueError\u001b[0m: tuple.index(x): x not in tuple"
     ]
    }
   ],
   "source": [
    "result.index(\"A\")\n",
    "result.index(\"A\", 6) # index 6에서 부터 \"A\" 를 찾는다.\n",
    "# 없는 값을 찾을 경우 Exception(예외-에러)가 발생."
   ]
  },
  {
   "cell_type": "code",
   "execution_count": 202,
   "id": "f4ae79f2",
   "metadata": {
    "ExecuteTime": {
     "end_time": "2022-12-21T03:38:05.842256Z",
     "start_time": "2022-12-21T03:38:05.822311Z"
    }
   },
   "outputs": [
    {
     "data": {
      "text/plain": [
       "4"
      ]
     },
     "execution_count": 202,
     "metadata": {},
     "output_type": "execute_result"
    }
   ],
   "source": [
    "t = (1, 1, 2, 3, 3, 2, 2, 2)\n",
    "t.count(2)"
   ]
  },
  {
   "cell_type": "code",
   "execution_count": null,
   "id": "b8e21e68",
   "metadata": {},
   "outputs": [],
   "source": []
  },
  {
   "cell_type": "markdown",
   "id": "e6c196f5",
   "metadata": {
    "slideshow": {
     "slide_type": "slide"
    }
   },
   "source": [
    "# Dictionary\n",
    "- 값을 키(key)-값(value) 쌍으로 묶어서 저장하는 자료구조이다.\n",
    "    - 리스트나 튜플의 index의 역할을 하는 key를 직접 지정한다.\n",
    "    - 서로 의미가 다른 값들을 하나로 묶을 때 그 값의 의미를 key로 가질 수 있는 dictionary를 사용한다.\n",
    "        - cf) 값의 의미가 같을 경우 List나 Tuple을 사용한다.\n",
    "    - key-value 쌍으로 묶은 데이터 한개를 **item 또는 entry**라고 한다.\n",
    "    \n",
    "## Dictionary 생성\n",
    "- 구문\n",
    "    1. `{ 키 : 값, 키 : 값, 키 : 값 }`\n",
    "    2. dict(key=value, key=value) 함수 이용\n",
    "    - 키(key)는 불변(Immutable)의 값들만 사용 가능하다. (숫자, 문자열, 튜플) 일반적으로 문자열을 사용한다.\n",
    "    - dict() 함수를 사용할 경우 key는 변수로 정의한다"
   ]
  },
  {
   "cell_type": "code",
   "execution_count": 5,
   "id": "d9d37f28",
   "metadata": {
    "ExecuteTime": {
     "end_time": "2022-12-21T05:23:34.061174Z",
     "start_time": "2022-12-21T05:23:34.042226Z"
    },
    "slideshow": {
     "slide_type": "fragment"
    }
   },
   "outputs": [
    {
     "name": "stdout",
     "output_type": "stream",
     "text": [
      "{'사과': 10, '귤': 20, '배': 15, '복숭아': 70, '수박': 7}\n",
      "--------------------\n",
      "{'이름': '홍길동', '나이': 20, '주소': '서울', '직업': '학생'}\n"
     ]
    }
   ],
   "source": [
    "# 사과가 10개, 귤이 20....\n",
    "# fruit_counts = [10, 20, 50, 70, 90, 5]\n",
    "fruit_counts = {\"사과\":10, \"귤\":20, \"배\":15, \"복숭아\":70, \"수박\":7}\n",
    "# 한사람의 고객정보 : 이름, 나이, 주소, 직업\n",
    "# customer_1 = [\"홍길동\", 20, \"서울\", \"학생\"]\n",
    "customer = {\"이름\":\"홍길동\",\n",
    "           \"나이\":20,\n",
    "           \"주소\":\"서울\",\n",
    "           \"직업\":\"학생\"}\n",
    "print(fruit_counts)\n",
    "print(\"-\"*20)\n",
    "print(customer)"
   ]
  },
  {
   "cell_type": "code",
   "execution_count": 208,
   "id": "a1c471a1",
   "metadata": {
    "ExecuteTime": {
     "end_time": "2022-12-21T05:28:24.445404Z",
     "start_time": "2022-12-21T05:28:24.426420Z"
    }
   },
   "outputs": [
    {
     "name": "stdout",
     "output_type": "stream",
     "text": [
      "{'name': '홍길동', 'nickname': '홍길동'}\n"
     ]
    }
   ],
   "source": [
    "# key 는 중복을 허용안함. value는 중복을 허용\n",
    "d = {'name':'홍길동', 'nickname':'홍길동'}\n",
    "print(d)"
   ]
  },
  {
   "cell_type": "code",
   "execution_count": 205,
   "id": "6a525404",
   "metadata": {
    "ExecuteTime": {
     "end_time": "2022-12-21T05:26:03.541251Z",
     "start_time": "2022-12-21T05:26:03.521307Z"
    }
   },
   "outputs": [
    {
     "name": "stdout",
     "output_type": "stream",
     "text": [
      "{'name': '육관순'}\n"
     ]
    }
   ],
   "source": [
    "d2 = {'name':'홍길동', 'name':'이순신', 'name':'육관순'}\n",
    "print(d2)"
   ]
  },
  {
   "cell_type": "code",
   "execution_count": 207,
   "id": "253cec3d",
   "metadata": {
    "ExecuteTime": {
     "end_time": "2022-12-21T05:27:29.610435Z",
     "start_time": "2022-12-21T05:27:29.601497Z"
    }
   },
   "outputs": [
    {
     "name": "stdout",
     "output_type": "stream",
     "text": [
      "{'name': '홍길동', 'age': 30, 'address': '부산'}\n"
     ]
    }
   ],
   "source": [
    "customer2 = dict(name=\"홍길동\", age = 30, address = \"부산\")\n",
    "print(customer2)"
   ]
  },
  {
   "cell_type": "markdown",
   "id": "f8c87bd3",
   "metadata": {
    "slideshow": {
     "slide_type": "subslide"
    }
   },
   "source": [
    "## Dictionary 원소 조회 및 변경\n",
    "- 조회: index에 key값을 식별자로 지정한다.\n",
    "    - dictionary\\[ key \\]\n",
    "    - 없는 키로 조회 시 KeyError 발생\n",
    "- 변경\n",
    "    - dictionary\\[ key \\] = 값\n",
    "    - 있는 key값에 값을 대입하면 변경이고 없는 key 일 경우는 새로운 item을 추가하는 것이다."
   ]
  },
  {
   "cell_type": "code",
   "execution_count": 212,
   "id": "49af9d05",
   "metadata": {
    "ExecuteTime": {
     "end_time": "2022-12-21T05:32:48.664568Z",
     "start_time": "2022-12-21T05:32:48.648575Z"
    }
   },
   "outputs": [
    {
     "data": {
      "text/plain": [
       "{'이름': '홍길동', '나이': 20, '주소': '서울', '직업': '학생'}"
      ]
     },
     "execution_count": 212,
     "metadata": {},
     "output_type": "execute_result"
    }
   ],
   "source": [
    "customer"
   ]
  },
  {
   "cell_type": "code",
   "execution_count": 211,
   "id": "241a47c3",
   "metadata": {
    "ExecuteTime": {
     "end_time": "2022-12-21T05:32:08.383487Z",
     "start_time": "2022-12-21T05:32:08.366531Z"
    }
   },
   "outputs": [
    {
     "name": "stdout",
     "output_type": "stream",
     "text": [
      "이름: 홍길동\n",
      "직업: 학생\n"
     ]
    }
   ],
   "source": [
    "print(\"이름:\",customer[\"이름\"])\n",
    "print(\"직업:\", customer[\"직업\"])"
   ]
  },
  {
   "cell_type": "code",
   "execution_count": null,
   "id": "539b52fa",
   "metadata": {},
   "outputs": [],
   "source": [
    "# 없는 키로 조회 -> Exception 발생.\n",
    "customer[\"키\"]"
   ]
  },
  {
   "cell_type": "code",
   "execution_count": 214,
   "id": "d5840422",
   "metadata": {
    "ExecuteTime": {
     "end_time": "2022-12-21T05:33:26.578716Z",
     "start_time": "2022-12-21T05:33:26.565752Z"
    }
   },
   "outputs": [
    {
     "data": {
      "text/plain": [
       "{'이름': '홍길동', '나이': 10, '주소': '서울', '직업': '학생'}"
      ]
     },
     "execution_count": 214,
     "metadata": {},
     "output_type": "execute_result"
    }
   ],
   "source": [
    "customer[\"나이\"] = 10 #있는 키에 값을 대입 -> 변경\n",
    "customer"
   ]
  },
  {
   "cell_type": "code",
   "execution_count": 12,
   "id": "dcffa783",
   "metadata": {
    "ExecuteTime": {
     "end_time": "2022-12-21T05:34:06.266612Z",
     "start_time": "2022-12-21T05:34:06.250651Z"
    }
   },
   "outputs": [
    {
     "data": {
      "text/plain": [
       "{'이름': '홍길동', '나이': 20, '주소': '서울', '직업': '학생', '몸무게': 70.58}"
      ]
     },
     "execution_count": 12,
     "metadata": {},
     "output_type": "execute_result"
    }
   ],
   "source": [
    "customer[\"몸무게\"] = 70.58 #없는 키에 값을 대입 -> 추가\n",
    "customer"
   ]
  },
  {
   "cell_type": "markdown",
   "id": "d5aade1e",
   "metadata": {
    "slideshow": {
     "slide_type": "slide"
    }
   },
   "source": [
    "## Dictionary 연산자\n",
    "\n",
    "- in, not in 연산자\n",
    "    - 값 in dictionary\n",
    "        - dictionary의 **Key**로 값이 **있으면** True, 없으면 False 반환\n",
    "    - 값 not in tuple\n",
    "        - dictionary의 **Key**로 값이 **없으면** True, 있으면 False 반환    \n",
    "- len(dictionary)\n",
    "    - dictionary의 **Item의 개수** 반환        "
   ]
  },
  {
   "cell_type": "code",
   "execution_count": 218,
   "id": "4c3666fd",
   "metadata": {
    "ExecuteTime": {
     "end_time": "2022-12-21T05:38:32.838794Z",
     "start_time": "2022-12-21T05:38:32.828818Z"
    }
   },
   "outputs": [
    {
     "data": {
      "text/plain": [
       "False"
      ]
     },
     "execution_count": 218,
     "metadata": {},
     "output_type": "execute_result"
    }
   ],
   "source": [
    "\"나이\" in customer # 딕셔너리에 \"나이\" 키가 있는지 여부\n",
    "\"나이\" not in customer # 딕셔너리에 \"나이\" 키가 없는지 여부"
   ]
  },
  {
   "cell_type": "code",
   "execution_count": 220,
   "id": "c0044261",
   "metadata": {
    "ExecuteTime": {
     "end_time": "2022-12-21T05:39:06.718117Z",
     "start_time": "2022-12-21T05:39:06.706146Z"
    }
   },
   "outputs": [
    {
     "data": {
      "text/plain": [
       "False"
      ]
     },
     "execution_count": 220,
     "metadata": {},
     "output_type": "execute_result"
    }
   ],
   "source": [
    "10 in customer # 10이란 key 가 있나?"
   ]
  },
  {
   "cell_type": "code",
   "execution_count": 222,
   "id": "f845bc63",
   "metadata": {
    "ExecuteTime": {
     "end_time": "2022-12-21T05:39:39.973854Z",
     "start_time": "2022-12-21T05:39:39.953909Z"
    }
   },
   "outputs": [
    {
     "data": {
      "text/plain": [
       "5"
      ]
     },
     "execution_count": 222,
     "metadata": {},
     "output_type": "execute_result"
    }
   ],
   "source": [
    "len(customer) # item의 개수"
   ]
  },
  {
   "cell_type": "markdown",
   "id": "9f620ec1",
   "metadata": {
    "slideshow": {
     "slide_type": "slide"
    }
   },
   "source": [
    "## Dictionary 주요 메소드\n",
    "\n",
    "|메소드|설명|\n",
    "|:-|-|\n",
    "|get(key\\[, 기본값\\])|key의 item의 값을 반환한다. 단 key가 없을 경우 None또는 기본값을 반환한다.|\n",
    "|pop(key)|key의 item의 값을 반환하면서 dictionary에서 삭제한다. 없는 key일 경우 KeyError발생|\n",
    "|clear()|dictionary의 모든 item들을 삭제한다.|\n",
    "|del dict\\[key\\]|key의 item을 제거한다.|\n",
    "|items()|item의 key, value를 튜플로 묶어 모아 반환한다.|\n",
    "|keys()|key값들만 모아 반환한다.|\n",
    "|values()|value값들만 모아 반환한다.|"
   ]
  },
  {
   "cell_type": "code",
   "execution_count": 9,
   "id": "2bcdba8f",
   "metadata": {
    "ExecuteTime": {
     "end_time": "2022-12-21T05:45:23.704163Z",
     "start_time": "2022-12-21T05:45:23.682186Z"
    }
   },
   "outputs": [
    {
     "name": "stdout",
     "output_type": "stream",
     "text": [
      "None\n",
      "70.58\n"
     ]
    }
   ],
   "source": [
    "customer\n",
    "v = customer.get(\"키\")\n",
    "print(v)\n",
    "v = customer.get(\"몸무게\")\n",
    "print(v)"
   ]
  },
  {
   "cell_type": "code",
   "execution_count": 229,
   "id": "6618502c",
   "metadata": {
    "ExecuteTime": {
     "end_time": "2022-12-21T05:46:32.478226Z",
     "start_time": "2022-12-21T05:46:32.464260Z"
    }
   },
   "outputs": [
    {
     "name": "stdout",
     "output_type": "stream",
     "text": [
      "키는 수집 못합\n"
     ]
    }
   ],
   "source": [
    "v = customer.get(\"키\", \"키는 수집 못합\") # 값이 없을 경우 .\n",
    "print(v)"
   ]
  },
  {
   "cell_type": "code",
   "execution_count": 230,
   "id": "dc562484",
   "metadata": {
    "ExecuteTime": {
     "end_time": "2022-12-21T05:46:50.197770Z",
     "start_time": "2022-12-21T05:46:50.181773Z"
    }
   },
   "outputs": [
    {
     "name": "stdout",
     "output_type": "stream",
     "text": [
      "70.58\n"
     ]
    }
   ],
   "source": [
    "v = customer.get(\"몸무게\", \"몸무게는 수집 못합\") # 값이 있을 경우 value 값 도출.\n",
    "print(v)"
   ]
  },
  {
   "cell_type": "code",
   "execution_count": 232,
   "id": "be7325d4",
   "metadata": {
    "ExecuteTime": {
     "end_time": "2022-12-21T05:48:43.146194Z",
     "start_time": "2022-12-21T05:48:43.130234Z"
    }
   },
   "outputs": [
    {
     "name": "stdout",
     "output_type": "stream",
     "text": [
      "{'이름': '홍길동', '나이': 10, '주소': '서울', '직업': '학생', '몸무게': 70.58}\n",
      "10\n",
      "{'이름': '홍길동', '주소': '서울', '직업': '학생', '몸무게': 70.58}\n"
     ]
    }
   ],
   "source": [
    "print(customer)\n",
    "age = customer.pop('나이')\n",
    "print(age)\n",
    "print(customer)"
   ]
  },
  {
   "cell_type": "code",
   "execution_count": 13,
   "id": "93ed91ae",
   "metadata": {
    "ExecuteTime": {
     "end_time": "2022-12-21T05:49:21.616238Z",
     "start_time": "2022-12-21T05:49:21.603233Z"
    }
   },
   "outputs": [
    {
     "name": "stdout",
     "output_type": "stream",
     "text": [
      "{'이름': '홍길동', '나이': 20, '주소': '서울', '직업': '학생', '몸무게': 70.58}\n",
      "{'이름': '홍길동', '나이': 20, '주소': '서울', '직업': '학생'}\n"
     ]
    }
   ],
   "source": [
    "print(customer)\n",
    "del customer[\"몸무게\"]\n",
    "print(customer)"
   ]
  },
  {
   "cell_type": "code",
   "execution_count": 235,
   "id": "d3e53960",
   "metadata": {
    "ExecuteTime": {
     "end_time": "2022-12-21T05:49:25.989549Z",
     "start_time": "2022-12-21T05:49:25.975587Z"
    }
   },
   "outputs": [
    {
     "data": {
      "text/plain": [
       "{'이름': '홍길동', '주소': '서울', '직업': '학생'}"
      ]
     },
     "execution_count": 235,
     "metadata": {},
     "output_type": "execute_result"
    }
   ],
   "source": [
    "customer"
   ]
  },
  {
   "cell_type": "code",
   "execution_count": 238,
   "id": "66279721",
   "metadata": {
    "ExecuteTime": {
     "end_time": "2022-12-21T05:50:24.177188Z",
     "start_time": "2022-12-21T05:50:24.166256Z"
    }
   },
   "outputs": [
    {
     "data": {
      "text/plain": [
       "dict_items([('이름', '홍길동'), ('주소', '서울'), ('직업', '학생')])"
      ]
     },
     "execution_count": 238,
     "metadata": {},
     "output_type": "execute_result"
    }
   ],
   "source": [
    "customer.items()"
   ]
  },
  {
   "cell_type": "code",
   "execution_count": 239,
   "id": "626be823",
   "metadata": {
    "ExecuteTime": {
     "end_time": "2022-12-21T05:50:46.657084Z",
     "start_time": "2022-12-21T05:50:46.649106Z"
    }
   },
   "outputs": [
    {
     "data": {
      "text/plain": [
       "dict_keys(['이름', '주소', '직업'])"
      ]
     },
     "execution_count": 239,
     "metadata": {},
     "output_type": "execute_result"
    }
   ],
   "source": [
    "customer.keys()"
   ]
  },
  {
   "cell_type": "code",
   "execution_count": 240,
   "id": "96068ed1",
   "metadata": {
    "ExecuteTime": {
     "end_time": "2022-12-21T05:50:58.283185Z",
     "start_time": "2022-12-21T05:50:58.275206Z"
    }
   },
   "outputs": [
    {
     "data": {
      "text/plain": [
       "dict_values(['홍길동', '서울', '학생'])"
      ]
     },
     "execution_count": 240,
     "metadata": {},
     "output_type": "execute_result"
    }
   ],
   "source": [
    "customer.values()"
   ]
  },
  {
   "cell_type": "code",
   "execution_count": 241,
   "id": "8cdd8a1e",
   "metadata": {
    "ExecuteTime": {
     "end_time": "2022-12-21T06:13:39.455454Z",
     "start_time": "2022-12-21T06:13:39.447475Z"
    }
   },
   "outputs": [
    {
     "name": "stdout",
     "output_type": "stream",
     "text": [
      "이름 , 홍길동\n",
      "주소 , 서울\n",
      "직업 , 학생\n"
     ]
    }
   ],
   "source": [
    "for k, v in customer.items():\n",
    "    print(k, v, sep=\" , \")"
   ]
  },
  {
   "cell_type": "code",
   "execution_count": 242,
   "id": "2ad3ae03",
   "metadata": {
    "ExecuteTime": {
     "end_time": "2022-12-21T06:14:06.615184Z",
     "start_time": "2022-12-21T06:14:06.599189Z"
    }
   },
   "outputs": [
    {
     "name": "stdout",
     "output_type": "stream",
     "text": [
      "10\n",
      "10\n"
     ]
    }
   ],
   "source": [
    "print(10);print(10) # 가독성이 떨어짐. 파이썬에서 기능은 제공하되 한줄에 한 명령값만 넣어라."
   ]
  },
  {
   "cell_type": "markdown",
   "id": "d97869af",
   "metadata": {
    "slideshow": {
     "slide_type": "slide"
    }
   },
   "source": [
    "# Set \n",
    "\n",
    "- Set은 중복되는 값을 허용하지 않고 순서를 신경 쓰지 않는다.\n",
    "    - 원소를 식별할 수 있는 식별자가 없기 때문에 Set은 indexing과 slicing을 지원하지 않는다\n",
    "\n",
    "## Set 생성\n",
    "- 구문\n",
    "    - {값, 값, 값 }\n",
    "\n",
    "> -빈 Dictionary 만들기\n",
    ">    - info = {}\n",
    ">    - 중괄호만 사용하면 빈 set이 아니라 빈 dictionary를 생성하는 것임.\n"
   ]
  },
  {
   "cell_type": "code",
   "execution_count": 12,
   "id": "5c88480a",
   "metadata": {
    "ExecuteTime": {
     "end_time": "2022-12-21T08:43:43.608637Z",
     "start_time": "2022-12-21T08:43:43.601656Z"
    },
    "slideshow": {
     "slide_type": "fragment"
    }
   },
   "outputs": [
    {
     "name": "stdout",
     "output_type": "stream",
     "text": [
      "{1, 2, 3, 4}\n"
     ]
    }
   ],
   "source": [
    "s = {1, 2, 3, 4}\n",
    "print(s)"
   ]
  },
  {
   "cell_type": "code",
   "execution_count": 13,
   "id": "a2c7b5d9",
   "metadata": {
    "ExecuteTime": {
     "end_time": "2022-12-21T08:43:44.297650Z",
     "start_time": "2022-12-21T08:43:44.274713Z"
    }
   },
   "outputs": [
    {
     "data": {
      "text/plain": [
       "{1, 2, 3, 4, 5, 6, 7, 8}"
      ]
     },
     "execution_count": 13,
     "metadata": {},
     "output_type": "execute_result"
    }
   ],
   "source": [
    "s2 = {1, 1, 1, 1, 1, 1, 1, 2, 2, 2, 2, 3, 3, 3, 3, 4, 4 ,4 ,6, 7, 8, 5}\n",
    "s2 # 중복 허용 (X)"
   ]
  },
  {
   "cell_type": "code",
   "execution_count": 11,
   "id": "8dae82ec",
   "metadata": {
    "ExecuteTime": {
     "end_time": "2022-12-21T08:43:40.514724Z",
     "start_time": "2022-12-21T08:43:40.494743Z"
    }
   },
   "outputs": [
    {
     "ename": "TypeError",
     "evalue": "'set' object is not subscriptable",
     "output_type": "error",
     "traceback": [
      "\u001b[1;31m---------------------------------------------------------------------------\u001b[0m",
      "\u001b[1;31mTypeError\u001b[0m                                 Traceback (most recent call last)",
      "\u001b[1;32m~\\AppData\\Local\\Temp\\ipykernel_7872\\2796797563.py\u001b[0m in \u001b[0;36m<module>\u001b[1;34m\u001b[0m\n\u001b[1;32m----> 1\u001b[1;33m \u001b[0ms2\u001b[0m\u001b[1;33m[\u001b[0m\u001b[1;36m0\u001b[0m\u001b[1;33m]\u001b[0m \u001b[1;31m# 개별원소를 subscriptable 조회할 수 없음.\u001b[0m\u001b[1;33m\u001b[0m\u001b[1;33m\u001b[0m\u001b[0m\n\u001b[0m",
      "\u001b[1;31mTypeError\u001b[0m: 'set' object is not subscriptable"
     ]
    }
   ],
   "source": [
    "s2[0] # 개별원소를 subscriptable 조회할 수 없음."
   ]
  },
  {
   "cell_type": "code",
   "execution_count": 250,
   "id": "3e21ea3d",
   "metadata": {
    "ExecuteTime": {
     "end_time": "2022-12-21T06:23:49.725571Z",
     "start_time": "2022-12-21T06:23:49.714604Z"
    }
   },
   "outputs": [
    {
     "name": "stdout",
     "output_type": "stream",
     "text": [
      "3\n"
     ]
    }
   ],
   "source": [
    "for v in s2:\n",
    " #   print(v)\n",
    "      if v == 3:\n",
    "        print(v)"
   ]
  },
  {
   "cell_type": "markdown",
   "id": "79cf0f20",
   "metadata": {
    "slideshow": {
     "slide_type": "slide"
    }
   },
   "source": [
    "## Set 연산자\n",
    "\n",
    "- in, not in 연산자\n",
    "    - 값 in Set\n",
    "        - Set의 원소로 값이 **있으면** True, 없으면 False 반환\n",
    "    - 값 not in Set\n",
    "        - Set의 원소로 값이 **없으면** True, 있으면 False 반환    \n",
    "- len(Set)\n",
    "    - Set의 **원소의 개수** 반환        "
   ]
  },
  {
   "cell_type": "code",
   "execution_count": 14,
   "id": "8d88056e",
   "metadata": {
    "ExecuteTime": {
     "end_time": "2022-12-21T08:43:48.506756Z",
     "start_time": "2022-12-21T08:43:48.491793Z"
    }
   },
   "outputs": [
    {
     "data": {
      "text/plain": [
       "False"
      ]
     },
     "execution_count": 14,
     "metadata": {},
     "output_type": "execute_result"
    }
   ],
   "source": [
    "10 in s2 # s2에 10 이 있는지 여부.\n",
    "10 not in s2\n",
    "2 in s2\n",
    "2 not in s2"
   ]
  },
  {
   "cell_type": "code",
   "execution_count": 16,
   "id": "6dbbe94d",
   "metadata": {
    "ExecuteTime": {
     "end_time": "2022-12-21T08:43:55.753710Z",
     "start_time": "2022-12-21T08:43:55.736766Z"
    }
   },
   "outputs": [
    {
     "data": {
      "text/plain": [
       "{1, 2, 3, 4, 5, 6, 7, 8}"
      ]
     },
     "execution_count": 16,
     "metadata": {},
     "output_type": "execute_result"
    }
   ],
   "source": [
    "s2"
   ]
  },
  {
   "cell_type": "code",
   "execution_count": 256,
   "id": "136109a2",
   "metadata": {
    "ExecuteTime": {
     "end_time": "2022-12-21T06:26:15.929647Z",
     "start_time": "2022-12-21T06:26:15.914648Z"
    }
   },
   "outputs": [
    {
     "data": {
      "text/plain": [
       "8"
      ]
     },
     "execution_count": 256,
     "metadata": {},
     "output_type": "execute_result"
    }
   ],
   "source": [
    "len(s2)"
   ]
  },
  {
   "cell_type": "markdown",
   "id": "080c2a17",
   "metadata": {
    "slideshow": {
     "slide_type": "slide"
    }
   },
   "source": [
    "## Set의 주요 메소드\n",
    "\n",
    "|메소드|설명|\n",
    "|-|-|\n",
    "|add(값)|집합에 값 추가|\n",
    "|update(자료구조)|자료구조내의 원소들을 모두 집합에 추가|\n",
    "|pop()|원소를 반환하고 Set에서 삭제한다.|\n",
    "|remove(값)|값을 찾아서 Set에서 삭제한다.|"
   ]
  },
  {
   "cell_type": "code",
   "execution_count": 17,
   "id": "37d18212",
   "metadata": {
    "ExecuteTime": {
     "end_time": "2022-12-21T08:43:59.886739Z",
     "start_time": "2022-12-21T08:43:59.881751Z"
    }
   },
   "outputs": [
    {
     "name": "stdout",
     "output_type": "stream",
     "text": [
      "{1, 2, 3, 4, 5, 6, 7, 8, 10}\n"
     ]
    }
   ],
   "source": [
    "s2.add(10)\n",
    "print(s2)"
   ]
  },
  {
   "cell_type": "code",
   "execution_count": 261,
   "id": "ca10a3eb",
   "metadata": {
    "ExecuteTime": {
     "end_time": "2022-12-21T06:29:15.679735Z",
     "start_time": "2022-12-21T06:29:15.665772Z"
    }
   },
   "outputs": [
    {
     "name": "stdout",
     "output_type": "stream",
     "text": [
      "{1, 2, 3, 4, 5, 6, 7, 8, 10, -20}\n"
     ]
    }
   ],
   "source": [
    "s2.add(-20)\n",
    "print(s2)"
   ]
  },
  {
   "cell_type": "code",
   "execution_count": 262,
   "id": "b6154dff",
   "metadata": {
    "ExecuteTime": {
     "end_time": "2022-12-21T06:29:47.573918Z",
     "start_time": "2022-12-21T06:29:47.561912Z"
    }
   },
   "outputs": [
    {
     "name": "stdout",
     "output_type": "stream",
     "text": [
      "{1, 2, 3, 4, 5, 6, 7, 8, 10, -20}\n"
     ]
    }
   ],
   "source": [
    "s2.add(-20)\n",
    "print(s2)"
   ]
  },
  {
   "cell_type": "code",
   "execution_count": 18,
   "id": "1672c65d",
   "metadata": {
    "ExecuteTime": {
     "end_time": "2022-12-21T08:44:32.888104Z",
     "start_time": "2022-12-21T08:44:32.877134Z"
    },
    "scrolled": true
   },
   "outputs": [
    {
     "name": "stdout",
     "output_type": "stream",
     "text": [
      "{1, 2, 3, 4, 5, 6, 7, 8, 100, 10, 200, 300}\n"
     ]
    }
   ],
   "source": [
    "s2.update([1,1,1,2,100,200,200,300])\n",
    "print(s2)"
   ]
  },
  {
   "cell_type": "code",
   "execution_count": 265,
   "id": "a83e1935",
   "metadata": {
    "ExecuteTime": {
     "end_time": "2022-12-21T06:31:42.614325Z",
     "start_time": "2022-12-21T06:31:42.608340Z"
    }
   },
   "outputs": [
    {
     "name": "stdout",
     "output_type": "stream",
     "text": [
      "{1, 2, 3, 4, 5, 6, 7, 8, 100, 10, 200, -20, 300, 'a', 'b'}\n"
     ]
    }
   ],
   "source": [
    "s2.update({\"a\":100, \"b\":200})\n",
    "print(s2) # 키 값만 들어감."
   ]
  },
  {
   "cell_type": "code",
   "execution_count": 266,
   "id": "aaa6afde",
   "metadata": {
    "ExecuteTime": {
     "end_time": "2022-12-21T06:32:12.600756Z",
     "start_time": "2022-12-21T06:32:12.582837Z"
    }
   },
   "outputs": [
    {
     "name": "stdout",
     "output_type": "stream",
     "text": [
      "1\n",
      "{2, 3, 4, 5, 6, 7, 8, 100, 10, 200, -20, 300, 'a', 'b'}\n"
     ]
    }
   ],
   "source": [
    "v = s2.pop() \n",
    "print(v)\n",
    "print(s2)"
   ]
  },
  {
   "cell_type": "code",
   "execution_count": 267,
   "id": "3965c696",
   "metadata": {
    "ExecuteTime": {
     "end_time": "2022-12-21T06:32:41.073853Z",
     "start_time": "2022-12-21T06:32:41.057895Z"
    }
   },
   "outputs": [
    {
     "name": "stdout",
     "output_type": "stream",
     "text": [
      "{2, 3, 4, 5, 6, 8, 100, 10, 200, -20, 300, 'a', 'b'}\n"
     ]
    }
   ],
   "source": [
    "s2.remove(7)\n",
    "print(s2)"
   ]
  },
  {
   "cell_type": "code",
   "execution_count": 268,
   "id": "8515bc8b",
   "metadata": {
    "ExecuteTime": {
     "end_time": "2022-12-21T06:33:27.352847Z",
     "start_time": "2022-12-21T06:33:27.326922Z"
    }
   },
   "outputs": [
    {
     "ename": "KeyError",
     "evalue": "500",
     "output_type": "error",
     "traceback": [
      "\u001b[1;31m---------------------------------------------------------------------------\u001b[0m",
      "\u001b[1;31mKeyError\u001b[0m                                  Traceback (most recent call last)",
      "\u001b[1;32m~\\AppData\\Local\\Temp\\ipykernel_12496\\2053003277.py\u001b[0m in \u001b[0;36m<module>\u001b[1;34m\u001b[0m\n\u001b[1;32m----> 1\u001b[1;33m \u001b[0ms2\u001b[0m\u001b[1;33m.\u001b[0m\u001b[0mremove\u001b[0m\u001b[1;33m(\u001b[0m\u001b[1;36m500\u001b[0m\u001b[1;33m)\u001b[0m \u001b[1;31m#없는 값 삭제시 Exception 발생.\u001b[0m\u001b[1;33m\u001b[0m\u001b[1;33m\u001b[0m\u001b[0m\n\u001b[0m",
      "\u001b[1;31mKeyError\u001b[0m: 500"
     ]
    }
   ],
   "source": [
    "s2.remove(500) #없는 값 삭제시 Exception 발생."
   ]
  },
  {
   "cell_type": "markdown",
   "id": "33d115cd",
   "metadata": {
    "slideshow": {
     "slide_type": "subslide"
    }
   },
   "source": [
    "## Set의 집합연산 연산자 및 메소드\n",
    "\n",
    "- 합집합\n",
    "    - 집합A | 집합B\n",
    "    - 집합A.union(집합B)\n",
    "- 교집합\n",
    "    - 집합A & 집합B\n",
    "    - 집합A.intersection(집합B)\n",
    "- 차집합\n",
    "    - 집합A - 집합B\n",
    "    - 집합A.difference(집합B)"
   ]
  },
  {
   "cell_type": "code",
   "execution_count": 269,
   "id": "b93777e7",
   "metadata": {
    "ExecuteTime": {
     "end_time": "2022-12-21T06:36:56.026008Z",
     "start_time": "2022-12-21T06:36:56.015037Z"
    }
   },
   "outputs": [
    {
     "name": "stdout",
     "output_type": "stream",
     "text": [
      "{1, 2, 3, 4, 5}\n",
      "{3, 4, 5, 6, 7}\n",
      "{1, 2, 3, 4, 5, 6, 7}\n"
     ]
    }
   ],
   "source": [
    "s1 = {1, 2, 3, 4, 5}\n",
    "s2 = {3,4,5,6,7}\n",
    "s3 = s1 | s2 # 합집합\n",
    "print(s1)\n",
    "print(s2)\n",
    "print(s3)"
   ]
  },
  {
   "cell_type": "code",
   "execution_count": 270,
   "id": "faed803f",
   "metadata": {
    "ExecuteTime": {
     "end_time": "2022-12-21T06:37:22.500063Z",
     "start_time": "2022-12-21T06:37:22.495076Z"
    }
   },
   "outputs": [
    {
     "name": "stdout",
     "output_type": "stream",
     "text": [
      "{1, 2, 3, 4, 5, 6, 7}\n"
     ]
    }
   ],
   "source": [
    "print(s1.union(s2))"
   ]
  },
  {
   "cell_type": "code",
   "execution_count": 272,
   "id": "9aa30e10",
   "metadata": {
    "ExecuteTime": {
     "end_time": "2022-12-21T06:38:23.459097Z",
     "start_time": "2022-12-21T06:38:23.447095Z"
    }
   },
   "outputs": [
    {
     "name": "stdout",
     "output_type": "stream",
     "text": [
      "{3, 4, 5}\n",
      "{3, 4, 5}\n"
     ]
    }
   ],
   "source": [
    "# 교집합\n",
    "s4 = s1 & s2\n",
    "print(s4)\n",
    "print(s1.intersection(s2))"
   ]
  },
  {
   "cell_type": "code",
   "execution_count": 274,
   "id": "00ec566a",
   "metadata": {
    "ExecuteTime": {
     "end_time": "2022-12-21T06:38:48.558236Z",
     "start_time": "2022-12-21T06:38:48.537293Z"
    }
   },
   "outputs": [
    {
     "name": "stdout",
     "output_type": "stream",
     "text": [
      "{1, 2}\n",
      "{1, 2}\n"
     ]
    }
   ],
   "source": [
    "# 차집합\n",
    "print(s1 - s2)\n",
    "print(s1.difference(s2))\n"
   ]
  },
  {
   "cell_type": "markdown",
   "id": "a3778f41",
   "metadata": {
    "slideshow": {
     "slide_type": "slide"
    }
   },
   "source": [
    "# 자료구조 변환 함수\n",
    "\n",
    "- list(자료구조)\n",
    "    - 대상 자료구조/Iterable을 List로 변환한다.\n",
    "- tuple(자료구조)\n",
    "    - 대상 자료구조/Iterable을 Tuple로 변환\n",
    "- set(자료구조)\n",
    "    - 대상 자료구조/Iterable을 Set으로 변환\n",
    "    - 다른 자료구조의 원소 중 중복을 빼고 조회할 때 set()를 이용해 Set으로 변환한다.\n",
    "- Dictionary로 변환하는 함수는 없다.\n",
    "- 변경할 대상이 Dictionary 일 경우에는 key값들만 모아서 변환한다.\n",
    "\n",
    "> - Iterable\n",
    ">    - 반복가능한 객체. 반복문(for in)을 이용해 일련의 값들을 반복적으로 각각 제공하는 객체를 말한다. \n",
    ">    - 대표적으로 자료구조, 문자열 등이 있다."
   ]
  },
  {
   "cell_type": "code",
   "execution_count": 275,
   "id": "dbba155b",
   "metadata": {
    "ExecuteTime": {
     "end_time": "2022-12-21T06:46:19.493268Z",
     "start_time": "2022-12-21T06:46:19.485290Z"
    }
   },
   "outputs": [
    {
     "name": "stdout",
     "output_type": "stream",
     "text": [
      "{1, 2, 3, 4, 40, 10, 20}\n"
     ]
    }
   ],
   "source": [
    "l = [1,2,2,2,2,3,3,1,2,3,4,2,3,10,40,1,20]\n",
    "고유값 = set(l)\n",
    "print(고유값)"
   ]
  },
  {
   "cell_type": "code",
   "execution_count": 277,
   "id": "6fea684e",
   "metadata": {
    "ExecuteTime": {
     "end_time": "2022-12-21T06:46:59.539658Z",
     "start_time": "2022-12-21T06:46:59.532678Z"
    }
   },
   "outputs": [
    {
     "name": "stdout",
     "output_type": "stream",
     "text": [
      "{1, 2, 3, 4, 23}\n"
     ]
    }
   ],
   "source": [
    "t = (1,2,3,1,23,3,4,)\n",
    "print(set(t))"
   ]
  },
  {
   "cell_type": "code",
   "execution_count": 279,
   "id": "4507415c",
   "metadata": {
    "ExecuteTime": {
     "end_time": "2022-12-21T06:47:44.339354Z",
     "start_time": "2022-12-21T06:47:44.321399Z"
    }
   },
   "outputs": [
    {
     "name": "stdout",
     "output_type": "stream",
     "text": [
      "{'B', 'c', 'A'}\n"
     ]
    }
   ],
   "source": [
    "d = {\"A\":1, \"B\":2, \"c\":3}\n",
    "print(set(d))"
   ]
  },
  {
   "cell_type": "code",
   "execution_count": 281,
   "id": "295c73c1",
   "metadata": {
    "ExecuteTime": {
     "end_time": "2022-12-21T06:48:36.321322Z",
     "start_time": "2022-12-21T06:48:36.299422Z"
    }
   },
   "outputs": [
    {
     "data": {
      "text/plain": [
       "(1, 2, 30)"
      ]
     },
     "execution_count": 281,
     "metadata": {},
     "output_type": "execute_result"
    }
   ],
   "source": [
    "t = (1,2,3)\n",
    "l = list(t)\n",
    "l[2] = 30\n",
    "t = tuple(l)\n",
    "t"
   ]
  },
  {
   "cell_type": "code",
   "execution_count": 283,
   "id": "f5f4f86f",
   "metadata": {
    "ExecuteTime": {
     "end_time": "2022-12-21T06:50:37.028429Z",
     "start_time": "2022-12-21T06:50:37.007486Z"
    }
   },
   "outputs": [
    {
     "data": {
      "text/plain": [
       "['a', 'b', 'c', 'd', 'e', 'f', '가', '나', '다', '라', '마', '1', '2', '3', '4']"
      ]
     },
     "execution_count": 283,
     "metadata": {},
     "output_type": "execute_result"
    }
   ],
   "source": [
    "a = list(\"abcdef가나다라마1234\") # 문자열 -> 리스트\n",
    "a"
   ]
  },
  {
   "cell_type": "code",
   "execution_count": 284,
   "id": "b487e4fd",
   "metadata": {
    "ExecuteTime": {
     "end_time": "2022-12-21T06:51:13.474442Z",
     "start_time": "2022-12-21T06:51:13.459483Z"
    }
   },
   "outputs": [
    {
     "data": {
      "text/plain": [
       "('a', 'b', 'c', 'd')"
      ]
     },
     "execution_count": 284,
     "metadata": {},
     "output_type": "execute_result"
    }
   ],
   "source": [
    "tuple(\"abcd\")"
   ]
  },
  {
   "cell_type": "code",
   "execution_count": 285,
   "id": "dbd99e15",
   "metadata": {
    "ExecuteTime": {
     "end_time": "2022-12-21T06:51:23.644390Z",
     "start_time": "2022-12-21T06:51:23.622449Z"
    }
   },
   "outputs": [
    {
     "data": {
      "text/plain": [
       "{'a', 'b', 'c', 'd', 'e'}"
      ]
     },
     "execution_count": 285,
     "metadata": {},
     "output_type": "execute_result"
    }
   ],
   "source": [
    "set(\"abcdedddd\")"
   ]
  },
  {
   "cell_type": "markdown",
   "id": "b4671a5d",
   "metadata": {
    "slideshow": {
     "slide_type": "skip"
    }
   },
   "source": [
    "# TODO"
   ]
  },
  {
   "cell_type": "code",
   "execution_count": null,
   "id": "20616044",
   "metadata": {
    "slideshow": {
     "slide_type": "skip"
    }
   },
   "outputs": [],
   "source": [
    "# 문제 1 ~ 7\n",
    "jumsu = [100, 90, 100, 80, 70, 100, 80, 90, 95, 85] \n",
    "# 위 리스트는 학생번호 1번 ~ 10번까지 10명의 시험 점수이다. "
   ]
  },
  {
   "cell_type": "code",
   "execution_count": 289,
   "id": "9687e4d8",
   "metadata": {
    "ExecuteTime": {
     "end_time": "2022-12-21T06:55:33.739554Z",
     "start_time": "2022-12-21T06:55:33.724591Z"
    },
    "slideshow": {
     "slide_type": "skip"
    }
   },
   "outputs": [
    {
     "name": "stdout",
     "output_type": "stream",
     "text": [
      "80\n"
     ]
    }
   ],
   "source": [
    "#(1)  7번의 점수를 출력하세요 \n",
    "jumsu = [100, 90, 100, 80, 70, 100, 80, 90, 95, 85] \n",
    "print(jumsu[6])"
   ]
  },
  {
   "cell_type": "code",
   "execution_count": 291,
   "id": "44456ce8",
   "metadata": {
    "ExecuteTime": {
     "end_time": "2022-12-21T06:56:05.152709Z",
     "start_time": "2022-12-21T06:56:05.138749Z"
    },
    "slideshow": {
     "slide_type": "skip"
    }
   },
   "outputs": [
    {
     "name": "stdout",
     "output_type": "stream",
     "text": [
      "[100, 90, 100, 80, 70]\n"
     ]
    }
   ],
   "source": [
    "#(2)  1번부터 5번까지의 점수를 출력하세요.\n",
    "print(jumsu[:5])"
   ]
  },
  {
   "cell_type": "code",
   "execution_count": 292,
   "id": "ca3b117f",
   "metadata": {
    "ExecuteTime": {
     "end_time": "2022-12-21T06:56:51.393905Z",
     "start_time": "2022-12-21T06:56:51.374992Z"
    },
    "slideshow": {
     "slide_type": "skip"
    }
   },
   "outputs": [
    {
     "name": "stdout",
     "output_type": "stream",
     "text": [
      "[80, 70, 100, 80]\n"
     ]
    }
   ],
   "source": [
    "#(3)  4, 5, 6, 7번의 점수를 출력하세요.\n",
    "print(jumsu[3:7])"
   ]
  },
  {
   "cell_type": "code",
   "execution_count": 297,
   "id": "51cc1d22",
   "metadata": {
    "ExecuteTime": {
     "end_time": "2022-12-21T06:58:44.179780Z",
     "start_time": "2022-12-21T06:58:44.160793Z"
    },
    "slideshow": {
     "slide_type": "skip"
    }
   },
   "outputs": [
    {
     "name": "stdout",
     "output_type": "stream",
     "text": [
      "[90, 80, 100, 90, 85]\n"
     ]
    }
   ],
   "source": [
    "#(4) 짝수번째 점수를 출력하세요.\n",
    "print(jumsu[1::2])"
   ]
  },
  {
   "cell_type": "code",
   "execution_count": 298,
   "id": "26567598",
   "metadata": {
    "ExecuteTime": {
     "end_time": "2022-12-21T06:59:10.901768Z",
     "start_time": "2022-12-21T06:59:10.881781Z"
    },
    "slideshow": {
     "slide_type": "skip"
    }
   },
   "outputs": [
    {
     "name": "stdout",
     "output_type": "stream",
     "text": [
      "[100, 100, 70, 80, 95]\n"
     ]
    }
   ],
   "source": [
    "#(5) 홀수번째 점수를 출력하세요.\n",
    "print(jumsu[::2])"
   ]
  },
  {
   "cell_type": "code",
   "execution_count": 299,
   "id": "91766dc5",
   "metadata": {
    "ExecuteTime": {
     "end_time": "2022-12-21T07:02:29.075275Z",
     "start_time": "2022-12-21T07:02:29.064300Z"
    },
    "slideshow": {
     "slide_type": "skip"
    }
   },
   "outputs": [
    {
     "name": "stdout",
     "output_type": "stream",
     "text": [
      "[100, 90, 100, 80, 70, 100, 80, 90, 20, 95, 85]\n"
     ]
    }
   ],
   "source": [
    "#(6) 9번의 점수를 20으로 변경하고 전체 출력하세요.\n",
    "jumsu.insert(8, 20)\n",
    "print(jumsu)\n",
    "#jumsu[8] = 20 \n",
    "#print(jumsu) 이렇게 해도 가능."
   ]
  },
  {
   "cell_type": "code",
   "execution_count": 300,
   "id": "7c9be6ce",
   "metadata": {
    "ExecuteTime": {
     "end_time": "2022-12-21T07:03:04.701413Z",
     "start_time": "2022-12-21T07:03:04.693395Z"
    },
    "slideshow": {
     "slide_type": "skip"
    }
   },
   "outputs": [
    {
     "name": "stdout",
     "output_type": "stream",
     "text": [
      "{100, 70, 80, 20, 85, 90, 95}\n"
     ]
    }
   ],
   "source": [
    "#(7) 중복된 점수는 제거하고 하나씩만 나오도록 출력하세요.\n",
    "print(set(jumsu))"
   ]
  },
  {
   "cell_type": "code",
   "execution_count": null,
   "id": "3f54adbc",
   "metadata": {},
   "outputs": [],
   "source": []
  },
  {
   "cell_type": "code",
   "execution_count": 343,
   "id": "40cea554",
   "metadata": {
    "ExecuteTime": {
     "end_time": "2022-12-21T08:28:37.969162Z",
     "start_time": "2022-12-21T08:28:37.950180Z"
    }
   },
   "outputs": [],
   "source": [
    "fruits = [\"복숭아\", \"수박\", \"딸기\"]"
   ]
  },
  {
   "cell_type": "code",
   "execution_count": 344,
   "id": "340f0b94",
   "metadata": {
    "ExecuteTime": {
     "end_time": "2022-12-21T08:28:38.724238Z",
     "start_time": "2022-12-21T08:28:38.714297Z"
    },
    "slideshow": {
     "slide_type": "skip"
    }
   },
   "outputs": [
    {
     "name": "stdout",
     "output_type": "stream",
     "text": [
      "['복숭아', '수박', '딸기', '사과', '귤']\n"
     ]
    }
   ],
   "source": [
    "# 문제 8 ~ 9\n",
    "#(8) fruits 리스트에 마지막 원소로 \"사과\", \"귤\"을 추가하세요.\n",
    "fruits.extend([\"사과\",\"귤\"])\n",
    "print(fruits)"
   ]
  },
  {
   "cell_type": "code",
   "execution_count": 345,
   "id": "47ab3f06",
   "metadata": {
    "ExecuteTime": {
     "end_time": "2022-12-21T08:28:39.448230Z",
     "start_time": "2022-12-21T08:28:39.435263Z"
    },
    "slideshow": {
     "slide_type": "skip"
    }
   },
   "outputs": [
    {
     "name": "stdout",
     "output_type": "stream",
     "text": [
      "['수박', '딸기', '사과', '귤']\n"
     ]
    }
   ],
   "source": [
    "#(9) fruits 리스트에서 \"복숭아\"를 제거하세요.\n",
    "\n",
    "fruits.remove(\"복숭아\")\n",
    "print(fruits)"
   ]
  },
  {
   "cell_type": "code",
   "execution_count": 346,
   "id": "12ecb81b",
   "metadata": {
    "ExecuteTime": {
     "end_time": "2022-12-21T08:28:41.117153Z",
     "start_time": "2022-12-21T08:28:41.096180Z"
    }
   },
   "outputs": [
    {
     "name": "stdout",
     "output_type": "stream",
     "text": [
      "['수박', '딸기', '사과', '귤']\n"
     ]
    }
   ],
   "source": [
    "print(fruits)"
   ]
  },
  {
   "cell_type": "code",
   "execution_count": 341,
   "id": "ef471d47",
   "metadata": {
    "ExecuteTime": {
     "end_time": "2022-12-21T08:28:21.487950Z",
     "start_time": "2022-12-21T08:28:21.468007Z"
    }
   },
   "outputs": [
    {
     "ename": "ValueError",
     "evalue": "'사과' is not in list",
     "output_type": "error",
     "traceback": [
      "\u001b[1;31m---------------------------------------------------------------------------\u001b[0m",
      "\u001b[1;31mValueError\u001b[0m                                Traceback (most recent call last)",
      "\u001b[1;32m~\\AppData\\Local\\Temp\\ipykernel_12496\\4238771729.py\u001b[0m in \u001b[0;36m<module>\u001b[1;34m\u001b[0m\n\u001b[1;32m----> 1\u001b[1;33m \u001b[0midx\u001b[0m \u001b[1;33m=\u001b[0m \u001b[0mfruits\u001b[0m\u001b[1;33m.\u001b[0m\u001b[0mindex\u001b[0m\u001b[1;33m(\u001b[0m\u001b[1;34m\"사과\"\u001b[0m\u001b[1;33m)\u001b[0m\u001b[1;33m\u001b[0m\u001b[1;33m\u001b[0m\u001b[0m\n\u001b[0m\u001b[0;32m      2\u001b[0m \u001b[1;32mdel\u001b[0m \u001b[0mfruits\u001b[0m\u001b[1;33m[\u001b[0m\u001b[0midx\u001b[0m\u001b[1;33m]\u001b[0m\u001b[1;33m\u001b[0m\u001b[1;33m\u001b[0m\u001b[0m\n",
      "\u001b[1;31mValueError\u001b[0m: '사과' is not in list"
     ]
    }
   ],
   "source": [
    "idx = fruits.index(\"사과\")\n",
    "del fruits[idx]"
   ]
  },
  {
   "cell_type": "code",
   "execution_count": null,
   "id": "a0d9ed0d",
   "metadata": {},
   "outputs": [],
   "source": []
  },
  {
   "cell_type": "code",
   "execution_count": 359,
   "id": "9eaf59e2",
   "metadata": {
    "ExecuteTime": {
     "end_time": "2022-12-21T08:33:27.092138Z",
     "start_time": "2022-12-21T08:33:27.081202Z"
    },
    "slideshow": {
     "slide_type": "skip"
    }
   },
   "outputs": [
    {
     "name": "stdout",
     "output_type": "stream",
     "text": [
      "{'이름': '이석민', '나이': '26', 'email주소': '97sukmin@naver.com', '취미': ['클라이밍', '맨몸운동'], '결혼유무': 'X'}\n"
     ]
    }
   ],
   "source": [
    "# 문제 10 ~ 15\n",
    "#(10)본인의 이름, 나이, email주소, 취미, 결혼유무를 사전(딕셔너리)으로 생성. \n",
    "# 취미는 2개 이상의 값을 넣는다..\n",
    "me = {\"이름\":\"이석민\",\n",
    "      \"나이\":\"26\", \n",
    "      \"email주소\":\"97sukmin@naver.com\", \n",
    "      \"취미\":[\"클라이밍\",\"맨몸운동\"], \n",
    "      \"결혼유무\":\"X\"}\n",
    "print(me)"
   ]
  },
  {
   "cell_type": "code",
   "execution_count": 361,
   "id": "8ee3f871",
   "metadata": {
    "ExecuteTime": {
     "end_time": "2022-12-21T08:33:39.495299Z",
     "start_time": "2022-12-21T08:33:39.475317Z"
    },
    "slideshow": {
     "slide_type": "skip"
    }
   },
   "outputs": [
    {
     "name": "stdout",
     "output_type": "stream",
     "text": [
      "이석민 97sukmin@naver.com\n",
      "97sukmin@naver.com\n"
     ]
    }
   ],
   "source": [
    "#(11) 위 딕셔너리에서 이름과 email주소를 조회해서 출력하세요.\n",
    "print(me[\"이름\"], me[\"email주소\"])\n",
    "print(me.get('email주소'))"
   ]
  },
  {
   "cell_type": "code",
   "execution_count": 356,
   "id": "a3adf8f3",
   "metadata": {
    "ExecuteTime": {
     "end_time": "2022-12-21T08:32:34.775365Z",
     "start_time": "2022-12-21T08:32:34.759366Z"
    },
    "slideshow": {
     "slide_type": "skip"
    }
   },
   "outputs": [
    {
     "name": "stdout",
     "output_type": "stream",
     "text": [
      "맨몸운동\n"
     ]
    }
   ],
   "source": [
    "#(12) 위 딕셔너리에서 취미중 두번째 취미를 조회해서 출력하세요.\n",
    "print(me[\"취미\"][1])"
   ]
  },
  {
   "cell_type": "code",
   "execution_count": 350,
   "id": "8f72c534",
   "metadata": {
    "ExecuteTime": {
     "end_time": "2022-12-21T08:30:12.565280Z",
     "start_time": "2022-12-21T08:30:12.550288Z"
    },
    "slideshow": {
     "slide_type": "skip"
    }
   },
   "outputs": [
    {
     "name": "stdout",
     "output_type": "stream",
     "text": [
      "{'이름': '이석민', '나이': '26', 'email주소': '97sukmin@naver.com', '취미': ['클라이밍', '맨몸운동'], '결혼유무': 'X', '몸무게': 84, '키': 186}\n"
     ]
    }
   ],
   "source": [
    "#(13) 위 딕셔너리에 몸무게와 키 항목을 추가하세요.\n",
    "me[\"몸무게\"] = 84\n",
    "me[\"키\"] = 186 \n",
    "print(me)"
   ]
  },
  {
   "cell_type": "code",
   "execution_count": 351,
   "id": "b157102e",
   "metadata": {
    "ExecuteTime": {
     "end_time": "2022-12-21T08:30:16.741436Z",
     "start_time": "2022-12-21T08:30:16.726473Z"
    },
    "slideshow": {
     "slide_type": "skip"
    }
   },
   "outputs": [
    {
     "name": "stdout",
     "output_type": "stream",
     "text": [
      "{'이름': '이석민', 'email주소': '97sukmin@naver.com', '취미': ['클라이밍', '맨몸운동'], '결혼유무': 'X', '몸무게': 84, '키': 186}\n"
     ]
    }
   ],
   "source": [
    "#(14) 위 딕셔너리에서 나이를 제거하세요.\n",
    "del me[\"나이\"]\n",
    "print(me)"
   ]
  },
  {
   "cell_type": "code",
   "execution_count": 352,
   "id": "12398809",
   "metadata": {
    "ExecuteTime": {
     "end_time": "2022-12-21T08:30:23.148304Z",
     "start_time": "2022-12-21T08:30:23.139329Z"
    },
    "slideshow": {
     "slide_type": "skip"
    }
   },
   "outputs": [
    {
     "name": "stdout",
     "output_type": "stream",
     "text": [
      "{'이름': '이석민', 'email주소': 'ing970@gmail.com', '취미': ['클라이밍', '맨몸운동'], '결혼유무': 'X', '몸무게': 84, '키': 186}\n"
     ]
    }
   ],
   "source": [
    "#(15) 위 딕셔너리에서 email 주소를 다른 값으로 변경하세요.\n",
    "me[\"email주소\"] = \"ing970@gmail.com\"\n",
    "print(me)"
   ]
  },
  {
   "cell_type": "code",
   "execution_count": 2,
   "id": "9239db8c",
   "metadata": {
    "ExecuteTime": {
     "end_time": "2022-12-21T08:35:19.526334Z",
     "start_time": "2022-12-21T08:35:16.154385Z"
    }
   },
   "outputs": [
    {
     "name": "stdout",
     "output_type": "stream",
     "text": [
      "1 2\n",
      "3\n"
     ]
    }
   ],
   "source": [
    "a, b = map(int, input().split())\n",
    "print(a + b)"
   ]
  }
 ],
 "metadata": {
  "kernelspec": {
   "display_name": "Python 3 (ipykernel)",
   "language": "python",
   "name": "python3"
  },
  "language_info": {
   "codemirror_mode": {
    "name": "ipython",
    "version": 3
   },
   "file_extension": ".py",
   "mimetype": "text/x-python",
   "name": "python",
   "nbconvert_exporter": "python",
   "pygments_lexer": "ipython3",
   "version": "3.9.16"
  },
  "toc": {
   "base_numbering": 1,
   "nav_menu": {},
   "number_sections": true,
   "sideBar": true,
   "skip_h1_title": false,
   "title_cell": "Table of Contents",
   "title_sidebar": "Contents",
   "toc_cell": false,
   "toc_position": {
    "height": "calc(100% - 180px)",
    "left": "10px",
    "top": "150px",
    "width": "303.825px"
   },
   "toc_section_display": true,
   "toc_window_display": false
  },
  "varInspector": {
   "cols": {
    "lenName": 16,
    "lenType": 16,
    "lenVar": 40
   },
   "kernels_config": {
    "python": {
     "delete_cmd_postfix": "",
     "delete_cmd_prefix": "del ",
     "library": "var_list.py",
     "varRefreshCmd": "print(var_dic_list())"
    },
    "r": {
     "delete_cmd_postfix": ") ",
     "delete_cmd_prefix": "rm(",
     "library": "var_list.r",
     "varRefreshCmd": "cat(var_dic_list()) "
    }
   },
   "types_to_exclude": [
    "module",
    "function",
    "builtin_function_or_method",
    "instance",
    "_Feature"
   ],
   "window_display": false
  }
 },
 "nbformat": 4,
 "nbformat_minor": 5
}
