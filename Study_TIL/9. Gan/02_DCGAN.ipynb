{
 "cells": [
  {
   "cell_type": "markdown",
   "metadata": {
    "id": "DiNH4UpHmLNt"
   },
   "source": [
    "# <span style='background-color:#fff5b1'>Down sampling과 Up sampling\n",
    "- Down sampling\n",
    "    - Convolution을 진행하면서 입력 이미지의 크기를 줄여가는 것\n",
    "    - convolution의 stride나 Pooling layer를 이용해 줄인다.\n",
    "- Up sampling\n",
    "    - Convolution을 진행하면서 입력 이미지의 크기를 늘려가는 것\n",
    "    - 보통 convolution의 stride나 Pooling layer를 이용해 줄여진 이미지를 다시 원래 크기로 복원 시킬때 많이 사용된다."
   ]
  },
  {
   "cell_type": "markdown",
   "metadata": {
    "id": "zoi8LkNXmLNu"
   },
   "source": [
    "# <span style='background-color:#fff5b1'> UpSampling\n",
    "- tensorflow.keras.layers.UpSampling2D 사용.\n",
    "- 단순히 늘린다. \n",
    "    - 크기를 늘리는 resizing을 한 뒤 빈 공간을 채운다.\n",
    "- UpSampling2D로 입력 이미지의 사이즈를 늘린 뒤 Conv2D를 연결해서 학습이 되도록 한다.\n",
    "- 하이퍼파라미터\n",
    "    - size=(2,2) : 입력을 몇배로 크게 만들지 지정"
   ]
  },
  {
   "cell_type": "code",
   "execution_count": null,
   "metadata": {
    "ExecuteTime": {
     "end_time": "2022-10-17T08:36:29.695295Z",
     "start_time": "2022-10-17T08:36:26.222628Z"
    },
    "executionInfo": {
     "elapsed": 968,
     "status": "ok",
     "timestamp": 1604979999341,
     "user": {
      "displayName": "Sunghwan KIM",
      "photoUrl": "",
      "userId": "06010856989212311727"
     },
     "user_tz": -540
    },
    "id": "-TQhHt8qmLNv"
   },
   "outputs": [],
   "source": [
    "import numpy as np\n",
    "import tensorflow as tf\n",
    "from tensorflow import keras\n",
    "from tensorflow.keras import layers"
   ]
  },
  {
   "cell_type": "code",
   "execution_count": null,
   "metadata": {
    "colab": {
     "base_uri": "https://localhost:8080/"
    },
    "executionInfo": {
     "elapsed": 958,
     "status": "ok",
     "timestamp": 1604979999342,
     "user": {
      "displayName": "Sunghwan KIM",
      "photoUrl": "",
      "userId": "06010856989212311727"
     },
     "user_tz": -540
    },
    "id": "ijeDWJyAmLNz",
    "outputId": "095d343b-dd91-4f38-9c3b-9553b9e2275a"
   },
   "outputs": [],
   "source": [
    "X = np.arange(1, 5).reshape(1, 2, 2, 1)\n",
    "X.shape"
   ]
  },
  {
   "cell_type": "code",
   "execution_count": null,
   "metadata": {
    "colab": {
     "base_uri": "https://localhost:8080/"
    },
    "executionInfo": {
     "elapsed": 950,
     "status": "ok",
     "timestamp": 1604979999344,
     "user": {
      "displayName": "Sunghwan KIM",
      "photoUrl": "",
      "userId": "06010856989212311727"
     },
     "user_tz": -540
    },
    "id": "r4lMMqz7mLN1",
    "outputId": "d63e2700-3f29-44e5-a6f9-e94845a363c5"
   },
   "outputs": [],
   "source": [
    "# interpolation='nearest' : defautl, 'bilinear' 두가지 방식 제공\n",
    "model = keras.Sequential()\n",
    "model.add(layers.UpSampling2D(size=2, input_shape=(2,2,1)))\n",
    "model.summary()"
   ]
  },
  {
   "cell_type": "code",
   "execution_count": null,
   "metadata": {
    "colab": {
     "base_uri": "https://localhost:8080/"
    },
    "executionInfo": {
     "elapsed": 1283,
     "status": "ok",
     "timestamp": 1604979999685,
     "user": {
      "displayName": "Sunghwan KIM",
      "photoUrl": "",
      "userId": "06010856989212311727"
     },
     "user_tz": -540
    },
    "id": "y6icxoq_mLN5",
    "outputId": "457e8487-8790-4a8e-96d0-2e2e0a09675b"
   },
   "outputs": [],
   "source": [
    "X_up = model.predict(X)\n",
    "X_up.shape, X.shape"
   ]
  },
  {
   "cell_type": "code",
   "execution_count": null,
   "metadata": {
    "colab": {
     "base_uri": "https://localhost:8080/"
    },
    "executionInfo": {
     "elapsed": 1274,
     "status": "ok",
     "timestamp": 1604979999685,
     "user": {
      "displayName": "Sunghwan KIM",
      "photoUrl": "",
      "userId": "06010856989212311727"
     },
     "user_tz": -540
    },
    "id": "SUhX9UqkmLN7",
    "outputId": "47b6c042-807c-4eb3-ffba-ead3f6704d73"
   },
   "outputs": [],
   "source": [
    "X_up.reshape(10,10)"
   ]
  },
  {
   "cell_type": "markdown",
   "metadata": {
    "id": "a60M-JIYmLOA"
   },
   "source": [
    "##  <span style='background-color:#fff5b1'>Transpose Convolution\n",
    "- tensorflow.keras.layers.Conv2DTranspose 를 이용\n",
    "- parameter가 있는 Filter를 이용해 입력 이미지의 사이즈를 늘린다.\n",
    "    - convolution 계산을 역으로 하는 방식을 사용한다.\n",
    "- padding을 same으로 하고 strides로 크기를 정한다.\n",
    "    - size가 strides로 지정한 배수 만큼 늘어난다.\n"
   ]
  },
  {
   "cell_type": "code",
   "execution_count": null,
   "metadata": {
    "executionInfo": {
     "elapsed": 1266,
     "status": "ok",
     "timestamp": 1604979999687,
     "user": {
      "displayName": "Sunghwan KIM",
      "photoUrl": "",
      "userId": "06010856989212311727"
     },
     "user_tz": -540
    },
    "id": "6VWTUrPimLOB"
   },
   "outputs": [],
   "source": [
    "model = keras.Sequential()\n",
    "model.add(layers.Conv2DTranspose(kernel_size=3, filters=12, \n",
    "                                 strides=2, padding='same', input_shape=(2,2,1)))"
   ]
  },
  {
   "cell_type": "code",
   "execution_count": null,
   "metadata": {
    "colab": {
     "base_uri": "https://localhost:8080/"
    },
    "executionInfo": {
     "elapsed": 1260,
     "status": "ok",
     "timestamp": 1604979999687,
     "user": {
      "displayName": "Sunghwan KIM",
      "photoUrl": "",
      "userId": "06010856989212311727"
     },
     "user_tz": -540
    },
    "id": "vC9VPQAcmLOE",
    "outputId": "29d05fd8-daa1-406d-88d0-0a5020eebb22"
   },
   "outputs": [],
   "source": [
    "X_up2 = model.predict(X)\n",
    "X.shape, X_up2.shape"
   ]
  },
  {
   "cell_type": "markdown",
   "metadata": {
    "id": "XL8jpDrZmLOR"
   },
   "source": [
    "# <span style='background-color:#fff5b1'>DCGAN \n",
    "\n",
    "- Deep Convolutional Network + GAN\n",
    "- 처음 GAN 모델은 Dense Layer를 사용했는데 이것을 Convolution Layer로 변경함."
   ]
  },
  {
   "cell_type": "markdown",
   "metadata": {
    "id": "lShdbs2xmLOR"
   },
   "source": [
    "## <span style='background-color:#fff5b1'>DCGAN의 안정적 학습을 위한 가이드라인</span>\n",
    "1. Convolution 레이어에<span style='background-color:#fff5b1'>**Pooling Layer를 사용하지 않는다.**</span>\n",
    "2. 안정적 학습을 위해 <span style='background-color:#fff5b1'>**BatchNormalization 사용.**</span>\n",
    "3. Fully Connected Layer (Dense) 를 사용하지 않는다. (Discriminator의 출력은 예외)\n",
    "4. Generator의 Hidden Layer에는  <span style='background-color:#fff5b1'>**LeakyReLU activation**</span>을 사용하고 **출력 Layer는 Tanh를 사용.**</span>\n",
    "5. Discriminator의  <span style='background-color:#fff5b1'>**모든 Layer는 LeakyReLU activation을 사용한다.**</span> (Discriminator의 출력은 예외)"
   ]
  },
  {
   "cell_type": "code",
   "execution_count": null,
   "metadata": {
    "ExecuteTime": {
     "end_time": "2022-10-17T08:37:51.666204Z",
     "start_time": "2022-10-17T08:37:51.662908Z"
    },
    "executionInfo": {
     "elapsed": 1239,
     "status": "ok",
     "timestamp": 1604979999690,
     "user": {
      "displayName": "Sunghwan KIM",
      "photoUrl": "",
      "userId": "06010856989212311727"
     },
     "user_tz": -540
    },
    "id": "G4UjcYEXmLOS"
   },
   "outputs": [],
   "source": [
    "img_shape = (28, 28, 1)\n",
    "z_dim = 100 "
   ]
  },
  {
   "cell_type": "markdown",
   "metadata": {
    "id": "qfdQsaGwhN7C"
   },
   "source": [
    "# 생성자\n",
    "- 이미지 upsampling\n",
    "    - 7X7 => 14X14 => 28X28 로 키운다.\n",
    "    - Transpose Convolution 사용\n",
    "        - Conv2DTranspose"
   ]
  },
  {
   "cell_type": "code",
   "execution_count": null,
   "metadata": {
    "ExecuteTime": {
     "end_time": "2022-10-17T08:36:35.571003Z",
     "start_time": "2022-10-17T08:36:35.557928Z"
    },
    "executionInfo": {
     "elapsed": 1227,
     "status": "ok",
     "timestamp": 1604979999691,
     "user": {
      "displayName": "Sunghwan KIM",
      "photoUrl": "",
      "userId": "06010856989212311727"
     },
     "user_tz": -540
    },
    "id": "5F_zptpJmLOa"
   },
   "outputs": [],
   "source": [
    "def create_generator(z_dim=100):\n",
    "    model = keras.Sequential()\n",
    "    \n",
    "    model.add(layers.Dense(7*7*256, input_shape=(z_dim, )))\n",
    "    model.add(layers.Reshape((7, 7, 256)))\n",
    "\n",
    "    # Convolution : Conv2DTranspose -> BatchNormalization -> Activation(LeakyReLU)\n",
    "    model.add(layers.Conv2DTranspose(filters=128, kernel_size=3, strides=2, padding='same'))\n",
    "    model.add(layers.BatchNormalization())\n",
    "    model.add(layers.LeakyReLU(alpha=0.01))\n",
    "\n",
    "    model.add(layers.Conv2DTranspose(filters=64, kernel_size=3, strides=1, padding='same'))\n",
    "    model.add(layers.BatchNormalization())\n",
    "    model.add(layers.LeakyReLU(alpha=0.01))\n",
    "\n",
    "    model.add(layers.Conv2DTranspose(filters=1, kernel_size=3, strides=2, padding='same'))\n",
    "    model.add(layers.Activation(\"tanh\"))\n",
    "\n",
    "    return model"
   ]
  },
  {
   "cell_type": "markdown",
   "metadata": {
    "id": "Hayk5OI0iiUl"
   },
   "source": [
    "# 판별자\n",
    "- 28 X 28 input => 14 X 14 => 7 X 7 => 3 X 3으로 절반씩 down sampling"
   ]
  },
  {
   "cell_type": "code",
   "execution_count": null,
   "metadata": {
    "ExecuteTime": {
     "end_time": "2022-10-17T08:36:37.766143Z",
     "start_time": "2022-10-17T08:36:37.756850Z"
    },
    "executionInfo": {
     "elapsed": 1219,
     "status": "ok",
     "timestamp": 1604979999691,
     "user": {
      "displayName": "Sunghwan KIM",
      "photoUrl": "",
      "userId": "06010856989212311727"
     },
     "user_tz": -540
    },
    "id": "jVYQGgyOmLOk"
   },
   "outputs": [],
   "source": [
    "def create_discriminator(img_shape):\n",
    "    model = keras.Sequential()\n",
    "    \n",
    "    model.add(layers.Conv2D(filters=32, kernel_size=3, strides=2, padding='same',\n",
    "                            input_shape=img_shape))\n",
    "    model.add(layers.LeakyReLU(alpha=0.01))\n",
    "\n",
    "    model.add(layers.Conv2D(filters=64, kernel_size=3, strides=2,padding='same'))\n",
    "    model.add(layers.LeakyReLU(alpha=0.01))\n",
    "\n",
    "    model.add(layers.Conv2D(filters=128, kernel_size=3, strides=2,padding='same'))\n",
    "    model.add(layers.LeakyReLU(alpha=0.01))\n",
    "\n",
    "    model.add(layers.Flatten())\n",
    "    model.add(layers.Dense(1, activation='sigmoid'))\n",
    "\n",
    "    return model"
   ]
  },
  {
   "cell_type": "markdown",
   "metadata": {
    "id": "NdYuBk6bq7BB"
   },
   "source": [
    "# GAN 모델\n",
    "- 생성자 + 판별자"
   ]
  },
  {
   "cell_type": "code",
   "execution_count": null,
   "metadata": {
    "ExecuteTime": {
     "end_time": "2022-10-17T08:36:40.695766Z",
     "start_time": "2022-10-17T08:36:40.691614Z"
    },
    "executionInfo": {
     "elapsed": 1209,
     "status": "ok",
     "timestamp": 1604979999692,
     "user": {
      "displayName": "Sunghwan KIM",
      "photoUrl": "",
      "userId": "06010856989212311727"
     },
     "user_tz": -540
    },
    "id": "t2wubdVRmLOp"
   },
   "outputs": [],
   "source": [
    "def create_gan(generator, discriminator):\n",
    "    model = keras.Sequential()\n",
    "    model.add(generator)\n",
    "    model.add(discriminator)\n",
    "\n",
    "    return model"
   ]
  },
  {
   "cell_type": "code",
   "execution_count": null,
   "metadata": {
    "executionInfo": {
     "elapsed": 1205,
     "status": "ok",
     "timestamp": 1604979999693,
     "user": {
      "displayName": "Sunghwan KIM",
      "photoUrl": "",
      "userId": "06010856989212311727"
     },
     "user_tz": -540
    },
    "id": "ixaYtCUemLOr"
   },
   "outputs": [],
   "source": []
  },
  {
   "cell_type": "markdown",
   "metadata": {
    "id": "6XAVMlXArPNS"
   },
   "source": [
    "# 모델 생성 및 컴파일"
   ]
  },
  {
   "cell_type": "code",
   "execution_count": null,
   "metadata": {
    "ExecuteTime": {
     "end_time": "2022-10-17T08:37:57.431910Z",
     "start_time": "2022-10-17T08:37:57.124932Z"
    },
    "executionInfo": {
     "elapsed": 1588,
     "status": "ok",
     "timestamp": 1604980000081,
     "user": {
      "displayName": "Sunghwan KIM",
      "photoUrl": "",
      "userId": "06010856989212311727"
     },
     "user_tz": -540
    },
    "id": "jF_VYbhnmLOu"
   },
   "outputs": [],
   "source": [
    "discriminator = create_discriminator(img_shape)\n",
    "discriminator.compile(optimizer='adam', loss='binary_crossentropy', metrics=['accuracy'])\n",
    "\n",
    "generator = create_generator(z_dim)\n",
    "discriminator.trainable=False\n",
    "\n",
    "gan = create_gan(generator, discriminator)\n",
    "gan.compile(optimizer='adam', loss='binary_crossentropy')"
   ]
  },
  {
   "cell_type": "code",
   "execution_count": null,
   "metadata": {
    "executionInfo": {
     "elapsed": 1587,
     "status": "ok",
     "timestamp": 1604980000082,
     "user": {
      "displayName": "Sunghwan KIM",
      "photoUrl": "",
      "userId": "06010856989212311727"
     },
     "user_tz": -540
    },
    "id": "TMlEwi81mLOx"
   },
   "outputs": [],
   "source": []
  },
  {
   "cell_type": "markdown",
   "metadata": {
    "id": "cv5f8WbtsifV"
   },
   "source": [
    "# 훈련"
   ]
  },
  {
   "cell_type": "code",
   "execution_count": null,
   "metadata": {
    "ExecuteTime": {
     "end_time": "2022-10-17T08:38:00.843878Z",
     "start_time": "2022-10-17T08:38:00.493892Z"
    },
    "executionInfo": {
     "elapsed": 1584,
     "status": "ok",
     "timestamp": 1604980000084,
     "user": {
      "displayName": "Sunghwan KIM",
      "photoUrl": "",
      "userId": "06010856989212311727"
     },
     "user_tz": -540
    },
    "id": "OSnHOPy5zf7Q"
   },
   "outputs": [],
   "source": [
    "import matplotlib.pyplot as plt\n",
    "def sample_images(generator, image_grid_row=4, image_grid_col=4):\n",
    "    \"\"\"\n",
    "    Generator를 이용해 가짜 이미지를 생성해 그리는 함수.\n",
    "    그리드 행, 열의 개수를 받아 행 * 열 개수만큼 그린다.\n",
    "    [매개변수]\n",
    "        generator: Generator 모델\n",
    "        image_grid_rows: 이미지를 그릴 grid 행수 (기본값 : 4)\n",
    "        image_grid_columns: 이미지를 그릴 grid 열수(기본값 : 4)\n",
    "    \"\"\"\n",
    "    z = np.random.normal(0, 1, (image_grid_row*image_grid_col, z_dim))\n",
    "    gen_images = generator.predict(z)\n",
    "    plt.figure(figsize=(7,7))\n",
    "    for i in range(image_grid_row * image_grid_col):\n",
    "        plt.subplot(image_grid_row, image_grid_col, i+1)\n",
    "        plt.imshow(gen_images[i, :, :, 0], cmap='gray')\n",
    "        plt.axis('off')\n",
    "    plt.show()"
   ]
  },
  {
   "cell_type": "code",
   "execution_count": null,
   "metadata": {
    "ExecuteTime": {
     "end_time": "2022-10-17T08:38:03.347758Z",
     "start_time": "2022-10-17T08:38:02.698768Z"
    },
    "colab": {
     "base_uri": "https://localhost:8080/",
     "height": 248
    },
    "executionInfo": {
     "elapsed": 2648,
     "status": "ok",
     "timestamp": 1604980001158,
     "user": {
      "displayName": "Sunghwan KIM",
      "photoUrl": "",
      "userId": "06010856989212311727"
     },
     "user_tz": -540
    },
    "id": "t22DA0_0mLO3",
    "outputId": "2b973266-1102-4db5-ad9c-377b797607e3"
   },
   "outputs": [],
   "source": [
    "sample_images(generator)"
   ]
  },
  {
   "cell_type": "markdown",
   "metadata": {},
   "source": [
    "## training 함수"
   ]
  },
  {
   "cell_type": "code",
   "execution_count": null,
   "metadata": {
    "ExecuteTime": {
     "end_time": "2022-10-17T08:38:05.789083Z",
     "start_time": "2022-10-17T08:38:05.773010Z"
    },
    "executionInfo": {
     "elapsed": 2644,
     "status": "ok",
     "timestamp": 1604980001161,
     "user": {
      "displayName": "Sunghwan KIM",
      "photoUrl": "",
      "userId": "06010856989212311727"
     },
     "user_tz": -540
    },
    "id": "vdszFNIYmLO5"
   },
   "outputs": [],
   "source": [
    "loss_list = []\n",
    "acc_list = []\n",
    "iteration_list = []\n",
    "def train(train_image, iterations, batch_size, sample_interval):\n",
    "    train_image = train_image/127.5-1 # -1 ~ 1사이로 scaling\n",
    "    train_image = train_image[..., np.newaxis] #채널 차원 증가\n",
    "\n",
    "    # Label 생성\n",
    "    real = np.ones((batch_size, 1))\n",
    "    fake = np.zeros((batch_size, 1))\n",
    "\n",
    "    # 학습.\n",
    "    for iteration in range(iterations):\n",
    "        #판별자 학습\n",
    "        # 정답에서 추출할 이미지의 index를 random 함수를 이용해 batch 개수만큼 조회\n",
    "        idx = np.random.randint(0, train_image.shape[0], batch_size)\n",
    "        # 학습에 사용할 정답 이미지들 조회\n",
    "        real_imgs = train_image[idx]\n",
    "        \n",
    "        # Fake image를 만들기 위해 generator에 넣어줄 잡음 생성.\n",
    "        z = np.random.normal(0,1, (batch_size, 100))\n",
    "        # Generator를 이용해 Fake image 생성\n",
    "        gen_imgs = generator.predict(z)\n",
    "        \n",
    "        ##################학습: (한번에 다 학습 시키는 것이 아니라 조금씩 판별자와 생성자를 같이 학습시켜야 하기 때문에 train_on_batch()사용)\n",
    "        # 1. 진짜 이미지로 discriminator(판별자)를 배치만큼 학습시킨다. \n",
    "        # 2. generator(생성자)가 생성한 가짜 이미지로 discriminator(판별자)를 학습시킨다.\n",
    "        # 3. 1과 2의 loss 평균이 판별자의 로스이다.\n",
    "        #\n",
    "        # 4. generator(생성자) 학습 ---> gan을 이용해 학습시킨다.\n",
    "        #    생성자가 만든 이미지를 판별자가 진짜라고 판정해야 하므로 input으로 잡음과 정답을 전달한다.\n",
    "        #    그래서 loss가 작으면 생성자가 찾은 것을 판별자가 정답으로 생각한 것이므로 생성자가 잘 만들어진것이 된다.\n",
    "        #\n",
    "        #######################################################################\n",
    "        #진짜 이미지로 학습\n",
    "        d_loss_acc_real = discriminator.train_on_batch(real_imgs, real)\n",
    "        #생성자가 만든 가짜 이미지로 학습\n",
    "        d_loss_acc_fake = discriminator.train_on_batch(gen_imgs, fake)\n",
    "\n",
    "        d_loss, acc = np.add(d_loss_acc_real, d_loss_acc_fake)*0.5 # * 0.5는 두 loss 평균계산을 위해.\n",
    "\n",
    "        ## 생성자 훈련 - gan을 이용해서 훈련. \n",
    "        z = np.random.normal(0, 1, (batch_size, 100))\n",
    "        gan_loss = gan.train_on_batch(z, real) # input으로 잡음과 정답을 전달\n",
    "\n",
    "        # 중간결과 확인\n",
    "        if iteration % sample_interval == 0:\n",
    "            loss_list.append((d_loss, gan_loss))\n",
    "            acc_list.append(acc)\n",
    "            iteration_list.append(iteration)\n",
    "            print(f'판별자 손실:{d_loss}, 판별자정확도:{acc}, gan 손실:{gan_loss}')\n",
    "            sample_images(generator)"
   ]
  },
  {
   "cell_type": "code",
   "execution_count": null,
   "metadata": {
    "ExecuteTime": {
     "start_time": "2022-10-17T08:38:19.436Z"
    },
    "colab": {
     "base_uri": "https://localhost:8080/",
     "height": 1000
    },
    "executionInfo": {
     "elapsed": 1347173,
     "status": "ok",
     "timestamp": 1604981345705,
     "user": {
      "displayName": "Sunghwan KIM",
      "photoUrl": "",
      "userId": "06010856989212311727"
     },
     "user_tz": -540
    },
    "id": "ZvW2z7EemLO7",
    "outputId": "90e40666-e235-4bfd-ab6b-90140ff04989",
    "scrolled": true
   },
   "outputs": [],
   "source": [
    "import time\n",
    "(X_train, y_train), (X_test, y_test) = keras.datasets.fashion_mnist.load_data()\n",
    "iterations = 5000\n",
    "batch_size=100\n",
    "sample_interval=1000\n",
    "start = time.time()\n",
    "train(X_train, iterations, batch_size, sample_interval)\n",
    "end = time.time()\n",
    "print((end-start)/60, '분')"
   ]
  },
  {
   "cell_type": "markdown",
   "metadata": {},
   "source": [
    "# 이미지 생성"
   ]
  },
  {
   "cell_type": "code",
   "execution_count": null,
   "metadata": {
    "executionInfo": {
     "elapsed": 714,
     "status": "ok",
     "timestamp": 1604985625798,
     "user": {
      "displayName": "Sunghwan KIM",
      "photoUrl": "",
      "userId": "06010856989212311727"
     },
     "user_tz": -540
    },
    "id": "iz0l3ZujmLPE"
   },
   "outputs": [],
   "source": [
    "z = np.random.normal(0, 1, (3, 100)) \n",
    "pred = generator.predict(z)"
   ]
  },
  {
   "cell_type": "code",
   "execution_count": null,
   "metadata": {
    "colab": {
     "base_uri": "https://localhost:8080/",
     "height": 195
    },
    "executionInfo": {
     "elapsed": 767,
     "status": "ok",
     "timestamp": 1604985744789,
     "user": {
      "displayName": "Sunghwan KIM",
      "photoUrl": "",
      "userId": "06010856989212311727"
     },
     "user_tz": -540
    },
    "id": "uW8kPixnmLPG",
    "outputId": "43a7f8ee-4d8a-4ba5-c47e-6a4022e64945"
   },
   "outputs": [],
   "source": [
    "plt.figure(figsize=(10,5))\n",
    "for i in range(3):\n",
    "    plt.subplot(1, 3, i+1)\n",
    "    plt.imshow(pred[i].reshape(28,28), cmap='gray')\n",
    "    plt.axis('off')\n",
    "plt.show()    "
   ]
  }
 ],
 "metadata": {
  "accelerator": "GPU",
  "colab": {
   "collapsed_sections": [],
   "name": "02_DCGAN.ipynb",
   "provenance": []
  },
  "kernelspec": {
   "display_name": "Python 3 (ipykernel)",
   "language": "python",
   "name": "python3"
  },
  "language_info": {
   "codemirror_mode": {
    "name": "ipython",
    "version": 3
   },
   "file_extension": ".py",
   "mimetype": "text/x-python",
   "name": "python",
   "nbconvert_exporter": "python",
   "pygments_lexer": "ipython3",
   "version": "3.9.16"
  },
  "toc": {
   "base_numbering": 1,
   "nav_menu": {},
   "number_sections": true,
   "sideBar": true,
   "skip_h1_title": false,
   "title_cell": "Table of Contents",
   "title_sidebar": "Contents",
   "toc_cell": false,
   "toc_position": {},
   "toc_section_display": true,
   "toc_window_display": false
  },
  "varInspector": {
   "cols": {
    "lenName": 16,
    "lenType": 16,
    "lenVar": 40
   },
   "kernels_config": {
    "python": {
     "delete_cmd_postfix": "",
     "delete_cmd_prefix": "del ",
     "library": "var_list.py",
     "varRefreshCmd": "print(var_dic_list())"
    },
    "r": {
     "delete_cmd_postfix": ") ",
     "delete_cmd_prefix": "rm(",
     "library": "var_list.r",
     "varRefreshCmd": "cat(var_dic_list()) "
    }
   },
   "types_to_exclude": [
    "module",
    "function",
    "builtin_function_or_method",
    "instance",
    "_Feature"
   ],
   "window_display": false
  }
 },
 "nbformat": 4,
 "nbformat_minor": 1
}
