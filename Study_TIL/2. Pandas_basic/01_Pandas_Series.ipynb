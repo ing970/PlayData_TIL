{
 "cells": [
  {
   "cell_type": "markdown",
   "metadata": {
    "slideshow": {
     "slide_type": "slide"
    }
   },
   "source": [
    "<b style='font-size:2em'>판다스 (Pandas)</b>\n",
    "\n",
    "# Pandas 개요\n",
    "- 데이터 분석과 관련된 다양한 기능을 제공하는 파이썬 패키지\n",
    "    - 데이터 셋을 이용한 다양한 통계 처리 기능을 제공한다.\n",
    "    - 표 형태의 데이터를 다루는데 특화된 파이썬 모듈.\n",
    "        - 엑셀의 기능을 제공하는 파이썬 모듈이라고 생각하면 이해가 쉽다.\n",
    "    - 표 형태의 데이터를 다루기 위한 **시리즈(Series)** 와 **데이터프레임(DataFrame)** 클래스 제공 !!!\n",
    "        - Series : 1차원 자료구조를 표현\n",
    "        - DataFrame : 2차원 행렬구조의 표(table)를 표현"
   ]
  },
  {
   "cell_type": "markdown",
   "metadata": {
    "slideshow": {
     "slide_type": "fragment"
    }
   },
   "source": [
    "- **설치**\n",
    "    - `pip install pandas`\n",
    "    - `conda instll pandas`\n",
    "- **공식 홈페이지**\n",
    "    - https://pandas.pydata.org/\n",
    "    - https://pandas.pydata.org/docs/\n"
   ]
  },
  {
   "cell_type": "markdown",
   "metadata": {
    "slideshow": {
     "slide_type": "slide"
    }
   },
   "source": [
    "# Series\n",
    "\n",
    "## Series 개요\n",
    "- **1차원** 자료구조\n",
    "- DataFrame(표)의 **한 행(row)**이나 **한 열(column)**을 표현한다.\n",
    "- 각 원소는 **index**와 i**ndex 이름**을 가지며 그것들을 이용해 사용할 수 있다.\n",
    "- 벡터화 연산(element-wise 연산)을 지원\n",
    "    - Series 객체에 연산을 하면 각각의 Series 원소들에 연산이 된다.\n",
    "- Series를 구성하는 원소들을 다루는 다양한 메소드 제공    "
   ]
  },
  {
   "cell_type": "markdown",
   "metadata": {
    "slideshow": {
     "slide_type": "subslide"
    }
   },
   "source": [
    "## Series생성\n",
    "- 구문\n",
    "    - `Series(1차원 배열형태 자료구조)`\n",
    "> #### 배열형태(array-like) 자료구조    \n",
    "> - 리스트\n",
    "> - 튜플\n",
    "> - 넘파이 배열(ndarray)"
   ]
  },
  {
   "cell_type": "code",
   "execution_count": 2,
   "metadata": {},
   "outputs": [],
   "source": [
    "# 판다스 import -> 별칭은 관례적으로 pd 를 준다.\n",
    "import pandas as pd"
   ]
  },
  {
   "cell_type": "code",
   "execution_count": 3,
   "metadata": {},
   "outputs": [
    {
     "name": "stdout",
     "output_type": "stream",
     "text": [
      "0    10\n",
      "1    20\n",
      "2    30\n",
      "3    40\n",
      "4    50\n",
      "5    60\n",
      "dtype: int64\n"
     ]
    }
   ],
   "source": [
    "# series 생성\n",
    "s1 = pd.Series([10,20,30,40,50,60]) # 리스트의 원소들을 원소로 가지는 Series를 생성.\n",
    "print(s1)"
   ]
  },
  {
   "cell_type": "markdown",
   "metadata": {},
   "source": [
    "```\n",
    "index 이름         값\n",
    "\n",
    "0                 10\n",
    "1                 20\n",
    "2                 30\n",
    "3                 40\n",
    "4                 50\n",
    "5                 60\n",
    "\n",
    "dtype: int64 ==> 값들의 타입\n",
    "```\n"
   ]
  },
  {
   "cell_type": "code",
   "execution_count": 12,
   "metadata": {},
   "outputs": [
    {
     "name": "stdout",
     "output_type": "stream",
     "text": [
      "데이터 타입:  int64\n",
      "전체 원소의 개수: 6\n",
      "차원별 개수: (6,)\n"
     ]
    }
   ],
   "source": [
    "# Series 객체의 몇몇 속성 조회\n",
    "print('데이터 타입: ', s1.dtype) #int64 -> 정수타입, 1개의 값을 64비트로 (8byte)로 저장. ->\n",
    "                              # 판다스 데이터입은 numpy 의 데이터타입을 사용 -> numpy는 c의 datatype을 사용\n",
    "print('전체 원소의 개수:',s1.size)# 전체 원소의 개수: 6\n",
    "print('차원별 개수:', s1.shape)  # tuple , 개수: 6행"
   ]
  },
  {
   "cell_type": "code",
   "execution_count": 5,
   "metadata": {},
   "outputs": [
    {
     "name": "stdout",
     "output_type": "stream",
     "text": [
      "int64\n"
     ]
    },
    {
     "data": {
      "text/plain": [
       "0      1\n",
       "1      2\n",
       "2    300\n",
       "dtype: int64"
      ]
     },
     "execution_count": 5,
     "metadata": {},
     "output_type": "execute_result"
    }
   ],
   "source": [
    "# int8 ,int16, int32, int64\n",
    "# float16, float32, float64\n",
    "# object: 문자열\n",
    "s2 = pd.Series([1,2,300], dtype = 'int64') # 64bit 는  약 9경 이상을 저장할 수 있다.(메모리 잡아먹음)즉, 원소에 크기에 맞게 사용하면 좋음\n",
    "print(s2.dtype) \n",
    "s2"
   ]
  },
  {
   "cell_type": "code",
   "execution_count": 10,
   "metadata": {},
   "outputs": [
    {
     "data": {
      "text/plain": [
       "0    1.0\n",
       "1    6.2\n",
       "2    7.9\n",
       "dtype: float64"
      ]
     },
     "execution_count": 10,
     "metadata": {},
     "output_type": "execute_result"
    }
   ],
   "source": [
    "s3 = pd.Series([1.0, 6.2, 7.9])\n",
    "s3"
   ]
  },
  {
   "cell_type": "markdown",
   "metadata": {
    "slideshow": {
     "slide_type": "slide"
    }
   },
   "source": [
    "### Series안의 원소(element) 접근 - Indexing과 Slicing\n",
    "\n",
    "- Index는 Series에 저장된 각 원소를 구분하는 식별자로 각 원소를 사용할때 사용한다. Series의 원소들은 두 종류의 index를 가진다.\n",
    "    1. **index(순번)**\n",
    "        - 자동으로 배정되는 순번. \n",
    "        - **리스트나 튜플의 index**와 동일하다.\n",
    "        - 0 부터 1씩 증가하는 양수 index와 -1 부터 1씩 감소하는 음수 index 두가지가 붙는다. 양수 index는 앞에서 부터, 음수 index는 뒤에서 부터 붙는다.\n",
    "    2. **index name(index이름)**\n",
    "        - 명시적으로 각 index에 지정하는 이름\n",
    "        - **딕셔너리의 key**의 역할을 한다.\n",
    "            - Series의 index name은 중복될 수 있다. \n",
    "        - 생략하면 양수 index가 index name이 된다.\n",
    "    - Index와 index name 두가지의 식별자가 붙는 것은 Series, DataFrame 동일하다.\n",
    "    - Series나 DataFrame을 출력하면 나오는 index는 index name이다. 자동으로 붙는 index는 판다스 내부에서 관리된다.    "
   ]
  },
  {
   "cell_type": "markdown",
   "metadata": {
    "slideshow": {
     "slide_type": "subslide"
    }
   },
   "source": [
    "### Indexing\n",
    "- 한개의 원소를 식별할 때 사용한다.\n",
    "- **index 순번으로 조회**\n",
    "    - `Series[순번]`\n",
    "    - `Series.iloc[순번]`\n",
    "- **index 이름으로 조회**\n",
    "    - `Series[index 이름]`\n",
    "    - `Series.loc[index 이름]`\n",
    "    - index 이름이 문자열이면 문자열(\" \") 로, 정수이면 정수로 호출\n",
    "        - `s['name'], s[2], s.loc['name'], s.loc[2]`\n",
    "    - Series.index 이름\n",
    "        - index의 이름이 **파이썬 식별자 규칙에 맞을** 경우 `. 표기법` 사용 할 수 있다.. \n",
    "    \n",
    "- **Series[index]는 기본적으로 Index명으로 조회한다.**\n",
    "    - index 이름과 index의 타입이 다르면 알아서 처리해준다. \n",
    "    - index 이름의 type이 int일 때 index(순번)으로 조회하고 싶은 경우 (index이름과 index 의 타입이 int로 같은 경우를 말한다.)\n",
    "        - iloc indexer를 사용  \n",
    "        - `Series객체.iloc[순번]`\n",
    "- **팬시(fancy) 인덱싱**\n",
    "    -`Series[index리스트]`\n",
    "    - 한번에 여러개의 원소를 조회할 때 그 index들을 list로 묶어서 전달한다.\n",
    "        - `series[[1,2,3]]`\n",
    "    "
   ]
  },
  {
   "cell_type": "code",
   "execution_count": 16,
   "metadata": {},
   "outputs": [
    {
     "data": {
      "text/plain": [
       "60"
      ]
     },
     "execution_count": 16,
     "metadata": {},
     "output_type": "execute_result"
    }
   ],
   "source": [
    "# indexer를 사용 - index, index 이름 둘다 사용.\n",
    "s1[0] # index 이름으로 조회\n",
    "s1[5]"
   ]
  },
  {
   "cell_type": "code",
   "execution_count": null,
   "metadata": {},
   "outputs": [],
   "source": [
    "dataframe\n",
    "\n",
    "index, column\n"
   ]
  },
  {
   "cell_type": "code",
   "execution_count": 17,
   "metadata": {
    "collapsed": true
   },
   "outputs": [
    {
     "ename": "KeyError",
     "evalue": "20",
     "output_type": "error",
     "traceback": [
      "\u001b[0;31m---------------------------------------------------------------------------\u001b[0m",
      "\u001b[0;31mValueError\u001b[0m                                Traceback (most recent call last)",
      "File \u001b[0;32m~/opt/anaconda3/envs/ml/lib/python3.9/site-packages/pandas/core/indexes/range.py:391\u001b[0m, in \u001b[0;36mRangeIndex.get_loc\u001b[0;34m(self, key, method, tolerance)\u001b[0m\n\u001b[1;32m    390\u001b[0m \u001b[38;5;28;01mtry\u001b[39;00m:\n\u001b[0;32m--> 391\u001b[0m     \u001b[38;5;28;01mreturn\u001b[39;00m \u001b[38;5;28;43mself\u001b[39;49m\u001b[38;5;241;43m.\u001b[39;49m\u001b[43m_range\u001b[49m\u001b[38;5;241;43m.\u001b[39;49m\u001b[43mindex\u001b[49m\u001b[43m(\u001b[49m\u001b[43mnew_key\u001b[49m\u001b[43m)\u001b[49m\n\u001b[1;32m    392\u001b[0m \u001b[38;5;28;01mexcept\u001b[39;00m \u001b[38;5;167;01mValueError\u001b[39;00m \u001b[38;5;28;01mas\u001b[39;00m err:\n",
      "\u001b[0;31mValueError\u001b[0m: 20 is not in range",
      "\nThe above exception was the direct cause of the following exception:\n",
      "\u001b[0;31mKeyError\u001b[0m                                  Traceback (most recent call last)",
      "Cell \u001b[0;32mIn[17], line 1\u001b[0m\n\u001b[0;32m----> 1\u001b[0m \u001b[43ms1\u001b[49m\u001b[43m[\u001b[49m\u001b[38;5;241;43m20\u001b[39;49m\u001b[43m]\u001b[49m\n",
      "File \u001b[0;32m~/opt/anaconda3/envs/ml/lib/python3.9/site-packages/pandas/core/series.py:981\u001b[0m, in \u001b[0;36mSeries.__getitem__\u001b[0;34m(self, key)\u001b[0m\n\u001b[1;32m    978\u001b[0m     \u001b[38;5;28;01mreturn\u001b[39;00m \u001b[38;5;28mself\u001b[39m\u001b[38;5;241m.\u001b[39m_values[key]\n\u001b[1;32m    980\u001b[0m \u001b[38;5;28;01melif\u001b[39;00m key_is_scalar:\n\u001b[0;32m--> 981\u001b[0m     \u001b[38;5;28;01mreturn\u001b[39;00m \u001b[38;5;28;43mself\u001b[39;49m\u001b[38;5;241;43m.\u001b[39;49m\u001b[43m_get_value\u001b[49m\u001b[43m(\u001b[49m\u001b[43mkey\u001b[49m\u001b[43m)\u001b[49m\n\u001b[1;32m    983\u001b[0m \u001b[38;5;28;01mif\u001b[39;00m is_hashable(key):\n\u001b[1;32m    984\u001b[0m     \u001b[38;5;66;03m# Otherwise index.get_value will raise InvalidIndexError\u001b[39;00m\n\u001b[1;32m    985\u001b[0m     \u001b[38;5;28;01mtry\u001b[39;00m:\n\u001b[1;32m    986\u001b[0m         \u001b[38;5;66;03m# For labels that don't resolve as scalars like tuples and frozensets\u001b[39;00m\n",
      "File \u001b[0;32m~/opt/anaconda3/envs/ml/lib/python3.9/site-packages/pandas/core/series.py:1089\u001b[0m, in \u001b[0;36mSeries._get_value\u001b[0;34m(self, label, takeable)\u001b[0m\n\u001b[1;32m   1086\u001b[0m     \u001b[38;5;28;01mreturn\u001b[39;00m \u001b[38;5;28mself\u001b[39m\u001b[38;5;241m.\u001b[39m_values[label]\n\u001b[1;32m   1088\u001b[0m \u001b[38;5;66;03m# Similar to Index.get_value, but we do not fall back to positional\u001b[39;00m\n\u001b[0;32m-> 1089\u001b[0m loc \u001b[38;5;241m=\u001b[39m \u001b[38;5;28;43mself\u001b[39;49m\u001b[38;5;241;43m.\u001b[39;49m\u001b[43mindex\u001b[49m\u001b[38;5;241;43m.\u001b[39;49m\u001b[43mget_loc\u001b[49m\u001b[43m(\u001b[49m\u001b[43mlabel\u001b[49m\u001b[43m)\u001b[49m\n\u001b[1;32m   1090\u001b[0m \u001b[38;5;28;01mreturn\u001b[39;00m \u001b[38;5;28mself\u001b[39m\u001b[38;5;241m.\u001b[39mindex\u001b[38;5;241m.\u001b[39m_get_values_for_loc(\u001b[38;5;28mself\u001b[39m, loc, label)\n",
      "File \u001b[0;32m~/opt/anaconda3/envs/ml/lib/python3.9/site-packages/pandas/core/indexes/range.py:393\u001b[0m, in \u001b[0;36mRangeIndex.get_loc\u001b[0;34m(self, key, method, tolerance)\u001b[0m\n\u001b[1;32m    391\u001b[0m         \u001b[38;5;28;01mreturn\u001b[39;00m \u001b[38;5;28mself\u001b[39m\u001b[38;5;241m.\u001b[39m_range\u001b[38;5;241m.\u001b[39mindex(new_key)\n\u001b[1;32m    392\u001b[0m     \u001b[38;5;28;01mexcept\u001b[39;00m \u001b[38;5;167;01mValueError\u001b[39;00m \u001b[38;5;28;01mas\u001b[39;00m err:\n\u001b[0;32m--> 393\u001b[0m         \u001b[38;5;28;01mraise\u001b[39;00m \u001b[38;5;167;01mKeyError\u001b[39;00m(key) \u001b[38;5;28;01mfrom\u001b[39;00m \u001b[38;5;21;01merr\u001b[39;00m\n\u001b[1;32m    394\u001b[0m \u001b[38;5;28mself\u001b[39m\u001b[38;5;241m.\u001b[39m_check_indexing_error(key)\n\u001b[1;32m    395\u001b[0m \u001b[38;5;28;01mraise\u001b[39;00m \u001b[38;5;167;01mKeyError\u001b[39;00m(key)\n",
      "\u001b[0;31mKeyError\u001b[0m: 20"
     ]
    }
   ],
   "source": [
    "s1[20] # 없는 index 조회하면 Exception 발생."
   ]
  },
  {
   "cell_type": "code",
   "execution_count": 21,
   "metadata": {},
   "outputs": [
    {
     "data": {
      "text/plain": [
       "Python    100\n",
       "Java       80\n",
       "C          90\n",
       "JS         60\n",
       "dtype: int64"
      ]
     },
     "execution_count": 21,
     "metadata": {},
     "output_type": "execute_result"
    }
   ],
   "source": [
    "s2 = pd.Series([100, 80, 90, 60], index = ['Python', \"Java\", 'C', \"JS\"])\n",
    "s2"
   ]
  },
  {
   "cell_type": "code",
   "execution_count": 24,
   "metadata": {},
   "outputs": [
    {
     "name": "stdout",
     "output_type": "stream",
     "text": [
      "Index(['Python', 'Java', 'C', 'JS'], dtype='object')\n"
     ]
    },
    {
     "data": {
      "text/plain": [
       "RangeIndex(start=0, stop=6, step=1)"
      ]
     },
     "execution_count": 24,
     "metadata": {},
     "output_type": "execute_result"
    }
   ],
   "source": [
    "# Series의 index 이름을 조회\n",
    "print(s2.index) #인덱스 조회\n",
    "s1.index"
   ]
  },
  {
   "cell_type": "code",
   "execution_count": 26,
   "metadata": {},
   "outputs": [
    {
     "data": {
      "text/plain": [
       "(100, 100, 100)"
      ]
     },
     "execution_count": 26,
     "metadata": {},
     "output_type": "execute_result"
    }
   ],
   "source": [
    "s2[0], s2[-4], s2['Python']"
   ]
  },
  {
   "cell_type": "code",
   "execution_count": 27,
   "metadata": {},
   "outputs": [
    {
     "data": {
      "text/plain": [
       "(100, 100, 100)"
      ]
     },
     "execution_count": 27,
     "metadata": {},
     "output_type": "execute_result"
    }
   ],
   "source": [
    "s2.iloc[0], s2.iloc[-4], s2.loc['Python'] # 순번 - iloc indexer, 이름 - loc indexer"
   ]
  },
  {
   "cell_type": "code",
   "execution_count": 29,
   "metadata": {
    "slideshow": {
     "slide_type": "fragment"
    }
   },
   "outputs": [
    {
     "data": {
      "text/plain": [
       "100    30\n",
       "200    50\n",
       "300    90\n",
       "dtype: int64"
      ]
     },
     "execution_count": 29,
     "metadata": {},
     "output_type": "execute_result"
    }
   ],
   "source": [
    "s3 = pd.Series([30,50,90], index =[100,200,300])\n",
    "s3"
   ]
  },
  {
   "cell_type": "code",
   "execution_count": 30,
   "metadata": {},
   "outputs": [
    {
     "data": {
      "text/plain": [
       "30"
      ]
     },
     "execution_count": 30,
     "metadata": {},
     "output_type": "execute_result"
    }
   ],
   "source": [
    "s3[100] #기본: index이름 조회"
   ]
  },
  {
   "cell_type": "code",
   "execution_count": 33,
   "metadata": {},
   "outputs": [
    {
     "data": {
      "text/plain": [
       "30"
      ]
     },
     "execution_count": 33,
     "metadata": {},
     "output_type": "execute_result"
    }
   ],
   "source": [
    "# s3[0]  이름이 0인 원소를 조회\n",
    "s3.iloc[0] # index 이름이 정수형일 경우에는 순서로 조회할 때 iloc index를 사용한다."
   ]
  },
  {
   "cell_type": "code",
   "execution_count": 37,
   "metadata": {},
   "outputs": [
    {
     "name": "stdout",
     "output_type": "stream",
     "text": [
      "10 20 40\n",
      "\n",
      "0    10\n",
      "1    20\n",
      "3    40\n",
      "dtype: int64\n"
     ]
    }
   ],
   "source": [
    "# 한번에 여러개 원소 조회\n",
    "print(s1[0], s1[1], s1[3]) # 리스트 방식\n",
    "print()\n",
    "print(s1[[0,1,3]])         # 조회결과를 Series로 묶어서 반환."
   ]
  },
  {
   "cell_type": "code",
   "execution_count": 47,
   "metadata": {},
   "outputs": [
    {
     "data": {
      "text/plain": [
       "Python     50\n",
       "Java      100\n",
       "C          90\n",
       "JS         60\n",
       "dtype: int64"
      ]
     },
     "execution_count": 47,
     "metadata": {},
     "output_type": "execute_result"
    }
   ],
   "source": [
    "# Series는 리스트같이 원소를 변경할 수 있다.\n",
    "s2[0] = 50\n",
    "s2"
   ]
  },
  {
   "cell_type": "code",
   "execution_count": 46,
   "metadata": {},
   "outputs": [
    {
     "data": {
      "text/plain": [
       "Python     50\n",
       "Java      100\n",
       "C          90\n",
       "JS         60\n",
       "dtype: int64"
      ]
     },
     "execution_count": 46,
     "metadata": {},
     "output_type": "execute_result"
    }
   ],
   "source": [
    "s2['Java'] = 100\n",
    "s2"
   ]
  },
  {
   "cell_type": "code",
   "execution_count": 49,
   "metadata": {},
   "outputs": [
    {
     "data": {
      "text/plain": [
       "(60, 60)"
      ]
     },
     "execution_count": 49,
     "metadata": {},
     "output_type": "execute_result"
    }
   ],
   "source": [
    "# index이름이 식별자 규칙에 맞으면 . 표기법으로 조회/변경가능\n",
    "s2['JS'], s2.JS"
   ]
  },
  {
   "cell_type": "markdown",
   "metadata": {
    "slideshow": {
     "slide_type": "subslide"
    }
   },
   "source": [
    "### Slicing\n",
    "- 범위로 원소들을 조회할 때 사용한다.\n",
    "- **Series[start index :  stop index : step]**\n",
    "    - start index 생략 : 0번 부터\n",
    "    - stop index\n",
    "        - **index 순번일 경우는 포함 하지는다.**\n",
    "        - **index 명의 경우는 포함한다.**\n",
    "    - stop index 생략 : 마지막 index까지\n",
    "    - step 생략 : 1씩 증가\n",
    "- **Slicing의 결과는 원본의 참조(View)를 반환**\n",
    "    - Slicing은 shallow copy를 한다. 그래서 slicing한 결과를 원소를 변경하면 slicing 했던 원본도 같이 바뀐다.\n",
    "    - 원본은 변경되지 않게 하려면 `slicing결과.copy()` 를 이용해 deep copy를 해야 한다."
   ]
  },
  {
   "cell_type": "markdown",
   "metadata": {
    "slideshow": {
     "slide_type": "fragment"
    }
   },
   "source": [
    "> - <b style='font-size:1.3em'>shallow copy와 deep copy</b>\n",
    ">    - **deep copy(깊은 복사)**\n",
    ">        - 원본과 동일한 값을 가진 새로운 객체를 만들어 반환한다. 그래서 복사본의 값을 변경해도 원본이 변경되지 않는다.\n",
    ">        - 파이썬 리스트는 slicing시 deep copy를 한다.\n",
    ">    - **shallow copy(얕은 복사)**\n",
    ">        - 원본을 반환하여 값 변경시 원본에 영향을 준다.\n",
    ">        - Series, DataFrame, 넘파이 배열(ndarray)은 slicing 조회 시 shallow copy한다.\n",
    ">    - **copy() 메소드**\n",
    ">        - Series, DataFrame, ndarray를 deep copy 한다."
   ]
  },
  {
   "cell_type": "code",
   "execution_count": 50,
   "metadata": {},
   "outputs": [
    {
     "name": "stdout",
     "output_type": "stream",
     "text": [
      "int64 (100,)\n"
     ]
    }
   ],
   "source": [
    "s5 = pd.Series(range(100)) # 0 ~ 99 를 원소로 가지는 시리즈\n",
    "print(s5.dtype, s5.shape)"
   ]
  },
  {
   "cell_type": "code",
   "execution_count": 51,
   "metadata": {},
   "outputs": [
    {
     "data": {
      "text/plain": [
       "10    10\n",
       "15    15\n",
       "dtype: int64"
      ]
     },
     "execution_count": 51,
     "metadata": {},
     "output_type": "execute_result"
    }
   ],
   "source": [
    "s5[10:20:5] # index로 slicing. stop이 포함안됨."
   ]
  },
  {
   "cell_type": "code",
   "execution_count": 52,
   "metadata": {},
   "outputs": [
    {
     "data": {
      "text/plain": [
       "10    10\n",
       "15    15\n",
       "20    20\n",
       "dtype: int64"
      ]
     },
     "execution_count": 52,
     "metadata": {},
     "output_type": "execute_result"
    }
   ],
   "source": [
    "s5.loc[10:20:5] # index name으로 slicing. stop index도 포함."
   ]
  },
  {
   "cell_type": "code",
   "execution_count": 53,
   "metadata": {},
   "outputs": [
    {
     "data": {
      "text/plain": [
       "10    10\n",
       "11    11\n",
       "12    12\n",
       "13    13\n",
       "14    14\n",
       "15    15\n",
       "16    16\n",
       "17    17\n",
       "18    18\n",
       "19    19\n",
       "dtype: int64"
      ]
     },
     "execution_count": 53,
     "metadata": {},
     "output_type": "execute_result"
    }
   ],
   "source": [
    "s5[10:20] # step 생략 ->1"
   ]
  },
  {
   "cell_type": "code",
   "execution_count": 55,
   "metadata": {
    "collapsed": true
   },
   "outputs": [
    {
     "data": {
      "text/plain": [
       "90    90\n",
       "91    91\n",
       "92    92\n",
       "93    93\n",
       "94    94\n",
       "95    95\n",
       "96    96\n",
       "97    97\n",
       "98    98\n",
       "99    99\n",
       "dtype: int64"
      ]
     },
     "execution_count": 55,
     "metadata": {},
     "output_type": "execute_result"
    }
   ],
   "source": [
    "s5[90:] #stop 생략 -> 끝까지"
   ]
  },
  {
   "cell_type": "code",
   "execution_count": 54,
   "metadata": {},
   "outputs": [
    {
     "data": {
      "text/plain": [
       "50    50\n",
       "55    55\n",
       "60    60\n",
       "65    65\n",
       "70    70\n",
       "75    75\n",
       "80    80\n",
       "85    85\n",
       "90    90\n",
       "95    95\n",
       "dtype: int64"
      ]
     },
     "execution_count": 54,
     "metadata": {},
     "output_type": "execute_result"
    }
   ],
   "source": [
    "s5[50::5] "
   ]
  },
  {
   "cell_type": "code",
   "execution_count": 56,
   "metadata": {},
   "outputs": [
    {
     "data": {
      "text/plain": [
       "0    0\n",
       "1    1\n",
       "2    2\n",
       "3    3\n",
       "4    4\n",
       "5    5\n",
       "6    6\n",
       "7    7\n",
       "8    8\n",
       "9    9\n",
       "dtype: int64"
      ]
     },
     "execution_count": 56,
     "metadata": {},
     "output_type": "execute_result"
    }
   ],
   "source": [
    "s5[:10] # start생략 : index 0부터"
   ]
  },
  {
   "cell_type": "code",
   "execution_count": 57,
   "metadata": {},
   "outputs": [
    {
     "data": {
      "text/plain": [
       "90    90\n",
       "91    91\n",
       "92    92\n",
       "93    93\n",
       "94    94\n",
       "95    95\n",
       "96    96\n",
       "97    97\n",
       "dtype: int64"
      ]
     },
     "execution_count": 57,
     "metadata": {},
     "output_type": "execute_result"
    }
   ],
   "source": [
    "s5[90:-2]"
   ]
  },
  {
   "cell_type": "code",
   "execution_count": 59,
   "metadata": {
    "collapsed": true
   },
   "outputs": [
    {
     "data": {
      "text/plain": [
       "50    50\n",
       "47    47\n",
       "44    44\n",
       "41    41\n",
       "38    38\n",
       "35    35\n",
       "32    32\n",
       "29    29\n",
       "26    26\n",
       "23    23\n",
       "20    20\n",
       "17    17\n",
       "14    14\n",
       "11    11\n",
       "dtype: int64"
      ]
     },
     "execution_count": 59,
     "metadata": {},
     "output_type": "execute_result"
    }
   ],
   "source": [
    " s5[50:10:-3] # start > stop, step:음수 -> 뒤에서부터 거꾸로 조회(reverse)"
   ]
  },
  {
   "cell_type": "code",
   "execution_count": 66,
   "metadata": {},
   "outputs": [
    {
     "data": {
      "text/plain": [
       "z    0\n",
       "a    1\n",
       "i    2\n",
       "c    3\n",
       "b    4\n",
       "r    5\n",
       "d    6\n",
       "e    7\n",
       "k    8\n",
       "j    9\n",
       "dtype: int64"
      ]
     },
     "execution_count": 66,
     "metadata": {},
     "output_type": "execute_result"
    }
   ],
   "source": [
    "s6 = pd.Series(range(10), index = list(\"zaicbrdekj\"))\n",
    "s6"
   ]
  },
  {
   "cell_type": "code",
   "execution_count": 67,
   "metadata": {},
   "outputs": [
    {
     "data": {
      "text/plain": [
       "i    2\n",
       "c    3\n",
       "b    4\n",
       "r    5\n",
       "d    6\n",
       "e    7\n",
       "dtype: int64"
      ]
     },
     "execution_count": 67,
     "metadata": {},
     "output_type": "execute_result"
    }
   ],
   "source": [
    "s6['i':\"e\"]"
   ]
  },
  {
   "cell_type": "code",
   "execution_count": 68,
   "metadata": {},
   "outputs": [
    {
     "data": {
      "text/plain": [
       "a    1\n",
       "b    4\n",
       "e    7\n",
       "dtype: int64"
      ]
     },
     "execution_count": 68,
     "metadata": {},
     "output_type": "execute_result"
    }
   ],
   "source": [
    "s6['a':'k':3]"
   ]
  },
  {
   "cell_type": "code",
   "execution_count": 72,
   "metadata": {},
   "outputs": [
    {
     "data": {
      "text/plain": [
       "e    7\n",
       "d    6\n",
       "r    5\n",
       "b    4\n",
       "c    3\n",
       "i    2\n",
       "dtype: int64"
      ]
     },
     "execution_count": 72,
     "metadata": {},
     "output_type": "execute_result"
    }
   ],
   "source": [
    "s6['e':'i':-1]"
   ]
  },
  {
   "cell_type": "code",
   "execution_count": 73,
   "metadata": {},
   "outputs": [
    {
     "data": {
      "text/plain": [
       "i    2\n",
       "c    3\n",
       "b    4\n",
       "r    5\n",
       "dtype: int64"
      ]
     },
     "execution_count": 73,
     "metadata": {},
     "output_type": "execute_result"
    }
   ],
   "source": [
    "# slicing한 결과의 원소를 변경\n",
    "result = s6.iloc[2:6] # iloc index -> 순번으로 조회\n",
    "result"
   ]
  },
  {
   "cell_type": "code",
   "execution_count": 75,
   "metadata": {},
   "outputs": [
    {
     "data": {
      "text/plain": [
       "z    0\n",
       "a    1\n",
       "i    2\n",
       "c    3\n",
       "b    4\n",
       "r    5\n",
       "d    6\n",
       "e    7\n",
       "k    8\n",
       "j    9\n",
       "dtype: int64"
      ]
     },
     "execution_count": 75,
     "metadata": {},
     "output_type": "execute_result"
    }
   ],
   "source": [
    "s6 \n",
    "\n"
   ]
  },
  {
   "cell_type": "code",
   "execution_count": 76,
   "metadata": {},
   "outputs": [
    {
     "data": {
      "text/plain": [
       "i    500000\n",
       "c         3\n",
       "b         4\n",
       "r         5\n",
       "dtype: int64"
      ]
     },
     "execution_count": 76,
     "metadata": {},
     "output_type": "execute_result"
    }
   ],
   "source": [
    "result[0] = 500000 # slicing 결과의 원소를 변경하면 원본의 값도 같이 바뀐다. -> shallow copy\n",
    "result"
   ]
  },
  {
   "cell_type": "code",
   "execution_count": 78,
   "metadata": {},
   "outputs": [
    {
     "data": {
      "text/plain": [
       "r    100000\n",
       "d         6\n",
       "e         7\n",
       "k         8\n",
       "dtype: int64"
      ]
     },
     "execution_count": 78,
     "metadata": {},
     "output_type": "execute_result"
    }
   ],
   "source": [
    "# slicing 결과를 변경하되 원본은 유지하려하면 copy() 해서 새로 만들어야 한다.\n",
    "result2 = s6['r':'k'].copy() # deep copy\n",
    "result2[0] =100000\n",
    "result2"
   ]
  },
  {
   "cell_type": "code",
   "execution_count": 79,
   "metadata": {},
   "outputs": [
    {
     "data": {
      "text/plain": [
       "z         0\n",
       "a         1\n",
       "i    500000\n",
       "c         3\n",
       "b         4\n",
       "r         5\n",
       "d         6\n",
       "e         7\n",
       "k         8\n",
       "j         9\n",
       "dtype: int64"
      ]
     },
     "execution_count": 79,
     "metadata": {},
     "output_type": "execute_result"
    }
   ],
   "source": [
    "s6 "
   ]
  },
  {
   "cell_type": "markdown",
   "metadata": {
    "slideshow": {
     "slide_type": "subslide"
    }
   },
   "source": [
    "## 벡터화 (연산)\n",
    "- Pandas의 Series나 DataFrame은 연산을 하면  원소 단위로 연산을 한다.\n",
    "    - **element-wise 연산** 이라고도 한다.\n",
    "- Series/DataFrame과 값(scalar값)을 연산하면 각 원소들과 값을 연산한다.\n",
    "- Series끼리 또는 DataFrame끼리 연산을 하면 같은 위치의 원소끼리 연산을 한다.\n",
    "    - **Index 이름**이 (index가 아닌) 같은 원소끼리 연산한다. "
   ]
  },
  {
   "cell_type": "code",
   "execution_count": 89,
   "metadata": {},
   "outputs": [
    {
     "data": {
      "text/plain": [
       "0    False\n",
       "1    False\n",
       "2    False\n",
       "3     True\n",
       "dtype: bool"
      ]
     },
     "execution_count": 89,
     "metadata": {},
     "output_type": "execute_result"
    }
   ],
   "source": [
    "s10 = pd.Series([10, -10, 5, 2])\n",
    "s10 + 5\n",
    "s10 * 2\n",
    "s10 > 0\n",
    "(s10 > -5) & (s10 < 5) # 판다스에선 비교연산자가 지원 X 따라서 and 가 아니라 & 사용.\n",
    "                       # & 사용함으로써 연산자에 () 사용. "
   ]
  },
  {
   "cell_type": "code",
   "execution_count": 90,
   "metadata": {},
   "outputs": [
    {
     "data": {
      "text/plain": [
       "0    0\n",
       "1   -8\n",
       "2    8\n",
       "3    9\n",
       "dtype: int64"
      ]
     },
     "execution_count": 90,
     "metadata": {},
     "output_type": "execute_result"
    }
   ],
   "source": [
    "s11 = pd.Series([-10, 2, 3, 7])\n",
    "s10 + s11 # 같은 index 이름끼리 계산"
   ]
  },
  {
   "cell_type": "code",
   "execution_count": 95,
   "metadata": {},
   "outputs": [
    {
     "data": {
      "text/plain": [
       "0    False\n",
       "1     True\n",
       "2    False\n",
       "3     True\n",
       "dtype: bool"
      ]
     },
     "execution_count": 95,
     "metadata": {},
     "output_type": "execute_result"
    }
   ],
   "source": [
    "s10 <= s11"
   ]
  },
  {
   "cell_type": "code",
   "execution_count": 97,
   "metadata": {},
   "outputs": [],
   "source": [
    "grade1 = pd.Series([100, 90, 70, 80])\n",
    "grade2 = pd.Series([80, 100, 90, 100], index = ['영어', '수학','국어', '과학'])\n",
    "grade3 = pd.Series([70, 80, 100, 100], index = ['영어', '수학','국어', '과학'])\n",
    "\n",
    "# index가 이름 , [70 ~ 100]는 순번\n"
   ]
  },
  {
   "cell_type": "code",
   "execution_count": 98,
   "metadata": {},
   "outputs": [
    {
     "data": {
      "text/plain": [
       "0    NaN\n",
       "1    NaN\n",
       "2    NaN\n",
       "3    NaN\n",
       "과학   NaN\n",
       "국어   NaN\n",
       "수학   NaN\n",
       "영어   NaN\n",
       "dtype: float64"
      ]
     },
     "execution_count": 98,
     "metadata": {},
     "output_type": "execute_result"
    }
   ],
   "source": [
    "grade1 + grade2"
   ]
  },
  {
   "cell_type": "code",
   "execution_count": 99,
   "metadata": {},
   "outputs": [
    {
     "data": {
      "text/plain": [
       "영어    150\n",
       "수학    180\n",
       "국어    190\n",
       "과학    200\n",
       "dtype: int64"
      ]
     },
     "execution_count": 99,
     "metadata": {},
     "output_type": "execute_result"
    }
   ],
   "source": [
    "grade2 + grade3 # 같은 이름끼리 계산"
   ]
  },
  {
   "cell_type": "code",
   "execution_count": 101,
   "metadata": {},
   "outputs": [
    {
     "data": {
      "text/plain": [
       "영어     True\n",
       "수학     True\n",
       "국어    False\n",
       "과학    False\n",
       "dtype: bool"
      ]
     },
     "execution_count": 101,
     "metadata": {},
     "output_type": "execute_result"
    }
   ],
   "source": [
    "grade2 > grade3"
   ]
  },
  {
   "cell_type": "markdown",
   "metadata": {
    "slideshow": {
     "slide_type": "subslide"
    }
   },
   "source": [
    "## Boolean 인덱싱\n",
    "- Series의 indexing 연산자에 boolean 리스트를 넣으면 True인 index의 값들만 조회한다. \n",
    "    - **원하는 조건의 값들을 조회**할 때 사용한다.\n",
    "|논리연산자|설명|\n",
    "|:-:|-|\n",
    "|&|and연산|\n",
    "|\\||or연산|\n",
    "|~|not 연산|\n",
    "    \n",
    "    - 논리연산자의 피연산자들은 반드시 ( )로 묶어준다.\n",
    "    - 파이썬과는 다르게 `and`, `or`, `not`은 예약어는 사용할 수 없다."
   ]
  },
  {
   "cell_type": "code",
   "execution_count": 105,
   "metadata": {},
   "outputs": [
    {
     "data": {
      "text/plain": [
       "0    10\n",
       "1   -10\n",
       "2     5\n",
       "3     2\n",
       "dtype: int64"
      ]
     },
     "execution_count": 105,
     "metadata": {},
     "output_type": "execute_result"
    }
   ],
   "source": [
    "s10"
   ]
  },
  {
   "cell_type": "code",
   "execution_count": 104,
   "metadata": {},
   "outputs": [
    {
     "data": {
      "text/plain": [
       "0    10\n",
       "2     5\n",
       "dtype: int64"
      ]
     },
     "execution_count": 104,
     "metadata": {},
     "output_type": "execute_result"
    }
   ],
   "source": [
    "s10[[True, False, True, False]] \n",
    "# 대상 Series 와 같은 shpae mooelean 배열을 indexer 넣는다. =>> True index 의 값들을 조회"
   ]
  },
  {
   "cell_type": "code",
   "execution_count": 109,
   "metadata": {},
   "outputs": [
    {
     "data": {
      "text/plain": [
       "0    10\n",
       "2     5\n",
       "3     2\n",
       "dtype: int64"
      ]
     },
     "execution_count": 109,
     "metadata": {},
     "output_type": "execute_result"
    }
   ],
   "source": [
    "s10[s10 >= 0] # 특정 조건을 만족하는 값들만 사용하고 싶을때 bool형 조건을 사용한다!!!!!!"
   ]
  },
  {
   "cell_type": "code",
   "execution_count": 243,
   "metadata": {
    "scrolled": true
   },
   "outputs": [
    {
     "data": {
      "text/plain": [
       "0     603\n",
       "1     472\n",
       "2     717\n",
       "3     645\n",
       "4     288\n",
       "     ... \n",
       "95    545\n",
       "96    963\n",
       "97    180\n",
       "98    868\n",
       "99    746\n",
       "Length: 100, dtype: int64"
      ]
     },
     "execution_count": 243,
     "metadata": {},
     "output_type": "execute_result"
    }
   ],
   "source": [
    "import numpy as np\n",
    "s20 = pd.Series(np.random.randint(0,1000,100)) # 0 ~ 1000 사이의 숫자를 100개 random 하게 생성(난수 - random value)\n",
    "s20"
   ]
  },
  {
   "cell_type": "code",
   "execution_count": 245,
   "metadata": {},
   "outputs": [
    {
     "data": {
      "text/plain": [
       "19    925\n",
       "41    965\n",
       "42    955\n",
       "48    930\n",
       "51    933\n",
       "61    986\n",
       "64    974\n",
       "68    974\n",
       "78    910\n",
       "85    973\n",
       "86    986\n",
       "87    921\n",
       "96    963\n",
       "dtype: int64"
      ]
     },
     "execution_count": 245,
     "metadata": {},
     "output_type": "execute_result"
    }
   ],
   "source": [
    "# s20의 원소중에 900이상인 값들만 조회\n",
    "s20[s20 >= 900]"
   ]
  },
  {
   "cell_type": "code",
   "execution_count": 246,
   "metadata": {
    "slideshow": {
     "slide_type": "fragment"
    }
   },
   "outputs": [
    {
     "data": {
      "text/plain": [
       "9     134\n",
       "14    183\n",
       "20    185\n",
       "43    153\n",
       "46    192\n",
       "81    159\n",
       "84    173\n",
       "97    180\n",
       "dtype: int64"
      ]
     },
     "execution_count": 246,
     "metadata": {},
     "output_type": "execute_result"
    }
   ],
   "source": [
    "# s20의 원소중 100 ~ 200 사이의 값들만 조회\n",
    "s20[(s20 >= 100) & (s20 <= 200)]"
   ]
  },
  {
   "cell_type": "code",
   "execution_count": 247,
   "metadata": {},
   "outputs": [
    {
     "data": {
      "text/plain": [
       "19    925\n",
       "24      0\n",
       "35     43\n",
       "41    965\n",
       "42    955\n",
       "48    930\n",
       "51    933\n",
       "58     93\n",
       "61    986\n",
       "64    974\n",
       "68    974\n",
       "74     39\n",
       "78    910\n",
       "82     35\n",
       "83     84\n",
       "85    973\n",
       "86    986\n",
       "87    921\n",
       "88     75\n",
       "96    963\n",
       "dtype: int64"
      ]
     },
     "execution_count": 247,
     "metadata": {},
     "output_type": "execute_result"
    }
   ],
   "source": [
    "# s20의 원소중 100 ~ 900 사이가 아닌 값들을 조회  **(not =>> ~)**\n",
    "s20[~((s20 >= 100) & (s20 <= 900))]"
   ]
  },
  {
   "cell_type": "code",
   "execution_count": 248,
   "metadata": {},
   "outputs": [
    {
     "data": {
      "text/plain": [
       "9     134\n",
       "14    183\n",
       "20    185\n",
       "43    153\n",
       "46    192\n",
       "81    159\n",
       "84    173\n",
       "97    180\n",
       "dtype: int64"
      ]
     },
     "execution_count": 248,
     "metadata": {},
     "output_type": "execute_result"
    }
   ],
   "source": [
    "# Series객체.between(a,b)  =>   a ~ b 사이의 값들인지 여부를 bool으로 확인\n",
    "s20[s20.between(100,200)] "
   ]
  },
  {
   "cell_type": "markdown",
   "metadata": {
    "slideshow": {
     "slide_type": "subslide"
    }
   },
   "source": [
    "> - Series에서 \n",
    ">     - 특정 조건이 True인 원소들을 조회:  boolean indexing\n",
    ">     - 특정 조건이 True인 원소들의 index를 조회: numpy.where(boolean 연산)\n",
    ">     - 특정 조건이 True인 원소와 False인 원소를 각각 다른 값으로 변경: numpy.where(boolean 연산, True변환값, False변환값)\n",
    "    \n",
    "    \n",
    "> Numpy의 ndarray도 동일    "
   ]
  },
  {
   "cell_type": "code",
   "execution_count": 256,
   "metadata": {},
   "outputs": [
    {
     "data": {
      "text/plain": [
       "0     False\n",
       "1     False\n",
       "2     False\n",
       "3     False\n",
       "4     False\n",
       "      ...  \n",
       "95    False\n",
       "96    False\n",
       "97    False\n",
       "98    False\n",
       "99    False\n",
       "Length: 100, dtype: bool"
      ]
     },
     "execution_count": 256,
     "metadata": {},
     "output_type": "execute_result"
    }
   ],
   "source": [
    "s20.between(200,250) # boolean indexing => 조건이 True인 원소(값)들 조회."
   ]
  },
  {
   "cell_type": "code",
   "execution_count": 260,
   "metadata": {},
   "outputs": [
    {
     "data": {
      "text/plain": [
       "(array([22, 23, 34, 37, 45, 53, 55, 65, 73]),)"
      ]
     },
     "execution_count": 260,
     "metadata": {},
     "output_type": "execute_result"
    }
   ],
   "source": [
    "np.where(s20.between(200,250)) # numpy.where(boolean 자료구조) => True의 index(순번)들 조회"
   ]
  },
  {
   "cell_type": "code",
   "execution_count": 251,
   "metadata": {
    "collapsed": true
   },
   "outputs": [
    {
     "data": {
      "text/plain": [
       "array(['500초과', '500이하', '500초과', '500초과', '500이하', '500초과', '500초과',\n",
       "       '500초과', '500이하', '500이하', '500이하', '500초과', '500초과', '500초과',\n",
       "       '500이하', '500초과', '500초과', '500초과', '500이하', '500초과', '500이하',\n",
       "       '500초과', '500이하', '500이하', '500이하', '500초과', '500초과', '500초과',\n",
       "       '500초과', '500이하', '500이하', '500초과', '500초과', '500이하', '500이하',\n",
       "       '500이하', '500이하', '500이하', '500이하', '500이하', '500이하', '500초과',\n",
       "       '500초과', '500이하', '500초과', '500이하', '500이하', '500이하', '500초과',\n",
       "       '500초과', '500이하', '500초과', '500이하', '500이하', '500초과', '500이하',\n",
       "       '500초과', '500초과', '500이하', '500이하', '500초과', '500초과', '500초과',\n",
       "       '500초과', '500초과', '500이하', '500초과', '500이하', '500초과', '500초과',\n",
       "       '500이하', '500초과', '500이하', '500이하', '500이하', '500초과', '500초과',\n",
       "       '500초과', '500초과', '500이하', '500초과', '500이하', '500이하', '500이하',\n",
       "       '500이하', '500초과', '500초과', '500초과', '500이하', '500초과', '500이하',\n",
       "       '500이하', '500이하', '500초과', '500이하', '500초과', '500초과', '500이하',\n",
       "       '500초과', '500초과'], dtype='<U5')"
      ]
     },
     "execution_count": 251,
     "metadata": {},
     "output_type": "execute_result"
    }
   ],
   "source": [
    "np.where(s20 > 500, '500초과', '500이하') # True인것 False 원소의 값을 각각 변경."
   ]
  },
  {
   "cell_type": "code",
   "execution_count": 134,
   "metadata": {
    "collapsed": true
   },
   "outputs": [
    {
     "data": {
      "text/plain": [
       "[705,\n",
       " 644,\n",
       " 762,\n",
       " 564,\n",
       " 587,\n",
       " 914,\n",
       " 856,\n",
       " 639,\n",
       " 855,\n",
       " 736,\n",
       " 906,\n",
       " 951,\n",
       " 503,\n",
       " 926,\n",
       " 754,\n",
       " 600,\n",
       " 992,\n",
       " 599,\n",
       " 536,\n",
       " 879,\n",
       " 721,\n",
       " 755,\n",
       " 538,\n",
       " 769,\n",
       " 759,\n",
       " 934,\n",
       " 848,\n",
       " 650,\n",
       " 554,\n",
       " 639,\n",
       " 845,\n",
       " 778,\n",
       " 984,\n",
       " 712,\n",
       " 992,\n",
       " 974,\n",
       " 656,\n",
       " 892,\n",
       " 949]"
      ]
     },
     "execution_count": 134,
     "metadata": {},
     "output_type": "execute_result"
    }
   ],
   "source": [
    "[v for v in s20 if v > 500]"
   ]
  },
  {
   "attachments": {
    "image.png": {
     "image/png": "[encoded data removed]"
    }
   },
   "cell_type": "markdown",
   "metadata": {
    "slideshow": {
     "slide_type": "slide"
    }
   },
   "source": [
    "## 주요 메소드, 속성\n",
    "\n",
    "![image.png](attachment:image.png)"
   ]
  },
  {
   "attachments": {
    "image.png": {
     "image/png": "[encoded data removed]"
    }
   },
   "cell_type": "markdown",
   "metadata": {
    "slideshow": {
     "slide_type": "subslide"
    }
   },
   "source": [
    "![image.png](attachment:image.png)"
   ]
  },
  {
   "cell_type": "markdown",
   "metadata": {},
   "source": [
    "- abc 와 zxy 같은 문자열에서 min()을 사용할 경우 abc의 값이 나온다.\n",
    "- 반대로 max() 적용시 zxy의 값이 나온다."
   ]
  },
  {
   "cell_type": "code",
   "execution_count": 139,
   "metadata": {},
   "outputs": [
    {
     "name": "stdout",
     "output_type": "stream",
     "text": [
      "int64\n",
      "100\n",
      "(100,)\n",
      "RangeIndex(start=0, stop=100, step=1)\n"
     ]
    }
   ],
   "source": [
    "print(s20.dtype) # series 의 데이터 타입\n",
    "print(s20.size) # 원소 개수\n",
    "print(s20.shape) # Series의 형태-차원별 (축 - axis) 크기\n",
    "print(s20.index) # index 이름을 조회."
   ]
  },
  {
   "cell_type": "code",
   "execution_count": 140,
   "metadata": {},
   "outputs": [
    {
     "data": {
      "text/plain": [
       "0    153\n",
       "1    481\n",
       "2    333\n",
       "3    345\n",
       "4      9\n",
       "dtype: int64"
      ]
     },
     "execution_count": 140,
     "metadata": {},
     "output_type": "execute_result"
    }
   ],
   "source": [
    "s20.head()  # 앞에서부터 5개만 조회\n",
    "s20.head(3) # 개수 지정 => 잘 안씀.\n",
    "s20[:5]     # 이렇게 쓰면 됨.\n"
   ]
  },
  {
   "cell_type": "code",
   "execution_count": 142,
   "metadata": {},
   "outputs": [
    {
     "data": {
      "text/plain": [
       "95    202\n",
       "96    949\n",
       "97     86\n",
       "98    180\n",
       "99    415\n",
       "dtype: int64"
      ]
     },
     "execution_count": 142,
     "metadata": {},
     "output_type": "execute_result"
    }
   ],
   "source": [
    "s20.tail() # 뒤에 5개만 조회 => 잘 안씀.\n",
    "s20.tail(2)\n",
    "s20[-5:]   # 이렇게 사용하면 됨."
   ]
  },
  {
   "cell_type": "code",
   "execution_count": 151,
   "metadata": {},
   "outputs": [],
   "source": [
    "# np.random.choice(['Python', 'Java', 'C', 'GO', 'Rust'],100)\n",
    "# 특정 개수의 값으로만 구성된 자료구조 => 범주형(Categorical type)\n",
    "s30 = pd.Series(np.random.choice(['Python', 'Java', 'C', 'GO', 'Rust'],100))"
   ]
  },
  {
   "cell_type": "code",
   "execution_count": 149,
   "metadata": {},
   "outputs": [
    {
     "data": {
      "text/plain": [
       "C         21\n",
       "Rust      21\n",
       "Java      21\n",
       "Python    20\n",
       "GO        17\n",
       "dtype: int64"
      ]
     },
     "execution_count": 149,
     "metadata": {},
     "output_type": "execute_result"
    }
   ],
   "source": [
    "s30.value_counts() # s30을 구성하는 범주값들의 각각의 개수"
   ]
  },
  {
   "cell_type": "code",
   "execution_count": 153,
   "metadata": {},
   "outputs": [
    {
     "data": {
      "text/plain": [
       "Java      0.27\n",
       "C         0.23\n",
       "Rust      0.19\n",
       "GO        0.18\n",
       "Python    0.13\n",
       "dtype: float64"
      ]
     },
     "execution_count": 153,
     "metadata": {},
     "output_type": "execute_result"
    }
   ],
   "source": [
    "s30.value_counts(normalize=True) # 각 원소의 전체비율 조회."
   ]
  },
  {
   "cell_type": "markdown",
   "metadata": {
    "slideshow": {
     "slide_type": "slide"
    }
   },
   "source": [
    "### 정렬\n",
    "- **sort_values()**\n",
    "    - 값으로 정렬\n",
    "- **sort_index()**\n",
    "    - index명으로 정렬\n",
    "- 공통 매개변수\n",
    "    - ascending=False (내림차순, 기본-True:오름차순)\n",
    "    - inplace=True\n",
    "        - 원본 자체를 정렬\n",
    "        - False(기본값): 정렬결과를 새로운 Series로 반환.    \n",
    "    - 결측치(NaN)는 정렬 방식과 상관없이 마지막에 나온다.\n"
   ]
  },
  {
   "cell_type": "code",
   "execution_count": 189,
   "metadata": {},
   "outputs": [
    {
     "data": {
      "text/plain": [
       "Z     20\n",
       "R      6\n",
       "A    -10\n",
       "B    100\n",
       "S      7\n",
       "dtype: int64"
      ]
     },
     "execution_count": 189,
     "metadata": {},
     "output_type": "execute_result"
    }
   ],
   "source": [
    "s40 = pd.Series([20,6,-10,100,7], index=['Z', 'R', 'A', 'B', 'S'])\n",
    "s40"
   ]
  },
  {
   "cell_type": "code",
   "execution_count": 190,
   "metadata": {},
   "outputs": [
    {
     "data": {
      "text/plain": [
       "A    -10\n",
       "B    100\n",
       "R      6\n",
       "S      7\n",
       "Z     20\n",
       "dtype: int64"
      ]
     },
     "execution_count": 190,
     "metadata": {},
     "output_type": "execute_result"
    }
   ],
   "source": [
    "s = s40.sort_index() # 오름차순을 기본으로 정렬 // 원본은 바뀌지 않고 새로운 파일을 만든거임.\n",
    "s"
   ]
  },
  {
   "cell_type": "code",
   "execution_count": 191,
   "metadata": {},
   "outputs": [
    {
     "data": {
      "text/plain": [
       "Z     20\n",
       "S      7\n",
       "R      6\n",
       "B    100\n",
       "A    -10\n",
       "dtype: int64"
      ]
     },
     "execution_count": 191,
     "metadata": {},
     "output_type": "execute_result"
    }
   ],
   "source": [
    "s40.sort_index(ascending=False) # 내림차순 정렬."
   ]
  },
  {
   "cell_type": "code",
   "execution_count": 204,
   "metadata": {},
   "outputs": [
    {
     "data": {
      "text/plain": [
       "A    -10\n",
       "B    100\n",
       "R      6\n",
       "S      7\n",
       "Z     20\n",
       "dtype: int64"
      ]
     },
     "execution_count": 204,
     "metadata": {},
     "output_type": "execute_result"
    }
   ],
   "source": [
    "s40.sort_index(inplace=True) # 원본(s40)이 바뀜.\n",
    "s40"
   ]
  },
  {
   "cell_type": "code",
   "execution_count": 193,
   "metadata": {},
   "outputs": [
    {
     "data": {
      "text/plain": [
       "A    -10\n",
       "B    100\n",
       "R      6\n",
       "S      7\n",
       "Z     20\n",
       "dtype: int64"
      ]
     },
     "execution_count": 193,
     "metadata": {},
     "output_type": "execute_result"
    }
   ],
   "source": [
    "s40"
   ]
  },
  {
   "cell_type": "code",
   "execution_count": 205,
   "metadata": {},
   "outputs": [
    {
     "data": {
      "text/plain": [
       "A    -10\n",
       "R      6\n",
       "S      7\n",
       "Z     20\n",
       "B    100\n",
       "dtype: int64"
      ]
     },
     "execution_count": 205,
     "metadata": {},
     "output_type": "execute_result"
    }
   ],
   "source": [
    "# 값 기준 정렬\n",
    "s40.sort_values()"
   ]
  },
  {
   "cell_type": "code",
   "execution_count": 206,
   "metadata": {},
   "outputs": [
    {
     "data": {
      "text/plain": [
       "B    100\n",
       "Z     20\n",
       "S      7\n",
       "R      6\n",
       "A    -10\n",
       "dtype: int64"
      ]
     },
     "execution_count": 206,
     "metadata": {},
     "output_type": "execute_result"
    }
   ],
   "source": [
    "s40.sort_values(ascending=False) # 내림차순"
   ]
  },
  {
   "cell_type": "code",
   "execution_count": 208,
   "metadata": {},
   "outputs": [
    {
     "data": {
      "text/plain": [
       "A    -10\n",
       "R      6\n",
       "S      7\n",
       "Z     20\n",
       "B    100\n",
       "dtype: int64"
      ]
     },
     "execution_count": 208,
     "metadata": {},
     "output_type": "execute_result"
    }
   ],
   "source": [
    "s40.sort_values(inplace=True) # s40 원본이 바뀜. #################\n",
    "s40"
   ]
  },
  {
   "cell_type": "code",
   "execution_count": null,
   "metadata": {},
   "outputs": [],
   "source": []
  },
  {
   "cell_type": "markdown",
   "metadata": {
    "slideshow": {
     "slide_type": "subslide"
    }
   },
   "source": [
    "## 기술 통계량\n",
    "- 데이터셋의 데이터들의 특징을 하나의 숫자로 요약한 것.\n",
    "- ### 평균 \n",
    "    - 전체 데이터들의 합계를 총 개수로 나눈 통계량\n",
    "    - 전체 데이터셋의 데이터들은 평균값 근처에 분포되어 데이터셋의 대표값으로 사용한다.\n",
    "    - 이상치(너무 크거나 작은 값)의 영향을 많이 받는다.\n",
    "\n",
    "\n",
    "$$평균 = \\cfrac{1}{n}\\sum_{i=1}^{n}{X_i}$$\n",
    "- ### 중앙값\n",
    "    - 분포된 값들을 작은값 부터 순서대로 나열한 뒤 그 중앙에 위치한 값\n",
    "    - 이상치에 영향을 받지 않아 평균대신 집단의 대표값으로 사용한다.\n",
    "- ### 표준편차/분산\n",
    "    - 값들이 흩어져있는 상태(분포)를 추정하는 통계량으로 분포된 값들이 평균에서 부터 얼마나 떨어져 있는지를 나타내는 통계량.\n",
    "    - 각 데이터가 평균으로 부터 얼마나 차이가 있는지를 편차(Deviation)라고 한다. ($평균-데이터$)\n",
    "    - 분산 : 편차 제곱의 합을 총 개수로 나눈 값 \n",
    "    $$분산 = \\cfrac{1}{n}\\sum_{i=1}^{n}(평균-X_i)^2$$\n",
    "    - 표준편차\n",
    "        - 분산의 제곱근\n",
    "        - 분산은 원래 값에 제곱을 했으므로 다시 원래 단위로 계산한 값.\n",
    "    $$표준편차 = \\sqrt{\\cfrac{1}{n}\\sum_{i=1}^{n}(평균-X_i)^2}$$\n",
    "\n",
    "- ### 최빈값(mode)\n",
    "    - 데이터 셋에서 가장 많이 있는 값.\n",
    "- ### 분위수(Quantile)\n",
    "    - 데이터의 크기 순서에 따른 위치값\n",
    "        - 데이터셋을 크기순으로 정렬한뒤 N등분했을 때 특정 위치에서의 값 (단면)\n",
    "        - N등분한 특정위치의 값들 통해 전체 데이터셋을 분포를 파악한다.\n",
    "        - 대표적인 분위수 : 4분위, 10분위, 100분위\n",
    "    - 데이터의 분포를 파악할 때 사용\n",
    "    - 이상치 중 극단값들을 찾을 때 사용 (4분위수)\n",
    "<img src='https://img1.daumcdn.net/thumb/R1280x0/?scode=mtistory2&fname=http%3A%2F%2Fcfile4.uf.tistory.com%2Fimage%2F99BCE04D5DF076AB2FA02D'>\n",
    "<img src='https://t1.daumcdn.net/cfile/tistory/99E6BD465DF0782433'>"
   ]
  },
  {
   "cell_type": "code",
   "execution_count": null,
   "metadata": {},
   "outputs": [],
   "source": [
    "나눈 위치의 값 => 분위수b"
   ]
  },
  {
   "cell_type": "code",
   "execution_count": 209,
   "metadata": {},
   "outputs": [
    {
     "data": {
      "text/plain": [
       "A    -10\n",
       "R      6\n",
       "S      7\n",
       "Z     20\n",
       "B    100\n",
       "dtype: int64"
      ]
     },
     "execution_count": 209,
     "metadata": {},
     "output_type": "execute_result"
    }
   ],
   "source": [
    "s40"
   ]
  },
  {
   "cell_type": "code",
   "execution_count": 221,
   "metadata": {},
   "outputs": [
    {
     "name": "stdout",
     "output_type": "stream",
     "text": [
      "100 -10\n",
      "B A\n",
      "123 24.6 7.0\n",
      "43.47182995918161 1889.8000000000002\n"
     ]
    }
   ],
   "source": [
    "print(s40.max(), s40.min())       # 최대,최소\n",
    "print(s40.idxmax(), s40.idxmin()) # 최대 / 최소값의 index 이름.\n",
    "print(s40.sum(), s40.mean(), s40.median()) # 합계, 평균, 중앙값\n",
    "print(s40.std(), s40.var())       # 표준편차, 분산"
   ]
  },
  {
   "cell_type": "code",
   "execution_count": 215,
   "metadata": {},
   "outputs": [
    {
     "data": {
      "text/plain": [
       "1889.8"
      ]
     },
     "execution_count": 215,
     "metadata": {},
     "output_type": "execute_result"
    }
   ],
   "source": [
    "s40.std()**2 # 표준편차 제곱은 분산이다."
   ]
  },
  {
   "cell_type": "code",
   "execution_count": 217,
   "metadata": {},
   "outputs": [
    {
     "name": "stdout",
     "output_type": "stream",
     "text": [
      "0    Java\n",
      "dtype: object\n"
     ]
    }
   ],
   "source": [
    "# 범주형\n",
    "print(s30.mode()) # 최빈값 => 가장 개수가 많은 값 ==> Series로 묶어서 반환."
   ]
  },
  {
   "cell_type": "code",
   "execution_count": 220,
   "metadata": {},
   "outputs": [
    {
     "data": {
      "text/plain": [
       "Java      27\n",
       "C         23\n",
       "Rust      19\n",
       "GO        18\n",
       "Python    13\n",
       "dtype: int64"
      ]
     },
     "execution_count": 220,
     "metadata": {},
     "output_type": "execute_result"
    }
   ],
   "source": [
    "s30.value_counts()"
   ]
  },
  {
   "cell_type": "code",
   "execution_count": 223,
   "metadata": {
    "collapsed": true
   },
   "outputs": [
    {
     "data": {
      "text/plain": [
       "0     519\n",
       "1     875\n",
       "2     506\n",
       "3     378\n",
       "4     465\n",
       "     ... \n",
       "95    490\n",
       "96    606\n",
       "97    448\n",
       "98    457\n",
       "99    442\n",
       "Length: 100, dtype: int64"
      ]
     },
     "execution_count": 223,
     "metadata": {},
     "output_type": "execute_result"
    }
   ],
   "source": [
    "# 분위수 \n",
    "s60 = pd.Series(np.random.randint(100,1000, 100))\n",
    "s60"
   ]
  },
  {
   "cell_type": "code",
   "execution_count": 225,
   "metadata": {},
   "outputs": [
    {
     "name": "stdout",
     "output_type": "stream",
     "text": [
      "중위수(중앙값): 542.0\n"
     ]
    }
   ],
   "source": [
    "print('중위수(중앙값):', s60.median())"
   ]
  },
  {
   "cell_type": "code",
   "execution_count": null,
   "metadata": {},
   "outputs": [],
   "source": [
    "# 분위수 -> quantile(q=[분위]) 분위: 0 ~ 1"
   ]
  },
  {
   "cell_type": "code",
   "execution_count": 227,
   "metadata": {},
   "outputs": [
    {
     "data": {
      "text/plain": [
       "0.5    542.0\n",
       "dtype: float64"
      ]
     },
     "execution_count": 227,
     "metadata": {},
     "output_type": "execute_result"
    }
   ],
   "source": [
    "s60.quantile(q=[0.5]) #중위수"
   ]
  },
  {
   "cell_type": "code",
   "execution_count": 228,
   "metadata": {},
   "outputs": [
    {
     "data": {
      "text/plain": [
       "0.25    318.50\n",
       "0.50    542.00\n",
       "0.75    842.75\n",
       "dtype: float64"
      ]
     },
     "execution_count": 228,
     "metadata": {},
     "output_type": "execute_result"
    }
   ],
   "source": [
    "# 4분위 : 4등분 했을때 나뉘는 위치의 값\n",
    "s60.quantile(q=[0.25,0.5,0.75])"
   ]
  },
  {
   "cell_type": "code",
   "execution_count": 230,
   "metadata": {},
   "outputs": [
    {
     "data": {
      "text/plain": [
       "0.1    182.0\n",
       "0.2    255.6\n",
       "0.3    372.6\n",
       "0.4    455.8\n",
       "0.5    542.0\n",
       "0.6    696.4\n",
       "0.7    811.6\n",
       "0.8    859.8\n",
       "0.9    946.4\n",
       "dtype: float64"
      ]
     },
     "execution_count": 230,
     "metadata": {},
     "output_type": "execute_result"
    }
   ],
   "source": [
    "# 10분위수\n",
    "s60.quantile(q=[0.1,0.2,0.3,0.4,0.5,0.6,0.7,0.8,0.9])"
   ]
  },
  {
   "cell_type": "code",
   "execution_count": 231,
   "metadata": {},
   "outputs": [
    {
     "data": {
      "text/plain": [
       "0.1    182.0\n",
       "0.2    255.6\n",
       "0.3    372.6\n",
       "0.4    455.8\n",
       "0.5    542.0\n",
       "0.6    696.4\n",
       "0.7    811.6\n",
       "0.8    859.8\n",
       "0.9    946.4\n",
       "dtype: float64"
      ]
     },
     "execution_count": 231,
     "metadata": {},
     "output_type": "execute_result"
    }
   ],
   "source": [
    "r = s60.quantile(q=np.arange(0.1,1,0.1)) # np.arange(0.1,1,0.1) => o.1 ~ 1, 0.1씩 중가\n",
    "r"
   ]
  },
  {
   "cell_type": "code",
   "execution_count": 233,
   "metadata": {},
   "outputs": [
    {
     "data": {
      "text/plain": [
       "455.8"
      ]
     },
     "execution_count": 233,
     "metadata": {},
     "output_type": "execute_result"
    }
   ],
   "source": [
    "r[0.9]\n",
    "r[0.4]"
   ]
  },
  {
   "cell_type": "code",
   "execution_count": 236,
   "metadata": {},
   "outputs": [
    {
     "data": {
      "text/plain": [
       "100"
      ]
     },
     "execution_count": 236,
     "metadata": {},
     "output_type": "execute_result"
    }
   ],
   "source": [
    "s60.count()"
   ]
  },
  {
   "cell_type": "code",
   "execution_count": 235,
   "metadata": {},
   "outputs": [
    {
     "data": {
      "text/plain": [
       "count    100.000000\n",
       "mean     565.990000\n",
       "std      284.749775\n",
       "min      102.000000\n",
       "25%      318.500000\n",
       "50%      542.000000\n",
       "75%      842.750000\n",
       "max      996.000000\n",
       "dtype: float64"
      ]
     },
     "execution_count": 235,
     "metadata": {},
     "output_type": "execute_result"
    }
   ],
   "source": [
    "s60.describe() #count(): 결측치 아닌 원소의 개수"
   ]
  },
  {
   "cell_type": "code",
   "execution_count": 242,
   "metadata": {},
   "outputs": [],
   "source": [
    "s30.describe?"
   ]
  },
  {
   "cell_type": "code",
   "execution_count": 240,
   "metadata": {},
   "outputs": [
    {
     "data": {
      "text/plain": [
       "count      100\n",
       "unique       5\n",
       "top       Java\n",
       "freq        27\n",
       "dtype: object"
      ]
     },
     "execution_count": 240,
     "metadata": {},
     "output_type": "execute_result"
    }
   ],
   "source": [
    "# 원소들이 볌주형, 문자열 타입일떄 \n",
    "s30.describe()"
   ]
  },
  {
   "cell_type": "markdown",
   "metadata": {},
   "source": [
    "```\n",
    "count      100 # 결측치 아닌 원소들의 개수\n",
    "unique       5 # 고유값(범주값)의 개수\n",
    "top       Java # 최빈값\n",
    "freq        27 # 최빈값의 빈도수(개수)\n",
    "dtype: object\n",
    "```"
   ]
  },
  {
   "cell_type": "code",
   "execution_count": 241,
   "metadata": {},
   "outputs": [
    {
     "data": {
      "text/plain": [
       "Java      27\n",
       "C         23\n",
       "Rust      19\n",
       "GO        18\n",
       "Python    13\n",
       "dtype: int64"
      ]
     },
     "execution_count": 241,
     "metadata": {},
     "output_type": "execute_result"
    }
   ],
   "source": [
    "s30.value_counts()"
   ]
  },
  {
   "cell_type": "markdown",
   "metadata": {
    "slideshow": {
     "slide_type": "subslide"
    }
   },
   "source": [
    "## 결측치 (Missing Value, Not Available)\n",
    "- 결측지: 모르는 값, 수집이 안된값, 현재 가지고 있지 않은 값.\n",
    "- 판다스에서 결측치\n",
    "    - None, numpy.nan, numpy.NAN\n",
    "    - 결측치는 float 타입으로 처리한다.\n",
    "        - 많은 value중 float 타입의 값이 하나 있으면 모든 값들은 **float타입**으로 나온다.\n",
    "    \n",
    "### 결측치 확인\n",
    "- 각 함수/메소드는 각 원소별로 결측치인지 확인해서 결과를 반환한다.\n",
    "- Numpy\n",
    "    - np.isnan(배열)\n",
    "    ```python\n",
    "import numpy as np\n",
    "a = np.array([1,np.nan])\n",
    "np.isnan(a)\n",
    "```\n",
    "\n",
    "- Series/DataFrame\n",
    "    - Series/DataFrame객체**\\.isnull()**, 또는 **\\.isna()**\n",
    "    - Series/DataFrame객체**\\.notnull()**, 또는 **\\.notna()**"
   ]
  },
  {
   "cell_type": "code",
   "execution_count": null,
   "metadata": {},
   "outputs": [],
   "source": [
    "\n",
    "\n",
    "-------------------\n",
    "# 결측지 존재여부 확인.\n",
    "# 어떻게 처리할지.(없에거나, 다른 값으로 적용거나)"
   ]
  },
  {
   "cell_type": "markdown",
   "metadata": {
    "slideshow": {
     "slide_type": "fragment"
    }
   },
   "source": [
    "### 결측치 처리\n",
    "- 제거 \n",
    "    - dropna()\n",
    "- 다른값으로 대체 \n",
    "    - fillna()\n",
    "    - 평균, 중앙값, 최빈값을 주로 사용 "
   ]
  },
  {
   "cell_type": "code",
   "execution_count": 7,
   "metadata": {},
   "outputs": [],
   "source": [
    "import pandas as pd\n",
    "import numpy as np"
   ]
  },
  {
   "cell_type": "code",
   "execution_count": 8,
   "metadata": {},
   "outputs": [
    {
     "data": {
      "text/plain": [
       "0    10.0\n",
       "1     2.0\n",
       "2    40.0\n",
       "3     7.0\n",
       "4    20.0\n",
       "5     NaN\n",
       "6    50.0\n",
       "7     NaN\n",
       "8    10.0\n",
       "dtype: float64"
      ]
     },
     "execution_count": 8,
     "metadata": {},
     "output_type": "execute_result"
    }
   ],
   "source": [
    "s = pd.Series([10, 2, 40, 7, 20, np.nan, 50, np.nan, 10]) # 결측지가 추가됨으로서 dtype이 int 가 아닌 float으로 나옴.\n",
    "s"
   ]
  },
  {
   "cell_type": "code",
   "execution_count": null,
   "metadata": {},
   "outputs": [],
   "source": [
    "s = pd.Series([skdlskdlksdlksdl, skdlks, djksdlj,na.nan])\n",
    "result = s.insull()"
   ]
  },
  {
   "cell_type": "code",
   "execution_count": 9,
   "metadata": {},
   "outputs": [
    {
     "data": {
      "text/plain": [
       "0    False\n",
       "1    False\n",
       "2    False\n",
       "3    False\n",
       "4    False\n",
       "5     True\n",
       "6    False\n",
       "7     True\n",
       "8    False\n",
       "dtype: bool"
      ]
     },
     "execution_count": 9,
     "metadata": {},
     "output_type": "execute_result"
    }
   ],
   "source": [
    "# 결측지 확인\n",
    "result = s.isnull() # 원소별로 결측이 인지(True) 아닌지(False) 체크\n",
    "result"
   ]
  },
  {
   "cell_type": "code",
   "execution_count": 10,
   "metadata": {},
   "outputs": [
    {
     "data": {
      "text/plain": [
       "0    False\n",
       "1    False\n",
       "2    False\n",
       "3    False\n",
       "4    False\n",
       "5     True\n",
       "6    False\n",
       "7     True\n",
       "8    False\n",
       "dtype: bool"
      ]
     },
     "execution_count": 10,
     "metadata": {},
     "output_type": "execute_result"
    }
   ],
   "source": [
    "s.isna() "
   ]
  },
  {
   "cell_type": "code",
   "execution_count": 11,
   "metadata": {},
   "outputs": [
    {
     "data": {
      "text/plain": [
       "0    10.0\n",
       "1     2.0\n",
       "2    40.0\n",
       "3     7.0\n",
       "4    20.0\n",
       "6    50.0\n",
       "8    10.0\n",
       "dtype: float64"
      ]
     },
     "execution_count": 11,
     "metadata": {},
     "output_type": "execute_result"
    }
   ],
   "source": [
    "# 결측치를 처리\n",
    "# 제거\n",
    "s.dropna() # 결측치를 제거한 결과를 새 Series에 담아서 반환 (S는 변경안됨) 원본 변경 -> inplace = True"
   ]
  },
  {
   "cell_type": "code",
   "execution_count": 13,
   "metadata": {},
   "outputs": [
    {
     "data": {
      "text/plain": [
       "0    10.0\n",
       "1     2.0\n",
       "2    40.0\n",
       "3     7.0\n",
       "4    20.0\n",
       "6    50.0\n",
       "8    10.0\n",
       "dtype: float64"
      ]
     },
     "execution_count": 13,
     "metadata": {},
     "output_type": "execute_result"
    }
   ],
   "source": [
    "s2 = s.copy()\n",
    "s2.dropna(inplace=True)\n",
    "s2"
   ]
  },
  {
   "cell_type": "code",
   "execution_count": 15,
   "metadata": {},
   "outputs": [
    {
     "data": {
      "text/plain": [
       "0         10.0\n",
       "1          2.0\n",
       "2         40.0\n",
       "3          7.0\n",
       "4         20.0\n",
       "5    1000000.0\n",
       "6         50.0\n",
       "7    1000000.0\n",
       "8         10.0\n",
       "dtype: float64"
      ]
     },
     "execution_count": 15,
     "metadata": {},
     "output_type": "execute_result"
    }
   ],
   "source": [
    "# 결측치를 다른 값으로 대체\n",
    "s.fillna(1000000)"
   ]
  },
  {
   "cell_type": "code",
   "execution_count": 18,
   "metadata": {},
   "outputs": [
    {
     "data": {
      "text/plain": [
       "nan"
      ]
     },
     "execution_count": 18,
     "metadata": {},
     "output_type": "execute_result"
    }
   ],
   "source": [
    "s.mean()  # 평균 구하기, # 판다스는 결측치를 빼고 계산한다.\n",
    "s.mean(skipna=False) #결측치도 포함해서 계산.\n",
    "s.sum(skipna=False)"
   ]
  },
  {
   "cell_type": "code",
   "execution_count": 22,
   "metadata": {},
   "outputs": [
    {
     "data": {
      "text/plain": [
       "0    10.00\n",
       "1     2.00\n",
       "2    40.00\n",
       "3     7.00\n",
       "4    20.00\n",
       "5    19.86\n",
       "6    50.00\n",
       "7    19.86\n",
       "8    10.00\n",
       "dtype: float64"
      ]
     },
     "execution_count": 22,
     "metadata": {},
     "output_type": "execute_result"
    }
   ],
   "source": [
    "s.fillna(round(s.mean(), 2))  # 평균값을 소수점 2자리수까지 반올림 하고 그 값을 결측치 값으로 대체.\n",
    "# s.fillna(round(s.median(), 2)) "
   ]
  }
 ],
 "metadata": {
  "kernelspec": {
   "display_name": "Python 3 (ipykernel)",
   "language": "python",
   "name": "python3"
  },
  "language_info": {
   "codemirror_mode": {
    "name": "ipython",
    "version": 3
   },
   "file_extension": ".py",
   "mimetype": "text/x-python",
   "name": "python",
   "nbconvert_exporter": "python",
   "pygments_lexer": "ipython3",
   "version": "3.9.15"
  },
  "toc": {
   "base_numbering": 1,
   "nav_menu": {},
   "number_sections": false,
   "sideBar": false,
   "skip_h1_title": false,
   "title_cell": "Table of Contents",
   "title_sidebar": "Contents",
   "toc_cell": false,
   "toc_position": {},
   "toc_section_display": true,
   "toc_window_display": false
  },
  "varInspector": {
   "cols": {
    "lenName": 16,
    "lenType": 16,
    "lenVar": 40
   },
   "kernels_config": {
    "python": {
     "delete_cmd_postfix": "",
     "delete_cmd_prefix": "del ",
     "library": "var_list.py",
     "varRefreshCmd": "print(var_dic_list())"
    },
    "r": {
     "delete_cmd_postfix": ") ",
     "delete_cmd_prefix": "rm(",
     "library": "var_list.r",
     "varRefreshCmd": "cat(var_dic_list()) "
    }
   },
   "types_to_exclude": [
    "module",
    "function",
    "builtin_function_or_method",
    "instance",
    "_Feature"
   ],
   "window_display": false
  }
 },
 "nbformat": 4,
 "nbformat_minor": 4
}
